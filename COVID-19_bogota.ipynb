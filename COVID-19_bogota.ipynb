{
 "cells": [
  {
   "cell_type": "code",
   "execution_count": 3,
   "metadata": {},
   "outputs": [],
   "source": [
    "import pandas as pd\n",
    "import matplotlib.pyplot as plt"
   ]
  },
  {
   "cell_type": "code",
   "execution_count": 4,
   "metadata": {},
   "outputs": [],
   "source": [
    "import absl.logging\n",
    "absl.logging.set_verbosity(absl.logging.ERROR)"
   ]
  },
  {
   "cell_type": "code",
   "execution_count": 5,
   "metadata": {},
   "outputs": [],
   "source": [
    "import seaborn as sns\n",
    "sns.set(rc={'figure.figsize':(11,4)})"
   ]
  },
  {
   "cell_type": "code",
   "execution_count": 6,
   "metadata": {},
   "outputs": [
    {
     "data": {
      "text/html": [
       "<div>\n",
       "<style scoped>\n",
       "    .dataframe tbody tr th:only-of-type {\n",
       "        vertical-align: middle;\n",
       "    }\n",
       "\n",
       "    .dataframe tbody tr th {\n",
       "        vertical-align: top;\n",
       "    }\n",
       "\n",
       "    .dataframe thead th {\n",
       "        text-align: right;\n",
       "    }\n",
       "</style>\n",
       "<table border=\"1\" class=\"dataframe\">\n",
       "  <thead>\n",
       "    <tr style=\"text-align: right;\">\n",
       "      <th></th>\n",
       "      <th>CASO</th>\n",
       "      <th>FECHA_DE_INICIO_DE_SINTOMAS</th>\n",
       "      <th>FECHA_DIAGNOSTICO</th>\n",
       "      <th>CIUDAD</th>\n",
       "      <th>LOCALIDAD_ASIS</th>\n",
       "      <th>EDAD</th>\n",
       "      <th>UNI_MED</th>\n",
       "      <th>SEXO</th>\n",
       "      <th>FUENTE_O_TIPO_DE_CONTAGIO</th>\n",
       "      <th>UBICACION</th>\n",
       "      <th>ESTADO</th>\n",
       "    </tr>\n",
       "  </thead>\n",
       "  <tbody>\n",
       "    <tr>\n",
       "      <th>0</th>\n",
       "      <td>1</td>\n",
       "      <td>2020-02-26</td>\n",
       "      <td>2020-03-06</td>\n",
       "      <td>Bogotá</td>\n",
       "      <td>Usaquén</td>\n",
       "      <td>19</td>\n",
       "      <td>1</td>\n",
       "      <td>F</td>\n",
       "      <td>Importado</td>\n",
       "      <td>Casa</td>\n",
       "      <td>Recuperado</td>\n",
       "    </tr>\n",
       "    <tr>\n",
       "      <th>1</th>\n",
       "      <td>2</td>\n",
       "      <td>2020-03-04</td>\n",
       "      <td>2020-03-10</td>\n",
       "      <td>Bogotá</td>\n",
       "      <td>Engativá</td>\n",
       "      <td>22</td>\n",
       "      <td>1</td>\n",
       "      <td>F</td>\n",
       "      <td>Importado</td>\n",
       "      <td>Casa</td>\n",
       "      <td>Recuperado</td>\n",
       "    </tr>\n",
       "    <tr>\n",
       "      <th>2</th>\n",
       "      <td>3</td>\n",
       "      <td>2020-03-07</td>\n",
       "      <td>2020-03-10</td>\n",
       "      <td>Bogotá</td>\n",
       "      <td>Engativá</td>\n",
       "      <td>28</td>\n",
       "      <td>1</td>\n",
       "      <td>F</td>\n",
       "      <td>Importado</td>\n",
       "      <td>Casa</td>\n",
       "      <td>Recuperado</td>\n",
       "    </tr>\n",
       "    <tr>\n",
       "      <th>3</th>\n",
       "      <td>4</td>\n",
       "      <td>2020-03-06</td>\n",
       "      <td>2020-03-12</td>\n",
       "      <td>Bogotá</td>\n",
       "      <td>Fontibón</td>\n",
       "      <td>36</td>\n",
       "      <td>1</td>\n",
       "      <td>F</td>\n",
       "      <td>Importado</td>\n",
       "      <td>Casa</td>\n",
       "      <td>Recuperado</td>\n",
       "    </tr>\n",
       "    <tr>\n",
       "      <th>4</th>\n",
       "      <td>5</td>\n",
       "      <td>2020-03-06</td>\n",
       "      <td>2020-03-12</td>\n",
       "      <td>Bogotá</td>\n",
       "      <td>Kennedy</td>\n",
       "      <td>42</td>\n",
       "      <td>1</td>\n",
       "      <td>F</td>\n",
       "      <td>Importado</td>\n",
       "      <td>Casa</td>\n",
       "      <td>Recuperado</td>\n",
       "    </tr>\n",
       "    <tr>\n",
       "      <th>...</th>\n",
       "      <td>...</td>\n",
       "      <td>...</td>\n",
       "      <td>...</td>\n",
       "      <td>...</td>\n",
       "      <td>...</td>\n",
       "      <td>...</td>\n",
       "      <td>...</td>\n",
       "      <td>...</td>\n",
       "      <td>...</td>\n",
       "      <td>...</td>\n",
       "      <td>...</td>\n",
       "    </tr>\n",
       "    <tr>\n",
       "      <th>95</th>\n",
       "      <td>96</td>\n",
       "      <td>2020-03-17</td>\n",
       "      <td>2020-03-22</td>\n",
       "      <td>Bogotá</td>\n",
       "      <td>Fontibón</td>\n",
       "      <td>49</td>\n",
       "      <td>1</td>\n",
       "      <td>M</td>\n",
       "      <td>Importado</td>\n",
       "      <td>Casa</td>\n",
       "      <td>Recuperado</td>\n",
       "    </tr>\n",
       "    <tr>\n",
       "      <th>96</th>\n",
       "      <td>97</td>\n",
       "      <td>2020-03-09</td>\n",
       "      <td>2020-03-22</td>\n",
       "      <td>Bogotá</td>\n",
       "      <td>Engativá</td>\n",
       "      <td>28</td>\n",
       "      <td>1</td>\n",
       "      <td>M</td>\n",
       "      <td>Relacionado</td>\n",
       "      <td>Casa</td>\n",
       "      <td>Recuperado</td>\n",
       "    </tr>\n",
       "    <tr>\n",
       "      <th>97</th>\n",
       "      <td>98</td>\n",
       "      <td>2020-03-15</td>\n",
       "      <td>2020-03-22</td>\n",
       "      <td>Bogotá</td>\n",
       "      <td>Fontibón</td>\n",
       "      <td>26</td>\n",
       "      <td>1</td>\n",
       "      <td>M</td>\n",
       "      <td>Relacionado</td>\n",
       "      <td>Casa</td>\n",
       "      <td>Recuperado</td>\n",
       "    </tr>\n",
       "    <tr>\n",
       "      <th>98</th>\n",
       "      <td>99</td>\n",
       "      <td>2020-03-16</td>\n",
       "      <td>2020-03-22</td>\n",
       "      <td>Bogotá</td>\n",
       "      <td>Kennedy</td>\n",
       "      <td>30</td>\n",
       "      <td>1</td>\n",
       "      <td>F</td>\n",
       "      <td>Relacionado</td>\n",
       "      <td>Casa</td>\n",
       "      <td>Recuperado</td>\n",
       "    </tr>\n",
       "    <tr>\n",
       "      <th>99</th>\n",
       "      <td>100</td>\n",
       "      <td>2020-03-16</td>\n",
       "      <td>2020-03-22</td>\n",
       "      <td>Bogotá</td>\n",
       "      <td>Fontibón</td>\n",
       "      <td>72</td>\n",
       "      <td>1</td>\n",
       "      <td>F</td>\n",
       "      <td>Importado</td>\n",
       "      <td>Casa</td>\n",
       "      <td>Recuperado</td>\n",
       "    </tr>\n",
       "  </tbody>\n",
       "</table>\n",
       "<p>100 rows × 11 columns</p>\n",
       "</div>"
      ],
      "text/plain": [
       "    CASO FECHA_DE_INICIO_DE_SINTOMAS FECHA_DIAGNOSTICO  CIUDAD LOCALIDAD_ASIS  \\\n",
       "0      1                  2020-02-26        2020-03-06  Bogotá        Usaquén   \n",
       "1      2                  2020-03-04        2020-03-10  Bogotá       Engativá   \n",
       "2      3                  2020-03-07        2020-03-10  Bogotá       Engativá   \n",
       "3      4                  2020-03-06        2020-03-12  Bogotá       Fontibón   \n",
       "4      5                  2020-03-06        2020-03-12  Bogotá        Kennedy   \n",
       "..   ...                         ...               ...     ...            ...   \n",
       "95    96                  2020-03-17        2020-03-22  Bogotá       Fontibón   \n",
       "96    97                  2020-03-09        2020-03-22  Bogotá       Engativá   \n",
       "97    98                  2020-03-15        2020-03-22  Bogotá       Fontibón   \n",
       "98    99                  2020-03-16        2020-03-22  Bogotá        Kennedy   \n",
       "99   100                  2020-03-16        2020-03-22  Bogotá       Fontibón   \n",
       "\n",
       "    EDAD  UNI_MED SEXO FUENTE_O_TIPO_DE_CONTAGIO UBICACION      ESTADO  \n",
       "0     19        1    F                 Importado      Casa  Recuperado  \n",
       "1     22        1    F                 Importado      Casa  Recuperado  \n",
       "2     28        1    F                 Importado      Casa  Recuperado  \n",
       "3     36        1    F                 Importado      Casa  Recuperado  \n",
       "4     42        1    F                 Importado      Casa  Recuperado  \n",
       "..   ...      ...  ...                       ...       ...         ...  \n",
       "95    49        1    M                 Importado      Casa  Recuperado  \n",
       "96    28        1    M               Relacionado      Casa  Recuperado  \n",
       "97    26        1    M               Relacionado      Casa  Recuperado  \n",
       "98    30        1    F               Relacionado      Casa  Recuperado  \n",
       "99    72        1    F                 Importado      Casa  Recuperado  \n",
       "\n",
       "[100 rows x 11 columns]"
      ]
     },
     "execution_count": 6,
     "metadata": {},
     "output_type": "execute_result"
    }
   ],
   "source": [
    "bogota = pd.read_csv('osb_enftransm-covid-19_18012022.csv')\n",
    "bogota.head(100)"
   ]
  },
  {
   "cell_type": "code",
   "execution_count": 7,
   "metadata": {},
   "outputs": [
    {
     "data": {
      "text/html": [
       "<div>\n",
       "<style scoped>\n",
       "    .dataframe tbody tr th:only-of-type {\n",
       "        vertical-align: middle;\n",
       "    }\n",
       "\n",
       "    .dataframe tbody tr th {\n",
       "        vertical-align: top;\n",
       "    }\n",
       "\n",
       "    .dataframe thead th {\n",
       "        text-align: right;\n",
       "    }\n",
       "</style>\n",
       "<table border=\"1\" class=\"dataframe\">\n",
       "  <thead>\n",
       "    <tr style=\"text-align: right;\">\n",
       "      <th></th>\n",
       "      <th>CASO</th>\n",
       "      <th>FECHA_DE_INICIO_DE_SINTOMAS</th>\n",
       "      <th>FECHA_DIAGNOSTICO</th>\n",
       "      <th>CIUDAD</th>\n",
       "      <th>LOCALIDAD_ASIS</th>\n",
       "      <th>EDAD</th>\n",
       "      <th>UNI_MED</th>\n",
       "      <th>SEXO</th>\n",
       "      <th>FUENTE_O_TIPO_DE_CONTAGIO</th>\n",
       "      <th>UBICACION</th>\n",
       "      <th>ESTADO</th>\n",
       "    </tr>\n",
       "  </thead>\n",
       "  <tbody>\n",
       "    <tr>\n",
       "      <th>0</th>\n",
       "      <td>1</td>\n",
       "      <td>2020-02-26</td>\n",
       "      <td>2020-03-06</td>\n",
       "      <td>Bogotá</td>\n",
       "      <td>Usaquén</td>\n",
       "      <td>19</td>\n",
       "      <td>1</td>\n",
       "      <td>F</td>\n",
       "      <td>Importado</td>\n",
       "      <td>Casa</td>\n",
       "      <td>Recuperado</td>\n",
       "    </tr>\n",
       "    <tr>\n",
       "      <th>1</th>\n",
       "      <td>2</td>\n",
       "      <td>2020-03-04</td>\n",
       "      <td>2020-03-10</td>\n",
       "      <td>Bogotá</td>\n",
       "      <td>Engativá</td>\n",
       "      <td>22</td>\n",
       "      <td>1</td>\n",
       "      <td>F</td>\n",
       "      <td>Importado</td>\n",
       "      <td>Casa</td>\n",
       "      <td>Recuperado</td>\n",
       "    </tr>\n",
       "    <tr>\n",
       "      <th>2</th>\n",
       "      <td>3</td>\n",
       "      <td>2020-03-07</td>\n",
       "      <td>2020-03-10</td>\n",
       "      <td>Bogotá</td>\n",
       "      <td>Engativá</td>\n",
       "      <td>28</td>\n",
       "      <td>1</td>\n",
       "      <td>F</td>\n",
       "      <td>Importado</td>\n",
       "      <td>Casa</td>\n",
       "      <td>Recuperado</td>\n",
       "    </tr>\n",
       "    <tr>\n",
       "      <th>3</th>\n",
       "      <td>4</td>\n",
       "      <td>2020-03-06</td>\n",
       "      <td>2020-03-12</td>\n",
       "      <td>Bogotá</td>\n",
       "      <td>Fontibón</td>\n",
       "      <td>36</td>\n",
       "      <td>1</td>\n",
       "      <td>F</td>\n",
       "      <td>Importado</td>\n",
       "      <td>Casa</td>\n",
       "      <td>Recuperado</td>\n",
       "    </tr>\n",
       "    <tr>\n",
       "      <th>4</th>\n",
       "      <td>5</td>\n",
       "      <td>2020-03-06</td>\n",
       "      <td>2020-03-12</td>\n",
       "      <td>Bogotá</td>\n",
       "      <td>Kennedy</td>\n",
       "      <td>42</td>\n",
       "      <td>1</td>\n",
       "      <td>F</td>\n",
       "      <td>Importado</td>\n",
       "      <td>Casa</td>\n",
       "      <td>Recuperado</td>\n",
       "    </tr>\n",
       "    <tr>\n",
       "      <th>...</th>\n",
       "      <td>...</td>\n",
       "      <td>...</td>\n",
       "      <td>...</td>\n",
       "      <td>...</td>\n",
       "      <td>...</td>\n",
       "      <td>...</td>\n",
       "      <td>...</td>\n",
       "      <td>...</td>\n",
       "      <td>...</td>\n",
       "      <td>...</td>\n",
       "      <td>...</td>\n",
       "    </tr>\n",
       "    <tr>\n",
       "      <th>1585694</th>\n",
       "      <td>1585695</td>\n",
       "      <td>NaN</td>\n",
       "      <td>2022-01-16</td>\n",
       "      <td>Sin dato</td>\n",
       "      <td>Sin dato</td>\n",
       "      <td>59</td>\n",
       "      <td>1</td>\n",
       "      <td>M</td>\n",
       "      <td>En estudio</td>\n",
       "      <td>Casa</td>\n",
       "      <td>Leve</td>\n",
       "    </tr>\n",
       "    <tr>\n",
       "      <th>1585695</th>\n",
       "      <td>1585696</td>\n",
       "      <td>NaN</td>\n",
       "      <td>2022-01-16</td>\n",
       "      <td>Sin dato</td>\n",
       "      <td>Sin dato</td>\n",
       "      <td>29</td>\n",
       "      <td>1</td>\n",
       "      <td>F</td>\n",
       "      <td>En estudio</td>\n",
       "      <td>Casa</td>\n",
       "      <td>Leve</td>\n",
       "    </tr>\n",
       "    <tr>\n",
       "      <th>1585696</th>\n",
       "      <td>1585697</td>\n",
       "      <td>NaN</td>\n",
       "      <td>2022-01-16</td>\n",
       "      <td>Sin dato</td>\n",
       "      <td>Sin dato</td>\n",
       "      <td>30</td>\n",
       "      <td>1</td>\n",
       "      <td>M</td>\n",
       "      <td>En estudio</td>\n",
       "      <td>Casa</td>\n",
       "      <td>Leve</td>\n",
       "    </tr>\n",
       "    <tr>\n",
       "      <th>1585697</th>\n",
       "      <td>1585698</td>\n",
       "      <td>NaN</td>\n",
       "      <td>2022-01-10</td>\n",
       "      <td>Sin dato</td>\n",
       "      <td>Sin dato</td>\n",
       "      <td>50</td>\n",
       "      <td>1</td>\n",
       "      <td>M</td>\n",
       "      <td>En estudio</td>\n",
       "      <td>Casa</td>\n",
       "      <td>Leve</td>\n",
       "    </tr>\n",
       "    <tr>\n",
       "      <th>1585698</th>\n",
       "      <td>1585699</td>\n",
       "      <td>NaN</td>\n",
       "      <td>2022-01-16</td>\n",
       "      <td>Sin dato</td>\n",
       "      <td>Sin dato</td>\n",
       "      <td>32</td>\n",
       "      <td>1</td>\n",
       "      <td>M</td>\n",
       "      <td>En estudio</td>\n",
       "      <td>Casa</td>\n",
       "      <td>Leve</td>\n",
       "    </tr>\n",
       "  </tbody>\n",
       "</table>\n",
       "<p>1585699 rows × 11 columns</p>\n",
       "</div>"
      ],
      "text/plain": [
       "            CASO FECHA_DE_INICIO_DE_SINTOMAS FECHA_DIAGNOSTICO    CIUDAD  \\\n",
       "0              1                  2020-02-26        2020-03-06    Bogotá   \n",
       "1              2                  2020-03-04        2020-03-10    Bogotá   \n",
       "2              3                  2020-03-07        2020-03-10    Bogotá   \n",
       "3              4                  2020-03-06        2020-03-12    Bogotá   \n",
       "4              5                  2020-03-06        2020-03-12    Bogotá   \n",
       "...          ...                         ...               ...       ...   \n",
       "1585694  1585695                         NaN        2022-01-16  Sin dato   \n",
       "1585695  1585696                         NaN        2022-01-16  Sin dato   \n",
       "1585696  1585697                         NaN        2022-01-16  Sin dato   \n",
       "1585697  1585698                         NaN        2022-01-10  Sin dato   \n",
       "1585698  1585699                         NaN        2022-01-16  Sin dato   \n",
       "\n",
       "        LOCALIDAD_ASIS  EDAD  UNI_MED SEXO FUENTE_O_TIPO_DE_CONTAGIO  \\\n",
       "0              Usaquén    19        1    F                 Importado   \n",
       "1             Engativá    22        1    F                 Importado   \n",
       "2             Engativá    28        1    F                 Importado   \n",
       "3             Fontibón    36        1    F                 Importado   \n",
       "4              Kennedy    42        1    F                 Importado   \n",
       "...                ...   ...      ...  ...                       ...   \n",
       "1585694       Sin dato    59        1    M                En estudio   \n",
       "1585695       Sin dato    29        1    F                En estudio   \n",
       "1585696       Sin dato    30        1    M                En estudio   \n",
       "1585697       Sin dato    50        1    M                En estudio   \n",
       "1585698       Sin dato    32        1    M                En estudio   \n",
       "\n",
       "        UBICACION      ESTADO  \n",
       "0            Casa  Recuperado  \n",
       "1            Casa  Recuperado  \n",
       "2            Casa  Recuperado  \n",
       "3            Casa  Recuperado  \n",
       "4            Casa  Recuperado  \n",
       "...           ...         ...  \n",
       "1585694      Casa        Leve  \n",
       "1585695      Casa        Leve  \n",
       "1585696      Casa        Leve  \n",
       "1585697      Casa        Leve  \n",
       "1585698      Casa        Leve  \n",
       "\n",
       "[1585699 rows x 11 columns]"
      ]
     },
     "execution_count": 7,
     "metadata": {},
     "output_type": "execute_result"
    }
   ],
   "source": [
    "bogota['FECHA_DIAGNOSTICO'] = pd.to_datetime(bogota['FECHA_DIAGNOSTICO'])\n",
    "bogota"
   ]
  },
  {
   "cell_type": "code",
   "execution_count": 8,
   "metadata": {},
   "outputs": [
    {
     "data": {
      "text/plain": [
       "'Thursday'"
      ]
     },
     "execution_count": 8,
     "metadata": {},
     "output_type": "execute_result"
    }
   ],
   "source": [
    "bogota.loc[100000,'FECHA_DIAGNOSTICO'].day_name()"
   ]
  },
  {
   "cell_type": "code",
   "execution_count": 9,
   "metadata": {},
   "outputs": [
    {
     "data": {
      "text/html": [
       "<div>\n",
       "<style scoped>\n",
       "    .dataframe tbody tr th:only-of-type {\n",
       "        vertical-align: middle;\n",
       "    }\n",
       "\n",
       "    .dataframe tbody tr th {\n",
       "        vertical-align: top;\n",
       "    }\n",
       "\n",
       "    .dataframe thead th {\n",
       "        text-align: right;\n",
       "    }\n",
       "</style>\n",
       "<table border=\"1\" class=\"dataframe\">\n",
       "  <thead>\n",
       "    <tr style=\"text-align: right;\">\n",
       "      <th></th>\n",
       "      <th>CASO</th>\n",
       "      <th>FECHA_DE_INICIO_DE_SINTOMAS</th>\n",
       "      <th>FECHA_DIAGNOSTICO</th>\n",
       "      <th>CIUDAD</th>\n",
       "      <th>LOCALIDAD_ASIS</th>\n",
       "      <th>EDAD</th>\n",
       "      <th>UNI_MED</th>\n",
       "      <th>SEXO</th>\n",
       "      <th>FUENTE_O_TIPO_DE_CONTAGIO</th>\n",
       "      <th>UBICACION</th>\n",
       "      <th>ESTADO</th>\n",
       "      <th>FALLECIDOS</th>\n",
       "      <th>RECUPERADO</th>\n",
       "    </tr>\n",
       "  </thead>\n",
       "  <tbody>\n",
       "    <tr>\n",
       "      <th>0</th>\n",
       "      <td>1</td>\n",
       "      <td>2020-02-26</td>\n",
       "      <td>2020-03-06</td>\n",
       "      <td>Bogotá</td>\n",
       "      <td>Usaquén</td>\n",
       "      <td>19</td>\n",
       "      <td>1</td>\n",
       "      <td>F</td>\n",
       "      <td>Importado</td>\n",
       "      <td>Casa</td>\n",
       "      <td>Recuperado</td>\n",
       "      <td>0</td>\n",
       "      <td>1</td>\n",
       "    </tr>\n",
       "    <tr>\n",
       "      <th>1</th>\n",
       "      <td>2</td>\n",
       "      <td>2020-03-04</td>\n",
       "      <td>2020-03-10</td>\n",
       "      <td>Bogotá</td>\n",
       "      <td>Engativá</td>\n",
       "      <td>22</td>\n",
       "      <td>1</td>\n",
       "      <td>F</td>\n",
       "      <td>Importado</td>\n",
       "      <td>Casa</td>\n",
       "      <td>Recuperado</td>\n",
       "      <td>0</td>\n",
       "      <td>1</td>\n",
       "    </tr>\n",
       "    <tr>\n",
       "      <th>2</th>\n",
       "      <td>3</td>\n",
       "      <td>2020-03-07</td>\n",
       "      <td>2020-03-10</td>\n",
       "      <td>Bogotá</td>\n",
       "      <td>Engativá</td>\n",
       "      <td>28</td>\n",
       "      <td>1</td>\n",
       "      <td>F</td>\n",
       "      <td>Importado</td>\n",
       "      <td>Casa</td>\n",
       "      <td>Recuperado</td>\n",
       "      <td>0</td>\n",
       "      <td>1</td>\n",
       "    </tr>\n",
       "    <tr>\n",
       "      <th>3</th>\n",
       "      <td>4</td>\n",
       "      <td>2020-03-06</td>\n",
       "      <td>2020-03-12</td>\n",
       "      <td>Bogotá</td>\n",
       "      <td>Fontibón</td>\n",
       "      <td>36</td>\n",
       "      <td>1</td>\n",
       "      <td>F</td>\n",
       "      <td>Importado</td>\n",
       "      <td>Casa</td>\n",
       "      <td>Recuperado</td>\n",
       "      <td>0</td>\n",
       "      <td>1</td>\n",
       "    </tr>\n",
       "    <tr>\n",
       "      <th>4</th>\n",
       "      <td>5</td>\n",
       "      <td>2020-03-06</td>\n",
       "      <td>2020-03-12</td>\n",
       "      <td>Bogotá</td>\n",
       "      <td>Kennedy</td>\n",
       "      <td>42</td>\n",
       "      <td>1</td>\n",
       "      <td>F</td>\n",
       "      <td>Importado</td>\n",
       "      <td>Casa</td>\n",
       "      <td>Recuperado</td>\n",
       "      <td>0</td>\n",
       "      <td>1</td>\n",
       "    </tr>\n",
       "    <tr>\n",
       "      <th>...</th>\n",
       "      <td>...</td>\n",
       "      <td>...</td>\n",
       "      <td>...</td>\n",
       "      <td>...</td>\n",
       "      <td>...</td>\n",
       "      <td>...</td>\n",
       "      <td>...</td>\n",
       "      <td>...</td>\n",
       "      <td>...</td>\n",
       "      <td>...</td>\n",
       "      <td>...</td>\n",
       "      <td>...</td>\n",
       "      <td>...</td>\n",
       "    </tr>\n",
       "    <tr>\n",
       "      <th>1585694</th>\n",
       "      <td>1585695</td>\n",
       "      <td>NaN</td>\n",
       "      <td>2022-01-16</td>\n",
       "      <td>Sin dato</td>\n",
       "      <td>Sin dato</td>\n",
       "      <td>59</td>\n",
       "      <td>1</td>\n",
       "      <td>M</td>\n",
       "      <td>En estudio</td>\n",
       "      <td>Casa</td>\n",
       "      <td>Leve</td>\n",
       "      <td>0</td>\n",
       "      <td>0</td>\n",
       "    </tr>\n",
       "    <tr>\n",
       "      <th>1585695</th>\n",
       "      <td>1585696</td>\n",
       "      <td>NaN</td>\n",
       "      <td>2022-01-16</td>\n",
       "      <td>Sin dato</td>\n",
       "      <td>Sin dato</td>\n",
       "      <td>29</td>\n",
       "      <td>1</td>\n",
       "      <td>F</td>\n",
       "      <td>En estudio</td>\n",
       "      <td>Casa</td>\n",
       "      <td>Leve</td>\n",
       "      <td>0</td>\n",
       "      <td>0</td>\n",
       "    </tr>\n",
       "    <tr>\n",
       "      <th>1585696</th>\n",
       "      <td>1585697</td>\n",
       "      <td>NaN</td>\n",
       "      <td>2022-01-16</td>\n",
       "      <td>Sin dato</td>\n",
       "      <td>Sin dato</td>\n",
       "      <td>30</td>\n",
       "      <td>1</td>\n",
       "      <td>M</td>\n",
       "      <td>En estudio</td>\n",
       "      <td>Casa</td>\n",
       "      <td>Leve</td>\n",
       "      <td>0</td>\n",
       "      <td>0</td>\n",
       "    </tr>\n",
       "    <tr>\n",
       "      <th>1585697</th>\n",
       "      <td>1585698</td>\n",
       "      <td>NaN</td>\n",
       "      <td>2022-01-10</td>\n",
       "      <td>Sin dato</td>\n",
       "      <td>Sin dato</td>\n",
       "      <td>50</td>\n",
       "      <td>1</td>\n",
       "      <td>M</td>\n",
       "      <td>En estudio</td>\n",
       "      <td>Casa</td>\n",
       "      <td>Leve</td>\n",
       "      <td>0</td>\n",
       "      <td>0</td>\n",
       "    </tr>\n",
       "    <tr>\n",
       "      <th>1585698</th>\n",
       "      <td>1585699</td>\n",
       "      <td>NaN</td>\n",
       "      <td>2022-01-16</td>\n",
       "      <td>Sin dato</td>\n",
       "      <td>Sin dato</td>\n",
       "      <td>32</td>\n",
       "      <td>1</td>\n",
       "      <td>M</td>\n",
       "      <td>En estudio</td>\n",
       "      <td>Casa</td>\n",
       "      <td>Leve</td>\n",
       "      <td>0</td>\n",
       "      <td>0</td>\n",
       "    </tr>\n",
       "  </tbody>\n",
       "</table>\n",
       "<p>1585699 rows × 13 columns</p>\n",
       "</div>"
      ],
      "text/plain": [
       "            CASO FECHA_DE_INICIO_DE_SINTOMAS FECHA_DIAGNOSTICO    CIUDAD  \\\n",
       "0              1                  2020-02-26        2020-03-06    Bogotá   \n",
       "1              2                  2020-03-04        2020-03-10    Bogotá   \n",
       "2              3                  2020-03-07        2020-03-10    Bogotá   \n",
       "3              4                  2020-03-06        2020-03-12    Bogotá   \n",
       "4              5                  2020-03-06        2020-03-12    Bogotá   \n",
       "...          ...                         ...               ...       ...   \n",
       "1585694  1585695                         NaN        2022-01-16  Sin dato   \n",
       "1585695  1585696                         NaN        2022-01-16  Sin dato   \n",
       "1585696  1585697                         NaN        2022-01-16  Sin dato   \n",
       "1585697  1585698                         NaN        2022-01-10  Sin dato   \n",
       "1585698  1585699                         NaN        2022-01-16  Sin dato   \n",
       "\n",
       "        LOCALIDAD_ASIS  EDAD  UNI_MED SEXO FUENTE_O_TIPO_DE_CONTAGIO  \\\n",
       "0              Usaquén    19        1    F                 Importado   \n",
       "1             Engativá    22        1    F                 Importado   \n",
       "2             Engativá    28        1    F                 Importado   \n",
       "3             Fontibón    36        1    F                 Importado   \n",
       "4              Kennedy    42        1    F                 Importado   \n",
       "...                ...   ...      ...  ...                       ...   \n",
       "1585694       Sin dato    59        1    M                En estudio   \n",
       "1585695       Sin dato    29        1    F                En estudio   \n",
       "1585696       Sin dato    30        1    M                En estudio   \n",
       "1585697       Sin dato    50        1    M                En estudio   \n",
       "1585698       Sin dato    32        1    M                En estudio   \n",
       "\n",
       "        UBICACION      ESTADO  FALLECIDOS  RECUPERADO  \n",
       "0            Casa  Recuperado           0           1  \n",
       "1            Casa  Recuperado           0           1  \n",
       "2            Casa  Recuperado           0           1  \n",
       "3            Casa  Recuperado           0           1  \n",
       "4            Casa  Recuperado           0           1  \n",
       "...           ...         ...         ...         ...  \n",
       "1585694      Casa        Leve           0           0  \n",
       "1585695      Casa        Leve           0           0  \n",
       "1585696      Casa        Leve           0           0  \n",
       "1585697      Casa        Leve           0           0  \n",
       "1585698      Casa        Leve           0           0  \n",
       "\n",
       "[1585699 rows x 13 columns]"
      ]
     },
     "execution_count": 9,
     "metadata": {},
     "output_type": "execute_result"
    }
   ],
   "source": [
    "bogota['FALLECIDOS'] = [1 if i == 'Fallecido' else 0 for i in bogota.ESTADO]\n",
    "bogota['RECUPERADO'] = [1 if i == 'Recuperado' else 0 for i in bogota.ESTADO]\n",
    "\n",
    "bogota"
   ]
  },
  {
   "cell_type": "code",
   "execution_count": 10,
   "metadata": {},
   "outputs": [
    {
     "data": {
      "text/html": [
       "<div>\n",
       "<style scoped>\n",
       "    .dataframe tbody tr th:only-of-type {\n",
       "        vertical-align: middle;\n",
       "    }\n",
       "\n",
       "    .dataframe tbody tr th {\n",
       "        vertical-align: top;\n",
       "    }\n",
       "\n",
       "    .dataframe thead th {\n",
       "        text-align: right;\n",
       "    }\n",
       "</style>\n",
       "<table border=\"1\" class=\"dataframe\">\n",
       "  <thead>\n",
       "    <tr style=\"text-align: right;\">\n",
       "      <th></th>\n",
       "      <th>CASO</th>\n",
       "      <th>FECHA_DIAGNOSTICO</th>\n",
       "      <th>FALLECIDOS</th>\n",
       "      <th>RECUPERADO</th>\n",
       "    </tr>\n",
       "  </thead>\n",
       "  <tbody>\n",
       "    <tr>\n",
       "      <th>0</th>\n",
       "      <td>1</td>\n",
       "      <td>2020-03-06</td>\n",
       "      <td>0</td>\n",
       "      <td>1</td>\n",
       "    </tr>\n",
       "    <tr>\n",
       "      <th>1</th>\n",
       "      <td>2</td>\n",
       "      <td>2020-03-10</td>\n",
       "      <td>0</td>\n",
       "      <td>1</td>\n",
       "    </tr>\n",
       "    <tr>\n",
       "      <th>2</th>\n",
       "      <td>3</td>\n",
       "      <td>2020-03-10</td>\n",
       "      <td>0</td>\n",
       "      <td>1</td>\n",
       "    </tr>\n",
       "    <tr>\n",
       "      <th>3</th>\n",
       "      <td>4</td>\n",
       "      <td>2020-03-12</td>\n",
       "      <td>0</td>\n",
       "      <td>1</td>\n",
       "    </tr>\n",
       "    <tr>\n",
       "      <th>4</th>\n",
       "      <td>5</td>\n",
       "      <td>2020-03-12</td>\n",
       "      <td>0</td>\n",
       "      <td>1</td>\n",
       "    </tr>\n",
       "    <tr>\n",
       "      <th>...</th>\n",
       "      <td>...</td>\n",
       "      <td>...</td>\n",
       "      <td>...</td>\n",
       "      <td>...</td>\n",
       "    </tr>\n",
       "    <tr>\n",
       "      <th>1585694</th>\n",
       "      <td>1585695</td>\n",
       "      <td>2022-01-16</td>\n",
       "      <td>0</td>\n",
       "      <td>0</td>\n",
       "    </tr>\n",
       "    <tr>\n",
       "      <th>1585695</th>\n",
       "      <td>1585696</td>\n",
       "      <td>2022-01-16</td>\n",
       "      <td>0</td>\n",
       "      <td>0</td>\n",
       "    </tr>\n",
       "    <tr>\n",
       "      <th>1585696</th>\n",
       "      <td>1585697</td>\n",
       "      <td>2022-01-16</td>\n",
       "      <td>0</td>\n",
       "      <td>0</td>\n",
       "    </tr>\n",
       "    <tr>\n",
       "      <th>1585697</th>\n",
       "      <td>1585698</td>\n",
       "      <td>2022-01-10</td>\n",
       "      <td>0</td>\n",
       "      <td>0</td>\n",
       "    </tr>\n",
       "    <tr>\n",
       "      <th>1585698</th>\n",
       "      <td>1585699</td>\n",
       "      <td>2022-01-16</td>\n",
       "      <td>0</td>\n",
       "      <td>0</td>\n",
       "    </tr>\n",
       "  </tbody>\n",
       "</table>\n",
       "<p>1585699 rows × 4 columns</p>\n",
       "</div>"
      ],
      "text/plain": [
       "            CASO FECHA_DIAGNOSTICO  FALLECIDOS  RECUPERADO\n",
       "0              1        2020-03-06           0           1\n",
       "1              2        2020-03-10           0           1\n",
       "2              3        2020-03-10           0           1\n",
       "3              4        2020-03-12           0           1\n",
       "4              5        2020-03-12           0           1\n",
       "...          ...               ...         ...         ...\n",
       "1585694  1585695        2022-01-16           0           0\n",
       "1585695  1585696        2022-01-16           0           0\n",
       "1585696  1585697        2022-01-16           0           0\n",
       "1585697  1585698        2022-01-10           0           0\n",
       "1585698  1585699        2022-01-16           0           0\n",
       "\n",
       "[1585699 rows x 4 columns]"
      ]
     },
     "execution_count": 10,
     "metadata": {},
     "output_type": "execute_result"
    }
   ],
   "source": [
    "bogota.drop(['FECHA_DE_INICIO_DE_SINTOMAS', 'CIUDAD','LOCALIDAD_ASIS','EDAD','UNI_MED', 'SEXO',\n",
    "'FUENTE_O_TIPO_DE_CONTAGIO','UBICACION','ESTADO'], axis=1)"
   ]
  },
  {
   "cell_type": "code",
   "execution_count": 11,
   "metadata": {},
   "outputs": [
    {
     "data": {
      "text/html": [
       "<div>\n",
       "<style scoped>\n",
       "    .dataframe tbody tr th:only-of-type {\n",
       "        vertical-align: middle;\n",
       "    }\n",
       "\n",
       "    .dataframe tbody tr th {\n",
       "        vertical-align: top;\n",
       "    }\n",
       "\n",
       "    .dataframe thead th {\n",
       "        text-align: right;\n",
       "    }\n",
       "</style>\n",
       "<table border=\"1\" class=\"dataframe\">\n",
       "  <thead>\n",
       "    <tr style=\"text-align: right;\">\n",
       "      <th></th>\n",
       "      <th>CASO</th>\n",
       "      <th>FECHA_DE_INICIO_DE_SINTOMAS</th>\n",
       "      <th>CIUDAD</th>\n",
       "      <th>LOCALIDAD_ASIS</th>\n",
       "      <th>EDAD</th>\n",
       "      <th>UNI_MED</th>\n",
       "      <th>SEXO</th>\n",
       "      <th>FUENTE_O_TIPO_DE_CONTAGIO</th>\n",
       "      <th>UBICACION</th>\n",
       "      <th>ESTADO</th>\n",
       "      <th>FALLECIDOS</th>\n",
       "      <th>RECUPERADO</th>\n",
       "    </tr>\n",
       "    <tr>\n",
       "      <th>FECHA_DIAGNOSTICO</th>\n",
       "      <th></th>\n",
       "      <th></th>\n",
       "      <th></th>\n",
       "      <th></th>\n",
       "      <th></th>\n",
       "      <th></th>\n",
       "      <th></th>\n",
       "      <th></th>\n",
       "      <th></th>\n",
       "      <th></th>\n",
       "      <th></th>\n",
       "      <th></th>\n",
       "    </tr>\n",
       "  </thead>\n",
       "  <tbody>\n",
       "    <tr>\n",
       "      <th>2020-03-06</th>\n",
       "      <td>1</td>\n",
       "      <td>2020-02-26</td>\n",
       "      <td>Bogotá</td>\n",
       "      <td>Usaquén</td>\n",
       "      <td>19</td>\n",
       "      <td>1</td>\n",
       "      <td>F</td>\n",
       "      <td>Importado</td>\n",
       "      <td>Casa</td>\n",
       "      <td>Recuperado</td>\n",
       "      <td>0</td>\n",
       "      <td>1</td>\n",
       "    </tr>\n",
       "    <tr>\n",
       "      <th>2020-03-10</th>\n",
       "      <td>2</td>\n",
       "      <td>2020-03-04</td>\n",
       "      <td>Bogotá</td>\n",
       "      <td>Engativá</td>\n",
       "      <td>22</td>\n",
       "      <td>1</td>\n",
       "      <td>F</td>\n",
       "      <td>Importado</td>\n",
       "      <td>Casa</td>\n",
       "      <td>Recuperado</td>\n",
       "      <td>0</td>\n",
       "      <td>1</td>\n",
       "    </tr>\n",
       "    <tr>\n",
       "      <th>2020-03-10</th>\n",
       "      <td>3</td>\n",
       "      <td>2020-03-07</td>\n",
       "      <td>Bogotá</td>\n",
       "      <td>Engativá</td>\n",
       "      <td>28</td>\n",
       "      <td>1</td>\n",
       "      <td>F</td>\n",
       "      <td>Importado</td>\n",
       "      <td>Casa</td>\n",
       "      <td>Recuperado</td>\n",
       "      <td>0</td>\n",
       "      <td>1</td>\n",
       "    </tr>\n",
       "    <tr>\n",
       "      <th>2020-03-12</th>\n",
       "      <td>4</td>\n",
       "      <td>2020-03-06</td>\n",
       "      <td>Bogotá</td>\n",
       "      <td>Fontibón</td>\n",
       "      <td>36</td>\n",
       "      <td>1</td>\n",
       "      <td>F</td>\n",
       "      <td>Importado</td>\n",
       "      <td>Casa</td>\n",
       "      <td>Recuperado</td>\n",
       "      <td>0</td>\n",
       "      <td>1</td>\n",
       "    </tr>\n",
       "    <tr>\n",
       "      <th>2020-03-12</th>\n",
       "      <td>5</td>\n",
       "      <td>2020-03-06</td>\n",
       "      <td>Bogotá</td>\n",
       "      <td>Kennedy</td>\n",
       "      <td>42</td>\n",
       "      <td>1</td>\n",
       "      <td>F</td>\n",
       "      <td>Importado</td>\n",
       "      <td>Casa</td>\n",
       "      <td>Recuperado</td>\n",
       "      <td>0</td>\n",
       "      <td>1</td>\n",
       "    </tr>\n",
       "    <tr>\n",
       "      <th>2020-03-13</th>\n",
       "      <td>6</td>\n",
       "      <td>2020-03-08</td>\n",
       "      <td>Bogotá</td>\n",
       "      <td>Suba</td>\n",
       "      <td>61</td>\n",
       "      <td>1</td>\n",
       "      <td>F</td>\n",
       "      <td>Importado</td>\n",
       "      <td>Casa</td>\n",
       "      <td>Recuperado</td>\n",
       "      <td>0</td>\n",
       "      <td>1</td>\n",
       "    </tr>\n",
       "    <tr>\n",
       "      <th>2020-03-13</th>\n",
       "      <td>7</td>\n",
       "      <td>2020-02-28</td>\n",
       "      <td>Bogotá</td>\n",
       "      <td>Teusaquillo</td>\n",
       "      <td>73</td>\n",
       "      <td>1</td>\n",
       "      <td>F</td>\n",
       "      <td>Importado</td>\n",
       "      <td>Casa</td>\n",
       "      <td>Recuperado</td>\n",
       "      <td>0</td>\n",
       "      <td>1</td>\n",
       "    </tr>\n",
       "    <tr>\n",
       "      <th>2020-03-13</th>\n",
       "      <td>8</td>\n",
       "      <td>2020-03-06</td>\n",
       "      <td>Bogotá</td>\n",
       "      <td>Chapinero</td>\n",
       "      <td>54</td>\n",
       "      <td>1</td>\n",
       "      <td>M</td>\n",
       "      <td>Importado</td>\n",
       "      <td>Casa</td>\n",
       "      <td>Recuperado</td>\n",
       "      <td>0</td>\n",
       "      <td>1</td>\n",
       "    </tr>\n",
       "    <tr>\n",
       "      <th>2020-03-13</th>\n",
       "      <td>9</td>\n",
       "      <td>2020-03-10</td>\n",
       "      <td>Bogotá</td>\n",
       "      <td>Engativá</td>\n",
       "      <td>54</td>\n",
       "      <td>1</td>\n",
       "      <td>F</td>\n",
       "      <td>Relacionado</td>\n",
       "      <td>Casa</td>\n",
       "      <td>Recuperado</td>\n",
       "      <td>0</td>\n",
       "      <td>1</td>\n",
       "    </tr>\n",
       "    <tr>\n",
       "      <th>2020-03-14</th>\n",
       "      <td>10</td>\n",
       "      <td>2020-03-08</td>\n",
       "      <td>Bogotá</td>\n",
       "      <td>Fontibón</td>\n",
       "      <td>23</td>\n",
       "      <td>1</td>\n",
       "      <td>M</td>\n",
       "      <td>Relacionado</td>\n",
       "      <td>Casa</td>\n",
       "      <td>Recuperado</td>\n",
       "      <td>0</td>\n",
       "      <td>1</td>\n",
       "    </tr>\n",
       "    <tr>\n",
       "      <th>2020-03-14</th>\n",
       "      <td>11</td>\n",
       "      <td>2020-03-11</td>\n",
       "      <td>Bogotá</td>\n",
       "      <td>Chapinero</td>\n",
       "      <td>18</td>\n",
       "      <td>1</td>\n",
       "      <td>F</td>\n",
       "      <td>Importado</td>\n",
       "      <td>Casa</td>\n",
       "      <td>Recuperado</td>\n",
       "      <td>0</td>\n",
       "      <td>1</td>\n",
       "    </tr>\n",
       "    <tr>\n",
       "      <th>2020-03-14</th>\n",
       "      <td>12</td>\n",
       "      <td>2020-03-12</td>\n",
       "      <td>Bogotá</td>\n",
       "      <td>Teusaquillo</td>\n",
       "      <td>59</td>\n",
       "      <td>1</td>\n",
       "      <td>M</td>\n",
       "      <td>Importado</td>\n",
       "      <td>Casa</td>\n",
       "      <td>Recuperado</td>\n",
       "      <td>0</td>\n",
       "      <td>1</td>\n",
       "    </tr>\n",
       "    <tr>\n",
       "      <th>2020-03-14</th>\n",
       "      <td>13</td>\n",
       "      <td>2020-03-12</td>\n",
       "      <td>Bogotá</td>\n",
       "      <td>Suba</td>\n",
       "      <td>23</td>\n",
       "      <td>1</td>\n",
       "      <td>F</td>\n",
       "      <td>Importado</td>\n",
       "      <td>Casa</td>\n",
       "      <td>Recuperado</td>\n",
       "      <td>0</td>\n",
       "      <td>1</td>\n",
       "    </tr>\n",
       "    <tr>\n",
       "      <th>2020-03-13</th>\n",
       "      <td>14</td>\n",
       "      <td>2020-03-11</td>\n",
       "      <td>Bogotá</td>\n",
       "      <td>Engativá</td>\n",
       "      <td>54</td>\n",
       "      <td>1</td>\n",
       "      <td>M</td>\n",
       "      <td>Importado</td>\n",
       "      <td>Casa</td>\n",
       "      <td>Recuperado</td>\n",
       "      <td>0</td>\n",
       "      <td>1</td>\n",
       "    </tr>\n",
       "    <tr>\n",
       "      <th>2020-03-15</th>\n",
       "      <td>15</td>\n",
       "      <td>2020-03-12</td>\n",
       "      <td>Bogotá</td>\n",
       "      <td>Usaquén</td>\n",
       "      <td>72</td>\n",
       "      <td>1</td>\n",
       "      <td>M</td>\n",
       "      <td>Importado</td>\n",
       "      <td>Casa</td>\n",
       "      <td>Recuperado</td>\n",
       "      <td>0</td>\n",
       "      <td>1</td>\n",
       "    </tr>\n",
       "    <tr>\n",
       "      <th>2020-03-15</th>\n",
       "      <td>16</td>\n",
       "      <td>2020-03-12</td>\n",
       "      <td>Bogotá</td>\n",
       "      <td>Ciudad Bolívar</td>\n",
       "      <td>45</td>\n",
       "      <td>1</td>\n",
       "      <td>F</td>\n",
       "      <td>Relacionado</td>\n",
       "      <td>Casa</td>\n",
       "      <td>Recuperado</td>\n",
       "      <td>0</td>\n",
       "      <td>1</td>\n",
       "    </tr>\n",
       "    <tr>\n",
       "      <th>2020-03-15</th>\n",
       "      <td>17</td>\n",
       "      <td>2020-03-13</td>\n",
       "      <td>Bogotá</td>\n",
       "      <td>Chapinero</td>\n",
       "      <td>29</td>\n",
       "      <td>1</td>\n",
       "      <td>M</td>\n",
       "      <td>Importado</td>\n",
       "      <td>Casa</td>\n",
       "      <td>Recuperado</td>\n",
       "      <td>0</td>\n",
       "      <td>1</td>\n",
       "    </tr>\n",
       "    <tr>\n",
       "      <th>2020-03-15</th>\n",
       "      <td>18</td>\n",
       "      <td>2020-03-11</td>\n",
       "      <td>Bogotá</td>\n",
       "      <td>Chapinero</td>\n",
       "      <td>21</td>\n",
       "      <td>1</td>\n",
       "      <td>M</td>\n",
       "      <td>Importado</td>\n",
       "      <td>Casa</td>\n",
       "      <td>Recuperado</td>\n",
       "      <td>0</td>\n",
       "      <td>1</td>\n",
       "    </tr>\n",
       "    <tr>\n",
       "      <th>2020-03-15</th>\n",
       "      <td>19</td>\n",
       "      <td>2020-03-12</td>\n",
       "      <td>Bogotá</td>\n",
       "      <td>Chapinero</td>\n",
       "      <td>23</td>\n",
       "      <td>1</td>\n",
       "      <td>F</td>\n",
       "      <td>Importado</td>\n",
       "      <td>Casa</td>\n",
       "      <td>Recuperado</td>\n",
       "      <td>0</td>\n",
       "      <td>1</td>\n",
       "    </tr>\n",
       "    <tr>\n",
       "      <th>2020-03-15</th>\n",
       "      <td>20</td>\n",
       "      <td>2020-03-06</td>\n",
       "      <td>Bogotá</td>\n",
       "      <td>Kennedy</td>\n",
       "      <td>44</td>\n",
       "      <td>1</td>\n",
       "      <td>F</td>\n",
       "      <td>Relacionado</td>\n",
       "      <td>Casa</td>\n",
       "      <td>Recuperado</td>\n",
       "      <td>0</td>\n",
       "      <td>1</td>\n",
       "    </tr>\n",
       "    <tr>\n",
       "      <th>2020-03-15</th>\n",
       "      <td>21</td>\n",
       "      <td>2020-03-07</td>\n",
       "      <td>Bogotá</td>\n",
       "      <td>Kennedy</td>\n",
       "      <td>38</td>\n",
       "      <td>1</td>\n",
       "      <td>M</td>\n",
       "      <td>Relacionado</td>\n",
       "      <td>Casa</td>\n",
       "      <td>Recuperado</td>\n",
       "      <td>0</td>\n",
       "      <td>1</td>\n",
       "    </tr>\n",
       "    <tr>\n",
       "      <th>2020-03-15</th>\n",
       "      <td>22</td>\n",
       "      <td>2020-03-14</td>\n",
       "      <td>Bogotá</td>\n",
       "      <td>Usaquén</td>\n",
       "      <td>31</td>\n",
       "      <td>1</td>\n",
       "      <td>M</td>\n",
       "      <td>Relacionado</td>\n",
       "      <td>Casa</td>\n",
       "      <td>Recuperado</td>\n",
       "      <td>0</td>\n",
       "      <td>1</td>\n",
       "    </tr>\n",
       "    <tr>\n",
       "      <th>2020-03-15</th>\n",
       "      <td>23</td>\n",
       "      <td>2020-03-12</td>\n",
       "      <td>Bogotá</td>\n",
       "      <td>Barrios Unidos</td>\n",
       "      <td>41</td>\n",
       "      <td>1</td>\n",
       "      <td>F</td>\n",
       "      <td>Importado</td>\n",
       "      <td>Casa</td>\n",
       "      <td>Recuperado</td>\n",
       "      <td>0</td>\n",
       "      <td>1</td>\n",
       "    </tr>\n",
       "    <tr>\n",
       "      <th>2020-03-15</th>\n",
       "      <td>24</td>\n",
       "      <td>2020-03-08</td>\n",
       "      <td>Bogotá</td>\n",
       "      <td>Barrios Unidos</td>\n",
       "      <td>67</td>\n",
       "      <td>1</td>\n",
       "      <td>F</td>\n",
       "      <td>Importado</td>\n",
       "      <td>Casa</td>\n",
       "      <td>Recuperado</td>\n",
       "      <td>0</td>\n",
       "      <td>1</td>\n",
       "    </tr>\n",
       "    <tr>\n",
       "      <th>2020-03-28</th>\n",
       "      <td>25</td>\n",
       "      <td>2020-03-13</td>\n",
       "      <td>Bogotá</td>\n",
       "      <td>Los Mártires</td>\n",
       "      <td>57</td>\n",
       "      <td>1</td>\n",
       "      <td>M</td>\n",
       "      <td>En estudio</td>\n",
       "      <td>Casa</td>\n",
       "      <td>Recuperado</td>\n",
       "      <td>0</td>\n",
       "      <td>1</td>\n",
       "    </tr>\n",
       "    <tr>\n",
       "      <th>2020-03-15</th>\n",
       "      <td>26</td>\n",
       "      <td>2020-03-09</td>\n",
       "      <td>Bogotá</td>\n",
       "      <td>Chapinero</td>\n",
       "      <td>29</td>\n",
       "      <td>1</td>\n",
       "      <td>M</td>\n",
       "      <td>Importado</td>\n",
       "      <td>Casa</td>\n",
       "      <td>Recuperado</td>\n",
       "      <td>0</td>\n",
       "      <td>1</td>\n",
       "    </tr>\n",
       "    <tr>\n",
       "      <th>2020-03-15</th>\n",
       "      <td>27</td>\n",
       "      <td>2020-03-11</td>\n",
       "      <td>Bogotá</td>\n",
       "      <td>Chapinero</td>\n",
       "      <td>62</td>\n",
       "      <td>1</td>\n",
       "      <td>M</td>\n",
       "      <td>Importado</td>\n",
       "      <td>Casa</td>\n",
       "      <td>Recuperado</td>\n",
       "      <td>0</td>\n",
       "      <td>1</td>\n",
       "    </tr>\n",
       "    <tr>\n",
       "      <th>2020-03-15</th>\n",
       "      <td>28</td>\n",
       "      <td>2020-03-12</td>\n",
       "      <td>Bogotá</td>\n",
       "      <td>Chapinero</td>\n",
       "      <td>42</td>\n",
       "      <td>1</td>\n",
       "      <td>F</td>\n",
       "      <td>Importado</td>\n",
       "      <td>Casa</td>\n",
       "      <td>Recuperado</td>\n",
       "      <td>0</td>\n",
       "      <td>1</td>\n",
       "    </tr>\n",
       "    <tr>\n",
       "      <th>2020-03-15</th>\n",
       "      <td>29</td>\n",
       "      <td>2020-03-05</td>\n",
       "      <td>Bogotá</td>\n",
       "      <td>Usaquén</td>\n",
       "      <td>58</td>\n",
       "      <td>1</td>\n",
       "      <td>F</td>\n",
       "      <td>Relacionado</td>\n",
       "      <td>Casa</td>\n",
       "      <td>Recuperado</td>\n",
       "      <td>0</td>\n",
       "      <td>1</td>\n",
       "    </tr>\n",
       "    <tr>\n",
       "      <th>2020-03-15</th>\n",
       "      <td>30</td>\n",
       "      <td>2020-03-13</td>\n",
       "      <td>Bogotá</td>\n",
       "      <td>Engativá</td>\n",
       "      <td>34</td>\n",
       "      <td>1</td>\n",
       "      <td>M</td>\n",
       "      <td>Importado</td>\n",
       "      <td>Casa</td>\n",
       "      <td>Recuperado</td>\n",
       "      <td>0</td>\n",
       "      <td>1</td>\n",
       "    </tr>\n",
       "  </tbody>\n",
       "</table>\n",
       "</div>"
      ],
      "text/plain": [
       "                   CASO FECHA_DE_INICIO_DE_SINTOMAS  CIUDAD  LOCALIDAD_ASIS  \\\n",
       "FECHA_DIAGNOSTICO                                                             \n",
       "2020-03-06            1                  2020-02-26  Bogotá         Usaquén   \n",
       "2020-03-10            2                  2020-03-04  Bogotá        Engativá   \n",
       "2020-03-10            3                  2020-03-07  Bogotá        Engativá   \n",
       "2020-03-12            4                  2020-03-06  Bogotá        Fontibón   \n",
       "2020-03-12            5                  2020-03-06  Bogotá         Kennedy   \n",
       "2020-03-13            6                  2020-03-08  Bogotá            Suba   \n",
       "2020-03-13            7                  2020-02-28  Bogotá     Teusaquillo   \n",
       "2020-03-13            8                  2020-03-06  Bogotá       Chapinero   \n",
       "2020-03-13            9                  2020-03-10  Bogotá        Engativá   \n",
       "2020-03-14           10                  2020-03-08  Bogotá        Fontibón   \n",
       "2020-03-14           11                  2020-03-11  Bogotá       Chapinero   \n",
       "2020-03-14           12                  2020-03-12  Bogotá     Teusaquillo   \n",
       "2020-03-14           13                  2020-03-12  Bogotá            Suba   \n",
       "2020-03-13           14                  2020-03-11  Bogotá        Engativá   \n",
       "2020-03-15           15                  2020-03-12  Bogotá         Usaquén   \n",
       "2020-03-15           16                  2020-03-12  Bogotá  Ciudad Bolívar   \n",
       "2020-03-15           17                  2020-03-13  Bogotá       Chapinero   \n",
       "2020-03-15           18                  2020-03-11  Bogotá       Chapinero   \n",
       "2020-03-15           19                  2020-03-12  Bogotá       Chapinero   \n",
       "2020-03-15           20                  2020-03-06  Bogotá         Kennedy   \n",
       "2020-03-15           21                  2020-03-07  Bogotá         Kennedy   \n",
       "2020-03-15           22                  2020-03-14  Bogotá         Usaquén   \n",
       "2020-03-15           23                  2020-03-12  Bogotá  Barrios Unidos   \n",
       "2020-03-15           24                  2020-03-08  Bogotá  Barrios Unidos   \n",
       "2020-03-28           25                  2020-03-13  Bogotá    Los Mártires   \n",
       "2020-03-15           26                  2020-03-09  Bogotá       Chapinero   \n",
       "2020-03-15           27                  2020-03-11  Bogotá       Chapinero   \n",
       "2020-03-15           28                  2020-03-12  Bogotá       Chapinero   \n",
       "2020-03-15           29                  2020-03-05  Bogotá         Usaquén   \n",
       "2020-03-15           30                  2020-03-13  Bogotá        Engativá   \n",
       "\n",
       "                   EDAD  UNI_MED SEXO FUENTE_O_TIPO_DE_CONTAGIO UBICACION  \\\n",
       "FECHA_DIAGNOSTICO                                                           \n",
       "2020-03-06           19        1    F                 Importado      Casa   \n",
       "2020-03-10           22        1    F                 Importado      Casa   \n",
       "2020-03-10           28        1    F                 Importado      Casa   \n",
       "2020-03-12           36        1    F                 Importado      Casa   \n",
       "2020-03-12           42        1    F                 Importado      Casa   \n",
       "2020-03-13           61        1    F                 Importado      Casa   \n",
       "2020-03-13           73        1    F                 Importado      Casa   \n",
       "2020-03-13           54        1    M                 Importado      Casa   \n",
       "2020-03-13           54        1    F               Relacionado      Casa   \n",
       "2020-03-14           23        1    M               Relacionado      Casa   \n",
       "2020-03-14           18        1    F                 Importado      Casa   \n",
       "2020-03-14           59        1    M                 Importado      Casa   \n",
       "2020-03-14           23        1    F                 Importado      Casa   \n",
       "2020-03-13           54        1    M                 Importado      Casa   \n",
       "2020-03-15           72        1    M                 Importado      Casa   \n",
       "2020-03-15           45        1    F               Relacionado      Casa   \n",
       "2020-03-15           29        1    M                 Importado      Casa   \n",
       "2020-03-15           21        1    M                 Importado      Casa   \n",
       "2020-03-15           23        1    F                 Importado      Casa   \n",
       "2020-03-15           44        1    F               Relacionado      Casa   \n",
       "2020-03-15           38        1    M               Relacionado      Casa   \n",
       "2020-03-15           31        1    M               Relacionado      Casa   \n",
       "2020-03-15           41        1    F                 Importado      Casa   \n",
       "2020-03-15           67        1    F                 Importado      Casa   \n",
       "2020-03-28           57        1    M                En estudio      Casa   \n",
       "2020-03-15           29        1    M                 Importado      Casa   \n",
       "2020-03-15           62        1    M                 Importado      Casa   \n",
       "2020-03-15           42        1    F                 Importado      Casa   \n",
       "2020-03-15           58        1    F               Relacionado      Casa   \n",
       "2020-03-15           34        1    M                 Importado      Casa   \n",
       "\n",
       "                       ESTADO  FALLECIDOS  RECUPERADO  \n",
       "FECHA_DIAGNOSTICO                                      \n",
       "2020-03-06         Recuperado           0           1  \n",
       "2020-03-10         Recuperado           0           1  \n",
       "2020-03-10         Recuperado           0           1  \n",
       "2020-03-12         Recuperado           0           1  \n",
       "2020-03-12         Recuperado           0           1  \n",
       "2020-03-13         Recuperado           0           1  \n",
       "2020-03-13         Recuperado           0           1  \n",
       "2020-03-13         Recuperado           0           1  \n",
       "2020-03-13         Recuperado           0           1  \n",
       "2020-03-14         Recuperado           0           1  \n",
       "2020-03-14         Recuperado           0           1  \n",
       "2020-03-14         Recuperado           0           1  \n",
       "2020-03-14         Recuperado           0           1  \n",
       "2020-03-13         Recuperado           0           1  \n",
       "2020-03-15         Recuperado           0           1  \n",
       "2020-03-15         Recuperado           0           1  \n",
       "2020-03-15         Recuperado           0           1  \n",
       "2020-03-15         Recuperado           0           1  \n",
       "2020-03-15         Recuperado           0           1  \n",
       "2020-03-15         Recuperado           0           1  \n",
       "2020-03-15         Recuperado           0           1  \n",
       "2020-03-15         Recuperado           0           1  \n",
       "2020-03-15         Recuperado           0           1  \n",
       "2020-03-15         Recuperado           0           1  \n",
       "2020-03-28         Recuperado           0           1  \n",
       "2020-03-15         Recuperado           0           1  \n",
       "2020-03-15         Recuperado           0           1  \n",
       "2020-03-15         Recuperado           0           1  \n",
       "2020-03-15         Recuperado           0           1  \n",
       "2020-03-15         Recuperado           0           1  "
      ]
     },
     "execution_count": 11,
     "metadata": {},
     "output_type": "execute_result"
    }
   ],
   "source": [
    "bogota.set_index('FECHA_DIAGNOSTICO', inplace = True)\n",
    "bogota.head(30)"
   ]
  },
  {
   "cell_type": "code",
   "execution_count": 12,
   "metadata": {},
   "outputs": [],
   "source": [
    "def one(x):\n",
    "    return 1"
   ]
  },
  {
   "cell_type": "code",
   "execution_count": 13,
   "metadata": {},
   "outputs": [
    {
     "data": {
      "text/html": [
       "<div>\n",
       "<style scoped>\n",
       "    .dataframe tbody tr th:only-of-type {\n",
       "        vertical-align: middle;\n",
       "    }\n",
       "\n",
       "    .dataframe tbody tr th {\n",
       "        vertical-align: top;\n",
       "    }\n",
       "\n",
       "    .dataframe thead th {\n",
       "        text-align: right;\n",
       "    }\n",
       "</style>\n",
       "<table border=\"1\" class=\"dataframe\">\n",
       "  <thead>\n",
       "    <tr style=\"text-align: right;\">\n",
       "      <th></th>\n",
       "      <th>CASO</th>\n",
       "      <th>FECHA_DE_INICIO_DE_SINTOMAS</th>\n",
       "      <th>CIUDAD</th>\n",
       "      <th>LOCALIDAD_ASIS</th>\n",
       "      <th>EDAD</th>\n",
       "      <th>UNI_MED</th>\n",
       "      <th>SEXO</th>\n",
       "      <th>FUENTE_O_TIPO_DE_CONTAGIO</th>\n",
       "      <th>UBICACION</th>\n",
       "      <th>ESTADO</th>\n",
       "      <th>FALLECIDOS</th>\n",
       "      <th>RECUPERADO</th>\n",
       "    </tr>\n",
       "    <tr>\n",
       "      <th>FECHA_DIAGNOSTICO</th>\n",
       "      <th></th>\n",
       "      <th></th>\n",
       "      <th></th>\n",
       "      <th></th>\n",
       "      <th></th>\n",
       "      <th></th>\n",
       "      <th></th>\n",
       "      <th></th>\n",
       "      <th></th>\n",
       "      <th></th>\n",
       "      <th></th>\n",
       "      <th></th>\n",
       "    </tr>\n",
       "  </thead>\n",
       "  <tbody>\n",
       "    <tr>\n",
       "      <th>2020-03-06</th>\n",
       "      <td>1</td>\n",
       "      <td>2020-02-26</td>\n",
       "      <td>Bogotá</td>\n",
       "      <td>Usaquén</td>\n",
       "      <td>19</td>\n",
       "      <td>1</td>\n",
       "      <td>F</td>\n",
       "      <td>Importado</td>\n",
       "      <td>Casa</td>\n",
       "      <td>Recuperado</td>\n",
       "      <td>0</td>\n",
       "      <td>1</td>\n",
       "    </tr>\n",
       "    <tr>\n",
       "      <th>2020-03-10</th>\n",
       "      <td>1</td>\n",
       "      <td>2020-03-04</td>\n",
       "      <td>Bogotá</td>\n",
       "      <td>Engativá</td>\n",
       "      <td>22</td>\n",
       "      <td>1</td>\n",
       "      <td>F</td>\n",
       "      <td>Importado</td>\n",
       "      <td>Casa</td>\n",
       "      <td>Recuperado</td>\n",
       "      <td>0</td>\n",
       "      <td>1</td>\n",
       "    </tr>\n",
       "    <tr>\n",
       "      <th>2020-03-10</th>\n",
       "      <td>1</td>\n",
       "      <td>2020-03-07</td>\n",
       "      <td>Bogotá</td>\n",
       "      <td>Engativá</td>\n",
       "      <td>28</td>\n",
       "      <td>1</td>\n",
       "      <td>F</td>\n",
       "      <td>Importado</td>\n",
       "      <td>Casa</td>\n",
       "      <td>Recuperado</td>\n",
       "      <td>0</td>\n",
       "      <td>1</td>\n",
       "    </tr>\n",
       "    <tr>\n",
       "      <th>2020-03-12</th>\n",
       "      <td>1</td>\n",
       "      <td>2020-03-06</td>\n",
       "      <td>Bogotá</td>\n",
       "      <td>Fontibón</td>\n",
       "      <td>36</td>\n",
       "      <td>1</td>\n",
       "      <td>F</td>\n",
       "      <td>Importado</td>\n",
       "      <td>Casa</td>\n",
       "      <td>Recuperado</td>\n",
       "      <td>0</td>\n",
       "      <td>1</td>\n",
       "    </tr>\n",
       "    <tr>\n",
       "      <th>2020-03-12</th>\n",
       "      <td>1</td>\n",
       "      <td>2020-03-06</td>\n",
       "      <td>Bogotá</td>\n",
       "      <td>Kennedy</td>\n",
       "      <td>42</td>\n",
       "      <td>1</td>\n",
       "      <td>F</td>\n",
       "      <td>Importado</td>\n",
       "      <td>Casa</td>\n",
       "      <td>Recuperado</td>\n",
       "      <td>0</td>\n",
       "      <td>1</td>\n",
       "    </tr>\n",
       "    <tr>\n",
       "      <th>...</th>\n",
       "      <td>...</td>\n",
       "      <td>...</td>\n",
       "      <td>...</td>\n",
       "      <td>...</td>\n",
       "      <td>...</td>\n",
       "      <td>...</td>\n",
       "      <td>...</td>\n",
       "      <td>...</td>\n",
       "      <td>...</td>\n",
       "      <td>...</td>\n",
       "      <td>...</td>\n",
       "      <td>...</td>\n",
       "    </tr>\n",
       "    <tr>\n",
       "      <th>2022-01-16</th>\n",
       "      <td>1</td>\n",
       "      <td>NaN</td>\n",
       "      <td>Sin dato</td>\n",
       "      <td>Sin dato</td>\n",
       "      <td>59</td>\n",
       "      <td>1</td>\n",
       "      <td>M</td>\n",
       "      <td>En estudio</td>\n",
       "      <td>Casa</td>\n",
       "      <td>Leve</td>\n",
       "      <td>0</td>\n",
       "      <td>0</td>\n",
       "    </tr>\n",
       "    <tr>\n",
       "      <th>2022-01-16</th>\n",
       "      <td>1</td>\n",
       "      <td>NaN</td>\n",
       "      <td>Sin dato</td>\n",
       "      <td>Sin dato</td>\n",
       "      <td>29</td>\n",
       "      <td>1</td>\n",
       "      <td>F</td>\n",
       "      <td>En estudio</td>\n",
       "      <td>Casa</td>\n",
       "      <td>Leve</td>\n",
       "      <td>0</td>\n",
       "      <td>0</td>\n",
       "    </tr>\n",
       "    <tr>\n",
       "      <th>2022-01-16</th>\n",
       "      <td>1</td>\n",
       "      <td>NaN</td>\n",
       "      <td>Sin dato</td>\n",
       "      <td>Sin dato</td>\n",
       "      <td>30</td>\n",
       "      <td>1</td>\n",
       "      <td>M</td>\n",
       "      <td>En estudio</td>\n",
       "      <td>Casa</td>\n",
       "      <td>Leve</td>\n",
       "      <td>0</td>\n",
       "      <td>0</td>\n",
       "    </tr>\n",
       "    <tr>\n",
       "      <th>2022-01-10</th>\n",
       "      <td>1</td>\n",
       "      <td>NaN</td>\n",
       "      <td>Sin dato</td>\n",
       "      <td>Sin dato</td>\n",
       "      <td>50</td>\n",
       "      <td>1</td>\n",
       "      <td>M</td>\n",
       "      <td>En estudio</td>\n",
       "      <td>Casa</td>\n",
       "      <td>Leve</td>\n",
       "      <td>0</td>\n",
       "      <td>0</td>\n",
       "    </tr>\n",
       "    <tr>\n",
       "      <th>2022-01-16</th>\n",
       "      <td>1</td>\n",
       "      <td>NaN</td>\n",
       "      <td>Sin dato</td>\n",
       "      <td>Sin dato</td>\n",
       "      <td>32</td>\n",
       "      <td>1</td>\n",
       "      <td>M</td>\n",
       "      <td>En estudio</td>\n",
       "      <td>Casa</td>\n",
       "      <td>Leve</td>\n",
       "      <td>0</td>\n",
       "      <td>0</td>\n",
       "    </tr>\n",
       "  </tbody>\n",
       "</table>\n",
       "<p>1585699 rows × 12 columns</p>\n",
       "</div>"
      ],
      "text/plain": [
       "                   CASO FECHA_DE_INICIO_DE_SINTOMAS    CIUDAD LOCALIDAD_ASIS  \\\n",
       "FECHA_DIAGNOSTICO                                                              \n",
       "2020-03-06            1                  2020-02-26    Bogotá        Usaquén   \n",
       "2020-03-10            1                  2020-03-04    Bogotá       Engativá   \n",
       "2020-03-10            1                  2020-03-07    Bogotá       Engativá   \n",
       "2020-03-12            1                  2020-03-06    Bogotá       Fontibón   \n",
       "2020-03-12            1                  2020-03-06    Bogotá        Kennedy   \n",
       "...                 ...                         ...       ...            ...   \n",
       "2022-01-16            1                         NaN  Sin dato       Sin dato   \n",
       "2022-01-16            1                         NaN  Sin dato       Sin dato   \n",
       "2022-01-16            1                         NaN  Sin dato       Sin dato   \n",
       "2022-01-10            1                         NaN  Sin dato       Sin dato   \n",
       "2022-01-16            1                         NaN  Sin dato       Sin dato   \n",
       "\n",
       "                   EDAD  UNI_MED SEXO FUENTE_O_TIPO_DE_CONTAGIO UBICACION  \\\n",
       "FECHA_DIAGNOSTICO                                                           \n",
       "2020-03-06           19        1    F                 Importado      Casa   \n",
       "2020-03-10           22        1    F                 Importado      Casa   \n",
       "2020-03-10           28        1    F                 Importado      Casa   \n",
       "2020-03-12           36        1    F                 Importado      Casa   \n",
       "2020-03-12           42        1    F                 Importado      Casa   \n",
       "...                 ...      ...  ...                       ...       ...   \n",
       "2022-01-16           59        1    M                En estudio      Casa   \n",
       "2022-01-16           29        1    F                En estudio      Casa   \n",
       "2022-01-16           30        1    M                En estudio      Casa   \n",
       "2022-01-10           50        1    M                En estudio      Casa   \n",
       "2022-01-16           32        1    M                En estudio      Casa   \n",
       "\n",
       "                       ESTADO  FALLECIDOS  RECUPERADO  \n",
       "FECHA_DIAGNOSTICO                                      \n",
       "2020-03-06         Recuperado           0           1  \n",
       "2020-03-10         Recuperado           0           1  \n",
       "2020-03-10         Recuperado           0           1  \n",
       "2020-03-12         Recuperado           0           1  \n",
       "2020-03-12         Recuperado           0           1  \n",
       "...                       ...         ...         ...  \n",
       "2022-01-16               Leve           0           0  \n",
       "2022-01-16               Leve           0           0  \n",
       "2022-01-16               Leve           0           0  \n",
       "2022-01-10               Leve           0           0  \n",
       "2022-01-16               Leve           0           0  \n",
       "\n",
       "[1585699 rows x 12 columns]"
      ]
     },
     "execution_count": 13,
     "metadata": {},
     "output_type": "execute_result"
    }
   ],
   "source": [
    "bogota['CASO'] = bogota['CASO'].apply(one)\n",
    "bogota"
   ]
  },
  {
   "cell_type": "code",
   "execution_count": 14,
   "metadata": {},
   "outputs": [
    {
     "data": {
      "text/html": [
       "<div>\n",
       "<style scoped>\n",
       "    .dataframe tbody tr th:only-of-type {\n",
       "        vertical-align: middle;\n",
       "    }\n",
       "\n",
       "    .dataframe tbody tr th {\n",
       "        vertical-align: top;\n",
       "    }\n",
       "\n",
       "    .dataframe thead th {\n",
       "        text-align: right;\n",
       "    }\n",
       "</style>\n",
       "<table border=\"1\" class=\"dataframe\">\n",
       "  <thead>\n",
       "    <tr style=\"text-align: right;\">\n",
       "      <th></th>\n",
       "      <th>CASO</th>\n",
       "      <th>FALLECIDOS</th>\n",
       "      <th>RECUPERADO</th>\n",
       "    </tr>\n",
       "    <tr>\n",
       "      <th>FECHA_DIAGNOSTICO</th>\n",
       "      <th></th>\n",
       "      <th></th>\n",
       "      <th></th>\n",
       "    </tr>\n",
       "  </thead>\n",
       "  <tbody>\n",
       "    <tr>\n",
       "      <th>2020-03-06</th>\n",
       "      <td>1</td>\n",
       "      <td>0</td>\n",
       "      <td>1</td>\n",
       "    </tr>\n",
       "    <tr>\n",
       "      <th>2020-03-07</th>\n",
       "      <td>0</td>\n",
       "      <td>0</td>\n",
       "      <td>0</td>\n",
       "    </tr>\n",
       "    <tr>\n",
       "      <th>2020-03-08</th>\n",
       "      <td>0</td>\n",
       "      <td>0</td>\n",
       "      <td>0</td>\n",
       "    </tr>\n",
       "    <tr>\n",
       "      <th>2020-03-09</th>\n",
       "      <td>0</td>\n",
       "      <td>0</td>\n",
       "      <td>0</td>\n",
       "    </tr>\n",
       "    <tr>\n",
       "      <th>2020-03-10</th>\n",
       "      <td>2</td>\n",
       "      <td>0</td>\n",
       "      <td>2</td>\n",
       "    </tr>\n",
       "    <tr>\n",
       "      <th>2020-03-11</th>\n",
       "      <td>0</td>\n",
       "      <td>0</td>\n",
       "      <td>0</td>\n",
       "    </tr>\n",
       "    <tr>\n",
       "      <th>2020-03-12</th>\n",
       "      <td>2</td>\n",
       "      <td>0</td>\n",
       "      <td>2</td>\n",
       "    </tr>\n",
       "    <tr>\n",
       "      <th>2020-03-13</th>\n",
       "      <td>6</td>\n",
       "      <td>0</td>\n",
       "      <td>6</td>\n",
       "    </tr>\n",
       "    <tr>\n",
       "      <th>2020-03-14</th>\n",
       "      <td>4</td>\n",
       "      <td>0</td>\n",
       "      <td>4</td>\n",
       "    </tr>\n",
       "    <tr>\n",
       "      <th>2020-03-15</th>\n",
       "      <td>15</td>\n",
       "      <td>0</td>\n",
       "      <td>15</td>\n",
       "    </tr>\n",
       "    <tr>\n",
       "      <th>2020-03-16</th>\n",
       "      <td>2</td>\n",
       "      <td>0</td>\n",
       "      <td>2</td>\n",
       "    </tr>\n",
       "    <tr>\n",
       "      <th>2020-03-17</th>\n",
       "      <td>8</td>\n",
       "      <td>0</td>\n",
       "      <td>8</td>\n",
       "    </tr>\n",
       "    <tr>\n",
       "      <th>2020-03-18</th>\n",
       "      <td>3</td>\n",
       "      <td>0</td>\n",
       "      <td>3</td>\n",
       "    </tr>\n",
       "    <tr>\n",
       "      <th>2020-03-19</th>\n",
       "      <td>12</td>\n",
       "      <td>0</td>\n",
       "      <td>12</td>\n",
       "    </tr>\n",
       "    <tr>\n",
       "      <th>2020-03-20</th>\n",
       "      <td>27</td>\n",
       "      <td>2</td>\n",
       "      <td>25</td>\n",
       "    </tr>\n",
       "    <tr>\n",
       "      <th>2020-03-21</th>\n",
       "      <td>7</td>\n",
       "      <td>1</td>\n",
       "      <td>6</td>\n",
       "    </tr>\n",
       "    <tr>\n",
       "      <th>2020-03-22</th>\n",
       "      <td>23</td>\n",
       "      <td>2</td>\n",
       "      <td>21</td>\n",
       "    </tr>\n",
       "    <tr>\n",
       "      <th>2020-03-23</th>\n",
       "      <td>5</td>\n",
       "      <td>0</td>\n",
       "      <td>5</td>\n",
       "    </tr>\n",
       "    <tr>\n",
       "      <th>2020-03-24</th>\n",
       "      <td>56</td>\n",
       "      <td>2</td>\n",
       "      <td>54</td>\n",
       "    </tr>\n",
       "    <tr>\n",
       "      <th>2020-03-25</th>\n",
       "      <td>9</td>\n",
       "      <td>0</td>\n",
       "      <td>9</td>\n",
       "    </tr>\n",
       "    <tr>\n",
       "      <th>2020-03-26</th>\n",
       "      <td>82</td>\n",
       "      <td>6</td>\n",
       "      <td>76</td>\n",
       "    </tr>\n",
       "    <tr>\n",
       "      <th>2020-03-27</th>\n",
       "      <td>31</td>\n",
       "      <td>1</td>\n",
       "      <td>30</td>\n",
       "    </tr>\n",
       "    <tr>\n",
       "      <th>2020-03-28</th>\n",
       "      <td>54</td>\n",
       "      <td>1</td>\n",
       "      <td>52</td>\n",
       "    </tr>\n",
       "    <tr>\n",
       "      <th>2020-03-29</th>\n",
       "      <td>42</td>\n",
       "      <td>6</td>\n",
       "      <td>36</td>\n",
       "    </tr>\n",
       "    <tr>\n",
       "      <th>2020-03-30</th>\n",
       "      <td>51</td>\n",
       "      <td>7</td>\n",
       "      <td>44</td>\n",
       "    </tr>\n",
       "    <tr>\n",
       "      <th>2020-03-31</th>\n",
       "      <td>23</td>\n",
       "      <td>0</td>\n",
       "      <td>23</td>\n",
       "    </tr>\n",
       "    <tr>\n",
       "      <th>2020-04-01</th>\n",
       "      <td>24</td>\n",
       "      <td>7</td>\n",
       "      <td>17</td>\n",
       "    </tr>\n",
       "    <tr>\n",
       "      <th>2020-04-02</th>\n",
       "      <td>88</td>\n",
       "      <td>7</td>\n",
       "      <td>81</td>\n",
       "    </tr>\n",
       "    <tr>\n",
       "      <th>2020-04-03</th>\n",
       "      <td>131</td>\n",
       "      <td>6</td>\n",
       "      <td>125</td>\n",
       "    </tr>\n",
       "    <tr>\n",
       "      <th>2020-04-04</th>\n",
       "      <td>89</td>\n",
       "      <td>7</td>\n",
       "      <td>82</td>\n",
       "    </tr>\n",
       "  </tbody>\n",
       "</table>\n",
       "</div>"
      ],
      "text/plain": [
       "                   CASO  FALLECIDOS  RECUPERADO\n",
       "FECHA_DIAGNOSTICO                              \n",
       "2020-03-06            1           0           1\n",
       "2020-03-07            0           0           0\n",
       "2020-03-08            0           0           0\n",
       "2020-03-09            0           0           0\n",
       "2020-03-10            2           0           2\n",
       "2020-03-11            0           0           0\n",
       "2020-03-12            2           0           2\n",
       "2020-03-13            6           0           6\n",
       "2020-03-14            4           0           4\n",
       "2020-03-15           15           0          15\n",
       "2020-03-16            2           0           2\n",
       "2020-03-17            8           0           8\n",
       "2020-03-18            3           0           3\n",
       "2020-03-19           12           0          12\n",
       "2020-03-20           27           2          25\n",
       "2020-03-21            7           1           6\n",
       "2020-03-22           23           2          21\n",
       "2020-03-23            5           0           5\n",
       "2020-03-24           56           2          54\n",
       "2020-03-25            9           0           9\n",
       "2020-03-26           82           6          76\n",
       "2020-03-27           31           1          30\n",
       "2020-03-28           54           1          52\n",
       "2020-03-29           42           6          36\n",
       "2020-03-30           51           7          44\n",
       "2020-03-31           23           0          23\n",
       "2020-04-01           24           7          17\n",
       "2020-04-02           88           7          81\n",
       "2020-04-03          131           6         125\n",
       "2020-04-04           89           7          82"
      ]
     },
     "execution_count": 14,
     "metadata": {},
     "output_type": "execute_result"
    }
   ],
   "source": [
    "bogota = bogota.resample('D').agg({'CASO': 'sum','FALLECIDOS':'sum','RECUPERADO':'sum'})\n",
    "bogota.head(30)"
   ]
  },
  {
   "cell_type": "code",
   "execution_count": 15,
   "metadata": {},
   "outputs": [
    {
     "data": {
      "text/html": [
       "<div>\n",
       "<style scoped>\n",
       "    .dataframe tbody tr th:only-of-type {\n",
       "        vertical-align: middle;\n",
       "    }\n",
       "\n",
       "    .dataframe tbody tr th {\n",
       "        vertical-align: top;\n",
       "    }\n",
       "\n",
       "    .dataframe thead th {\n",
       "        text-align: right;\n",
       "    }\n",
       "</style>\n",
       "<table border=\"1\" class=\"dataframe\">\n",
       "  <thead>\n",
       "    <tr style=\"text-align: right;\">\n",
       "      <th></th>\n",
       "      <th>CASO</th>\n",
       "      <th>FALLECIDOS</th>\n",
       "      <th>RECUPERADO</th>\n",
       "      <th>CASOS_ACUMULADOS</th>\n",
       "      <th>RECUPERADOS_ACUMULADOS</th>\n",
       "      <th>FALLECIDOS_ACUMULADOS</th>\n",
       "    </tr>\n",
       "    <tr>\n",
       "      <th>FECHA_DIAGNOSTICO</th>\n",
       "      <th></th>\n",
       "      <th></th>\n",
       "      <th></th>\n",
       "      <th></th>\n",
       "      <th></th>\n",
       "      <th></th>\n",
       "    </tr>\n",
       "  </thead>\n",
       "  <tbody>\n",
       "    <tr>\n",
       "      <th>2020-03-06</th>\n",
       "      <td>1</td>\n",
       "      <td>0</td>\n",
       "      <td>1</td>\n",
       "      <td>1</td>\n",
       "      <td>1</td>\n",
       "      <td>0</td>\n",
       "    </tr>\n",
       "    <tr>\n",
       "      <th>2020-03-07</th>\n",
       "      <td>0</td>\n",
       "      <td>0</td>\n",
       "      <td>0</td>\n",
       "      <td>1</td>\n",
       "      <td>1</td>\n",
       "      <td>0</td>\n",
       "    </tr>\n",
       "    <tr>\n",
       "      <th>2020-03-08</th>\n",
       "      <td>0</td>\n",
       "      <td>0</td>\n",
       "      <td>0</td>\n",
       "      <td>1</td>\n",
       "      <td>1</td>\n",
       "      <td>0</td>\n",
       "    </tr>\n",
       "    <tr>\n",
       "      <th>2020-03-09</th>\n",
       "      <td>0</td>\n",
       "      <td>0</td>\n",
       "      <td>0</td>\n",
       "      <td>1</td>\n",
       "      <td>1</td>\n",
       "      <td>0</td>\n",
       "    </tr>\n",
       "    <tr>\n",
       "      <th>2020-03-10</th>\n",
       "      <td>2</td>\n",
       "      <td>0</td>\n",
       "      <td>2</td>\n",
       "      <td>3</td>\n",
       "      <td>3</td>\n",
       "      <td>0</td>\n",
       "    </tr>\n",
       "    <tr>\n",
       "      <th>...</th>\n",
       "      <td>...</td>\n",
       "      <td>...</td>\n",
       "      <td>...</td>\n",
       "      <td>...</td>\n",
       "      <td>...</td>\n",
       "      <td>...</td>\n",
       "    </tr>\n",
       "    <tr>\n",
       "      <th>2022-01-13</th>\n",
       "      <td>8075</td>\n",
       "      <td>5</td>\n",
       "      <td>168</td>\n",
       "      <td>1565063</td>\n",
       "      <td>1484374</td>\n",
       "      <td>27949</td>\n",
       "    </tr>\n",
       "    <tr>\n",
       "      <th>2022-01-14</th>\n",
       "      <td>7942</td>\n",
       "      <td>1</td>\n",
       "      <td>174</td>\n",
       "      <td>1573005</td>\n",
       "      <td>1484548</td>\n",
       "      <td>27950</td>\n",
       "    </tr>\n",
       "    <tr>\n",
       "      <th>2022-01-15</th>\n",
       "      <td>6754</td>\n",
       "      <td>7</td>\n",
       "      <td>235</td>\n",
       "      <td>1579759</td>\n",
       "      <td>1484783</td>\n",
       "      <td>27957</td>\n",
       "    </tr>\n",
       "    <tr>\n",
       "      <th>2022-01-16</th>\n",
       "      <td>5333</td>\n",
       "      <td>2</td>\n",
       "      <td>31</td>\n",
       "      <td>1585092</td>\n",
       "      <td>1484814</td>\n",
       "      <td>27959</td>\n",
       "    </tr>\n",
       "    <tr>\n",
       "      <th>2022-01-17</th>\n",
       "      <td>607</td>\n",
       "      <td>0</td>\n",
       "      <td>4</td>\n",
       "      <td>1585699</td>\n",
       "      <td>1484818</td>\n",
       "      <td>27959</td>\n",
       "    </tr>\n",
       "  </tbody>\n",
       "</table>\n",
       "<p>683 rows × 6 columns</p>\n",
       "</div>"
      ],
      "text/plain": [
       "                   CASO  FALLECIDOS  RECUPERADO  CASOS_ACUMULADOS  \\\n",
       "FECHA_DIAGNOSTICO                                                   \n",
       "2020-03-06            1           0           1                 1   \n",
       "2020-03-07            0           0           0                 1   \n",
       "2020-03-08            0           0           0                 1   \n",
       "2020-03-09            0           0           0                 1   \n",
       "2020-03-10            2           0           2                 3   \n",
       "...                 ...         ...         ...               ...   \n",
       "2022-01-13         8075           5         168           1565063   \n",
       "2022-01-14         7942           1         174           1573005   \n",
       "2022-01-15         6754           7         235           1579759   \n",
       "2022-01-16         5333           2          31           1585092   \n",
       "2022-01-17          607           0           4           1585699   \n",
       "\n",
       "                   RECUPERADOS_ACUMULADOS  FALLECIDOS_ACUMULADOS  \n",
       "FECHA_DIAGNOSTICO                                                 \n",
       "2020-03-06                              1                      0  \n",
       "2020-03-07                              1                      0  \n",
       "2020-03-08                              1                      0  \n",
       "2020-03-09                              1                      0  \n",
       "2020-03-10                              3                      0  \n",
       "...                                   ...                    ...  \n",
       "2022-01-13                        1484374                  27949  \n",
       "2022-01-14                        1484548                  27950  \n",
       "2022-01-15                        1484783                  27957  \n",
       "2022-01-16                        1484814                  27959  \n",
       "2022-01-17                        1484818                  27959  \n",
       "\n",
       "[683 rows x 6 columns]"
      ]
     },
     "execution_count": 15,
     "metadata": {},
     "output_type": "execute_result"
    }
   ],
   "source": [
    "bogota['CASOS_ACUMULADOS']=bogota['CASO'].cumsum()\n",
    "bogota['RECUPERADOS_ACUMULADOS']=bogota['RECUPERADO'].cumsum()\n",
    "bogota['FALLECIDOS_ACUMULADOS']=bogota['FALLECIDOS'].cumsum()\n",
    "bogota"
   ]
  },
  {
   "cell_type": "code",
   "execution_count": 16,
   "metadata": {},
   "outputs": [
    {
     "data": {
      "text/html": [
       "<div>\n",
       "<style scoped>\n",
       "    .dataframe tbody tr th:only-of-type {\n",
       "        vertical-align: middle;\n",
       "    }\n",
       "\n",
       "    .dataframe tbody tr th {\n",
       "        vertical-align: top;\n",
       "    }\n",
       "\n",
       "    .dataframe thead th {\n",
       "        text-align: right;\n",
       "    }\n",
       "</style>\n",
       "<table border=\"1\" class=\"dataframe\">\n",
       "  <thead>\n",
       "    <tr style=\"text-align: right;\">\n",
       "      <th></th>\n",
       "      <th>CASO</th>\n",
       "      <th>CASOS_ACUMULADOS</th>\n",
       "      <th>RECUPERADO</th>\n",
       "      <th>RECUPERADOS_ACUMULADOS</th>\n",
       "      <th>FALLECIDOS</th>\n",
       "      <th>FALLECIDOS_ACUMULADOS</th>\n",
       "    </tr>\n",
       "    <tr>\n",
       "      <th>FECHA_DIAGNOSTICO</th>\n",
       "      <th></th>\n",
       "      <th></th>\n",
       "      <th></th>\n",
       "      <th></th>\n",
       "      <th></th>\n",
       "      <th></th>\n",
       "    </tr>\n",
       "  </thead>\n",
       "  <tbody>\n",
       "    <tr>\n",
       "      <th>2020-03-06</th>\n",
       "      <td>1</td>\n",
       "      <td>1</td>\n",
       "      <td>1</td>\n",
       "      <td>1</td>\n",
       "      <td>0</td>\n",
       "      <td>0</td>\n",
       "    </tr>\n",
       "    <tr>\n",
       "      <th>2020-03-07</th>\n",
       "      <td>0</td>\n",
       "      <td>1</td>\n",
       "      <td>0</td>\n",
       "      <td>1</td>\n",
       "      <td>0</td>\n",
       "      <td>0</td>\n",
       "    </tr>\n",
       "    <tr>\n",
       "      <th>2020-03-08</th>\n",
       "      <td>0</td>\n",
       "      <td>1</td>\n",
       "      <td>0</td>\n",
       "      <td>1</td>\n",
       "      <td>0</td>\n",
       "      <td>0</td>\n",
       "    </tr>\n",
       "    <tr>\n",
       "      <th>2020-03-09</th>\n",
       "      <td>0</td>\n",
       "      <td>1</td>\n",
       "      <td>0</td>\n",
       "      <td>1</td>\n",
       "      <td>0</td>\n",
       "      <td>0</td>\n",
       "    </tr>\n",
       "    <tr>\n",
       "      <th>2020-03-10</th>\n",
       "      <td>2</td>\n",
       "      <td>3</td>\n",
       "      <td>2</td>\n",
       "      <td>3</td>\n",
       "      <td>0</td>\n",
       "      <td>0</td>\n",
       "    </tr>\n",
       "    <tr>\n",
       "      <th>...</th>\n",
       "      <td>...</td>\n",
       "      <td>...</td>\n",
       "      <td>...</td>\n",
       "      <td>...</td>\n",
       "      <td>...</td>\n",
       "      <td>...</td>\n",
       "    </tr>\n",
       "    <tr>\n",
       "      <th>2022-01-13</th>\n",
       "      <td>8075</td>\n",
       "      <td>1565063</td>\n",
       "      <td>168</td>\n",
       "      <td>1484374</td>\n",
       "      <td>5</td>\n",
       "      <td>27949</td>\n",
       "    </tr>\n",
       "    <tr>\n",
       "      <th>2022-01-14</th>\n",
       "      <td>7942</td>\n",
       "      <td>1573005</td>\n",
       "      <td>174</td>\n",
       "      <td>1484548</td>\n",
       "      <td>1</td>\n",
       "      <td>27950</td>\n",
       "    </tr>\n",
       "    <tr>\n",
       "      <th>2022-01-15</th>\n",
       "      <td>6754</td>\n",
       "      <td>1579759</td>\n",
       "      <td>235</td>\n",
       "      <td>1484783</td>\n",
       "      <td>7</td>\n",
       "      <td>27957</td>\n",
       "    </tr>\n",
       "    <tr>\n",
       "      <th>2022-01-16</th>\n",
       "      <td>5333</td>\n",
       "      <td>1585092</td>\n",
       "      <td>31</td>\n",
       "      <td>1484814</td>\n",
       "      <td>2</td>\n",
       "      <td>27959</td>\n",
       "    </tr>\n",
       "    <tr>\n",
       "      <th>2022-01-17</th>\n",
       "      <td>607</td>\n",
       "      <td>1585699</td>\n",
       "      <td>4</td>\n",
       "      <td>1484818</td>\n",
       "      <td>0</td>\n",
       "      <td>27959</td>\n",
       "    </tr>\n",
       "  </tbody>\n",
       "</table>\n",
       "<p>683 rows × 6 columns</p>\n",
       "</div>"
      ],
      "text/plain": [
       "                   CASO  CASOS_ACUMULADOS  RECUPERADO  RECUPERADOS_ACUMULADOS  \\\n",
       "FECHA_DIAGNOSTICO                                                               \n",
       "2020-03-06            1                 1           1                       1   \n",
       "2020-03-07            0                 1           0                       1   \n",
       "2020-03-08            0                 1           0                       1   \n",
       "2020-03-09            0                 1           0                       1   \n",
       "2020-03-10            2                 3           2                       3   \n",
       "...                 ...               ...         ...                     ...   \n",
       "2022-01-13         8075           1565063         168                 1484374   \n",
       "2022-01-14         7942           1573005         174                 1484548   \n",
       "2022-01-15         6754           1579759         235                 1484783   \n",
       "2022-01-16         5333           1585092          31                 1484814   \n",
       "2022-01-17          607           1585699           4                 1484818   \n",
       "\n",
       "                   FALLECIDOS  FALLECIDOS_ACUMULADOS  \n",
       "FECHA_DIAGNOSTICO                                     \n",
       "2020-03-06                  0                      0  \n",
       "2020-03-07                  0                      0  \n",
       "2020-03-08                  0                      0  \n",
       "2020-03-09                  0                      0  \n",
       "2020-03-10                  0                      0  \n",
       "...                       ...                    ...  \n",
       "2022-01-13                  5                  27949  \n",
       "2022-01-14                  1                  27950  \n",
       "2022-01-15                  7                  27957  \n",
       "2022-01-16                  2                  27959  \n",
       "2022-01-17                  0                  27959  \n",
       "\n",
       "[683 rows x 6 columns]"
      ]
     },
     "execution_count": 16,
     "metadata": {},
     "output_type": "execute_result"
    }
   ],
   "source": [
    "bogota = bogota[['CASO','CASOS_ACUMULADOS','RECUPERADO','RECUPERADOS_ACUMULADOS','FALLECIDOS','FALLECIDOS_ACUMULADOS']]\n",
    "bogota"
   ]
  },
  {
   "cell_type": "code",
   "execution_count": 17,
   "metadata": {},
   "outputs": [
    {
     "data": {
      "text/plain": [
       "<AxesSubplot:xlabel='FECHA_DIAGNOSTICO'>"
      ]
     },
     "execution_count": 17,
     "metadata": {},
     "output_type": "execute_result"
    },
    {
     "data": {
      "image/png": "[encoded data removed]",
      "text/plain": [
       "<Figure size 792x288 with 1 Axes>"
      ]
     },
     "metadata": {},
     "output_type": "display_data"
    }
   ],
   "source": [
    "bogota['CASOS_ACUMULADOS'].plot(linewidth=1.2)\n"
   ]
  },
  {
   "cell_type": "code",
   "execution_count": 18,
   "metadata": {},
   "outputs": [
    {
     "data": {
      "text/plain": [
       "<AxesSubplot:xlabel='FECHA_DIAGNOSTICO'>"
      ]
     },
     "execution_count": 18,
     "metadata": {},
     "output_type": "execute_result"
    },
    {
     "data": {
      "image/png": "[encoded data removed]",
      "text/plain": [
       "<Figure size 792x288 with 1 Axes>"
      ]
     },
     "metadata": {},
     "output_type": "display_data"
    }
   ],
   "source": [
    "bogota['CASO'].plot(linewidth=1.2)"
   ]
  },
  {
   "cell_type": "code",
   "execution_count": 19,
   "metadata": {},
   "outputs": [
    {
     "data": {
      "text/plain": [
       "<AxesSubplot:xlabel='FECHA_DIAGNOSTICO'>"
      ]
     },
     "execution_count": 19,
     "metadata": {},
     "output_type": "execute_result"
    },
    {
     "data": {
      "image/png": "[encoded data removed]",
      "text/plain": [
       "<Figure size 792x288 with 1 Axes>"
      ]
     },
     "metadata": {},
     "output_type": "display_data"
    }
   ],
   "source": [
    "bogota['FALLECIDOS'].plot(linewidth=1.2)"
   ]
  },
  {
   "cell_type": "code",
   "execution_count": 20,
   "metadata": {},
   "outputs": [
    {
     "data": {
      "text/plain": [
       "<AxesSubplot:xlabel='FECHA_DIAGNOSTICO'>"
      ]
     },
     "execution_count": 20,
     "metadata": {},
     "output_type": "execute_result"
    },
    {
     "data": {
      "image/png": "[encoded data removed]",
      "text/plain": [
       "<Figure size 792x288 with 1 Axes>"
      ]
     },
     "metadata": {},
     "output_type": "display_data"
    }
   ],
   "source": [
    "bogota['FALLECIDOS_ACUMULADOS'].plot(linewidth=1.2)"
   ]
  },
  {
   "cell_type": "code",
   "execution_count": 21,
   "metadata": {},
   "outputs": [
    {
     "data": {
      "text/plain": [
       "<AxesSubplot:xlabel='FECHA_DIAGNOSTICO'>"
      ]
     },
     "execution_count": 21,
     "metadata": {},
     "output_type": "execute_result"
    },
    {
     "data": {
      "image/png": "[encoded data removed]",
      "text/plain": [
       "<Figure size 792x288 with 1 Axes>"
      ]
     },
     "metadata": {},
     "output_type": "display_data"
    }
   ],
   "source": [
    "bogota['RECUPERADO'].plot(linewidth=1.2)"
   ]
  },
  {
   "cell_type": "code",
   "execution_count": 22,
   "metadata": {},
   "outputs": [
    {
     "data": {
      "text/plain": [
       "<AxesSubplot:xlabel='FECHA_DIAGNOSTICO'>"
      ]
     },
     "execution_count": 22,
     "metadata": {},
     "output_type": "execute_result"
    },
    {
     "data": {
      "image/png": "[encoded data removed]",
      "text/plain": [
       "<Figure size 792x288 with 1 Axes>"
      ]
     },
     "metadata": {},
     "output_type": "display_data"
    }
   ],
   "source": [
    "bogota['RECUPERADOS_ACUMULADOS'].plot(linewidth=1.2)"
   ]
  },
  {
   "cell_type": "code",
   "execution_count": 23,
   "metadata": {},
   "outputs": [
    {
     "data": {
      "text/html": [
       "<div>\n",
       "<style scoped>\n",
       "    .dataframe tbody tr th:only-of-type {\n",
       "        vertical-align: middle;\n",
       "    }\n",
       "\n",
       "    .dataframe tbody tr th {\n",
       "        vertical-align: top;\n",
       "    }\n",
       "\n",
       "    .dataframe thead th {\n",
       "        text-align: right;\n",
       "    }\n",
       "</style>\n",
       "<table border=\"1\" class=\"dataframe\">\n",
       "  <thead>\n",
       "    <tr style=\"text-align: right;\">\n",
       "      <th></th>\n",
       "      <th>CASO</th>\n",
       "      <th>CASOS_ACUMULADOS</th>\n",
       "      <th>RECUPERADO</th>\n",
       "      <th>RECUPERADOS_ACUMULADOS</th>\n",
       "      <th>FALLECIDOS</th>\n",
       "      <th>FALLECIDOS_ACUMULADOS</th>\n",
       "    </tr>\n",
       "    <tr>\n",
       "      <th>FECHA_DIAGNOSTICO</th>\n",
       "      <th></th>\n",
       "      <th></th>\n",
       "      <th></th>\n",
       "      <th></th>\n",
       "      <th></th>\n",
       "      <th></th>\n",
       "    </tr>\n",
       "  </thead>\n",
       "  <tbody>\n",
       "    <tr>\n",
       "      <th>2020-03-06</th>\n",
       "      <td>1</td>\n",
       "      <td>0.000000</td>\n",
       "      <td>1</td>\n",
       "      <td>0.000000</td>\n",
       "      <td>0</td>\n",
       "      <td>0.000000</td>\n",
       "    </tr>\n",
       "    <tr>\n",
       "      <th>2020-03-07</th>\n",
       "      <td>0</td>\n",
       "      <td>0.000000</td>\n",
       "      <td>0</td>\n",
       "      <td>0.000000</td>\n",
       "      <td>0</td>\n",
       "      <td>0.000000</td>\n",
       "    </tr>\n",
       "    <tr>\n",
       "      <th>2020-03-08</th>\n",
       "      <td>0</td>\n",
       "      <td>0.000000</td>\n",
       "      <td>0</td>\n",
       "      <td>0.000000</td>\n",
       "      <td>0</td>\n",
       "      <td>0.000000</td>\n",
       "    </tr>\n",
       "    <tr>\n",
       "      <th>2020-03-09</th>\n",
       "      <td>0</td>\n",
       "      <td>0.000000</td>\n",
       "      <td>0</td>\n",
       "      <td>0.000000</td>\n",
       "      <td>0</td>\n",
       "      <td>0.000000</td>\n",
       "    </tr>\n",
       "    <tr>\n",
       "      <th>2020-03-10</th>\n",
       "      <td>2</td>\n",
       "      <td>0.000001</td>\n",
       "      <td>2</td>\n",
       "      <td>0.000001</td>\n",
       "      <td>0</td>\n",
       "      <td>0.000000</td>\n",
       "    </tr>\n",
       "    <tr>\n",
       "      <th>...</th>\n",
       "      <td>...</td>\n",
       "      <td>...</td>\n",
       "      <td>...</td>\n",
       "      <td>...</td>\n",
       "      <td>...</td>\n",
       "      <td>...</td>\n",
       "    </tr>\n",
       "    <tr>\n",
       "      <th>2022-01-13</th>\n",
       "      <td>8075</td>\n",
       "      <td>0.986986</td>\n",
       "      <td>168</td>\n",
       "      <td>0.999701</td>\n",
       "      <td>5</td>\n",
       "      <td>0.999642</td>\n",
       "    </tr>\n",
       "    <tr>\n",
       "      <th>2022-01-14</th>\n",
       "      <td>7942</td>\n",
       "      <td>0.991995</td>\n",
       "      <td>174</td>\n",
       "      <td>0.999818</td>\n",
       "      <td>1</td>\n",
       "      <td>0.999678</td>\n",
       "    </tr>\n",
       "    <tr>\n",
       "      <th>2022-01-15</th>\n",
       "      <td>6754</td>\n",
       "      <td>0.996254</td>\n",
       "      <td>235</td>\n",
       "      <td>0.999976</td>\n",
       "      <td>7</td>\n",
       "      <td>0.999928</td>\n",
       "    </tr>\n",
       "    <tr>\n",
       "      <th>2022-01-16</th>\n",
       "      <td>5333</td>\n",
       "      <td>0.999617</td>\n",
       "      <td>31</td>\n",
       "      <td>0.999997</td>\n",
       "      <td>2</td>\n",
       "      <td>1.000000</td>\n",
       "    </tr>\n",
       "    <tr>\n",
       "      <th>2022-01-17</th>\n",
       "      <td>607</td>\n",
       "      <td>1.000000</td>\n",
       "      <td>4</td>\n",
       "      <td>1.000000</td>\n",
       "      <td>0</td>\n",
       "      <td>1.000000</td>\n",
       "    </tr>\n",
       "  </tbody>\n",
       "</table>\n",
       "<p>683 rows × 6 columns</p>\n",
       "</div>"
      ],
      "text/plain": [
       "                   CASO  CASOS_ACUMULADOS  RECUPERADO  RECUPERADOS_ACUMULADOS  \\\n",
       "FECHA_DIAGNOSTICO                                                               \n",
       "2020-03-06            1          0.000000           1                0.000000   \n",
       "2020-03-07            0          0.000000           0                0.000000   \n",
       "2020-03-08            0          0.000000           0                0.000000   \n",
       "2020-03-09            0          0.000000           0                0.000000   \n",
       "2020-03-10            2          0.000001           2                0.000001   \n",
       "...                 ...               ...         ...                     ...   \n",
       "2022-01-13         8075          0.986986         168                0.999701   \n",
       "2022-01-14         7942          0.991995         174                0.999818   \n",
       "2022-01-15         6754          0.996254         235                0.999976   \n",
       "2022-01-16         5333          0.999617          31                0.999997   \n",
       "2022-01-17          607          1.000000           4                1.000000   \n",
       "\n",
       "                   FALLECIDOS  FALLECIDOS_ACUMULADOS  \n",
       "FECHA_DIAGNOSTICO                                     \n",
       "2020-03-06                  0               0.000000  \n",
       "2020-03-07                  0               0.000000  \n",
       "2020-03-08                  0               0.000000  \n",
       "2020-03-09                  0               0.000000  \n",
       "2020-03-10                  0               0.000000  \n",
       "...                       ...                    ...  \n",
       "2022-01-13                  5               0.999642  \n",
       "2022-01-14                  1               0.999678  \n",
       "2022-01-15                  7               0.999928  \n",
       "2022-01-16                  2               1.000000  \n",
       "2022-01-17                  0               1.000000  \n",
       "\n",
       "[683 rows x 6 columns]"
      ]
     },
     "execution_count": 23,
     "metadata": {},
     "output_type": "execute_result"
    }
   ],
   "source": [
    "bogota['CASOS_ACUMULADOS'] = [(i-bogota['CASOS_ACUMULADOS'] .min())/(bogota['CASOS_ACUMULADOS'] .max()-bogota['CASOS_ACUMULADOS'] .min()) for i in bogota['CASOS_ACUMULADOS']]\n",
    "bogota['RECUPERADOS_ACUMULADOS'] = [(i-bogota['RECUPERADOS_ACUMULADOS'] .min())/(bogota['RECUPERADOS_ACUMULADOS'] .max()-bogota['RECUPERADOS_ACUMULADOS'] .min()) for i in bogota['RECUPERADOS_ACUMULADOS']]\n",
    "bogota['FALLECIDOS_ACUMULADOS'] = [(i-bogota['FALLECIDOS_ACUMULADOS'] .min())/(bogota['FALLECIDOS_ACUMULADOS'] .max()-bogota['FALLECIDOS_ACUMULADOS'] .min()) for i in bogota['FALLECIDOS_ACUMULADOS']]\n",
    "bogota\n",
    "\n"
   ]
  },
  {
   "cell_type": "code",
   "execution_count": 24,
   "metadata": {},
   "outputs": [
    {
     "name": "stderr",
     "output_type": "stream",
     "text": [
      "C:\\Users\\YEISON~1\\AppData\\Local\\Temp/ipykernel_2068/4087917294.py:1: FutureWarning: Indexing a DataFrame with a datetimelike index using a single string to slice the rows, like `frame[string]`, is deprecated and will be removed in a future version. Use `frame.loc[string]` instead.\n",
      "  bogota['2021']\n"
     ]
    },
    {
     "data": {
      "text/html": [
       "<div>\n",
       "<style scoped>\n",
       "    .dataframe tbody tr th:only-of-type {\n",
       "        vertical-align: middle;\n",
       "    }\n",
       "\n",
       "    .dataframe tbody tr th {\n",
       "        vertical-align: top;\n",
       "    }\n",
       "\n",
       "    .dataframe thead th {\n",
       "        text-align: right;\n",
       "    }\n",
       "</style>\n",
       "<table border=\"1\" class=\"dataframe\">\n",
       "  <thead>\n",
       "    <tr style=\"text-align: right;\">\n",
       "      <th></th>\n",
       "      <th>CASO</th>\n",
       "      <th>CASOS_ACUMULADOS</th>\n",
       "      <th>RECUPERADO</th>\n",
       "      <th>RECUPERADOS_ACUMULADOS</th>\n",
       "      <th>FALLECIDOS</th>\n",
       "      <th>FALLECIDOS_ACUMULADOS</th>\n",
       "    </tr>\n",
       "    <tr>\n",
       "      <th>FECHA_DIAGNOSTICO</th>\n",
       "      <th></th>\n",
       "      <th></th>\n",
       "      <th></th>\n",
       "      <th></th>\n",
       "      <th></th>\n",
       "      <th></th>\n",
       "    </tr>\n",
       "  </thead>\n",
       "  <tbody>\n",
       "    <tr>\n",
       "      <th>2021-01-01</th>\n",
       "      <td>1591</td>\n",
       "      <td>0.307965</td>\n",
       "      <td>1535</td>\n",
       "      <td>0.319806</td>\n",
       "      <td>47</td>\n",
       "      <td>0.394578</td>\n",
       "    </tr>\n",
       "    <tr>\n",
       "      <th>2021-01-02</th>\n",
       "      <td>3777</td>\n",
       "      <td>0.310347</td>\n",
       "      <td>3692</td>\n",
       "      <td>0.322293</td>\n",
       "      <td>80</td>\n",
       "      <td>0.397439</td>\n",
       "    </tr>\n",
       "    <tr>\n",
       "      <th>2021-01-03</th>\n",
       "      <td>5666</td>\n",
       "      <td>0.313920</td>\n",
       "      <td>5532</td>\n",
       "      <td>0.326019</td>\n",
       "      <td>121</td>\n",
       "      <td>0.401767</td>\n",
       "    </tr>\n",
       "    <tr>\n",
       "      <th>2021-01-04</th>\n",
       "      <td>4235</td>\n",
       "      <td>0.316591</td>\n",
       "      <td>4113</td>\n",
       "      <td>0.328789</td>\n",
       "      <td>105</td>\n",
       "      <td>0.405522</td>\n",
       "    </tr>\n",
       "    <tr>\n",
       "      <th>2021-01-05</th>\n",
       "      <td>6851</td>\n",
       "      <td>0.320912</td>\n",
       "      <td>6703</td>\n",
       "      <td>0.333303</td>\n",
       "      <td>131</td>\n",
       "      <td>0.410208</td>\n",
       "    </tr>\n",
       "    <tr>\n",
       "      <th>...</th>\n",
       "      <td>...</td>\n",
       "      <td>...</td>\n",
       "      <td>...</td>\n",
       "      <td>...</td>\n",
       "      <td>...</td>\n",
       "      <td>...</td>\n",
       "    </tr>\n",
       "    <tr>\n",
       "      <th>2021-12-27</th>\n",
       "      <td>1595</td>\n",
       "      <td>0.932019</td>\n",
       "      <td>1578</td>\n",
       "      <td>0.972936</td>\n",
       "      <td>3</td>\n",
       "      <td>0.996388</td>\n",
       "    </tr>\n",
       "    <tr>\n",
       "      <th>2021-12-28</th>\n",
       "      <td>2394</td>\n",
       "      <td>0.933529</td>\n",
       "      <td>2381</td>\n",
       "      <td>0.974540</td>\n",
       "      <td>1</td>\n",
       "      <td>0.996423</td>\n",
       "    </tr>\n",
       "    <tr>\n",
       "      <th>2021-12-29</th>\n",
       "      <td>3031</td>\n",
       "      <td>0.935440</td>\n",
       "      <td>3011</td>\n",
       "      <td>0.976567</td>\n",
       "      <td>3</td>\n",
       "      <td>0.996531</td>\n",
       "    </tr>\n",
       "    <tr>\n",
       "      <th>2021-12-30</th>\n",
       "      <td>2805</td>\n",
       "      <td>0.937209</td>\n",
       "      <td>2786</td>\n",
       "      <td>0.978444</td>\n",
       "      <td>3</td>\n",
       "      <td>0.996638</td>\n",
       "    </tr>\n",
       "    <tr>\n",
       "      <th>2021-12-31</th>\n",
       "      <td>2503</td>\n",
       "      <td>0.938788</td>\n",
       "      <td>2488</td>\n",
       "      <td>0.980119</td>\n",
       "      <td>1</td>\n",
       "      <td>0.996674</td>\n",
       "    </tr>\n",
       "  </tbody>\n",
       "</table>\n",
       "<p>365 rows × 6 columns</p>\n",
       "</div>"
      ],
      "text/plain": [
       "                   CASO  CASOS_ACUMULADOS  RECUPERADO  RECUPERADOS_ACUMULADOS  \\\n",
       "FECHA_DIAGNOSTICO                                                               \n",
       "2021-01-01         1591          0.307965        1535                0.319806   \n",
       "2021-01-02         3777          0.310347        3692                0.322293   \n",
       "2021-01-03         5666          0.313920        5532                0.326019   \n",
       "2021-01-04         4235          0.316591        4113                0.328789   \n",
       "2021-01-05         6851          0.320912        6703                0.333303   \n",
       "...                 ...               ...         ...                     ...   \n",
       "2021-12-27         1595          0.932019        1578                0.972936   \n",
       "2021-12-28         2394          0.933529        2381                0.974540   \n",
       "2021-12-29         3031          0.935440        3011                0.976567   \n",
       "2021-12-30         2805          0.937209        2786                0.978444   \n",
       "2021-12-31         2503          0.938788        2488                0.980119   \n",
       "\n",
       "                   FALLECIDOS  FALLECIDOS_ACUMULADOS  \n",
       "FECHA_DIAGNOSTICO                                     \n",
       "2021-01-01                 47               0.394578  \n",
       "2021-01-02                 80               0.397439  \n",
       "2021-01-03                121               0.401767  \n",
       "2021-01-04                105               0.405522  \n",
       "2021-01-05                131               0.410208  \n",
       "...                       ...                    ...  \n",
       "2021-12-27                  3               0.996388  \n",
       "2021-12-28                  1               0.996423  \n",
       "2021-12-29                  3               0.996531  \n",
       "2021-12-30                  3               0.996638  \n",
       "2021-12-31                  1               0.996674  \n",
       "\n",
       "[365 rows x 6 columns]"
      ]
     },
     "execution_count": 24,
     "metadata": {},
     "output_type": "execute_result"
    }
   ],
   "source": [
    "bogota['2021']"
   ]
  },
  {
   "cell_type": "code",
   "execution_count": 25,
   "metadata": {},
   "outputs": [],
   "source": [
    "import numpy as np"
   ]
  },
  {
   "cell_type": "code",
   "execution_count": 26,
   "metadata": {},
   "outputs": [],
   "source": [
    "def df_to_X_y(df, window_size=5):\n",
    "    df_as_np = df.to_numpy()\n",
    "    X = []\n",
    "    y = []\n",
    "    for i in range(len(df_as_np)-window_size):\n",
    "        row = [[a] for a in df_as_np[i:i+5]]\n",
    "        X.append(row)\n",
    "        label = df_as_np[i+5]\n",
    "        y.append(label)\n",
    "    return np.array(X), np.array(y)    \n"
   ]
  },
  {
   "cell_type": "code",
   "execution_count": 27,
   "metadata": {},
   "outputs": [
    {
     "data": {
      "text/plain": [
       "((653, 5, 1), (653,))"
      ]
     },
     "execution_count": 27,
     "metadata": {},
     "output_type": "execute_result"
    }
   ],
   "source": [
    "WINDOW_SIZE = 30\n",
    "X, y = df_to_X_y(bogota['CASOS_ACUMULADOS'], WINDOW_SIZE)\n",
    "X.shape, y.shape"
   ]
  },
  {
   "cell_type": "code",
   "execution_count": 28,
   "metadata": {},
   "outputs": [],
   "source": [
    "X_train, y_train = X[:189], y[:189]\n",
    "X_val, y_val = X[189:189+14], y[189:189+14]\n",
    "X_test, y_test = X[189+14:189+14+60], y[189+14:189+14+60]"
   ]
  },
  {
   "cell_type": "code",
   "execution_count": 29,
   "metadata": {},
   "outputs": [],
   "source": [
    "from tensorflow.keras.models import Sequential\n",
    "from tensorflow.keras.layers import *\n",
    "from tensorflow.keras.callbacks import ModelCheckpoint\n",
    "from tensorflow.keras.losses import MeanSquaredError\n",
    "from tensorflow.keras.metrics import RootMeanSquaredError\n",
    "from tensorflow.keras.optimizers import Adam "
   ]
  },
  {
   "cell_type": "code",
   "execution_count": 30,
   "metadata": {},
   "outputs": [
    {
     "name": "stdout",
     "output_type": "stream",
     "text": [
      "Model: \"sequential\"\n",
      "_________________________________________________________________\n",
      " Layer (type)                Output Shape              Param #   \n",
      "=================================================================\n",
      " lstm (LSTM)                 (None, 5, 300)            362400    \n",
      "                                                                 \n",
      " lstm_1 (LSTM)               (None, 300)               721200    \n",
      "                                                                 \n",
      " dense (Dense)               (None, 1)                 301       \n",
      "                                                                 \n",
      "=================================================================\n",
      "Total params: 1,083,901\n",
      "Trainable params: 1,083,901\n",
      "Non-trainable params: 0\n",
      "_________________________________________________________________\n"
     ]
    }
   ],
   "source": [
    "model1 = Sequential()\n",
    "model1.add(InputLayer((5,1)))\n",
    "model1.add(LSTM(300,return_sequences=True))\n",
    "model1.add(LSTM(300))\n",
    "model1.add(Dense(1,'linear'))\n",
    "\n",
    "model1.summary()"
   ]
  },
  {
   "cell_type": "code",
   "execution_count": 31,
   "metadata": {},
   "outputs": [],
   "source": [
    "cp = ModelCheckpoint('model1/', save_best_only=True)\n",
    "model1.compile(loss=MeanSquaredError(), optimizer=Adam(learning_rate=0.00001), metrics=[RootMeanSquaredError()])"
   ]
  },
  {
   "cell_type": "code",
   "execution_count": 32,
   "metadata": {},
   "outputs": [
    {
     "name": "stdout",
     "output_type": "stream",
     "text": [
      "Epoch 1/100\n",
      "5/6 [========================>.....] - ETA: 0s - loss: 0.0044 - root_mean_squared_error: 0.0662INFO:tensorflow:Assets written to: model1\\assets\n"
     ]
    },
    {
     "name": "stderr",
     "output_type": "stream",
     "text": [
      "INFO:tensorflow:Assets written to: model1\\assets\n"
     ]
    },
    {
     "name": "stdout",
     "output_type": "stream",
     "text": [
      "6/6 [==============================] - 14s 2s/step - loss: 0.0041 - root_mean_squared_error: 0.0641 - val_loss: 0.0278 - val_root_mean_squared_error: 0.1668\n",
      "Epoch 2/100\n",
      "6/6 [==============================] - ETA: 0s - loss: 0.0040 - root_mean_squared_error: 0.0629INFO:tensorflow:Assets written to: model1\\assets\n"
     ]
    },
    {
     "name": "stderr",
     "output_type": "stream",
     "text": [
      "INFO:tensorflow:Assets written to: model1\\assets\n"
     ]
    },
    {
     "name": "stdout",
     "output_type": "stream",
     "text": [
      "6/6 [==============================] - 14s 3s/step - loss: 0.0040 - root_mean_squared_error: 0.0629 - val_loss: 0.0270 - val_root_mean_squared_error: 0.1643\n",
      "Epoch 3/100\n",
      "6/6 [==============================] - ETA: 0s - loss: 0.0038 - root_mean_squared_error: 0.0617INFO:tensorflow:Assets written to: model1\\assets\n"
     ]
    },
    {
     "name": "stderr",
     "output_type": "stream",
     "text": [
      "INFO:tensorflow:Assets written to: model1\\assets\n"
     ]
    },
    {
     "name": "stdout",
     "output_type": "stream",
     "text": [
      "6/6 [==============================] - 12s 2s/step - loss: 0.0038 - root_mean_squared_error: 0.0617 - val_loss: 0.0262 - val_root_mean_squared_error: 0.1619\n",
      "Epoch 4/100\n",
      "6/6 [==============================] - ETA: 0s - loss: 0.0037 - root_mean_squared_error: 0.0606INFO:tensorflow:Assets written to: model1\\assets\n"
     ]
    },
    {
     "name": "stderr",
     "output_type": "stream",
     "text": [
      "INFO:tensorflow:Assets written to: model1\\assets\n"
     ]
    },
    {
     "name": "stdout",
     "output_type": "stream",
     "text": [
      "6/6 [==============================] - 13s 3s/step - loss: 0.0037 - root_mean_squared_error: 0.0606 - val_loss: 0.0254 - val_root_mean_squared_error: 0.1594\n",
      "Epoch 5/100\n",
      "6/6 [==============================] - ETA: 0s - loss: 0.0035 - root_mean_squared_error: 0.0594INFO:tensorflow:Assets written to: model1\\assets\n"
     ]
    },
    {
     "name": "stderr",
     "output_type": "stream",
     "text": [
      "INFO:tensorflow:Assets written to: model1\\assets\n"
     ]
    },
    {
     "name": "stdout",
     "output_type": "stream",
     "text": [
      "6/6 [==============================] - 13s 3s/step - loss: 0.0035 - root_mean_squared_error: 0.0594 - val_loss: 0.0246 - val_root_mean_squared_error: 0.1570\n",
      "Epoch 6/100\n",
      "6/6 [==============================] - ETA: 0s - loss: 0.0034 - root_mean_squared_error: 0.0584INFO:tensorflow:Assets written to: model1\\assets\n"
     ]
    },
    {
     "name": "stderr",
     "output_type": "stream",
     "text": [
      "INFO:tensorflow:Assets written to: model1\\assets\n"
     ]
    },
    {
     "name": "stdout",
     "output_type": "stream",
     "text": [
      "6/6 [==============================] - 13s 3s/step - loss: 0.0034 - root_mean_squared_error: 0.0584 - val_loss: 0.0239 - val_root_mean_squared_error: 0.1545\n",
      "Epoch 7/100\n",
      "6/6 [==============================] - ETA: 0s - loss: 0.0033 - root_mean_squared_error: 0.0572INFO:tensorflow:Assets written to: model1\\assets\n"
     ]
    },
    {
     "name": "stderr",
     "output_type": "stream",
     "text": [
      "INFO:tensorflow:Assets written to: model1\\assets\n"
     ]
    },
    {
     "name": "stdout",
     "output_type": "stream",
     "text": [
      "6/6 [==============================] - 13s 3s/step - loss: 0.0033 - root_mean_squared_error: 0.0572 - val_loss: 0.0232 - val_root_mean_squared_error: 0.1522\n",
      "Epoch 8/100\n",
      "6/6 [==============================] - ETA: 0s - loss: 0.0032 - root_mean_squared_error: 0.0562INFO:tensorflow:Assets written to: model1\\assets\n"
     ]
    },
    {
     "name": "stderr",
     "output_type": "stream",
     "text": [
      "INFO:tensorflow:Assets written to: model1\\assets\n"
     ]
    },
    {
     "name": "stdout",
     "output_type": "stream",
     "text": [
      "6/6 [==============================] - 14s 3s/step - loss: 0.0032 - root_mean_squared_error: 0.0562 - val_loss: 0.0224 - val_root_mean_squared_error: 0.1498\n",
      "Epoch 9/100\n",
      "6/6 [==============================] - ETA: 0s - loss: 0.0031 - root_mean_squared_error: 0.0552INFO:tensorflow:Assets written to: model1\\assets\n"
     ]
    },
    {
     "name": "stderr",
     "output_type": "stream",
     "text": [
      "INFO:tensorflow:Assets written to: model1\\assets\n"
     ]
    },
    {
     "name": "stdout",
     "output_type": "stream",
     "text": [
      "6/6 [==============================] - 14s 3s/step - loss: 0.0031 - root_mean_squared_error: 0.0552 - val_loss: 0.0217 - val_root_mean_squared_error: 0.1473\n",
      "Epoch 10/100\n",
      "6/6 [==============================] - ETA: 0s - loss: 0.0029 - root_mean_squared_error: 0.0542INFO:tensorflow:Assets written to: model1\\assets\n"
     ]
    },
    {
     "name": "stderr",
     "output_type": "stream",
     "text": [
      "INFO:tensorflow:Assets written to: model1\\assets\n"
     ]
    },
    {
     "name": "stdout",
     "output_type": "stream",
     "text": [
      "6/6 [==============================] - 15s 3s/step - loss: 0.0029 - root_mean_squared_error: 0.0542 - val_loss: 0.0210 - val_root_mean_squared_error: 0.1450\n",
      "Epoch 11/100\n",
      "6/6 [==============================] - ETA: 0s - loss: 0.0028 - root_mean_squared_error: 0.0532INFO:tensorflow:Assets written to: model1\\assets\n"
     ]
    },
    {
     "name": "stderr",
     "output_type": "stream",
     "text": [
      "INFO:tensorflow:Assets written to: model1\\assets\n"
     ]
    },
    {
     "name": "stdout",
     "output_type": "stream",
     "text": [
      "6/6 [==============================] - 13s 3s/step - loss: 0.0028 - root_mean_squared_error: 0.0532 - val_loss: 0.0203 - val_root_mean_squared_error: 0.1426\n",
      "Epoch 12/100\n",
      "6/6 [==============================] - ETA: 0s - loss: 0.0027 - root_mean_squared_error: 0.0523INFO:tensorflow:Assets written to: model1\\assets\n"
     ]
    },
    {
     "name": "stderr",
     "output_type": "stream",
     "text": [
      "INFO:tensorflow:Assets written to: model1\\assets\n"
     ]
    },
    {
     "name": "stdout",
     "output_type": "stream",
     "text": [
      "6/6 [==============================] - 12s 2s/step - loss: 0.0027 - root_mean_squared_error: 0.0523 - val_loss: 0.0197 - val_root_mean_squared_error: 0.1402\n",
      "Epoch 13/100\n",
      "6/6 [==============================] - ETA: 0s - loss: 0.0026 - root_mean_squared_error: 0.0513INFO:tensorflow:Assets written to: model1\\assets\n"
     ]
    },
    {
     "name": "stderr",
     "output_type": "stream",
     "text": [
      "INFO:tensorflow:Assets written to: model1\\assets\n"
     ]
    },
    {
     "name": "stdout",
     "output_type": "stream",
     "text": [
      "6/6 [==============================] - 13s 3s/step - loss: 0.0026 - root_mean_squared_error: 0.0513 - val_loss: 0.0190 - val_root_mean_squared_error: 0.1378\n",
      "Epoch 14/100\n",
      "6/6 [==============================] - ETA: 0s - loss: 0.0025 - root_mean_squared_error: 0.0504INFO:tensorflow:Assets written to: model1\\assets\n"
     ]
    },
    {
     "name": "stderr",
     "output_type": "stream",
     "text": [
      "INFO:tensorflow:Assets written to: model1\\assets\n"
     ]
    },
    {
     "name": "stdout",
     "output_type": "stream",
     "text": [
      "6/6 [==============================] - 12s 2s/step - loss: 0.0025 - root_mean_squared_error: 0.0504 - val_loss: 0.0184 - val_root_mean_squared_error: 0.1356\n",
      "Epoch 15/100\n",
      "6/6 [==============================] - ETA: 0s - loss: 0.0025 - root_mean_squared_error: 0.0496INFO:tensorflow:Assets written to: model1\\assets\n"
     ]
    },
    {
     "name": "stderr",
     "output_type": "stream",
     "text": [
      "INFO:tensorflow:Assets written to: model1\\assets\n"
     ]
    },
    {
     "name": "stdout",
     "output_type": "stream",
     "text": [
      "6/6 [==============================] - 13s 3s/step - loss: 0.0025 - root_mean_squared_error: 0.0496 - val_loss: 0.0177 - val_root_mean_squared_error: 0.1332\n",
      "Epoch 16/100\n",
      "6/6 [==============================] - ETA: 0s - loss: 0.0024 - root_mean_squared_error: 0.0488INFO:tensorflow:Assets written to: model1\\assets\n"
     ]
    },
    {
     "name": "stderr",
     "output_type": "stream",
     "text": [
      "INFO:tensorflow:Assets written to: model1\\assets\n"
     ]
    },
    {
     "name": "stdout",
     "output_type": "stream",
     "text": [
      "6/6 [==============================] - 13s 3s/step - loss: 0.0024 - root_mean_squared_error: 0.0488 - val_loss: 0.0171 - val_root_mean_squared_error: 0.1308\n",
      "Epoch 17/100\n",
      "6/6 [==============================] - ETA: 0s - loss: 0.0023 - root_mean_squared_error: 0.0479INFO:tensorflow:Assets written to: model1\\assets\n"
     ]
    },
    {
     "name": "stderr",
     "output_type": "stream",
     "text": [
      "INFO:tensorflow:Assets written to: model1\\assets\n"
     ]
    },
    {
     "name": "stdout",
     "output_type": "stream",
     "text": [
      "6/6 [==============================] - 13s 3s/step - loss: 0.0023 - root_mean_squared_error: 0.0479 - val_loss: 0.0165 - val_root_mean_squared_error: 0.1285\n",
      "Epoch 18/100\n",
      "6/6 [==============================] - ETA: 0s - loss: 0.0022 - root_mean_squared_error: 0.0472INFO:tensorflow:Assets written to: model1\\assets\n"
     ]
    },
    {
     "name": "stderr",
     "output_type": "stream",
     "text": [
      "INFO:tensorflow:Assets written to: model1\\assets\n"
     ]
    },
    {
     "name": "stdout",
     "output_type": "stream",
     "text": [
      "6/6 [==============================] - 14s 3s/step - loss: 0.0022 - root_mean_squared_error: 0.0472 - val_loss: 0.0159 - val_root_mean_squared_error: 0.1262\n",
      "Epoch 19/100\n",
      "6/6 [==============================] - ETA: 0s - loss: 0.0022 - root_mean_squared_error: 0.0464INFO:tensorflow:Assets written to: model1\\assets\n"
     ]
    },
    {
     "name": "stderr",
     "output_type": "stream",
     "text": [
      "INFO:tensorflow:Assets written to: model1\\assets\n"
     ]
    },
    {
     "name": "stdout",
     "output_type": "stream",
     "text": [
      "6/6 [==============================] - 14s 3s/step - loss: 0.0022 - root_mean_squared_error: 0.0464 - val_loss: 0.0154 - val_root_mean_squared_error: 0.1240\n",
      "Epoch 20/100\n",
      "6/6 [==============================] - ETA: 0s - loss: 0.0021 - root_mean_squared_error: 0.0458INFO:tensorflow:Assets written to: model1\\assets\n"
     ]
    },
    {
     "name": "stderr",
     "output_type": "stream",
     "text": [
      "INFO:tensorflow:Assets written to: model1\\assets\n"
     ]
    },
    {
     "name": "stdout",
     "output_type": "stream",
     "text": [
      "6/6 [==============================] - 12s 2s/step - loss: 0.0021 - root_mean_squared_error: 0.0458 - val_loss: 0.0148 - val_root_mean_squared_error: 0.1217\n",
      "Epoch 21/100\n",
      "6/6 [==============================] - ETA: 0s - loss: 0.0020 - root_mean_squared_error: 0.0451INFO:tensorflow:Assets written to: model1\\assets\n"
     ]
    },
    {
     "name": "stderr",
     "output_type": "stream",
     "text": [
      "INFO:tensorflow:Assets written to: model1\\assets\n"
     ]
    },
    {
     "name": "stdout",
     "output_type": "stream",
     "text": [
      "6/6 [==============================] - 13s 2s/step - loss: 0.0020 - root_mean_squared_error: 0.0451 - val_loss: 0.0143 - val_root_mean_squared_error: 0.1194\n",
      "Epoch 22/100\n",
      "6/6 [==============================] - ETA: 0s - loss: 0.0020 - root_mean_squared_error: 0.0444INFO:tensorflow:Assets written to: model1\\assets\n"
     ]
    },
    {
     "name": "stderr",
     "output_type": "stream",
     "text": [
      "INFO:tensorflow:Assets written to: model1\\assets\n"
     ]
    },
    {
     "name": "stdout",
     "output_type": "stream",
     "text": [
      "6/6 [==============================] - 13s 3s/step - loss: 0.0020 - root_mean_squared_error: 0.0444 - val_loss: 0.0138 - val_root_mean_squared_error: 0.1173\n",
      "Epoch 23/100\n",
      "6/6 [==============================] - ETA: 0s - loss: 0.0019 - root_mean_squared_error: 0.0439INFO:tensorflow:Assets written to: model1\\assets\n"
     ]
    },
    {
     "name": "stderr",
     "output_type": "stream",
     "text": [
      "INFO:tensorflow:Assets written to: model1\\assets\n"
     ]
    },
    {
     "name": "stdout",
     "output_type": "stream",
     "text": [
      "6/6 [==============================] - 13s 3s/step - loss: 0.0019 - root_mean_squared_error: 0.0439 - val_loss: 0.0132 - val_root_mean_squared_error: 0.1151\n",
      "Epoch 24/100\n",
      "6/6 [==============================] - ETA: 0s - loss: 0.0019 - root_mean_squared_error: 0.0433INFO:tensorflow:Assets written to: model1\\assets\n"
     ]
    },
    {
     "name": "stderr",
     "output_type": "stream",
     "text": [
      "INFO:tensorflow:Assets written to: model1\\assets\n"
     ]
    },
    {
     "name": "stdout",
     "output_type": "stream",
     "text": [
      "6/6 [==============================] - 13s 2s/step - loss: 0.0019 - root_mean_squared_error: 0.0433 - val_loss: 0.0128 - val_root_mean_squared_error: 0.1130\n",
      "Epoch 25/100\n",
      "6/6 [==============================] - ETA: 0s - loss: 0.0018 - root_mean_squared_error: 0.0427INFO:tensorflow:Assets written to: model1\\assets\n"
     ]
    },
    {
     "name": "stderr",
     "output_type": "stream",
     "text": [
      "INFO:tensorflow:Assets written to: model1\\assets\n"
     ]
    },
    {
     "name": "stdout",
     "output_type": "stream",
     "text": [
      "6/6 [==============================] - 13s 3s/step - loss: 0.0018 - root_mean_squared_error: 0.0427 - val_loss: 0.0123 - val_root_mean_squared_error: 0.1110\n",
      "Epoch 26/100\n",
      "6/6 [==============================] - ETA: 0s - loss: 0.0018 - root_mean_squared_error: 0.0422INFO:tensorflow:Assets written to: model1\\assets\n"
     ]
    },
    {
     "name": "stderr",
     "output_type": "stream",
     "text": [
      "INFO:tensorflow:Assets written to: model1\\assets\n"
     ]
    },
    {
     "name": "stdout",
     "output_type": "stream",
     "text": [
      "6/6 [==============================] - 13s 3s/step - loss: 0.0018 - root_mean_squared_error: 0.0422 - val_loss: 0.0119 - val_root_mean_squared_error: 0.1091\n",
      "Epoch 27/100\n",
      "6/6 [==============================] - ETA: 0s - loss: 0.0018 - root_mean_squared_error: 0.0418INFO:tensorflow:Assets written to: model1\\assets\n"
     ]
    },
    {
     "name": "stderr",
     "output_type": "stream",
     "text": [
      "INFO:tensorflow:Assets written to: model1\\assets\n"
     ]
    },
    {
     "name": "stdout",
     "output_type": "stream",
     "text": [
      "6/6 [==============================] - 13s 3s/step - loss: 0.0018 - root_mean_squared_error: 0.0418 - val_loss: 0.0114 - val_root_mean_squared_error: 0.1070\n",
      "Epoch 28/100\n",
      "6/6 [==============================] - ETA: 0s - loss: 0.0017 - root_mean_squared_error: 0.0413INFO:tensorflow:Assets written to: model1\\assets\n"
     ]
    },
    {
     "name": "stderr",
     "output_type": "stream",
     "text": [
      "INFO:tensorflow:Assets written to: model1\\assets\n"
     ]
    },
    {
     "name": "stdout",
     "output_type": "stream",
     "text": [
      "6/6 [==============================] - 14s 3s/step - loss: 0.0017 - root_mean_squared_error: 0.0413 - val_loss: 0.0111 - val_root_mean_squared_error: 0.1052\n",
      "Epoch 29/100\n",
      "6/6 [==============================] - ETA: 0s - loss: 0.0017 - root_mean_squared_error: 0.0409INFO:tensorflow:Assets written to: model1\\assets\n"
     ]
    },
    {
     "name": "stderr",
     "output_type": "stream",
     "text": [
      "INFO:tensorflow:Assets written to: model1\\assets\n"
     ]
    },
    {
     "name": "stdout",
     "output_type": "stream",
     "text": [
      "6/6 [==============================] - 13s 3s/step - loss: 0.0017 - root_mean_squared_error: 0.0409 - val_loss: 0.0107 - val_root_mean_squared_error: 0.1034\n",
      "Epoch 30/100\n",
      "6/6 [==============================] - ETA: 0s - loss: 0.0016 - root_mean_squared_error: 0.0405INFO:tensorflow:Assets written to: model1\\assets\n"
     ]
    },
    {
     "name": "stderr",
     "output_type": "stream",
     "text": [
      "INFO:tensorflow:Assets written to: model1\\assets\n"
     ]
    },
    {
     "name": "stdout",
     "output_type": "stream",
     "text": [
      "6/6 [==============================] - 12s 2s/step - loss: 0.0016 - root_mean_squared_error: 0.0405 - val_loss: 0.0104 - val_root_mean_squared_error: 0.1017\n",
      "Epoch 31/100\n",
      "6/6 [==============================] - ETA: 0s - loss: 0.0016 - root_mean_squared_error: 0.0401INFO:tensorflow:Assets written to: model1\\assets\n"
     ]
    },
    {
     "name": "stderr",
     "output_type": "stream",
     "text": [
      "INFO:tensorflow:Assets written to: model1\\assets\n"
     ]
    },
    {
     "name": "stdout",
     "output_type": "stream",
     "text": [
      "6/6 [==============================] - 12s 2s/step - loss: 0.0016 - root_mean_squared_error: 0.0401 - val_loss: 0.0100 - val_root_mean_squared_error: 0.1002\n",
      "Epoch 32/100\n",
      "6/6 [==============================] - ETA: 0s - loss: 0.0016 - root_mean_squared_error: 0.0397INFO:tensorflow:Assets written to: model1\\assets\n"
     ]
    },
    {
     "name": "stderr",
     "output_type": "stream",
     "text": [
      "INFO:tensorflow:Assets written to: model1\\assets\n"
     ]
    },
    {
     "name": "stdout",
     "output_type": "stream",
     "text": [
      "6/6 [==============================] - 13s 3s/step - loss: 0.0016 - root_mean_squared_error: 0.0397 - val_loss: 0.0097 - val_root_mean_squared_error: 0.0985\n",
      "Epoch 33/100\n",
      "6/6 [==============================] - ETA: 0s - loss: 0.0015 - root_mean_squared_error: 0.0393INFO:tensorflow:Assets written to: model1\\assets\n"
     ]
    },
    {
     "name": "stderr",
     "output_type": "stream",
     "text": [
      "INFO:tensorflow:Assets written to: model1\\assets\n"
     ]
    },
    {
     "name": "stdout",
     "output_type": "stream",
     "text": [
      "6/6 [==============================] - 13s 3s/step - loss: 0.0015 - root_mean_squared_error: 0.0393 - val_loss: 0.0094 - val_root_mean_squared_error: 0.0969\n",
      "Epoch 34/100\n",
      "6/6 [==============================] - ETA: 0s - loss: 0.0015 - root_mean_squared_error: 0.0389INFO:tensorflow:Assets written to: model1\\assets\n"
     ]
    },
    {
     "name": "stderr",
     "output_type": "stream",
     "text": [
      "INFO:tensorflow:Assets written to: model1\\assets\n"
     ]
    },
    {
     "name": "stdout",
     "output_type": "stream",
     "text": [
      "6/6 [==============================] - 13s 3s/step - loss: 0.0015 - root_mean_squared_error: 0.0389 - val_loss: 0.0091 - val_root_mean_squared_error: 0.0954\n",
      "Epoch 35/100\n",
      "6/6 [==============================] - ETA: 0s - loss: 0.0015 - root_mean_squared_error: 0.0385INFO:tensorflow:Assets written to: model1\\assets\n"
     ]
    },
    {
     "name": "stderr",
     "output_type": "stream",
     "text": [
      "INFO:tensorflow:Assets written to: model1\\assets\n"
     ]
    },
    {
     "name": "stdout",
     "output_type": "stream",
     "text": [
      "6/6 [==============================] - 13s 3s/step - loss: 0.0015 - root_mean_squared_error: 0.0385 - val_loss: 0.0088 - val_root_mean_squared_error: 0.0940\n",
      "Epoch 36/100\n",
      "6/6 [==============================] - ETA: 0s - loss: 0.0015 - root_mean_squared_error: 0.0382INFO:tensorflow:Assets written to: model1\\assets\n"
     ]
    },
    {
     "name": "stderr",
     "output_type": "stream",
     "text": [
      "INFO:tensorflow:Assets written to: model1\\assets\n"
     ]
    },
    {
     "name": "stdout",
     "output_type": "stream",
     "text": [
      "6/6 [==============================] - 14s 3s/step - loss: 0.0015 - root_mean_squared_error: 0.0382 - val_loss: 0.0086 - val_root_mean_squared_error: 0.0927\n",
      "Epoch 37/100\n",
      "6/6 [==============================] - ETA: 0s - loss: 0.0014 - root_mean_squared_error: 0.0378INFO:tensorflow:Assets written to: model1\\assets\n"
     ]
    },
    {
     "name": "stderr",
     "output_type": "stream",
     "text": [
      "INFO:tensorflow:Assets written to: model1\\assets\n"
     ]
    },
    {
     "name": "stdout",
     "output_type": "stream",
     "text": [
      "6/6 [==============================] - 16s 3s/step - loss: 0.0014 - root_mean_squared_error: 0.0378 - val_loss: 0.0083 - val_root_mean_squared_error: 0.0913\n",
      "Epoch 38/100\n",
      "6/6 [==============================] - ETA: 0s - loss: 0.0014 - root_mean_squared_error: 0.0375INFO:tensorflow:Assets written to: model1\\assets\n"
     ]
    },
    {
     "name": "stderr",
     "output_type": "stream",
     "text": [
      "INFO:tensorflow:Assets written to: model1\\assets\n"
     ]
    },
    {
     "name": "stdout",
     "output_type": "stream",
     "text": [
      "6/6 [==============================] - 14s 3s/step - loss: 0.0014 - root_mean_squared_error: 0.0375 - val_loss: 0.0081 - val_root_mean_squared_error: 0.0900\n",
      "Epoch 39/100\n",
      "6/6 [==============================] - ETA: 0s - loss: 0.0014 - root_mean_squared_error: 0.0371INFO:tensorflow:Assets written to: model1\\assets\n"
     ]
    },
    {
     "name": "stderr",
     "output_type": "stream",
     "text": [
      "INFO:tensorflow:Assets written to: model1\\assets\n"
     ]
    },
    {
     "name": "stdout",
     "output_type": "stream",
     "text": [
      "6/6 [==============================] - 12s 2s/step - loss: 0.0014 - root_mean_squared_error: 0.0371 - val_loss: 0.0079 - val_root_mean_squared_error: 0.0889\n",
      "Epoch 40/100\n",
      "6/6 [==============================] - ETA: 0s - loss: 0.0013 - root_mean_squared_error: 0.0367INFO:tensorflow:Assets written to: model1\\assets\n"
     ]
    },
    {
     "name": "stderr",
     "output_type": "stream",
     "text": [
      "INFO:tensorflow:Assets written to: model1\\assets\n"
     ]
    },
    {
     "name": "stdout",
     "output_type": "stream",
     "text": [
      "6/6 [==============================] - 14s 3s/step - loss: 0.0013 - root_mean_squared_error: 0.0367 - val_loss: 0.0076 - val_root_mean_squared_error: 0.0875\n",
      "Epoch 41/100\n",
      "6/6 [==============================] - ETA: 0s - loss: 0.0013 - root_mean_squared_error: 0.0363INFO:tensorflow:Assets written to: model1\\assets\n"
     ]
    },
    {
     "name": "stderr",
     "output_type": "stream",
     "text": [
      "INFO:tensorflow:Assets written to: model1\\assets\n"
     ]
    },
    {
     "name": "stdout",
     "output_type": "stream",
     "text": [
      "6/6 [==============================] - 11s 2s/step - loss: 0.0013 - root_mean_squared_error: 0.0363 - val_loss: 0.0075 - val_root_mean_squared_error: 0.0865\n",
      "Epoch 42/100\n",
      "6/6 [==============================] - ETA: 0s - loss: 0.0013 - root_mean_squared_error: 0.0359INFO:tensorflow:Assets written to: model1\\assets\n"
     ]
    },
    {
     "name": "stderr",
     "output_type": "stream",
     "text": [
      "INFO:tensorflow:Assets written to: model1\\assets\n"
     ]
    },
    {
     "name": "stdout",
     "output_type": "stream",
     "text": [
      "6/6 [==============================] - 11s 2s/step - loss: 0.0013 - root_mean_squared_error: 0.0359 - val_loss: 0.0073 - val_root_mean_squared_error: 0.0853\n",
      "Epoch 43/100\n",
      "6/6 [==============================] - ETA: 0s - loss: 0.0013 - root_mean_squared_error: 0.0355INFO:tensorflow:Assets written to: model1\\assets\n"
     ]
    },
    {
     "name": "stderr",
     "output_type": "stream",
     "text": [
      "INFO:tensorflow:Assets written to: model1\\assets\n"
     ]
    },
    {
     "name": "stdout",
     "output_type": "stream",
     "text": [
      "6/6 [==============================] - 12s 2s/step - loss: 0.0013 - root_mean_squared_error: 0.0355 - val_loss: 0.0071 - val_root_mean_squared_error: 0.0841\n",
      "Epoch 44/100\n",
      "6/6 [==============================] - ETA: 0s - loss: 0.0012 - root_mean_squared_error: 0.0351INFO:tensorflow:Assets written to: model1\\assets\n"
     ]
    },
    {
     "name": "stderr",
     "output_type": "stream",
     "text": [
      "INFO:tensorflow:Assets written to: model1\\assets\n"
     ]
    },
    {
     "name": "stdout",
     "output_type": "stream",
     "text": [
      "6/6 [==============================] - 12s 2s/step - loss: 0.0012 - root_mean_squared_error: 0.0351 - val_loss: 0.0069 - val_root_mean_squared_error: 0.0830\n",
      "Epoch 45/100\n",
      "6/6 [==============================] - ETA: 0s - loss: 0.0012 - root_mean_squared_error: 0.0347INFO:tensorflow:Assets written to: model1\\assets\n"
     ]
    },
    {
     "name": "stderr",
     "output_type": "stream",
     "text": [
      "INFO:tensorflow:Assets written to: model1\\assets\n"
     ]
    },
    {
     "name": "stdout",
     "output_type": "stream",
     "text": [
      "6/6 [==============================] - 11s 2s/step - loss: 0.0012 - root_mean_squared_error: 0.0347 - val_loss: 0.0067 - val_root_mean_squared_error: 0.0819\n",
      "Epoch 46/100\n",
      "6/6 [==============================] - ETA: 0s - loss: 0.0012 - root_mean_squared_error: 0.0342 INFO:tensorflow:Assets written to: model1\\assets\n"
     ]
    },
    {
     "name": "stderr",
     "output_type": "stream",
     "text": [
      "INFO:tensorflow:Assets written to: model1\\assets\n"
     ]
    },
    {
     "name": "stdout",
     "output_type": "stream",
     "text": [
      "6/6 [==============================] - 14s 3s/step - loss: 0.0012 - root_mean_squared_error: 0.0342 - val_loss: 0.0065 - val_root_mean_squared_error: 0.0809\n",
      "Epoch 47/100\n",
      "6/6 [==============================] - ETA: 0s - loss: 0.0011 - root_mean_squared_error: 0.0338INFO:tensorflow:Assets written to: model1\\assets\n"
     ]
    },
    {
     "name": "stderr",
     "output_type": "stream",
     "text": [
      "INFO:tensorflow:Assets written to: model1\\assets\n"
     ]
    },
    {
     "name": "stdout",
     "output_type": "stream",
     "text": [
      "6/6 [==============================] - 15s 3s/step - loss: 0.0011 - root_mean_squared_error: 0.0338 - val_loss: 0.0063 - val_root_mean_squared_error: 0.0796\n",
      "Epoch 48/100\n",
      "6/6 [==============================] - ETA: 0s - loss: 0.0011 - root_mean_squared_error: 0.0334INFO:tensorflow:Assets written to: model1\\assets\n"
     ]
    },
    {
     "name": "stderr",
     "output_type": "stream",
     "text": [
      "INFO:tensorflow:Assets written to: model1\\assets\n"
     ]
    },
    {
     "name": "stdout",
     "output_type": "stream",
     "text": [
      "6/6 [==============================] - 10s 2s/step - loss: 0.0011 - root_mean_squared_error: 0.0334 - val_loss: 0.0061 - val_root_mean_squared_error: 0.0783\n",
      "Epoch 49/100\n",
      "6/6 [==============================] - ETA: 0s - loss: 0.0011 - root_mean_squared_error: 0.0329INFO:tensorflow:Assets written to: model1\\assets\n"
     ]
    },
    {
     "name": "stderr",
     "output_type": "stream",
     "text": [
      "INFO:tensorflow:Assets written to: model1\\assets\n"
     ]
    },
    {
     "name": "stdout",
     "output_type": "stream",
     "text": [
      "6/6 [==============================] - 12s 2s/step - loss: 0.0011 - root_mean_squared_error: 0.0329 - val_loss: 0.0059 - val_root_mean_squared_error: 0.0771\n",
      "Epoch 50/100\n",
      "6/6 [==============================] - ETA: 0s - loss: 0.0011 - root_mean_squared_error: 0.0324INFO:tensorflow:Assets written to: model1\\assets\n"
     ]
    },
    {
     "name": "stderr",
     "output_type": "stream",
     "text": [
      "INFO:tensorflow:Assets written to: model1\\assets\n"
     ]
    },
    {
     "name": "stdout",
     "output_type": "stream",
     "text": [
      "6/6 [==============================] - 11s 2s/step - loss: 0.0011 - root_mean_squared_error: 0.0324 - val_loss: 0.0058 - val_root_mean_squared_error: 0.0760\n",
      "Epoch 51/100\n",
      "6/6 [==============================] - ETA: 0s - loss: 0.0010 - root_mean_squared_error: 0.0320INFO:tensorflow:Assets written to: model1\\assets\n"
     ]
    },
    {
     "name": "stderr",
     "output_type": "stream",
     "text": [
      "INFO:tensorflow:Assets written to: model1\\assets\n"
     ]
    },
    {
     "name": "stdout",
     "output_type": "stream",
     "text": [
      "6/6 [==============================] - 12s 2s/step - loss: 0.0010 - root_mean_squared_error: 0.0320 - val_loss: 0.0056 - val_root_mean_squared_error: 0.0748\n",
      "Epoch 52/100\n",
      "6/6 [==============================] - ETA: 0s - loss: 9.9117e-04 - root_mean_squared_error: 0.0315INFO:tensorflow:Assets written to: model1\\assets\n"
     ]
    },
    {
     "name": "stderr",
     "output_type": "stream",
     "text": [
      "INFO:tensorflow:Assets written to: model1\\assets\n"
     ]
    },
    {
     "name": "stdout",
     "output_type": "stream",
     "text": [
      "6/6 [==============================] - 10s 2s/step - loss: 9.9117e-04 - root_mean_squared_error: 0.0315 - val_loss: 0.0054 - val_root_mean_squared_error: 0.0735\n",
      "Epoch 53/100\n",
      "6/6 [==============================] - ETA: 0s - loss: 9.6168e-04 - root_mean_squared_error: 0.0310INFO:tensorflow:Assets written to: model1\\assets\n"
     ]
    },
    {
     "name": "stderr",
     "output_type": "stream",
     "text": [
      "INFO:tensorflow:Assets written to: model1\\assets\n"
     ]
    },
    {
     "name": "stdout",
     "output_type": "stream",
     "text": [
      "6/6 [==============================] - 11s 2s/step - loss: 9.6168e-04 - root_mean_squared_error: 0.0310 - val_loss: 0.0052 - val_root_mean_squared_error: 0.0722\n",
      "Epoch 54/100\n",
      "6/6 [==============================] - ETA: 0s - loss: 9.2907e-04 - root_mean_squared_error: 0.0305INFO:tensorflow:Assets written to: model1\\assets\n"
     ]
    },
    {
     "name": "stderr",
     "output_type": "stream",
     "text": [
      "INFO:tensorflow:Assets written to: model1\\assets\n"
     ]
    },
    {
     "name": "stdout",
     "output_type": "stream",
     "text": [
      "6/6 [==============================] - 12s 2s/step - loss: 9.2907e-04 - root_mean_squared_error: 0.0305 - val_loss: 0.0050 - val_root_mean_squared_error: 0.0710\n",
      "Epoch 55/100\n",
      "6/6 [==============================] - ETA: 0s - loss: 8.9857e-04 - root_mean_squared_error: 0.0300INFO:tensorflow:Assets written to: model1\\assets\n"
     ]
    },
    {
     "name": "stderr",
     "output_type": "stream",
     "text": [
      "INFO:tensorflow:Assets written to: model1\\assets\n"
     ]
    },
    {
     "name": "stdout",
     "output_type": "stream",
     "text": [
      "6/6 [==============================] - 15s 3s/step - loss: 8.9857e-04 - root_mean_squared_error: 0.0300 - val_loss: 0.0049 - val_root_mean_squared_error: 0.0697\n",
      "Epoch 56/100\n",
      "6/6 [==============================] - ETA: 0s - loss: 8.6828e-04 - root_mean_squared_error: 0.0295INFO:tensorflow:Assets written to: model1\\assets\n"
     ]
    },
    {
     "name": "stderr",
     "output_type": "stream",
     "text": [
      "INFO:tensorflow:Assets written to: model1\\assets\n"
     ]
    },
    {
     "name": "stdout",
     "output_type": "stream",
     "text": [
      "6/6 [==============================] - 12s 2s/step - loss: 8.6828e-04 - root_mean_squared_error: 0.0295 - val_loss: 0.0047 - val_root_mean_squared_error: 0.0684\n",
      "Epoch 57/100\n",
      "6/6 [==============================] - ETA: 0s - loss: 8.3694e-04 - root_mean_squared_error: 0.0289INFO:tensorflow:Assets written to: model1\\assets\n"
     ]
    },
    {
     "name": "stderr",
     "output_type": "stream",
     "text": [
      "INFO:tensorflow:Assets written to: model1\\assets\n"
     ]
    },
    {
     "name": "stdout",
     "output_type": "stream",
     "text": [
      "6/6 [==============================] - 14s 3s/step - loss: 8.3694e-04 - root_mean_squared_error: 0.0289 - val_loss: 0.0045 - val_root_mean_squared_error: 0.0672\n",
      "Epoch 58/100\n",
      "6/6 [==============================] - ETA: 0s - loss: 8.0572e-04 - root_mean_squared_error: 0.0284INFO:tensorflow:Assets written to: model1\\assets\n"
     ]
    },
    {
     "name": "stderr",
     "output_type": "stream",
     "text": [
      "INFO:tensorflow:Assets written to: model1\\assets\n"
     ]
    },
    {
     "name": "stdout",
     "output_type": "stream",
     "text": [
      "6/6 [==============================] - 13s 3s/step - loss: 8.0572e-04 - root_mean_squared_error: 0.0284 - val_loss: 0.0043 - val_root_mean_squared_error: 0.0658\n",
      "Epoch 59/100\n",
      "6/6 [==============================] - ETA: 0s - loss: 7.7525e-04 - root_mean_squared_error: 0.0278INFO:tensorflow:Assets written to: model1\\assets\n"
     ]
    },
    {
     "name": "stderr",
     "output_type": "stream",
     "text": [
      "INFO:tensorflow:Assets written to: model1\\assets\n"
     ]
    },
    {
     "name": "stdout",
     "output_type": "stream",
     "text": [
      "6/6 [==============================] - 12s 2s/step - loss: 7.7525e-04 - root_mean_squared_error: 0.0278 - val_loss: 0.0041 - val_root_mean_squared_error: 0.0644\n",
      "Epoch 60/100\n",
      "6/6 [==============================] - ETA: 0s - loss: 7.4497e-04 - root_mean_squared_error: 0.0273INFO:tensorflow:Assets written to: model1\\assets\n"
     ]
    },
    {
     "name": "stderr",
     "output_type": "stream",
     "text": [
      "INFO:tensorflow:Assets written to: model1\\assets\n"
     ]
    },
    {
     "name": "stdout",
     "output_type": "stream",
     "text": [
      "6/6 [==============================] - 13s 3s/step - loss: 7.4497e-04 - root_mean_squared_error: 0.0273 - val_loss: 0.0040 - val_root_mean_squared_error: 0.0629\n",
      "Epoch 61/100\n",
      "6/6 [==============================] - ETA: 0s - loss: 7.1320e-04 - root_mean_squared_error: 0.0267INFO:tensorflow:Assets written to: model1\\assets\n"
     ]
    },
    {
     "name": "stderr",
     "output_type": "stream",
     "text": [
      "INFO:tensorflow:Assets written to: model1\\assets\n"
     ]
    },
    {
     "name": "stdout",
     "output_type": "stream",
     "text": [
      "6/6 [==============================] - 14s 3s/step - loss: 7.1320e-04 - root_mean_squared_error: 0.0267 - val_loss: 0.0038 - val_root_mean_squared_error: 0.0616\n",
      "Epoch 62/100\n",
      "6/6 [==============================] - ETA: 0s - loss: 6.8264e-04 - root_mean_squared_error: 0.0261INFO:tensorflow:Assets written to: model1\\assets\n"
     ]
    },
    {
     "name": "stderr",
     "output_type": "stream",
     "text": [
      "INFO:tensorflow:Assets written to: model1\\assets\n"
     ]
    },
    {
     "name": "stdout",
     "output_type": "stream",
     "text": [
      "6/6 [==============================] - 13s 3s/step - loss: 6.8264e-04 - root_mean_squared_error: 0.0261 - val_loss: 0.0036 - val_root_mean_squared_error: 0.0602\n",
      "Epoch 63/100\n",
      "6/6 [==============================] - ETA: 0s - loss: 6.5301e-04 - root_mean_squared_error: 0.0256INFO:tensorflow:Assets written to: model1\\assets\n"
     ]
    },
    {
     "name": "stderr",
     "output_type": "stream",
     "text": [
      "INFO:tensorflow:Assets written to: model1\\assets\n"
     ]
    },
    {
     "name": "stdout",
     "output_type": "stream",
     "text": [
      "6/6 [==============================] - 13s 3s/step - loss: 6.5301e-04 - root_mean_squared_error: 0.0256 - val_loss: 0.0034 - val_root_mean_squared_error: 0.0587\n",
      "Epoch 64/100\n",
      "6/6 [==============================] - ETA: 0s - loss: 6.2262e-04 - root_mean_squared_error: 0.0250INFO:tensorflow:Assets written to: model1\\assets\n"
     ]
    },
    {
     "name": "stderr",
     "output_type": "stream",
     "text": [
      "INFO:tensorflow:Assets written to: model1\\assets\n"
     ]
    },
    {
     "name": "stdout",
     "output_type": "stream",
     "text": [
      "6/6 [==============================] - 15s 3s/step - loss: 6.2262e-04 - root_mean_squared_error: 0.0250 - val_loss: 0.0033 - val_root_mean_squared_error: 0.0570\n",
      "Epoch 65/100\n",
      "6/6 [==============================] - ETA: 0s - loss: 5.9296e-04 - root_mean_squared_error: 0.0244INFO:tensorflow:Assets written to: model1\\assets\n"
     ]
    },
    {
     "name": "stderr",
     "output_type": "stream",
     "text": [
      "INFO:tensorflow:Assets written to: model1\\assets\n"
     ]
    },
    {
     "name": "stdout",
     "output_type": "stream",
     "text": [
      "6/6 [==============================] - 13s 3s/step - loss: 5.9296e-04 - root_mean_squared_error: 0.0244 - val_loss: 0.0031 - val_root_mean_squared_error: 0.0555\n",
      "Epoch 66/100\n",
      "6/6 [==============================] - ETA: 0s - loss: 5.6508e-04 - root_mean_squared_error: 0.0238INFO:tensorflow:Assets written to: model1\\assets\n"
     ]
    },
    {
     "name": "stderr",
     "output_type": "stream",
     "text": [
      "INFO:tensorflow:Assets written to: model1\\assets\n"
     ]
    },
    {
     "name": "stdout",
     "output_type": "stream",
     "text": [
      "6/6 [==============================] - 13s 3s/step - loss: 5.6508e-04 - root_mean_squared_error: 0.0238 - val_loss: 0.0029 - val_root_mean_squared_error: 0.0537\n",
      "Epoch 67/100\n",
      "6/6 [==============================] - ETA: 0s - loss: 5.3387e-04 - root_mean_squared_error: 0.0231INFO:tensorflow:Assets written to: model1\\assets\n"
     ]
    },
    {
     "name": "stderr",
     "output_type": "stream",
     "text": [
      "INFO:tensorflow:Assets written to: model1\\assets\n"
     ]
    },
    {
     "name": "stdout",
     "output_type": "stream",
     "text": [
      "6/6 [==============================] - 13s 3s/step - loss: 5.3387e-04 - root_mean_squared_error: 0.0231 - val_loss: 0.0027 - val_root_mean_squared_error: 0.0523\n",
      "Epoch 68/100\n",
      "6/6 [==============================] - ETA: 0s - loss: 5.0552e-04 - root_mean_squared_error: 0.0225INFO:tensorflow:Assets written to: model1\\assets\n"
     ]
    },
    {
     "name": "stderr",
     "output_type": "stream",
     "text": [
      "INFO:tensorflow:Assets written to: model1\\assets\n"
     ]
    },
    {
     "name": "stdout",
     "output_type": "stream",
     "text": [
      "6/6 [==============================] - 13s 2s/step - loss: 5.0552e-04 - root_mean_squared_error: 0.0225 - val_loss: 0.0026 - val_root_mean_squared_error: 0.0507\n",
      "Epoch 69/100\n",
      "6/6 [==============================] - ETA: 0s - loss: 4.7881e-04 - root_mean_squared_error: 0.0219INFO:tensorflow:Assets written to: model1\\assets\n"
     ]
    },
    {
     "name": "stderr",
     "output_type": "stream",
     "text": [
      "INFO:tensorflow:Assets written to: model1\\assets\n"
     ]
    },
    {
     "name": "stdout",
     "output_type": "stream",
     "text": [
      "6/6 [==============================] - 13s 3s/step - loss: 4.7881e-04 - root_mean_squared_error: 0.0219 - val_loss: 0.0024 - val_root_mean_squared_error: 0.0490\n",
      "Epoch 70/100\n",
      "6/6 [==============================] - ETA: 0s - loss: 4.4980e-04 - root_mean_squared_error: 0.0212INFO:tensorflow:Assets written to: model1\\assets\n"
     ]
    },
    {
     "name": "stderr",
     "output_type": "stream",
     "text": [
      "INFO:tensorflow:Assets written to: model1\\assets\n"
     ]
    },
    {
     "name": "stdout",
     "output_type": "stream",
     "text": [
      "6/6 [==============================] - 12s 2s/step - loss: 4.4980e-04 - root_mean_squared_error: 0.0212 - val_loss: 0.0023 - val_root_mean_squared_error: 0.0476\n",
      "Epoch 71/100\n",
      "6/6 [==============================] - ETA: 0s - loss: 4.2347e-04 - root_mean_squared_error: 0.0206INFO:tensorflow:Assets written to: model1\\assets\n"
     ]
    },
    {
     "name": "stderr",
     "output_type": "stream",
     "text": [
      "INFO:tensorflow:Assets written to: model1\\assets\n"
     ]
    },
    {
     "name": "stdout",
     "output_type": "stream",
     "text": [
      "6/6 [==============================] - 13s 3s/step - loss: 4.2347e-04 - root_mean_squared_error: 0.0206 - val_loss: 0.0021 - val_root_mean_squared_error: 0.0459\n",
      "Epoch 72/100\n",
      "6/6 [==============================] - ETA: 0s - loss: 3.9794e-04 - root_mean_squared_error: 0.0199INFO:tensorflow:Assets written to: model1\\assets\n"
     ]
    },
    {
     "name": "stderr",
     "output_type": "stream",
     "text": [
      "INFO:tensorflow:Assets written to: model1\\assets\n"
     ]
    },
    {
     "name": "stdout",
     "output_type": "stream",
     "text": [
      "6/6 [==============================] - 14s 3s/step - loss: 3.9794e-04 - root_mean_squared_error: 0.0199 - val_loss: 0.0019 - val_root_mean_squared_error: 0.0441\n",
      "Epoch 73/100\n",
      "6/6 [==============================] - ETA: 0s - loss: 3.7169e-04 - root_mean_squared_error: 0.0193INFO:tensorflow:Assets written to: model1\\assets\n"
     ]
    },
    {
     "name": "stderr",
     "output_type": "stream",
     "text": [
      "INFO:tensorflow:Assets written to: model1\\assets\n"
     ]
    },
    {
     "name": "stdout",
     "output_type": "stream",
     "text": [
      "6/6 [==============================] - 12s 2s/step - loss: 3.7169e-04 - root_mean_squared_error: 0.0193 - val_loss: 0.0018 - val_root_mean_squared_error: 0.0426\n",
      "Epoch 74/100\n",
      "6/6 [==============================] - ETA: 0s - loss: 3.4762e-04 - root_mean_squared_error: 0.0186INFO:tensorflow:Assets written to: model1\\assets\n"
     ]
    },
    {
     "name": "stderr",
     "output_type": "stream",
     "text": [
      "INFO:tensorflow:Assets written to: model1\\assets\n"
     ]
    },
    {
     "name": "stdout",
     "output_type": "stream",
     "text": [
      "6/6 [==============================] - 11s 2s/step - loss: 3.4762e-04 - root_mean_squared_error: 0.0186 - val_loss: 0.0017 - val_root_mean_squared_error: 0.0410\n",
      "Epoch 75/100\n",
      "6/6 [==============================] - ETA: 0s - loss: 3.2294e-04 - root_mean_squared_error: 0.0180INFO:tensorflow:Assets written to: model1\\assets\n"
     ]
    },
    {
     "name": "stderr",
     "output_type": "stream",
     "text": [
      "INFO:tensorflow:Assets written to: model1\\assets\n"
     ]
    },
    {
     "name": "stdout",
     "output_type": "stream",
     "text": [
      "6/6 [==============================] - 11s 2s/step - loss: 3.2294e-04 - root_mean_squared_error: 0.0180 - val_loss: 0.0016 - val_root_mean_squared_error: 0.0395\n",
      "Epoch 76/100\n",
      "6/6 [==============================] - ETA: 0s - loss: 3.0046e-04 - root_mean_squared_error: 0.0173INFO:tensorflow:Assets written to: model1\\assets\n"
     ]
    },
    {
     "name": "stderr",
     "output_type": "stream",
     "text": [
      "INFO:tensorflow:Assets written to: model1\\assets\n"
     ]
    },
    {
     "name": "stdout",
     "output_type": "stream",
     "text": [
      "6/6 [==============================] - 11s 2s/step - loss: 3.0046e-04 - root_mean_squared_error: 0.0173 - val_loss: 0.0014 - val_root_mean_squared_error: 0.0377\n",
      "Epoch 77/100\n",
      "6/6 [==============================] - ETA: 0s - loss: 2.7893e-04 - root_mean_squared_error: 0.0167INFO:tensorflow:Assets written to: model1\\assets\n"
     ]
    },
    {
     "name": "stderr",
     "output_type": "stream",
     "text": [
      "INFO:tensorflow:Assets written to: model1\\assets\n"
     ]
    },
    {
     "name": "stdout",
     "output_type": "stream",
     "text": [
      "6/6 [==============================] - 12s 2s/step - loss: 2.7893e-04 - root_mean_squared_error: 0.0167 - val_loss: 0.0013 - val_root_mean_squared_error: 0.0358\n",
      "Epoch 78/100\n",
      "6/6 [==============================] - ETA: 0s - loss: 2.5700e-04 - root_mean_squared_error: 0.0160INFO:tensorflow:Assets written to: model1\\assets\n"
     ]
    },
    {
     "name": "stderr",
     "output_type": "stream",
     "text": [
      "INFO:tensorflow:Assets written to: model1\\assets\n"
     ]
    },
    {
     "name": "stdout",
     "output_type": "stream",
     "text": [
      "6/6 [==============================] - 11s 2s/step - loss: 2.5700e-04 - root_mean_squared_error: 0.0160 - val_loss: 0.0012 - val_root_mean_squared_error: 0.0342\n",
      "Epoch 79/100\n",
      "6/6 [==============================] - ETA: 0s - loss: 2.3637e-04 - root_mean_squared_error: 0.0154INFO:tensorflow:Assets written to: model1\\assets\n"
     ]
    },
    {
     "name": "stderr",
     "output_type": "stream",
     "text": [
      "INFO:tensorflow:Assets written to: model1\\assets\n"
     ]
    },
    {
     "name": "stdout",
     "output_type": "stream",
     "text": [
      "6/6 [==============================] - 12s 2s/step - loss: 2.3637e-04 - root_mean_squared_error: 0.0154 - val_loss: 0.0011 - val_root_mean_squared_error: 0.0326\n",
      "Epoch 80/100\n",
      "6/6 [==============================] - ETA: 0s - loss: 2.1685e-04 - root_mean_squared_error: 0.0147INFO:tensorflow:Assets written to: model1\\assets\n"
     ]
    },
    {
     "name": "stderr",
     "output_type": "stream",
     "text": [
      "INFO:tensorflow:Assets written to: model1\\assets\n"
     ]
    },
    {
     "name": "stdout",
     "output_type": "stream",
     "text": [
      "6/6 [==============================] - 11s 2s/step - loss: 2.1685e-04 - root_mean_squared_error: 0.0147 - val_loss: 9.6047e-04 - val_root_mean_squared_error: 0.0310\n",
      "Epoch 81/100\n",
      "6/6 [==============================] - ETA: 0s - loss: 1.9876e-04 - root_mean_squared_error: 0.0141INFO:tensorflow:Assets written to: model1\\assets\n"
     ]
    },
    {
     "name": "stderr",
     "output_type": "stream",
     "text": [
      "INFO:tensorflow:Assets written to: model1\\assets\n"
     ]
    },
    {
     "name": "stdout",
     "output_type": "stream",
     "text": [
      "6/6 [==============================] - 13s 3s/step - loss: 1.9876e-04 - root_mean_squared_error: 0.0141 - val_loss: 8.5975e-04 - val_root_mean_squared_error: 0.0293\n",
      "Epoch 82/100\n",
      "6/6 [==============================] - ETA: 0s - loss: 1.8117e-04 - root_mean_squared_error: 0.0135INFO:tensorflow:Assets written to: model1\\assets\n"
     ]
    },
    {
     "name": "stderr",
     "output_type": "stream",
     "text": [
      "INFO:tensorflow:Assets written to: model1\\assets\n"
     ]
    },
    {
     "name": "stdout",
     "output_type": "stream",
     "text": [
      "6/6 [==============================] - 12s 2s/step - loss: 1.8117e-04 - root_mean_squared_error: 0.0135 - val_loss: 7.6745e-04 - val_root_mean_squared_error: 0.0277\n",
      "Epoch 83/100\n",
      "6/6 [==============================] - ETA: 0s - loss: 1.6509e-04 - root_mean_squared_error: 0.0128INFO:tensorflow:Assets written to: model1\\assets\n"
     ]
    },
    {
     "name": "stderr",
     "output_type": "stream",
     "text": [
      "INFO:tensorflow:Assets written to: model1\\assets\n"
     ]
    },
    {
     "name": "stdout",
     "output_type": "stream",
     "text": [
      "6/6 [==============================] - 13s 3s/step - loss: 1.6509e-04 - root_mean_squared_error: 0.0128 - val_loss: 6.7948e-04 - val_root_mean_squared_error: 0.0261\n",
      "Epoch 84/100\n",
      "6/6 [==============================] - ETA: 0s - loss: 1.4960e-04 - root_mean_squared_error: 0.0122INFO:tensorflow:Assets written to: model1\\assets\n"
     ]
    },
    {
     "name": "stderr",
     "output_type": "stream",
     "text": [
      "INFO:tensorflow:Assets written to: model1\\assets\n"
     ]
    },
    {
     "name": "stdout",
     "output_type": "stream",
     "text": [
      "6/6 [==============================] - 11s 2s/step - loss: 1.4960e-04 - root_mean_squared_error: 0.0122 - val_loss: 5.9836e-04 - val_root_mean_squared_error: 0.0245\n",
      "Epoch 85/100\n",
      "6/6 [==============================] - ETA: 0s - loss: 1.3556e-04 - root_mean_squared_error: 0.0116INFO:tensorflow:Assets written to: model1\\assets\n"
     ]
    },
    {
     "name": "stderr",
     "output_type": "stream",
     "text": [
      "INFO:tensorflow:Assets written to: model1\\assets\n"
     ]
    },
    {
     "name": "stdout",
     "output_type": "stream",
     "text": [
      "6/6 [==============================] - 11s 2s/step - loss: 1.3556e-04 - root_mean_squared_error: 0.0116 - val_loss: 5.2195e-04 - val_root_mean_squared_error: 0.0228\n",
      "Epoch 86/100\n",
      "6/6 [==============================] - ETA: 0s - loss: 1.2208e-04 - root_mean_squared_error: 0.0110INFO:tensorflow:Assets written to: model1\\assets\n"
     ]
    },
    {
     "name": "stderr",
     "output_type": "stream",
     "text": [
      "INFO:tensorflow:Assets written to: model1\\assets\n"
     ]
    },
    {
     "name": "stdout",
     "output_type": "stream",
     "text": [
      "6/6 [==============================] - 11s 2s/step - loss: 1.2208e-04 - root_mean_squared_error: 0.0110 - val_loss: 4.5461e-04 - val_root_mean_squared_error: 0.0213\n",
      "Epoch 87/100\n",
      "6/6 [==============================] - ETA: 0s - loss: 1.0920e-04 - root_mean_squared_error: 0.0104INFO:tensorflow:Assets written to: model1\\assets\n"
     ]
    },
    {
     "name": "stderr",
     "output_type": "stream",
     "text": [
      "INFO:tensorflow:Assets written to: model1\\assets\n"
     ]
    },
    {
     "name": "stdout",
     "output_type": "stream",
     "text": [
      "6/6 [==============================] - 11s 2s/step - loss: 1.0920e-04 - root_mean_squared_error: 0.0104 - val_loss: 3.9788e-04 - val_root_mean_squared_error: 0.0199\n",
      "Epoch 88/100\n",
      "6/6 [==============================] - ETA: 0s - loss: 9.7915e-05 - root_mean_squared_error: 0.0099INFO:tensorflow:Assets written to: model1\\assets\n"
     ]
    },
    {
     "name": "stderr",
     "output_type": "stream",
     "text": [
      "INFO:tensorflow:Assets written to: model1\\assets\n"
     ]
    },
    {
     "name": "stdout",
     "output_type": "stream",
     "text": [
      "6/6 [==============================] - 11s 2s/step - loss: 9.7915e-05 - root_mean_squared_error: 0.0099 - val_loss: 3.4584e-04 - val_root_mean_squared_error: 0.0186\n",
      "Epoch 89/100\n",
      "6/6 [==============================] - ETA: 0s - loss: 8.7512e-05 - root_mean_squared_error: 0.0094INFO:tensorflow:Assets written to: model1\\assets\n"
     ]
    },
    {
     "name": "stderr",
     "output_type": "stream",
     "text": [
      "INFO:tensorflow:Assets written to: model1\\assets\n"
     ]
    },
    {
     "name": "stdout",
     "output_type": "stream",
     "text": [
      "6/6 [==============================] - 12s 2s/step - loss: 8.7512e-05 - root_mean_squared_error: 0.0094 - val_loss: 2.9620e-04 - val_root_mean_squared_error: 0.0172\n",
      "Epoch 90/100\n",
      "6/6 [==============================] - ETA: 0s - loss: 7.8029e-05 - root_mean_squared_error: 0.0088INFO:tensorflow:Assets written to: model1\\assets\n"
     ]
    },
    {
     "name": "stderr",
     "output_type": "stream",
     "text": [
      "INFO:tensorflow:Assets written to: model1\\assets\n"
     ]
    },
    {
     "name": "stdout",
     "output_type": "stream",
     "text": [
      "6/6 [==============================] - 12s 2s/step - loss: 7.8029e-05 - root_mean_squared_error: 0.0088 - val_loss: 2.4870e-04 - val_root_mean_squared_error: 0.0158\n",
      "Epoch 91/100\n",
      "6/6 [==============================] - ETA: 0s - loss: 6.9119e-05 - root_mean_squared_error: 0.0083INFO:tensorflow:Assets written to: model1\\assets\n"
     ]
    },
    {
     "name": "stderr",
     "output_type": "stream",
     "text": [
      "INFO:tensorflow:Assets written to: model1\\assets\n"
     ]
    },
    {
     "name": "stdout",
     "output_type": "stream",
     "text": [
      "6/6 [==============================] - 12s 2s/step - loss: 6.9119e-05 - root_mean_squared_error: 0.0083 - val_loss: 2.0836e-04 - val_root_mean_squared_error: 0.0144\n",
      "Epoch 92/100\n",
      "6/6 [==============================] - ETA: 0s - loss: 6.1364e-05 - root_mean_squared_error: 0.0078INFO:tensorflow:Assets written to: model1\\assets\n"
     ]
    },
    {
     "name": "stderr",
     "output_type": "stream",
     "text": [
      "INFO:tensorflow:Assets written to: model1\\assets\n"
     ]
    },
    {
     "name": "stdout",
     "output_type": "stream",
     "text": [
      "6/6 [==============================] - 12s 2s/step - loss: 6.1364e-05 - root_mean_squared_error: 0.0078 - val_loss: 1.6965e-04 - val_root_mean_squared_error: 0.0130\n",
      "Epoch 93/100\n",
      "6/6 [==============================] - ETA: 0s - loss: 5.4215e-05 - root_mean_squared_error: 0.0074INFO:tensorflow:Assets written to: model1\\assets\n"
     ]
    },
    {
     "name": "stderr",
     "output_type": "stream",
     "text": [
      "INFO:tensorflow:Assets written to: model1\\assets\n"
     ]
    },
    {
     "name": "stdout",
     "output_type": "stream",
     "text": [
      "6/6 [==============================] - 13s 3s/step - loss: 5.4215e-05 - root_mean_squared_error: 0.0074 - val_loss: 1.3745e-04 - val_root_mean_squared_error: 0.0117\n",
      "Epoch 94/100\n",
      "6/6 [==============================] - ETA: 0s - loss: 4.7668e-05 - root_mean_squared_error: 0.0069INFO:tensorflow:Assets written to: model1\\assets\n"
     ]
    },
    {
     "name": "stderr",
     "output_type": "stream",
     "text": [
      "INFO:tensorflow:Assets written to: model1\\assets\n"
     ]
    },
    {
     "name": "stdout",
     "output_type": "stream",
     "text": [
      "6/6 [==============================] - 11s 2s/step - loss: 4.7668e-05 - root_mean_squared_error: 0.0069 - val_loss: 1.1154e-04 - val_root_mean_squared_error: 0.0106\n",
      "Epoch 95/100\n",
      "6/6 [==============================] - ETA: 0s - loss: 4.2037e-05 - root_mean_squared_error: 0.0065INFO:tensorflow:Assets written to: model1\\assets\n"
     ]
    },
    {
     "name": "stderr",
     "output_type": "stream",
     "text": [
      "INFO:tensorflow:Assets written to: model1\\assets\n"
     ]
    },
    {
     "name": "stdout",
     "output_type": "stream",
     "text": [
      "6/6 [==============================] - 12s 2s/step - loss: 4.2037e-05 - root_mean_squared_error: 0.0065 - val_loss: 8.9367e-05 - val_root_mean_squared_error: 0.0095\n",
      "Epoch 96/100\n",
      "6/6 [==============================] - ETA: 0s - loss: 3.6775e-05 - root_mean_squared_error: 0.0061INFO:tensorflow:Assets written to: model1\\assets\n"
     ]
    },
    {
     "name": "stderr",
     "output_type": "stream",
     "text": [
      "INFO:tensorflow:Assets written to: model1\\assets\n"
     ]
    },
    {
     "name": "stdout",
     "output_type": "stream",
     "text": [
      "6/6 [==============================] - 12s 2s/step - loss: 3.6775e-05 - root_mean_squared_error: 0.0061 - val_loss: 7.2673e-05 - val_root_mean_squared_error: 0.0085\n",
      "Epoch 97/100\n",
      "6/6 [==============================] - ETA: 0s - loss: 3.2308e-05 - root_mean_squared_error: 0.0057INFO:tensorflow:Assets written to: model1\\assets\n"
     ]
    },
    {
     "name": "stderr",
     "output_type": "stream",
     "text": [
      "INFO:tensorflow:Assets written to: model1\\assets\n"
     ]
    },
    {
     "name": "stdout",
     "output_type": "stream",
     "text": [
      "6/6 [==============================] - 12s 2s/step - loss: 3.2308e-05 - root_mean_squared_error: 0.0057 - val_loss: 5.6000e-05 - val_root_mean_squared_error: 0.0075\n",
      "Epoch 98/100\n",
      "6/6 [==============================] - ETA: 0s - loss: 2.8410e-05 - root_mean_squared_error: 0.0053INFO:tensorflow:Assets written to: model1\\assets\n"
     ]
    },
    {
     "name": "stderr",
     "output_type": "stream",
     "text": [
      "INFO:tensorflow:Assets written to: model1\\assets\n"
     ]
    },
    {
     "name": "stdout",
     "output_type": "stream",
     "text": [
      "6/6 [==============================] - 11s 2s/step - loss: 2.8410e-05 - root_mean_squared_error: 0.0053 - val_loss: 4.1034e-05 - val_root_mean_squared_error: 0.0064\n",
      "Epoch 99/100\n",
      "6/6 [==============================] - ETA: 0s - loss: 2.4851e-05 - root_mean_squared_error: 0.0050INFO:tensorflow:Assets written to: model1\\assets\n"
     ]
    },
    {
     "name": "stderr",
     "output_type": "stream",
     "text": [
      "INFO:tensorflow:Assets written to: model1\\assets\n"
     ]
    },
    {
     "name": "stdout",
     "output_type": "stream",
     "text": [
      "6/6 [==============================] - 12s 2s/step - loss: 2.4851e-05 - root_mean_squared_error: 0.0050 - val_loss: 3.0031e-05 - val_root_mean_squared_error: 0.0055\n",
      "Epoch 100/100\n",
      "6/6 [==============================] - ETA: 0s - loss: 2.1749e-05 - root_mean_squared_error: 0.0047INFO:tensorflow:Assets written to: model1\\assets\n"
     ]
    },
    {
     "name": "stderr",
     "output_type": "stream",
     "text": [
      "INFO:tensorflow:Assets written to: model1\\assets\n"
     ]
    },
    {
     "name": "stdout",
     "output_type": "stream",
     "text": [
      "6/6 [==============================] - 12s 2s/step - loss: 2.1749e-05 - root_mean_squared_error: 0.0047 - val_loss: 2.2216e-05 - val_root_mean_squared_error: 0.0047\n"
     ]
    },
    {
     "data": {
      "text/plain": [
       "<keras.callbacks.History at 0x1758e4be5e0>"
      ]
     },
     "execution_count": 32,
     "metadata": {},
     "output_type": "execute_result"
    }
   ],
   "source": [
    "model1.fit(X_train, y_train, validation_data=(X_val, y_val), epochs= 100, callbacks=[cp])"
   ]
  },
  {
   "cell_type": "code",
   "execution_count": 33,
   "metadata": {},
   "outputs": [],
   "source": [
    "from tensorflow.keras.models import load_model\n",
    "model1 = load_model('model1/')"
   ]
  },
  {
   "cell_type": "code",
   "execution_count": 34,
   "metadata": {},
   "outputs": [
    {
     "data": {
      "text/html": [
       "<div>\n",
       "<style scoped>\n",
       "    .dataframe tbody tr th:only-of-type {\n",
       "        vertical-align: middle;\n",
       "    }\n",
       "\n",
       "    .dataframe tbody tr th {\n",
       "        vertical-align: top;\n",
       "    }\n",
       "\n",
       "    .dataframe thead th {\n",
       "        text-align: right;\n",
       "    }\n",
       "</style>\n",
       "<table border=\"1\" class=\"dataframe\">\n",
       "  <thead>\n",
       "    <tr style=\"text-align: right;\">\n",
       "      <th></th>\n",
       "      <th>Train Predictions</th>\n",
       "      <th>Actuals</th>\n",
       "    </tr>\n",
       "  </thead>\n",
       "  <tbody>\n",
       "    <tr>\n",
       "      <th>0</th>\n",
       "      <td>0.004344</td>\n",
       "      <td>0.000001</td>\n",
       "    </tr>\n",
       "    <tr>\n",
       "      <th>1</th>\n",
       "      <td>0.004344</td>\n",
       "      <td>0.000003</td>\n",
       "    </tr>\n",
       "    <tr>\n",
       "      <th>2</th>\n",
       "      <td>0.004345</td>\n",
       "      <td>0.000006</td>\n",
       "    </tr>\n",
       "    <tr>\n",
       "      <th>3</th>\n",
       "      <td>0.004345</td>\n",
       "      <td>0.000009</td>\n",
       "    </tr>\n",
       "    <tr>\n",
       "      <th>4</th>\n",
       "      <td>0.004347</td>\n",
       "      <td>0.000018</td>\n",
       "    </tr>\n",
       "    <tr>\n",
       "      <th>...</th>\n",
       "      <td>...</td>\n",
       "      <td>...</td>\n",
       "    </tr>\n",
       "    <tr>\n",
       "      <th>184</th>\n",
       "      <td>0.146697</td>\n",
       "      <td>0.152146</td>\n",
       "    </tr>\n",
       "    <tr>\n",
       "      <th>185</th>\n",
       "      <td>0.148070</td>\n",
       "      <td>0.153144</td>\n",
       "    </tr>\n",
       "    <tr>\n",
       "      <th>186</th>\n",
       "      <td>0.149311</td>\n",
       "      <td>0.153723</td>\n",
       "    </tr>\n",
       "    <tr>\n",
       "      <th>187</th>\n",
       "      <td>0.150556</td>\n",
       "      <td>0.154917</td>\n",
       "    </tr>\n",
       "    <tr>\n",
       "      <th>188</th>\n",
       "      <td>0.151819</td>\n",
       "      <td>0.156177</td>\n",
       "    </tr>\n",
       "  </tbody>\n",
       "</table>\n",
       "<p>189 rows × 2 columns</p>\n",
       "</div>"
      ],
      "text/plain": [
       "     Train Predictions   Actuals\n",
       "0             0.004344  0.000001\n",
       "1             0.004344  0.000003\n",
       "2             0.004345  0.000006\n",
       "3             0.004345  0.000009\n",
       "4             0.004347  0.000018\n",
       "..                 ...       ...\n",
       "184           0.146697  0.152146\n",
       "185           0.148070  0.153144\n",
       "186           0.149311  0.153723\n",
       "187           0.150556  0.154917\n",
       "188           0.151819  0.156177\n",
       "\n",
       "[189 rows x 2 columns]"
      ]
     },
     "execution_count": 34,
     "metadata": {},
     "output_type": "execute_result"
    }
   ],
   "source": [
    "train_predictions = model1.predict(X_train).flatten()\n",
    "train_results = pd.DataFrame(data={'Train Predictions':train_predictions, 'Actuals':y_train})\n",
    "train_results"
   ]
  },
  {
   "cell_type": "code",
   "execution_count": 35,
   "metadata": {},
   "outputs": [
    {
     "data": {
      "text/plain": [
       "[<matplotlib.lines.Line2D at 0x175abde0400>]"
      ]
     },
     "execution_count": 35,
     "metadata": {},
     "output_type": "execute_result"
    },
    {
     "data": {
      "image/png": "[encoded data removed]",
      "text/plain": [
       "<Figure size 792x288 with 1 Axes>"
      ]
     },
     "metadata": {},
     "output_type": "display_data"
    }
   ],
   "source": [
    "import matplotlib.pyplot as plt\n",
    "plt.plot(train_results['Train Predictions'])\n",
    "plt.plot(train_results['Actuals'])"
   ]
  },
  {
   "cell_type": "code",
   "execution_count": 36,
   "metadata": {},
   "outputs": [
    {
     "data": {
      "text/html": [
       "<div>\n",
       "<style scoped>\n",
       "    .dataframe tbody tr th:only-of-type {\n",
       "        vertical-align: middle;\n",
       "    }\n",
       "\n",
       "    .dataframe tbody tr th {\n",
       "        vertical-align: top;\n",
       "    }\n",
       "\n",
       "    .dataframe thead th {\n",
       "        text-align: right;\n",
       "    }\n",
       "</style>\n",
       "<table border=\"1\" class=\"dataframe\">\n",
       "  <thead>\n",
       "    <tr style=\"text-align: right;\">\n",
       "      <th></th>\n",
       "      <th>Val Predictions</th>\n",
       "      <th>Actuals</th>\n",
       "    </tr>\n",
       "  </thead>\n",
       "  <tbody>\n",
       "    <tr>\n",
       "      <th>0</th>\n",
       "      <td>0.152869</td>\n",
       "      <td>0.157443</td>\n",
       "    </tr>\n",
       "    <tr>\n",
       "      <th>1</th>\n",
       "      <td>0.153813</td>\n",
       "      <td>0.158694</td>\n",
       "    </tr>\n",
       "    <tr>\n",
       "      <th>2</th>\n",
       "      <td>0.154793</td>\n",
       "      <td>0.159912</td>\n",
       "    </tr>\n",
       "    <tr>\n",
       "      <th>3</th>\n",
       "      <td>0.155992</td>\n",
       "      <td>0.160950</td>\n",
       "    </tr>\n",
       "    <tr>\n",
       "      <th>4</th>\n",
       "      <td>0.157197</td>\n",
       "      <td>0.161875</td>\n",
       "    </tr>\n",
       "    <tr>\n",
       "      <th>5</th>\n",
       "      <td>0.158364</td>\n",
       "      <td>0.162917</td>\n",
       "    </tr>\n",
       "    <tr>\n",
       "      <th>6</th>\n",
       "      <td>0.159476</td>\n",
       "      <td>0.163965</td>\n",
       "    </tr>\n",
       "    <tr>\n",
       "      <th>7</th>\n",
       "      <td>0.160523</td>\n",
       "      <td>0.165337</td>\n",
       "    </tr>\n",
       "    <tr>\n",
       "      <th>8</th>\n",
       "      <td>0.161523</td>\n",
       "      <td>0.166454</td>\n",
       "    </tr>\n",
       "    <tr>\n",
       "      <th>9</th>\n",
       "      <td>0.162542</td>\n",
       "      <td>0.167526</td>\n",
       "    </tr>\n",
       "    <tr>\n",
       "      <th>10</th>\n",
       "      <td>0.163630</td>\n",
       "      <td>0.168485</td>\n",
       "    </tr>\n",
       "    <tr>\n",
       "      <th>11</th>\n",
       "      <td>0.164744</td>\n",
       "      <td>0.169095</td>\n",
       "    </tr>\n",
       "    <tr>\n",
       "      <th>12</th>\n",
       "      <td>0.165856</td>\n",
       "      <td>0.170067</td>\n",
       "    </tr>\n",
       "    <tr>\n",
       "      <th>13</th>\n",
       "      <td>0.166827</td>\n",
       "      <td>0.171315</td>\n",
       "    </tr>\n",
       "  </tbody>\n",
       "</table>\n",
       "</div>"
      ],
      "text/plain": [
       "    Val Predictions   Actuals\n",
       "0          0.152869  0.157443\n",
       "1          0.153813  0.158694\n",
       "2          0.154793  0.159912\n",
       "3          0.155992  0.160950\n",
       "4          0.157197  0.161875\n",
       "5          0.158364  0.162917\n",
       "6          0.159476  0.163965\n",
       "7          0.160523  0.165337\n",
       "8          0.161523  0.166454\n",
       "9          0.162542  0.167526\n",
       "10         0.163630  0.168485\n",
       "11         0.164744  0.169095\n",
       "12         0.165856  0.170067\n",
       "13         0.166827  0.171315"
      ]
     },
     "execution_count": 36,
     "metadata": {},
     "output_type": "execute_result"
    }
   ],
   "source": [
    "val_predictions = model1.predict(X_val).flatten()\n",
    "val_results = pd.DataFrame(data={'Val Predictions':val_predictions, 'Actuals':y_val})\n",
    "val_results"
   ]
  },
  {
   "cell_type": "code",
   "execution_count": 37,
   "metadata": {},
   "outputs": [
    {
     "data": {
      "text/plain": [
       "[<matplotlib.lines.Line2D at 0x175ab9e2d90>]"
      ]
     },
     "execution_count": 37,
     "metadata": {},
     "output_type": "execute_result"
    },
    {
     "data": {
      "image/png": "[encoded data removed]",
      "text/plain": [
       "<Figure size 792x288 with 1 Axes>"
      ]
     },
     "metadata": {},
     "output_type": "display_data"
    }
   ],
   "source": [
    "plt.plot(val_results['Val Predictions'])\n",
    "plt.plot(val_results['Actuals'])"
   ]
  },
  {
   "cell_type": "code",
   "execution_count": 38,
   "metadata": {},
   "outputs": [],
   "source": [
    "test_predictions = model1.predict(X_test).flatten()\n",
    "test_results = pd.DataFrame(data={'Test Predictions':test_predictions, 'Actuals':y_test})\n"
   ]
  },
  {
   "cell_type": "code",
   "execution_count": 39,
   "metadata": {},
   "outputs": [
    {
     "data": {
      "text/plain": [
       "[<matplotlib.lines.Line2D at 0x175ac4786a0>]"
      ]
     },
     "execution_count": 39,
     "metadata": {},
     "output_type": "execute_result"
    },
    {
     "data": {
      "image/png": "[encoded data removed]",
      "text/plain": [
       "<Figure size 792x288 with 1 Axes>"
      ]
     },
     "metadata": {},
     "output_type": "display_data"
    }
   ],
   "source": [
    "plt.plot(test_results['Test Predictions'])\n",
    "plt.plot(test_results['Actuals'])"
   ]
  },
  {
   "cell_type": "code",
   "execution_count": null,
   "metadata": {},
   "outputs": [],
   "source": []
  }
 ],
 "metadata": {
  "interpreter": {
   "hash": "b3ba2566441a7c06988d0923437866b63cedc61552a5af99d1f4fb67d367b25f"
  },
  "kernelspec": {
   "display_name": "Python 3.9.7 64-bit ('base': conda)",
   "language": "python",
   "name": "python3"
  },
  "language_info": {
   "codemirror_mode": {
    "name": "ipython",
    "version": 3
   },
   "file_extension": ".py",
   "mimetype": "text/x-python",
   "name": "python",
   "nbconvert_exporter": "python",
   "pygments_lexer": "ipython3",
   "version": "3.9.7"
  },
  "orig_nbformat": 4
 },
 "nbformat": 4,
 "nbformat_minor": 2
}
