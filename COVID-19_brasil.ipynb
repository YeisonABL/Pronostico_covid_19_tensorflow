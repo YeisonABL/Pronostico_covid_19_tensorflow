{
 "cells": [
  {
   "cell_type": "code",
   "execution_count": 1,
   "metadata": {},
   "outputs": [],
   "source": [
    "import pandas as pd\n",
    "import matplotlib.pyplot as plt\n",
    "import numpy as np"
   ]
  },
  {
   "cell_type": "code",
   "execution_count": 2,
   "metadata": {},
   "outputs": [],
   "source": [
    "import absl.logging\n",
    "absl.logging.set_verbosity(absl.logging.ERROR)"
   ]
  },
  {
   "cell_type": "code",
   "execution_count": 3,
   "metadata": {},
   "outputs": [],
   "source": [
    "import seaborn as sns\n",
    "sns.set(rc={'figure.figsize':(11,4)})"
   ]
  },
  {
   "cell_type": "code",
   "execution_count": 4,
   "metadata": {},
   "outputs": [
    {
     "data": {
      "text/html": [
       "<div>\n",
       "<style scoped>\n",
       "    .dataframe tbody tr th:only-of-type {\n",
       "        vertical-align: middle;\n",
       "    }\n",
       "\n",
       "    .dataframe tbody tr th {\n",
       "        vertical-align: top;\n",
       "    }\n",
       "\n",
       "    .dataframe thead th {\n",
       "        text-align: right;\n",
       "    }\n",
       "</style>\n",
       "<table border=\"1\" class=\"dataframe\">\n",
       "  <thead>\n",
       "    <tr style=\"text-align: right;\">\n",
       "      <th></th>\n",
       "      <th>Unnamed: 0</th>\n",
       "      <th>date</th>\n",
       "      <th>epi_week</th>\n",
       "      <th>newCases</th>\n",
       "      <th>accumCases</th>\n",
       "      <th>newDeaths</th>\n",
       "      <th>accumDeaths</th>\n",
       "      <th>newRecovered</th>\n",
       "      <th>newFollowup</th>\n",
       "      <th>pop</th>\n",
       "    </tr>\n",
       "  </thead>\n",
       "  <tbody>\n",
       "    <tr>\n",
       "      <th>0</th>\n",
       "      <td>1</td>\n",
       "      <td>2020-02-25</td>\n",
       "      <td>9</td>\n",
       "      <td>0</td>\n",
       "      <td>0</td>\n",
       "      <td>0</td>\n",
       "      <td>0</td>\n",
       "      <td>NaN</td>\n",
       "      <td>NaN</td>\n",
       "      <td>210147125</td>\n",
       "    </tr>\n",
       "    <tr>\n",
       "      <th>1</th>\n",
       "      <td>2</td>\n",
       "      <td>2020-02-26</td>\n",
       "      <td>9</td>\n",
       "      <td>1</td>\n",
       "      <td>1</td>\n",
       "      <td>0</td>\n",
       "      <td>0</td>\n",
       "      <td>NaN</td>\n",
       "      <td>NaN</td>\n",
       "      <td>210147125</td>\n",
       "    </tr>\n",
       "    <tr>\n",
       "      <th>2</th>\n",
       "      <td>3</td>\n",
       "      <td>2020-02-27</td>\n",
       "      <td>9</td>\n",
       "      <td>0</td>\n",
       "      <td>1</td>\n",
       "      <td>0</td>\n",
       "      <td>0</td>\n",
       "      <td>NaN</td>\n",
       "      <td>NaN</td>\n",
       "      <td>210147125</td>\n",
       "    </tr>\n",
       "    <tr>\n",
       "      <th>3</th>\n",
       "      <td>4</td>\n",
       "      <td>2020-02-28</td>\n",
       "      <td>9</td>\n",
       "      <td>0</td>\n",
       "      <td>1</td>\n",
       "      <td>0</td>\n",
       "      <td>0</td>\n",
       "      <td>NaN</td>\n",
       "      <td>NaN</td>\n",
       "      <td>210147125</td>\n",
       "    </tr>\n",
       "    <tr>\n",
       "      <th>4</th>\n",
       "      <td>5</td>\n",
       "      <td>2020-02-29</td>\n",
       "      <td>9</td>\n",
       "      <td>1</td>\n",
       "      <td>2</td>\n",
       "      <td>0</td>\n",
       "      <td>0</td>\n",
       "      <td>NaN</td>\n",
       "      <td>NaN</td>\n",
       "      <td>210147125</td>\n",
       "    </tr>\n",
       "    <tr>\n",
       "      <th>...</th>\n",
       "      <td>...</td>\n",
       "      <td>...</td>\n",
       "      <td>...</td>\n",
       "      <td>...</td>\n",
       "      <td>...</td>\n",
       "      <td>...</td>\n",
       "      <td>...</td>\n",
       "      <td>...</td>\n",
       "      <td>...</td>\n",
       "      <td>...</td>\n",
       "    </tr>\n",
       "    <tr>\n",
       "      <th>689</th>\n",
       "      <td>690</td>\n",
       "      <td>2022-01-14</td>\n",
       "      <td>2</td>\n",
       "      <td>112286</td>\n",
       "      <td>22927203</td>\n",
       "      <td>251</td>\n",
       "      <td>620796</td>\n",
       "      <td>21728937.0</td>\n",
       "      <td>577470.0</td>\n",
       "      <td>210147125</td>\n",
       "    </tr>\n",
       "    <tr>\n",
       "      <th>690</th>\n",
       "      <td>691</td>\n",
       "      <td>2022-01-15</td>\n",
       "      <td>2</td>\n",
       "      <td>48520</td>\n",
       "      <td>22975723</td>\n",
       "      <td>175</td>\n",
       "      <td>620971</td>\n",
       "      <td>21697818.0</td>\n",
       "      <td>656934.0</td>\n",
       "      <td>210147125</td>\n",
       "    </tr>\n",
       "    <tr>\n",
       "      <th>691</th>\n",
       "      <td>692</td>\n",
       "      <td>2022-01-16</td>\n",
       "      <td>3</td>\n",
       "      <td>24934</td>\n",
       "      <td>23000657</td>\n",
       "      <td>74</td>\n",
       "      <td>621045</td>\n",
       "      <td>21668942.0</td>\n",
       "      <td>710670.0</td>\n",
       "      <td>210147125</td>\n",
       "    </tr>\n",
       "    <tr>\n",
       "      <th>692</th>\n",
       "      <td>693</td>\n",
       "      <td>2022-01-17</td>\n",
       "      <td>3</td>\n",
       "      <td>74134</td>\n",
       "      <td>23074791</td>\n",
       "      <td>121</td>\n",
       "      <td>621166</td>\n",
       "      <td>21704050.0</td>\n",
       "      <td>749575.0</td>\n",
       "      <td>210147125</td>\n",
       "    </tr>\n",
       "    <tr>\n",
       "      <th>693</th>\n",
       "      <td>694</td>\n",
       "      <td>2022-01-18</td>\n",
       "      <td>3</td>\n",
       "      <td>137103</td>\n",
       "      <td>23211894</td>\n",
       "      <td>351</td>\n",
       "      <td>621517</td>\n",
       "      <td>21773085.0</td>\n",
       "      <td>817292.0</td>\n",
       "      <td>210147125</td>\n",
       "    </tr>\n",
       "  </tbody>\n",
       "</table>\n",
       "<p>694 rows × 10 columns</p>\n",
       "</div>"
      ],
      "text/plain": [
       "     Unnamed: 0        date  epi_week  newCases  accumCases  newDeaths  \\\n",
       "0             1  2020-02-25         9         0           0          0   \n",
       "1             2  2020-02-26         9         1           1          0   \n",
       "2             3  2020-02-27         9         0           1          0   \n",
       "3             4  2020-02-28         9         0           1          0   \n",
       "4             5  2020-02-29         9         1           2          0   \n",
       "..          ...         ...       ...       ...         ...        ...   \n",
       "689         690  2022-01-14         2    112286    22927203        251   \n",
       "690         691  2022-01-15         2     48520    22975723        175   \n",
       "691         692  2022-01-16         3     24934    23000657         74   \n",
       "692         693  2022-01-17         3     74134    23074791        121   \n",
       "693         694  2022-01-18         3    137103    23211894        351   \n",
       "\n",
       "     accumDeaths  newRecovered  newFollowup        pop  \n",
       "0              0           NaN          NaN  210147125  \n",
       "1              0           NaN          NaN  210147125  \n",
       "2              0           NaN          NaN  210147125  \n",
       "3              0           NaN          NaN  210147125  \n",
       "4              0           NaN          NaN  210147125  \n",
       "..           ...           ...          ...        ...  \n",
       "689       620796    21728937.0     577470.0  210147125  \n",
       "690       620971    21697818.0     656934.0  210147125  \n",
       "691       621045    21668942.0     710670.0  210147125  \n",
       "692       621166    21704050.0     749575.0  210147125  \n",
       "693       621517    21773085.0     817292.0  210147125  \n",
       "\n",
       "[694 rows x 10 columns]"
      ]
     },
     "execution_count": 4,
     "metadata": {},
     "output_type": "execute_result"
    }
   ],
   "source": [
    "brasil = pd.read_csv('brasil.csv')\n",
    "brasil"
   ]
  },
  {
   "cell_type": "code",
   "execution_count": 5,
   "metadata": {},
   "outputs": [
    {
     "data": {
      "text/html": [
       "<div>\n",
       "<style scoped>\n",
       "    .dataframe tbody tr th:only-of-type {\n",
       "        vertical-align: middle;\n",
       "    }\n",
       "\n",
       "    .dataframe tbody tr th {\n",
       "        vertical-align: top;\n",
       "    }\n",
       "\n",
       "    .dataframe thead th {\n",
       "        text-align: right;\n",
       "    }\n",
       "</style>\n",
       "<table border=\"1\" class=\"dataframe\">\n",
       "  <thead>\n",
       "    <tr style=\"text-align: right;\">\n",
       "      <th></th>\n",
       "      <th>Unnamed: 0</th>\n",
       "      <th>date</th>\n",
       "      <th>epi_week</th>\n",
       "      <th>newCases</th>\n",
       "      <th>accumCases</th>\n",
       "      <th>newDeaths</th>\n",
       "      <th>accumDeaths</th>\n",
       "      <th>newRecovered</th>\n",
       "      <th>newFollowup</th>\n",
       "      <th>pop</th>\n",
       "    </tr>\n",
       "  </thead>\n",
       "  <tbody>\n",
       "    <tr>\n",
       "      <th>0</th>\n",
       "      <td>1</td>\n",
       "      <td>2020-02-25</td>\n",
       "      <td>9</td>\n",
       "      <td>0</td>\n",
       "      <td>0</td>\n",
       "      <td>0</td>\n",
       "      <td>0</td>\n",
       "      <td>NaN</td>\n",
       "      <td>NaN</td>\n",
       "      <td>210147125</td>\n",
       "    </tr>\n",
       "    <tr>\n",
       "      <th>1</th>\n",
       "      <td>2</td>\n",
       "      <td>2020-02-26</td>\n",
       "      <td>9</td>\n",
       "      <td>1</td>\n",
       "      <td>1</td>\n",
       "      <td>0</td>\n",
       "      <td>0</td>\n",
       "      <td>NaN</td>\n",
       "      <td>NaN</td>\n",
       "      <td>210147125</td>\n",
       "    </tr>\n",
       "    <tr>\n",
       "      <th>2</th>\n",
       "      <td>3</td>\n",
       "      <td>2020-02-27</td>\n",
       "      <td>9</td>\n",
       "      <td>0</td>\n",
       "      <td>1</td>\n",
       "      <td>0</td>\n",
       "      <td>0</td>\n",
       "      <td>NaN</td>\n",
       "      <td>NaN</td>\n",
       "      <td>210147125</td>\n",
       "    </tr>\n",
       "    <tr>\n",
       "      <th>3</th>\n",
       "      <td>4</td>\n",
       "      <td>2020-02-28</td>\n",
       "      <td>9</td>\n",
       "      <td>0</td>\n",
       "      <td>1</td>\n",
       "      <td>0</td>\n",
       "      <td>0</td>\n",
       "      <td>NaN</td>\n",
       "      <td>NaN</td>\n",
       "      <td>210147125</td>\n",
       "    </tr>\n",
       "    <tr>\n",
       "      <th>4</th>\n",
       "      <td>5</td>\n",
       "      <td>2020-02-29</td>\n",
       "      <td>9</td>\n",
       "      <td>1</td>\n",
       "      <td>2</td>\n",
       "      <td>0</td>\n",
       "      <td>0</td>\n",
       "      <td>NaN</td>\n",
       "      <td>NaN</td>\n",
       "      <td>210147125</td>\n",
       "    </tr>\n",
       "    <tr>\n",
       "      <th>...</th>\n",
       "      <td>...</td>\n",
       "      <td>...</td>\n",
       "      <td>...</td>\n",
       "      <td>...</td>\n",
       "      <td>...</td>\n",
       "      <td>...</td>\n",
       "      <td>...</td>\n",
       "      <td>...</td>\n",
       "      <td>...</td>\n",
       "      <td>...</td>\n",
       "    </tr>\n",
       "    <tr>\n",
       "      <th>689</th>\n",
       "      <td>690</td>\n",
       "      <td>2022-01-14</td>\n",
       "      <td>2</td>\n",
       "      <td>112286</td>\n",
       "      <td>22927203</td>\n",
       "      <td>251</td>\n",
       "      <td>620796</td>\n",
       "      <td>21728937.0</td>\n",
       "      <td>577470.0</td>\n",
       "      <td>210147125</td>\n",
       "    </tr>\n",
       "    <tr>\n",
       "      <th>690</th>\n",
       "      <td>691</td>\n",
       "      <td>2022-01-15</td>\n",
       "      <td>2</td>\n",
       "      <td>48520</td>\n",
       "      <td>22975723</td>\n",
       "      <td>175</td>\n",
       "      <td>620971</td>\n",
       "      <td>21697818.0</td>\n",
       "      <td>656934.0</td>\n",
       "      <td>210147125</td>\n",
       "    </tr>\n",
       "    <tr>\n",
       "      <th>691</th>\n",
       "      <td>692</td>\n",
       "      <td>2022-01-16</td>\n",
       "      <td>3</td>\n",
       "      <td>24934</td>\n",
       "      <td>23000657</td>\n",
       "      <td>74</td>\n",
       "      <td>621045</td>\n",
       "      <td>21668942.0</td>\n",
       "      <td>710670.0</td>\n",
       "      <td>210147125</td>\n",
       "    </tr>\n",
       "    <tr>\n",
       "      <th>692</th>\n",
       "      <td>693</td>\n",
       "      <td>2022-01-17</td>\n",
       "      <td>3</td>\n",
       "      <td>74134</td>\n",
       "      <td>23074791</td>\n",
       "      <td>121</td>\n",
       "      <td>621166</td>\n",
       "      <td>21704050.0</td>\n",
       "      <td>749575.0</td>\n",
       "      <td>210147125</td>\n",
       "    </tr>\n",
       "    <tr>\n",
       "      <th>693</th>\n",
       "      <td>694</td>\n",
       "      <td>2022-01-18</td>\n",
       "      <td>3</td>\n",
       "      <td>137103</td>\n",
       "      <td>23211894</td>\n",
       "      <td>351</td>\n",
       "      <td>621517</td>\n",
       "      <td>21773085.0</td>\n",
       "      <td>817292.0</td>\n",
       "      <td>210147125</td>\n",
       "    </tr>\n",
       "  </tbody>\n",
       "</table>\n",
       "<p>694 rows × 10 columns</p>\n",
       "</div>"
      ],
      "text/plain": [
       "     Unnamed: 0       date  epi_week  newCases  accumCases  newDeaths  \\\n",
       "0             1 2020-02-25         9         0           0          0   \n",
       "1             2 2020-02-26         9         1           1          0   \n",
       "2             3 2020-02-27         9         0           1          0   \n",
       "3             4 2020-02-28         9         0           1          0   \n",
       "4             5 2020-02-29         9         1           2          0   \n",
       "..          ...        ...       ...       ...         ...        ...   \n",
       "689         690 2022-01-14         2    112286    22927203        251   \n",
       "690         691 2022-01-15         2     48520    22975723        175   \n",
       "691         692 2022-01-16         3     24934    23000657         74   \n",
       "692         693 2022-01-17         3     74134    23074791        121   \n",
       "693         694 2022-01-18         3    137103    23211894        351   \n",
       "\n",
       "     accumDeaths  newRecovered  newFollowup        pop  \n",
       "0              0           NaN          NaN  210147125  \n",
       "1              0           NaN          NaN  210147125  \n",
       "2              0           NaN          NaN  210147125  \n",
       "3              0           NaN          NaN  210147125  \n",
       "4              0           NaN          NaN  210147125  \n",
       "..           ...           ...          ...        ...  \n",
       "689       620796    21728937.0     577470.0  210147125  \n",
       "690       620971    21697818.0     656934.0  210147125  \n",
       "691       621045    21668942.0     710670.0  210147125  \n",
       "692       621166    21704050.0     749575.0  210147125  \n",
       "693       621517    21773085.0     817292.0  210147125  \n",
       "\n",
       "[694 rows x 10 columns]"
      ]
     },
     "execution_count": 5,
     "metadata": {},
     "output_type": "execute_result"
    }
   ],
   "source": [
    "brasil['date'] = pd.to_datetime(brasil['date'])\n",
    "brasil"
   ]
  },
  {
   "cell_type": "code",
   "execution_count": 6,
   "metadata": {},
   "outputs": [
    {
     "data": {
      "text/html": [
       "<div>\n",
       "<style scoped>\n",
       "    .dataframe tbody tr th:only-of-type {\n",
       "        vertical-align: middle;\n",
       "    }\n",
       "\n",
       "    .dataframe tbody tr th {\n",
       "        vertical-align: top;\n",
       "    }\n",
       "\n",
       "    .dataframe thead th {\n",
       "        text-align: right;\n",
       "    }\n",
       "</style>\n",
       "<table border=\"1\" class=\"dataframe\">\n",
       "  <thead>\n",
       "    <tr style=\"text-align: right;\">\n",
       "      <th></th>\n",
       "      <th>Unnamed: 0</th>\n",
       "      <th>date</th>\n",
       "      <th>epi_week</th>\n",
       "      <th>newCases</th>\n",
       "      <th>accumCases</th>\n",
       "      <th>newDeaths</th>\n",
       "      <th>accumDeaths</th>\n",
       "      <th>newRecovered</th>\n",
       "      <th>newFollowup</th>\n",
       "      <th>pop</th>\n",
       "    </tr>\n",
       "  </thead>\n",
       "  <tbody>\n",
       "    <tr>\n",
       "      <th>0</th>\n",
       "      <td>1</td>\n",
       "      <td>2020-02-25</td>\n",
       "      <td>9</td>\n",
       "      <td>0</td>\n",
       "      <td>0</td>\n",
       "      <td>0</td>\n",
       "      <td>0</td>\n",
       "      <td>NaN</td>\n",
       "      <td>NaN</td>\n",
       "      <td>210147125</td>\n",
       "    </tr>\n",
       "    <tr>\n",
       "      <th>1</th>\n",
       "      <td>2</td>\n",
       "      <td>2020-02-26</td>\n",
       "      <td>9</td>\n",
       "      <td>1</td>\n",
       "      <td>1</td>\n",
       "      <td>0</td>\n",
       "      <td>0</td>\n",
       "      <td>NaN</td>\n",
       "      <td>NaN</td>\n",
       "      <td>210147125</td>\n",
       "    </tr>\n",
       "    <tr>\n",
       "      <th>2</th>\n",
       "      <td>3</td>\n",
       "      <td>2020-02-27</td>\n",
       "      <td>9</td>\n",
       "      <td>0</td>\n",
       "      <td>1</td>\n",
       "      <td>0</td>\n",
       "      <td>0</td>\n",
       "      <td>NaN</td>\n",
       "      <td>NaN</td>\n",
       "      <td>210147125</td>\n",
       "    </tr>\n",
       "    <tr>\n",
       "      <th>3</th>\n",
       "      <td>4</td>\n",
       "      <td>2020-02-28</td>\n",
       "      <td>9</td>\n",
       "      <td>0</td>\n",
       "      <td>1</td>\n",
       "      <td>0</td>\n",
       "      <td>0</td>\n",
       "      <td>NaN</td>\n",
       "      <td>NaN</td>\n",
       "      <td>210147125</td>\n",
       "    </tr>\n",
       "    <tr>\n",
       "      <th>4</th>\n",
       "      <td>5</td>\n",
       "      <td>2020-02-29</td>\n",
       "      <td>9</td>\n",
       "      <td>1</td>\n",
       "      <td>2</td>\n",
       "      <td>0</td>\n",
       "      <td>0</td>\n",
       "      <td>NaN</td>\n",
       "      <td>NaN</td>\n",
       "      <td>210147125</td>\n",
       "    </tr>\n",
       "    <tr>\n",
       "      <th>...</th>\n",
       "      <td>...</td>\n",
       "      <td>...</td>\n",
       "      <td>...</td>\n",
       "      <td>...</td>\n",
       "      <td>...</td>\n",
       "      <td>...</td>\n",
       "      <td>...</td>\n",
       "      <td>...</td>\n",
       "      <td>...</td>\n",
       "      <td>...</td>\n",
       "    </tr>\n",
       "    <tr>\n",
       "      <th>184</th>\n",
       "      <td>185</td>\n",
       "      <td>2020-08-27</td>\n",
       "      <td>35</td>\n",
       "      <td>44235</td>\n",
       "      <td>3761391</td>\n",
       "      <td>984</td>\n",
       "      <td>118649</td>\n",
       "      <td>2947250.0</td>\n",
       "      <td>695492.0</td>\n",
       "      <td>210147125</td>\n",
       "    </tr>\n",
       "    <tr>\n",
       "      <th>185</th>\n",
       "      <td>186</td>\n",
       "      <td>2020-08-28</td>\n",
       "      <td>35</td>\n",
       "      <td>43412</td>\n",
       "      <td>3804803</td>\n",
       "      <td>855</td>\n",
       "      <td>119504</td>\n",
       "      <td>2976796.0</td>\n",
       "      <td>708503.0</td>\n",
       "      <td>210147125</td>\n",
       "    </tr>\n",
       "    <tr>\n",
       "      <th>186</th>\n",
       "      <td>187</td>\n",
       "      <td>2020-08-29</td>\n",
       "      <td>35</td>\n",
       "      <td>41350</td>\n",
       "      <td>3846153</td>\n",
       "      <td>958</td>\n",
       "      <td>120462</td>\n",
       "      <td>3006679.0</td>\n",
       "      <td>719012.0</td>\n",
       "      <td>210147125</td>\n",
       "    </tr>\n",
       "    <tr>\n",
       "      <th>187</th>\n",
       "      <td>188</td>\n",
       "      <td>2020-08-30</td>\n",
       "      <td>36</td>\n",
       "      <td>16158</td>\n",
       "      <td>3862311</td>\n",
       "      <td>366</td>\n",
       "      <td>120828</td>\n",
       "      <td>3031626.0</td>\n",
       "      <td>709857.0</td>\n",
       "      <td>210147125</td>\n",
       "    </tr>\n",
       "    <tr>\n",
       "      <th>188</th>\n",
       "      <td>189</td>\n",
       "      <td>2020-08-31</td>\n",
       "      <td>36</td>\n",
       "      <td>45961</td>\n",
       "      <td>3908272</td>\n",
       "      <td>553</td>\n",
       "      <td>121381</td>\n",
       "      <td>3097734.0</td>\n",
       "      <td>689157.0</td>\n",
       "      <td>210147125</td>\n",
       "    </tr>\n",
       "  </tbody>\n",
       "</table>\n",
       "<p>189 rows × 10 columns</p>\n",
       "</div>"
      ],
      "text/plain": [
       "     Unnamed: 0       date  epi_week  newCases  accumCases  newDeaths  \\\n",
       "0             1 2020-02-25         9         0           0          0   \n",
       "1             2 2020-02-26         9         1           1          0   \n",
       "2             3 2020-02-27         9         0           1          0   \n",
       "3             4 2020-02-28         9         0           1          0   \n",
       "4             5 2020-02-29         9         1           2          0   \n",
       "..          ...        ...       ...       ...         ...        ...   \n",
       "184         185 2020-08-27        35     44235     3761391        984   \n",
       "185         186 2020-08-28        35     43412     3804803        855   \n",
       "186         187 2020-08-29        35     41350     3846153        958   \n",
       "187         188 2020-08-30        36     16158     3862311        366   \n",
       "188         189 2020-08-31        36     45961     3908272        553   \n",
       "\n",
       "     accumDeaths  newRecovered  newFollowup        pop  \n",
       "0              0           NaN          NaN  210147125  \n",
       "1              0           NaN          NaN  210147125  \n",
       "2              0           NaN          NaN  210147125  \n",
       "3              0           NaN          NaN  210147125  \n",
       "4              0           NaN          NaN  210147125  \n",
       "..           ...           ...          ...        ...  \n",
       "184       118649     2947250.0     695492.0  210147125  \n",
       "185       119504     2976796.0     708503.0  210147125  \n",
       "186       120462     3006679.0     719012.0  210147125  \n",
       "187       120828     3031626.0     709857.0  210147125  \n",
       "188       121381     3097734.0     689157.0  210147125  \n",
       "\n",
       "[189 rows x 10 columns]"
      ]
     },
     "execution_count": 6,
     "metadata": {},
     "output_type": "execute_result"
    }
   ],
   "source": [
    "brasil[:189]"
   ]
  },
  {
   "cell_type": "code",
   "execution_count": 7,
   "metadata": {},
   "outputs": [
    {
     "data": {
      "text/html": [
       "<div>\n",
       "<style scoped>\n",
       "    .dataframe tbody tr th:only-of-type {\n",
       "        vertical-align: middle;\n",
       "    }\n",
       "\n",
       "    .dataframe tbody tr th {\n",
       "        vertical-align: top;\n",
       "    }\n",
       "\n",
       "    .dataframe thead th {\n",
       "        text-align: right;\n",
       "    }\n",
       "</style>\n",
       "<table border=\"1\" class=\"dataframe\">\n",
       "  <thead>\n",
       "    <tr style=\"text-align: right;\">\n",
       "      <th></th>\n",
       "      <th>Unnamed: 0</th>\n",
       "      <th>epi_week</th>\n",
       "      <th>newCases</th>\n",
       "      <th>accumCases</th>\n",
       "      <th>newDeaths</th>\n",
       "      <th>accumDeaths</th>\n",
       "      <th>newRecovered</th>\n",
       "      <th>newFollowup</th>\n",
       "      <th>pop</th>\n",
       "    </tr>\n",
       "    <tr>\n",
       "      <th>date</th>\n",
       "      <th></th>\n",
       "      <th></th>\n",
       "      <th></th>\n",
       "      <th></th>\n",
       "      <th></th>\n",
       "      <th></th>\n",
       "      <th></th>\n",
       "      <th></th>\n",
       "      <th></th>\n",
       "    </tr>\n",
       "  </thead>\n",
       "  <tbody>\n",
       "    <tr>\n",
       "      <th>2020-02-25</th>\n",
       "      <td>1</td>\n",
       "      <td>9</td>\n",
       "      <td>0</td>\n",
       "      <td>0</td>\n",
       "      <td>0</td>\n",
       "      <td>0</td>\n",
       "      <td>NaN</td>\n",
       "      <td>NaN</td>\n",
       "      <td>210147125</td>\n",
       "    </tr>\n",
       "    <tr>\n",
       "      <th>2020-02-26</th>\n",
       "      <td>2</td>\n",
       "      <td>9</td>\n",
       "      <td>1</td>\n",
       "      <td>1</td>\n",
       "      <td>0</td>\n",
       "      <td>0</td>\n",
       "      <td>NaN</td>\n",
       "      <td>NaN</td>\n",
       "      <td>210147125</td>\n",
       "    </tr>\n",
       "    <tr>\n",
       "      <th>2020-02-27</th>\n",
       "      <td>3</td>\n",
       "      <td>9</td>\n",
       "      <td>0</td>\n",
       "      <td>1</td>\n",
       "      <td>0</td>\n",
       "      <td>0</td>\n",
       "      <td>NaN</td>\n",
       "      <td>NaN</td>\n",
       "      <td>210147125</td>\n",
       "    </tr>\n",
       "    <tr>\n",
       "      <th>2020-02-28</th>\n",
       "      <td>4</td>\n",
       "      <td>9</td>\n",
       "      <td>0</td>\n",
       "      <td>1</td>\n",
       "      <td>0</td>\n",
       "      <td>0</td>\n",
       "      <td>NaN</td>\n",
       "      <td>NaN</td>\n",
       "      <td>210147125</td>\n",
       "    </tr>\n",
       "    <tr>\n",
       "      <th>2020-02-29</th>\n",
       "      <td>5</td>\n",
       "      <td>9</td>\n",
       "      <td>1</td>\n",
       "      <td>2</td>\n",
       "      <td>0</td>\n",
       "      <td>0</td>\n",
       "      <td>NaN</td>\n",
       "      <td>NaN</td>\n",
       "      <td>210147125</td>\n",
       "    </tr>\n",
       "    <tr>\n",
       "      <th>...</th>\n",
       "      <td>...</td>\n",
       "      <td>...</td>\n",
       "      <td>...</td>\n",
       "      <td>...</td>\n",
       "      <td>...</td>\n",
       "      <td>...</td>\n",
       "      <td>...</td>\n",
       "      <td>...</td>\n",
       "      <td>...</td>\n",
       "    </tr>\n",
       "    <tr>\n",
       "      <th>2022-01-14</th>\n",
       "      <td>690</td>\n",
       "      <td>2</td>\n",
       "      <td>112286</td>\n",
       "      <td>22927203</td>\n",
       "      <td>251</td>\n",
       "      <td>620796</td>\n",
       "      <td>21728937.0</td>\n",
       "      <td>577470.0</td>\n",
       "      <td>210147125</td>\n",
       "    </tr>\n",
       "    <tr>\n",
       "      <th>2022-01-15</th>\n",
       "      <td>691</td>\n",
       "      <td>2</td>\n",
       "      <td>48520</td>\n",
       "      <td>22975723</td>\n",
       "      <td>175</td>\n",
       "      <td>620971</td>\n",
       "      <td>21697818.0</td>\n",
       "      <td>656934.0</td>\n",
       "      <td>210147125</td>\n",
       "    </tr>\n",
       "    <tr>\n",
       "      <th>2022-01-16</th>\n",
       "      <td>692</td>\n",
       "      <td>3</td>\n",
       "      <td>24934</td>\n",
       "      <td>23000657</td>\n",
       "      <td>74</td>\n",
       "      <td>621045</td>\n",
       "      <td>21668942.0</td>\n",
       "      <td>710670.0</td>\n",
       "      <td>210147125</td>\n",
       "    </tr>\n",
       "    <tr>\n",
       "      <th>2022-01-17</th>\n",
       "      <td>693</td>\n",
       "      <td>3</td>\n",
       "      <td>74134</td>\n",
       "      <td>23074791</td>\n",
       "      <td>121</td>\n",
       "      <td>621166</td>\n",
       "      <td>21704050.0</td>\n",
       "      <td>749575.0</td>\n",
       "      <td>210147125</td>\n",
       "    </tr>\n",
       "    <tr>\n",
       "      <th>2022-01-18</th>\n",
       "      <td>694</td>\n",
       "      <td>3</td>\n",
       "      <td>137103</td>\n",
       "      <td>23211894</td>\n",
       "      <td>351</td>\n",
       "      <td>621517</td>\n",
       "      <td>21773085.0</td>\n",
       "      <td>817292.0</td>\n",
       "      <td>210147125</td>\n",
       "    </tr>\n",
       "  </tbody>\n",
       "</table>\n",
       "<p>694 rows × 9 columns</p>\n",
       "</div>"
      ],
      "text/plain": [
       "            Unnamed: 0  epi_week  newCases  accumCases  newDeaths  \\\n",
       "date                                                                \n",
       "2020-02-25           1         9         0           0          0   \n",
       "2020-02-26           2         9         1           1          0   \n",
       "2020-02-27           3         9         0           1          0   \n",
       "2020-02-28           4         9         0           1          0   \n",
       "2020-02-29           5         9         1           2          0   \n",
       "...                ...       ...       ...         ...        ...   \n",
       "2022-01-14         690         2    112286    22927203        251   \n",
       "2022-01-15         691         2     48520    22975723        175   \n",
       "2022-01-16         692         3     24934    23000657         74   \n",
       "2022-01-17         693         3     74134    23074791        121   \n",
       "2022-01-18         694         3    137103    23211894        351   \n",
       "\n",
       "            accumDeaths  newRecovered  newFollowup        pop  \n",
       "date                                                           \n",
       "2020-02-25            0           NaN          NaN  210147125  \n",
       "2020-02-26            0           NaN          NaN  210147125  \n",
       "2020-02-27            0           NaN          NaN  210147125  \n",
       "2020-02-28            0           NaN          NaN  210147125  \n",
       "2020-02-29            0           NaN          NaN  210147125  \n",
       "...                 ...           ...          ...        ...  \n",
       "2022-01-14       620796    21728937.0     577470.0  210147125  \n",
       "2022-01-15       620971    21697818.0     656934.0  210147125  \n",
       "2022-01-16       621045    21668942.0     710670.0  210147125  \n",
       "2022-01-17       621166    21704050.0     749575.0  210147125  \n",
       "2022-01-18       621517    21773085.0     817292.0  210147125  \n",
       "\n",
       "[694 rows x 9 columns]"
      ]
     },
     "execution_count": 7,
     "metadata": {},
     "output_type": "execute_result"
    }
   ],
   "source": [
    "brasil.set_index('date', inplace = True)\n",
    "brasil"
   ]
  },
  {
   "cell_type": "code",
   "execution_count": 8,
   "metadata": {},
   "outputs": [],
   "source": [
    "brasil = brasil.drop(['epi_week','Unnamed: 0', 'newFollowup', 'pop'], axis=True)"
   ]
  },
  {
   "cell_type": "code",
   "execution_count": 9,
   "metadata": {},
   "outputs": [
    {
     "data": {
      "text/plain": [
       "<AxesSubplot:xlabel='date'>"
      ]
     },
     "execution_count": 9,
     "metadata": {},
     "output_type": "execute_result"
    },
    {
     "data": {
      "image/png": "[encoded data removed]",
      "text/plain": [
       "<Figure size 792x288 with 1 Axes>"
      ]
     },
     "metadata": {},
     "output_type": "display_data"
    }
   ],
   "source": [
    "brasil['newCases'].plot(linewidth=1.2)\n"
   ]
  },
  {
   "cell_type": "code",
   "execution_count": 10,
   "metadata": {},
   "outputs": [
    {
     "data": {
      "text/plain": [
       "<AxesSubplot:xlabel='date'>"
      ]
     },
     "execution_count": 10,
     "metadata": {},
     "output_type": "execute_result"
    },
    {
     "data": {
      "image/png": "[encoded data removed]",
      "text/plain": [
       "<Figure size 792x288 with 1 Axes>"
      ]
     },
     "metadata": {},
     "output_type": "display_data"
    }
   ],
   "source": [
    "brasil['accumCases'].plot(linewidth=1.2)"
   ]
  },
  {
   "cell_type": "code",
   "execution_count": 11,
   "metadata": {},
   "outputs": [
    {
     "data": {
      "text/plain": [
       "<AxesSubplot:xlabel='date'>"
      ]
     },
     "execution_count": 11,
     "metadata": {},
     "output_type": "execute_result"
    },
    {
     "data": {
      "image/png": "[encoded data removed]",
      "text/plain": [
       "<Figure size 792x288 with 1 Axes>"
      ]
     },
     "metadata": {},
     "output_type": "display_data"
    }
   ],
   "source": [
    "brasil['newDeaths'].plot(linewidth=1.2)"
   ]
  },
  {
   "cell_type": "code",
   "execution_count": 12,
   "metadata": {},
   "outputs": [
    {
     "data": {
      "text/plain": [
       "<AxesSubplot:xlabel='date'>"
      ]
     },
     "execution_count": 12,
     "metadata": {},
     "output_type": "execute_result"
    },
    {
     "data": {
      "image/png": "[encoded data removed]",
      "text/plain": [
       "<Figure size 792x288 with 1 Axes>"
      ]
     },
     "metadata": {},
     "output_type": "display_data"
    }
   ],
   "source": [
    "brasil['accumDeaths'].plot(linewidth=1.2)"
   ]
  },
  {
   "cell_type": "code",
   "execution_count": 13,
   "metadata": {},
   "outputs": [
    {
     "data": {
      "text/plain": [
       "<AxesSubplot:xlabel='date'>"
      ]
     },
     "execution_count": 13,
     "metadata": {},
     "output_type": "execute_result"
    },
    {
     "data": {
      "image/png": "[encoded data removed]",
      "text/plain": [
       "<Figure size 792x288 with 1 Axes>"
      ]
     },
     "metadata": {},
     "output_type": "display_data"
    }
   ],
   "source": [
    "brasil['newRecovered'].plot(linewidth=1.2)"
   ]
  },
  {
   "cell_type": "code",
   "execution_count": 14,
   "metadata": {},
   "outputs": [
    {
     "data": {
      "text/html": [
       "<div>\n",
       "<style scoped>\n",
       "    .dataframe tbody tr th:only-of-type {\n",
       "        vertical-align: middle;\n",
       "    }\n",
       "\n",
       "    .dataframe tbody tr th {\n",
       "        vertical-align: top;\n",
       "    }\n",
       "\n",
       "    .dataframe thead th {\n",
       "        text-align: right;\n",
       "    }\n",
       "</style>\n",
       "<table border=\"1\" class=\"dataframe\">\n",
       "  <thead>\n",
       "    <tr style=\"text-align: right;\">\n",
       "      <th></th>\n",
       "      <th>newCases</th>\n",
       "      <th>accumCases</th>\n",
       "      <th>newDeaths</th>\n",
       "      <th>accumDeaths</th>\n",
       "      <th>newRecovered</th>\n",
       "    </tr>\n",
       "    <tr>\n",
       "      <th>date</th>\n",
       "      <th></th>\n",
       "      <th></th>\n",
       "      <th></th>\n",
       "      <th></th>\n",
       "      <th></th>\n",
       "    </tr>\n",
       "  </thead>\n",
       "  <tbody>\n",
       "    <tr>\n",
       "      <th>2020-02-25</th>\n",
       "      <td>0</td>\n",
       "      <td>0.000000e+00</td>\n",
       "      <td>0</td>\n",
       "      <td>0.000000</td>\n",
       "      <td>NaN</td>\n",
       "    </tr>\n",
       "    <tr>\n",
       "      <th>2020-02-26</th>\n",
       "      <td>1</td>\n",
       "      <td>4.308136e-08</td>\n",
       "      <td>0</td>\n",
       "      <td>0.000000</td>\n",
       "      <td>NaN</td>\n",
       "    </tr>\n",
       "    <tr>\n",
       "      <th>2020-02-27</th>\n",
       "      <td>0</td>\n",
       "      <td>4.308136e-08</td>\n",
       "      <td>0</td>\n",
       "      <td>0.000000</td>\n",
       "      <td>NaN</td>\n",
       "    </tr>\n",
       "    <tr>\n",
       "      <th>2020-02-28</th>\n",
       "      <td>0</td>\n",
       "      <td>4.308136e-08</td>\n",
       "      <td>0</td>\n",
       "      <td>0.000000</td>\n",
       "      <td>NaN</td>\n",
       "    </tr>\n",
       "    <tr>\n",
       "      <th>2020-02-29</th>\n",
       "      <td>1</td>\n",
       "      <td>8.616272e-08</td>\n",
       "      <td>0</td>\n",
       "      <td>0.000000</td>\n",
       "      <td>NaN</td>\n",
       "    </tr>\n",
       "    <tr>\n",
       "      <th>...</th>\n",
       "      <td>...</td>\n",
       "      <td>...</td>\n",
       "      <td>...</td>\n",
       "      <td>...</td>\n",
       "      <td>...</td>\n",
       "    </tr>\n",
       "    <tr>\n",
       "      <th>2022-01-14</th>\n",
       "      <td>112286</td>\n",
       "      <td>9.877351e-01</td>\n",
       "      <td>251</td>\n",
       "      <td>0.998840</td>\n",
       "      <td>21728937.0</td>\n",
       "    </tr>\n",
       "    <tr>\n",
       "      <th>2022-01-15</th>\n",
       "      <td>48520</td>\n",
       "      <td>9.898254e-01</td>\n",
       "      <td>175</td>\n",
       "      <td>0.999122</td>\n",
       "      <td>21697818.0</td>\n",
       "    </tr>\n",
       "    <tr>\n",
       "      <th>2022-01-16</th>\n",
       "      <td>24934</td>\n",
       "      <td>9.908996e-01</td>\n",
       "      <td>74</td>\n",
       "      <td>0.999241</td>\n",
       "      <td>21668942.0</td>\n",
       "    </tr>\n",
       "    <tr>\n",
       "      <th>2022-01-17</th>\n",
       "      <td>74134</td>\n",
       "      <td>9.940934e-01</td>\n",
       "      <td>121</td>\n",
       "      <td>0.999435</td>\n",
       "      <td>21704050.0</td>\n",
       "    </tr>\n",
       "    <tr>\n",
       "      <th>2022-01-18</th>\n",
       "      <td>137103</td>\n",
       "      <td>1.000000e+00</td>\n",
       "      <td>351</td>\n",
       "      <td>1.000000</td>\n",
       "      <td>21773085.0</td>\n",
       "    </tr>\n",
       "  </tbody>\n",
       "</table>\n",
       "<p>694 rows × 5 columns</p>\n",
       "</div>"
      ],
      "text/plain": [
       "            newCases    accumCases  newDeaths  accumDeaths  newRecovered\n",
       "date                                                                    \n",
       "2020-02-25         0  0.000000e+00          0     0.000000           NaN\n",
       "2020-02-26         1  4.308136e-08          0     0.000000           NaN\n",
       "2020-02-27         0  4.308136e-08          0     0.000000           NaN\n",
       "2020-02-28         0  4.308136e-08          0     0.000000           NaN\n",
       "2020-02-29         1  8.616272e-08          0     0.000000           NaN\n",
       "...              ...           ...        ...          ...           ...\n",
       "2022-01-14    112286  9.877351e-01        251     0.998840    21728937.0\n",
       "2022-01-15     48520  9.898254e-01        175     0.999122    21697818.0\n",
       "2022-01-16     24934  9.908996e-01         74     0.999241    21668942.0\n",
       "2022-01-17     74134  9.940934e-01        121     0.999435    21704050.0\n",
       "2022-01-18    137103  1.000000e+00        351     1.000000    21773085.0\n",
       "\n",
       "[694 rows x 5 columns]"
      ]
     },
     "execution_count": 14,
     "metadata": {},
     "output_type": "execute_result"
    }
   ],
   "source": [
    "brasil['accumCases'] = [(i-brasil['accumCases'].min())/(brasil['accumCases'].max()-brasil['accumCases'].min()) for i in brasil['accumCases']]\n",
    "brasil['accumDeaths'] = [(i-brasil['accumDeaths'].min())/(brasil['accumDeaths'].max()-brasil['accumDeaths'].min()) for i in brasil['accumDeaths']]\n",
    "brasil\n"
   ]
  },
  {
   "cell_type": "code",
   "execution_count": 15,
   "metadata": {},
   "outputs": [],
   "source": [
    "def df_to_X_y(df, window_size=5):\n",
    "    df_as_np = df.to_numpy()\n",
    "    X = []\n",
    "    y = []\n",
    "    for i in range(len(df_as_np)-window_size):\n",
    "        row = [[a] for a in df_as_np[i:i+5]]\n",
    "        X.append(row)\n",
    "        label = df_as_np[i+5]\n",
    "        y.append(label)\n",
    "    return np.array(X), np.array(y)    \n"
   ]
  },
  {
   "cell_type": "code",
   "execution_count": 16,
   "metadata": {},
   "outputs": [
    {
     "data": {
      "text/plain": [
       "((664, 5, 1), (664,))"
      ]
     },
     "execution_count": 16,
     "metadata": {},
     "output_type": "execute_result"
    }
   ],
   "source": [
    "WINDOW_SIZE = 30\n",
    "X, y = df_to_X_y(brasil['accumCases'], WINDOW_SIZE)\n",
    "X.shape, y.shape"
   ]
  },
  {
   "cell_type": "code",
   "execution_count": 29,
   "metadata": {},
   "outputs": [],
   "source": [
    "X_train, y_train = X[:189], y[:189]\n",
    "X_val, y_val = X[189:189+14], y[189:189+14]\n",
    "X_test, y_test = X[189+14:189+14+60], y[189+14:189+14+60]"
   ]
  },
  {
   "cell_type": "code",
   "execution_count": 18,
   "metadata": {},
   "outputs": [],
   "source": [
    "from tensorflow.keras.models import Sequential\n",
    "from tensorflow.keras.layers import *\n",
    "from tensorflow.keras.callbacks import ModelCheckpoint\n",
    "from tensorflow.keras.losses import MeanSquaredError\n",
    "from tensorflow.keras.metrics import RootMeanSquaredError\n",
    "from tensorflow.keras.optimizers import Adam "
   ]
  },
  {
   "cell_type": "code",
   "execution_count": 19,
   "metadata": {},
   "outputs": [
    {
     "name": "stdout",
     "output_type": "stream",
     "text": [
      "Model: \"sequential\"\n",
      "_________________________________________________________________\n",
      " Layer (type)                Output Shape              Param #   \n",
      "=================================================================\n",
      " lstm (LSTM)                 (None, 5, 300)            362400    \n",
      "                                                                 \n",
      " lstm_1 (LSTM)               (None, 300)               721200    \n",
      "                                                                 \n",
      " dense (Dense)               (None, 1)                 301       \n",
      "                                                                 \n",
      "=================================================================\n",
      "Total params: 1,083,901\n",
      "Trainable params: 1,083,901\n",
      "Non-trainable params: 0\n",
      "_________________________________________________________________\n"
     ]
    }
   ],
   "source": [
    "model1 = Sequential()\n",
    "model1.add(InputLayer((5,1)))\n",
    "model1.add(LSTM(300,return_sequences=True))\n",
    "model1.add(LSTM(300))\n",
    "model1.add(Dense(1,'linear'))\n",
    "\n",
    "model1.summary()"
   ]
  },
  {
   "cell_type": "code",
   "execution_count": 20,
   "metadata": {},
   "outputs": [],
   "source": [
    "cp = ModelCheckpoint('model1/', save_best_only=True)\n",
    "model1.compile(loss=MeanSquaredError(), optimizer=Adam(learning_rate=0.00001), metrics=[RootMeanSquaredError()])"
   ]
  },
  {
   "cell_type": "code",
   "execution_count": 21,
   "metadata": {},
   "outputs": [
    {
     "name": "stdout",
     "output_type": "stream",
     "text": [
      "Epoch 1/100\n",
      "6/6 [==============================] - ETA: 0s - loss: 0.0057 - root_mean_squared_error: 0.0753INFO:tensorflow:Assets written to: model1\\assets\n"
     ]
    },
    {
     "name": "stderr",
     "output_type": "stream",
     "text": [
      "INFO:tensorflow:Assets written to: model1\\assets\n"
     ]
    },
    {
     "name": "stdout",
     "output_type": "stream",
     "text": [
      "6/6 [==============================] - 20s 3s/step - loss: 0.0057 - root_mean_squared_error: 0.0753 - val_loss: 0.0334 - val_root_mean_squared_error: 0.1828\n",
      "Epoch 2/100\n",
      "6/6 [==============================] - ETA: 0s - loss: 0.0054 - root_mean_squared_error: 0.0738INFO:tensorflow:Assets written to: model1\\assets\n"
     ]
    },
    {
     "name": "stderr",
     "output_type": "stream",
     "text": [
      "INFO:tensorflow:Assets written to: model1\\assets\n"
     ]
    },
    {
     "name": "stdout",
     "output_type": "stream",
     "text": [
      "6/6 [==============================] - 15s 3s/step - loss: 0.0054 - root_mean_squared_error: 0.0738 - val_loss: 0.0324 - val_root_mean_squared_error: 0.1801\n",
      "Epoch 3/100\n",
      "6/6 [==============================] - ETA: 0s - loss: 0.0052 - root_mean_squared_error: 0.0724INFO:tensorflow:Assets written to: model1\\assets\n"
     ]
    },
    {
     "name": "stderr",
     "output_type": "stream",
     "text": [
      "INFO:tensorflow:Assets written to: model1\\assets\n"
     ]
    },
    {
     "name": "stdout",
     "output_type": "stream",
     "text": [
      "6/6 [==============================] - 14s 3s/step - loss: 0.0052 - root_mean_squared_error: 0.0724 - val_loss: 0.0315 - val_root_mean_squared_error: 0.1774\n",
      "Epoch 4/100\n",
      "6/6 [==============================] - ETA: 0s - loss: 0.0051 - root_mean_squared_error: 0.0711INFO:tensorflow:Assets written to: model1\\assets\n"
     ]
    },
    {
     "name": "stderr",
     "output_type": "stream",
     "text": [
      "INFO:tensorflow:Assets written to: model1\\assets\n"
     ]
    },
    {
     "name": "stdout",
     "output_type": "stream",
     "text": [
      "6/6 [==============================] - 13s 3s/step - loss: 0.0051 - root_mean_squared_error: 0.0711 - val_loss: 0.0305 - val_root_mean_squared_error: 0.1746\n",
      "Epoch 5/100\n",
      "6/6 [==============================] - ETA: 0s - loss: 0.0048 - root_mean_squared_error: 0.0696- ETA: 0s - loss: 0.0043 - root_mean_squared_error: 0.06INFO:tensorflow:Assets written to: model1\\assets\n"
     ]
    },
    {
     "name": "stderr",
     "output_type": "stream",
     "text": [
      "INFO:tensorflow:Assets written to: model1\\assets\n"
     ]
    },
    {
     "name": "stdout",
     "output_type": "stream",
     "text": [
      "6/6 [==============================] - 14s 3s/step - loss: 0.0048 - root_mean_squared_error: 0.0696 - val_loss: 0.0296 - val_root_mean_squared_error: 0.1720\n",
      "Epoch 6/100\n",
      "6/6 [==============================] - ETA: 0s - loss: 0.0047 - root_mean_squared_error: 0.0683INFO:tensorflow:Assets written to: model1\\assets\n"
     ]
    },
    {
     "name": "stderr",
     "output_type": "stream",
     "text": [
      "INFO:tensorflow:Assets written to: model1\\assets\n"
     ]
    },
    {
     "name": "stdout",
     "output_type": "stream",
     "text": [
      "6/6 [==============================] - 12s 2s/step - loss: 0.0047 - root_mean_squared_error: 0.0683 - val_loss: 0.0287 - val_root_mean_squared_error: 0.1693\n",
      "Epoch 7/100\n",
      "6/6 [==============================] - ETA: 0s - loss: 0.0045 - root_mean_squared_error: 0.0670INFO:tensorflow:Assets written to: model1\\assets\n"
     ]
    },
    {
     "name": "stderr",
     "output_type": "stream",
     "text": [
      "INFO:tensorflow:Assets written to: model1\\assets\n"
     ]
    },
    {
     "name": "stdout",
     "output_type": "stream",
     "text": [
      "6/6 [==============================] - 13s 3s/step - loss: 0.0045 - root_mean_squared_error: 0.0670 - val_loss: 0.0277 - val_root_mean_squared_error: 0.1665\n",
      "Epoch 8/100\n",
      "6/6 [==============================] - ETA: 0s - loss: 0.0043 - root_mean_squared_error: 0.0657INFO:tensorflow:Assets written to: model1\\assets\n"
     ]
    },
    {
     "name": "stderr",
     "output_type": "stream",
     "text": [
      "INFO:tensorflow:Assets written to: model1\\assets\n"
     ]
    },
    {
     "name": "stdout",
     "output_type": "stream",
     "text": [
      "6/6 [==============================] - 12s 2s/step - loss: 0.0043 - root_mean_squared_error: 0.0657 - val_loss: 0.0268 - val_root_mean_squared_error: 0.1638\n",
      "Epoch 9/100\n",
      "6/6 [==============================] - ETA: 0s - loss: 0.0041 - root_mean_squared_error: 0.0643INFO:tensorflow:Assets written to: model1\\assets\n"
     ]
    },
    {
     "name": "stderr",
     "output_type": "stream",
     "text": [
      "INFO:tensorflow:Assets written to: model1\\assets\n"
     ]
    },
    {
     "name": "stdout",
     "output_type": "stream",
     "text": [
      "6/6 [==============================] - 12s 2s/step - loss: 0.0041 - root_mean_squared_error: 0.0643 - val_loss: 0.0260 - val_root_mean_squared_error: 0.1611\n",
      "Epoch 10/100\n",
      "6/6 [==============================] - ETA: 0s - loss: 0.0040 - root_mean_squared_error: 0.0630INFO:tensorflow:Assets written to: model1\\assets\n"
     ]
    },
    {
     "name": "stderr",
     "output_type": "stream",
     "text": [
      "INFO:tensorflow:Assets written to: model1\\assets\n"
     ]
    },
    {
     "name": "stdout",
     "output_type": "stream",
     "text": [
      "6/6 [==============================] - 12s 2s/step - loss: 0.0040 - root_mean_squared_error: 0.0630 - val_loss: 0.0251 - val_root_mean_squared_error: 0.1584\n",
      "Epoch 11/100\n",
      "6/6 [==============================] - ETA: 0s - loss: 0.0038 - root_mean_squared_error: 0.0617INFO:tensorflow:Assets written to: model1\\assets\n"
     ]
    },
    {
     "name": "stderr",
     "output_type": "stream",
     "text": [
      "INFO:tensorflow:Assets written to: model1\\assets\n"
     ]
    },
    {
     "name": "stdout",
     "output_type": "stream",
     "text": [
      "6/6 [==============================] - 12s 2s/step - loss: 0.0038 - root_mean_squared_error: 0.0617 - val_loss: 0.0242 - val_root_mean_squared_error: 0.1557\n",
      "Epoch 12/100\n",
      "6/6 [==============================] - ETA: 0s - loss: 0.0037 - root_mean_squared_error: 0.0606INFO:tensorflow:Assets written to: model1\\assets\n"
     ]
    },
    {
     "name": "stderr",
     "output_type": "stream",
     "text": [
      "INFO:tensorflow:Assets written to: model1\\assets\n"
     ]
    },
    {
     "name": "stdout",
     "output_type": "stream",
     "text": [
      "6/6 [==============================] - 12s 2s/step - loss: 0.0037 - root_mean_squared_error: 0.0606 - val_loss: 0.0233 - val_root_mean_squared_error: 0.1528\n",
      "Epoch 13/100\n",
      "6/6 [==============================] - ETA: 0s - loss: 0.0035 - root_mean_squared_error: 0.0592INFO:tensorflow:Assets written to: model1\\assets\n"
     ]
    },
    {
     "name": "stderr",
     "output_type": "stream",
     "text": [
      "INFO:tensorflow:Assets written to: model1\\assets\n"
     ]
    },
    {
     "name": "stdout",
     "output_type": "stream",
     "text": [
      "6/6 [==============================] - 12s 2s/step - loss: 0.0035 - root_mean_squared_error: 0.0592 - val_loss: 0.0225 - val_root_mean_squared_error: 0.1500\n",
      "Epoch 14/100\n",
      "6/6 [==============================] - ETA: 0s - loss: 0.0034 - root_mean_squared_error: 0.0579INFO:tensorflow:Assets written to: model1\\assets\n"
     ]
    },
    {
     "name": "stderr",
     "output_type": "stream",
     "text": [
      "INFO:tensorflow:Assets written to: model1\\assets\n"
     ]
    },
    {
     "name": "stdout",
     "output_type": "stream",
     "text": [
      "6/6 [==============================] - 12s 2s/step - loss: 0.0034 - root_mean_squared_error: 0.0579 - val_loss: 0.0217 - val_root_mean_squared_error: 0.1472\n",
      "Epoch 15/100\n",
      "6/6 [==============================] - ETA: 0s - loss: 0.0032 - root_mean_squared_error: 0.0568INFO:tensorflow:Assets written to: model1\\assets\n"
     ]
    },
    {
     "name": "stderr",
     "output_type": "stream",
     "text": [
      "INFO:tensorflow:Assets written to: model1\\assets\n"
     ]
    },
    {
     "name": "stdout",
     "output_type": "stream",
     "text": [
      "6/6 [==============================] - 12s 2s/step - loss: 0.0032 - root_mean_squared_error: 0.0568 - val_loss: 0.0208 - val_root_mean_squared_error: 0.1443\n",
      "Epoch 16/100\n",
      "6/6 [==============================] - ETA: 0s - loss: 0.0031 - root_mean_squared_error: 0.0556INFO:tensorflow:Assets written to: model1\\assets\n"
     ]
    },
    {
     "name": "stderr",
     "output_type": "stream",
     "text": [
      "INFO:tensorflow:Assets written to: model1\\assets\n"
     ]
    },
    {
     "name": "stdout",
     "output_type": "stream",
     "text": [
      "6/6 [==============================] - 12s 2s/step - loss: 0.0031 - root_mean_squared_error: 0.0556 - val_loss: 0.0200 - val_root_mean_squared_error: 0.1415\n",
      "Epoch 17/100\n",
      "6/6 [==============================] - ETA: 0s - loss: 0.0030 - root_mean_squared_error: 0.0544INFO:tensorflow:Assets written to: model1\\assets\n"
     ]
    },
    {
     "name": "stderr",
     "output_type": "stream",
     "text": [
      "INFO:tensorflow:Assets written to: model1\\assets\n"
     ]
    },
    {
     "name": "stdout",
     "output_type": "stream",
     "text": [
      "6/6 [==============================] - 12s 2s/step - loss: 0.0030 - root_mean_squared_error: 0.0544 - val_loss: 0.0192 - val_root_mean_squared_error: 0.1386\n",
      "Epoch 18/100\n",
      "6/6 [==============================] - ETA: 0s - loss: 0.0028 - root_mean_squared_error: 0.0532INFO:tensorflow:Assets written to: model1\\assets\n"
     ]
    },
    {
     "name": "stderr",
     "output_type": "stream",
     "text": [
      "INFO:tensorflow:Assets written to: model1\\assets\n"
     ]
    },
    {
     "name": "stdout",
     "output_type": "stream",
     "text": [
      "6/6 [==============================] - 12s 2s/step - loss: 0.0028 - root_mean_squared_error: 0.0532 - val_loss: 0.0184 - val_root_mean_squared_error: 0.1358\n",
      "Epoch 19/100\n",
      "6/6 [==============================] - ETA: 0s - loss: 0.0027 - root_mean_squared_error: 0.0521INFO:tensorflow:Assets written to: model1\\assets\n"
     ]
    },
    {
     "name": "stderr",
     "output_type": "stream",
     "text": [
      "INFO:tensorflow:Assets written to: model1\\assets\n"
     ]
    },
    {
     "name": "stdout",
     "output_type": "stream",
     "text": [
      "6/6 [==============================] - 12s 2s/step - loss: 0.0027 - root_mean_squared_error: 0.0521 - val_loss: 0.0177 - val_root_mean_squared_error: 0.1329\n",
      "Epoch 20/100\n",
      "6/6 [==============================] - ETA: 0s - loss: 0.0026 - root_mean_squared_error: 0.0511INFO:tensorflow:Assets written to: model1\\assets\n"
     ]
    },
    {
     "name": "stderr",
     "output_type": "stream",
     "text": [
      "INFO:tensorflow:Assets written to: model1\\assets\n"
     ]
    },
    {
     "name": "stdout",
     "output_type": "stream",
     "text": [
      "6/6 [==============================] - 13s 3s/step - loss: 0.0026 - root_mean_squared_error: 0.0511 - val_loss: 0.0169 - val_root_mean_squared_error: 0.1300\n",
      "Epoch 21/100\n",
      "6/6 [==============================] - ETA: 0s - loss: 0.0025 - root_mean_squared_error: 0.0501INFO:tensorflow:Assets written to: model1\\assets\n"
     ]
    },
    {
     "name": "stderr",
     "output_type": "stream",
     "text": [
      "INFO:tensorflow:Assets written to: model1\\assets\n"
     ]
    },
    {
     "name": "stdout",
     "output_type": "stream",
     "text": [
      "6/6 [==============================] - 14s 3s/step - loss: 0.0025 - root_mean_squared_error: 0.0501 - val_loss: 0.0162 - val_root_mean_squared_error: 0.1272\n",
      "Epoch 22/100\n",
      "6/6 [==============================] - ETA: 0s - loss: 0.0024 - root_mean_squared_error: 0.0491INFO:tensorflow:Assets written to: model1\\assets\n"
     ]
    },
    {
     "name": "stderr",
     "output_type": "stream",
     "text": [
      "INFO:tensorflow:Assets written to: model1\\assets\n"
     ]
    },
    {
     "name": "stdout",
     "output_type": "stream",
     "text": [
      "6/6 [==============================] - 11s 2s/step - loss: 0.0024 - root_mean_squared_error: 0.0491 - val_loss: 0.0155 - val_root_mean_squared_error: 0.1244\n",
      "Epoch 23/100\n",
      "6/6 [==============================] - ETA: 0s - loss: 0.0023 - root_mean_squared_error: 0.0481INFO:tensorflow:Assets written to: model1\\assets\n"
     ]
    },
    {
     "name": "stderr",
     "output_type": "stream",
     "text": [
      "INFO:tensorflow:Assets written to: model1\\assets\n"
     ]
    },
    {
     "name": "stdout",
     "output_type": "stream",
     "text": [
      "6/6 [==============================] - 12s 2s/step - loss: 0.0023 - root_mean_squared_error: 0.0481 - val_loss: 0.0148 - val_root_mean_squared_error: 0.1216\n",
      "Epoch 24/100\n",
      "6/6 [==============================] - ETA: 0s - loss: 0.0022 - root_mean_squared_error: 0.0473INFO:tensorflow:Assets written to: model1\\assets\n"
     ]
    },
    {
     "name": "stderr",
     "output_type": "stream",
     "text": [
      "INFO:tensorflow:Assets written to: model1\\assets\n"
     ]
    },
    {
     "name": "stdout",
     "output_type": "stream",
     "text": [
      "6/6 [==============================] - 11s 2s/step - loss: 0.0022 - root_mean_squared_error: 0.0473 - val_loss: 0.0141 - val_root_mean_squared_error: 0.1187\n",
      "Epoch 25/100\n",
      "6/6 [==============================] - ETA: 0s - loss: 0.0022 - root_mean_squared_error: 0.0464INFO:tensorflow:Assets written to: model1\\assets\n"
     ]
    },
    {
     "name": "stderr",
     "output_type": "stream",
     "text": [
      "INFO:tensorflow:Assets written to: model1\\assets\n"
     ]
    },
    {
     "name": "stdout",
     "output_type": "stream",
     "text": [
      "6/6 [==============================] - 11s 2s/step - loss: 0.0022 - root_mean_squared_error: 0.0464 - val_loss: 0.0134 - val_root_mean_squared_error: 0.1159\n",
      "Epoch 26/100\n",
      "6/6 [==============================] - ETA: 0s - loss: 0.0021 - root_mean_squared_error: 0.0457INFO:tensorflow:Assets written to: model1\\assets\n"
     ]
    },
    {
     "name": "stderr",
     "output_type": "stream",
     "text": [
      "INFO:tensorflow:Assets written to: model1\\assets\n"
     ]
    },
    {
     "name": "stdout",
     "output_type": "stream",
     "text": [
      "6/6 [==============================] - 12s 2s/step - loss: 0.0021 - root_mean_squared_error: 0.0457 - val_loss: 0.0128 - val_root_mean_squared_error: 0.1133\n",
      "Epoch 27/100\n",
      "6/6 [==============================] - ETA: 0s - loss: 0.0020 - root_mean_squared_error: 0.0450INFO:tensorflow:Assets written to: model1\\assets\n"
     ]
    },
    {
     "name": "stderr",
     "output_type": "stream",
     "text": [
      "INFO:tensorflow:Assets written to: model1\\assets\n"
     ]
    },
    {
     "name": "stdout",
     "output_type": "stream",
     "text": [
      "6/6 [==============================] - 12s 2s/step - loss: 0.0020 - root_mean_squared_error: 0.0450 - val_loss: 0.0122 - val_root_mean_squared_error: 0.1106\n",
      "Epoch 28/100\n",
      "6/6 [==============================] - ETA: 0s - loss: 0.0020 - root_mean_squared_error: 0.0442INFO:tensorflow:Assets written to: model1\\assets\n"
     ]
    },
    {
     "name": "stderr",
     "output_type": "stream",
     "text": [
      "INFO:tensorflow:Assets written to: model1\\assets\n"
     ]
    },
    {
     "name": "stdout",
     "output_type": "stream",
     "text": [
      "6/6 [==============================] - 11s 2s/step - loss: 0.0020 - root_mean_squared_error: 0.0442 - val_loss: 0.0117 - val_root_mean_squared_error: 0.1081\n",
      "Epoch 29/100\n",
      "6/6 [==============================] - ETA: 0s - loss: 0.0019 - root_mean_squared_error: 0.0436INFO:tensorflow:Assets written to: model1\\assets\n"
     ]
    },
    {
     "name": "stderr",
     "output_type": "stream",
     "text": [
      "INFO:tensorflow:Assets written to: model1\\assets\n"
     ]
    },
    {
     "name": "stdout",
     "output_type": "stream",
     "text": [
      "6/6 [==============================] - 12s 2s/step - loss: 0.0019 - root_mean_squared_error: 0.0436 - val_loss: 0.0112 - val_root_mean_squared_error: 0.1057\n",
      "Epoch 30/100\n",
      "6/6 [==============================] - ETA: 0s - loss: 0.0018 - root_mean_squared_error: 0.0430INFO:tensorflow:Assets written to: model1\\assets\n"
     ]
    },
    {
     "name": "stderr",
     "output_type": "stream",
     "text": [
      "INFO:tensorflow:Assets written to: model1\\assets\n"
     ]
    },
    {
     "name": "stdout",
     "output_type": "stream",
     "text": [
      "6/6 [==============================] - 13s 3s/step - loss: 0.0018 - root_mean_squared_error: 0.0430 - val_loss: 0.0107 - val_root_mean_squared_error: 0.1035\n",
      "Epoch 31/100\n",
      "6/6 [==============================] - ETA: 0s - loss: 0.0018 - root_mean_squared_error: 0.0425INFO:tensorflow:Assets written to: model1\\assets\n"
     ]
    },
    {
     "name": "stderr",
     "output_type": "stream",
     "text": [
      "INFO:tensorflow:Assets written to: model1\\assets\n"
     ]
    },
    {
     "name": "stdout",
     "output_type": "stream",
     "text": [
      "6/6 [==============================] - 12s 2s/step - loss: 0.0018 - root_mean_squared_error: 0.0425 - val_loss: 0.0102 - val_root_mean_squared_error: 0.1012\n",
      "Epoch 32/100\n",
      "6/6 [==============================] - ETA: 0s - loss: 0.0018 - root_mean_squared_error: 0.0420INFO:tensorflow:Assets written to: model1\\assets\n"
     ]
    },
    {
     "name": "stderr",
     "output_type": "stream",
     "text": [
      "INFO:tensorflow:Assets written to: model1\\assets\n"
     ]
    },
    {
     "name": "stdout",
     "output_type": "stream",
     "text": [
      "6/6 [==============================] - 11s 2s/step - loss: 0.0018 - root_mean_squared_error: 0.0420 - val_loss: 0.0098 - val_root_mean_squared_error: 0.0990\n",
      "Epoch 33/100\n",
      "6/6 [==============================] - ETA: 0s - loss: 0.0017 - root_mean_squared_error: 0.0415INFO:tensorflow:Assets written to: model1\\assets\n"
     ]
    },
    {
     "name": "stderr",
     "output_type": "stream",
     "text": [
      "INFO:tensorflow:Assets written to: model1\\assets\n"
     ]
    },
    {
     "name": "stdout",
     "output_type": "stream",
     "text": [
      "6/6 [==============================] - 12s 2s/step - loss: 0.0017 - root_mean_squared_error: 0.0415 - val_loss: 0.0094 - val_root_mean_squared_error: 0.0970\n",
      "Epoch 34/100\n",
      "6/6 [==============================] - ETA: 0s - loss: 0.0017 - root_mean_squared_error: 0.0410INFO:tensorflow:Assets written to: model1\\assets\n"
     ]
    },
    {
     "name": "stderr",
     "output_type": "stream",
     "text": [
      "INFO:tensorflow:Assets written to: model1\\assets\n"
     ]
    },
    {
     "name": "stdout",
     "output_type": "stream",
     "text": [
      "6/6 [==============================] - 11s 2s/step - loss: 0.0017 - root_mean_squared_error: 0.0410 - val_loss: 0.0090 - val_root_mean_squared_error: 0.0951\n",
      "Epoch 35/100\n",
      "6/6 [==============================] - ETA: 0s - loss: 0.0016 - root_mean_squared_error: 0.0406INFO:tensorflow:Assets written to: model1\\assets\n"
     ]
    },
    {
     "name": "stderr",
     "output_type": "stream",
     "text": [
      "INFO:tensorflow:Assets written to: model1\\assets\n"
     ]
    },
    {
     "name": "stdout",
     "output_type": "stream",
     "text": [
      "6/6 [==============================] - 13s 3s/step - loss: 0.0016 - root_mean_squared_error: 0.0406 - val_loss: 0.0087 - val_root_mean_squared_error: 0.0932\n",
      "Epoch 36/100\n",
      "6/6 [==============================] - ETA: 0s - loss: 0.0016 - root_mean_squared_error: 0.0401INFO:tensorflow:Assets written to: model1\\assets\n"
     ]
    },
    {
     "name": "stderr",
     "output_type": "stream",
     "text": [
      "INFO:tensorflow:Assets written to: model1\\assets\n"
     ]
    },
    {
     "name": "stdout",
     "output_type": "stream",
     "text": [
      "6/6 [==============================] - 12s 2s/step - loss: 0.0016 - root_mean_squared_error: 0.0401 - val_loss: 0.0084 - val_root_mean_squared_error: 0.0917\n",
      "Epoch 37/100\n",
      "6/6 [==============================] - ETA: 0s - loss: 0.0016 - root_mean_squared_error: 0.0397INFO:tensorflow:Assets written to: model1\\assets\n"
     ]
    },
    {
     "name": "stderr",
     "output_type": "stream",
     "text": [
      "INFO:tensorflow:Assets written to: model1\\assets\n"
     ]
    },
    {
     "name": "stdout",
     "output_type": "stream",
     "text": [
      "6/6 [==============================] - 11s 2s/step - loss: 0.0016 - root_mean_squared_error: 0.0397 - val_loss: 0.0081 - val_root_mean_squared_error: 0.0900\n",
      "Epoch 38/100\n",
      "6/6 [==============================] - ETA: 0s - loss: 0.0015 - root_mean_squared_error: 0.0393INFO:tensorflow:Assets written to: model1\\assets\n"
     ]
    },
    {
     "name": "stderr",
     "output_type": "stream",
     "text": [
      "INFO:tensorflow:Assets written to: model1\\assets\n"
     ]
    },
    {
     "name": "stdout",
     "output_type": "stream",
     "text": [
      "6/6 [==============================] - 12s 2s/step - loss: 0.0015 - root_mean_squared_error: 0.0393 - val_loss: 0.0078 - val_root_mean_squared_error: 0.0885\n",
      "Epoch 39/100\n",
      "6/6 [==============================] - ETA: 0s - loss: 0.0015 - root_mean_squared_error: 0.0389INFO:tensorflow:Assets written to: model1\\assets\n"
     ]
    },
    {
     "name": "stderr",
     "output_type": "stream",
     "text": [
      "INFO:tensorflow:Assets written to: model1\\assets\n"
     ]
    },
    {
     "name": "stdout",
     "output_type": "stream",
     "text": [
      "6/6 [==============================] - 12s 2s/step - loss: 0.0015 - root_mean_squared_error: 0.0389 - val_loss: 0.0075 - val_root_mean_squared_error: 0.0869\n",
      "Epoch 40/100\n",
      "6/6 [==============================] - ETA: 0s - loss: 0.0015 - root_mean_squared_error: 0.0384INFO:tensorflow:Assets written to: model1\\assets\n"
     ]
    },
    {
     "name": "stderr",
     "output_type": "stream",
     "text": [
      "INFO:tensorflow:Assets written to: model1\\assets\n"
     ]
    },
    {
     "name": "stdout",
     "output_type": "stream",
     "text": [
      "6/6 [==============================] - 12s 2s/step - loss: 0.0015 - root_mean_squared_error: 0.0384 - val_loss: 0.0073 - val_root_mean_squared_error: 0.0855\n",
      "Epoch 41/100\n",
      "6/6 [==============================] - ETA: 0s - loss: 0.0014 - root_mean_squared_error: 0.0380INFO:tensorflow:Assets written to: model1\\assets\n"
     ]
    },
    {
     "name": "stderr",
     "output_type": "stream",
     "text": [
      "INFO:tensorflow:Assets written to: model1\\assets\n"
     ]
    },
    {
     "name": "stdout",
     "output_type": "stream",
     "text": [
      "6/6 [==============================] - 11s 2s/step - loss: 0.0014 - root_mean_squared_error: 0.0380 - val_loss: 0.0071 - val_root_mean_squared_error: 0.0842\n",
      "Epoch 42/100\n",
      "6/6 [==============================] - ETA: 0s - loss: 0.0014 - root_mean_squared_error: 0.0375INFO:tensorflow:Assets written to: model1\\assets\n"
     ]
    },
    {
     "name": "stderr",
     "output_type": "stream",
     "text": [
      "INFO:tensorflow:Assets written to: model1\\assets\n"
     ]
    },
    {
     "name": "stdout",
     "output_type": "stream",
     "text": [
      "6/6 [==============================] - 12s 2s/step - loss: 0.0014 - root_mean_squared_error: 0.0375 - val_loss: 0.0069 - val_root_mean_squared_error: 0.0831\n",
      "Epoch 43/100\n",
      "6/6 [==============================] - ETA: 0s - loss: 0.0014 - root_mean_squared_error: 0.0371INFO:tensorflow:Assets written to: model1\\assets\n"
     ]
    },
    {
     "name": "stderr",
     "output_type": "stream",
     "text": [
      "INFO:tensorflow:Assets written to: model1\\assets\n"
     ]
    },
    {
     "name": "stdout",
     "output_type": "stream",
     "text": [
      "6/6 [==============================] - 11s 2s/step - loss: 0.0014 - root_mean_squared_error: 0.0371 - val_loss: 0.0067 - val_root_mean_squared_error: 0.0817\n",
      "Epoch 44/100\n",
      "6/6 [==============================] - ETA: 0s - loss: 0.0013 - root_mean_squared_error: 0.0367INFO:tensorflow:Assets written to: model1\\assets\n"
     ]
    },
    {
     "name": "stderr",
     "output_type": "stream",
     "text": [
      "INFO:tensorflow:Assets written to: model1\\assets\n"
     ]
    },
    {
     "name": "stdout",
     "output_type": "stream",
     "text": [
      "6/6 [==============================] - 11s 2s/step - loss: 0.0013 - root_mean_squared_error: 0.0367 - val_loss: 0.0065 - val_root_mean_squared_error: 0.0805\n",
      "Epoch 45/100\n",
      "6/6 [==============================] - ETA: 0s - loss: 0.0013 - root_mean_squared_error: 0.0362INFO:tensorflow:Assets written to: model1\\assets\n"
     ]
    },
    {
     "name": "stderr",
     "output_type": "stream",
     "text": [
      "INFO:tensorflow:Assets written to: model1\\assets\n"
     ]
    },
    {
     "name": "stdout",
     "output_type": "stream",
     "text": [
      "6/6 [==============================] - 11s 2s/step - loss: 0.0013 - root_mean_squared_error: 0.0362 - val_loss: 0.0063 - val_root_mean_squared_error: 0.0792\n",
      "Epoch 46/100\n",
      "6/6 [==============================] - ETA: 0s - loss: 0.0013 - root_mean_squared_error: 0.0357INFO:tensorflow:Assets written to: model1\\assets\n"
     ]
    },
    {
     "name": "stderr",
     "output_type": "stream",
     "text": [
      "INFO:tensorflow:Assets written to: model1\\assets\n"
     ]
    },
    {
     "name": "stdout",
     "output_type": "stream",
     "text": [
      "6/6 [==============================] - 12s 2s/step - loss: 0.0013 - root_mean_squared_error: 0.0357 - val_loss: 0.0061 - val_root_mean_squared_error: 0.0779\n",
      "Epoch 47/100\n",
      "6/6 [==============================] - ETA: 0s - loss: 0.0012 - root_mean_squared_error: 0.0353INFO:tensorflow:Assets written to: model1\\assets\n"
     ]
    },
    {
     "name": "stderr",
     "output_type": "stream",
     "text": [
      "INFO:tensorflow:Assets written to: model1\\assets\n"
     ]
    },
    {
     "name": "stdout",
     "output_type": "stream",
     "text": [
      "6/6 [==============================] - 11s 2s/step - loss: 0.0012 - root_mean_squared_error: 0.0353 - val_loss: 0.0059 - val_root_mean_squared_error: 0.0767\n",
      "Epoch 48/100\n",
      "6/6 [==============================] - ETA: 0s - loss: 0.0012 - root_mean_squared_error: 0.0348INFO:tensorflow:Assets written to: model1\\assets\n"
     ]
    },
    {
     "name": "stderr",
     "output_type": "stream",
     "text": [
      "INFO:tensorflow:Assets written to: model1\\assets\n"
     ]
    },
    {
     "name": "stdout",
     "output_type": "stream",
     "text": [
      "6/6 [==============================] - 12s 2s/step - loss: 0.0012 - root_mean_squared_error: 0.0348 - val_loss: 0.0057 - val_root_mean_squared_error: 0.0755\n",
      "Epoch 49/100\n",
      "6/6 [==============================] - ETA: 0s - loss: 0.0012 - root_mean_squared_error: 0.0343INFO:tensorflow:Assets written to: model1\\assets\n"
     ]
    },
    {
     "name": "stderr",
     "output_type": "stream",
     "text": [
      "INFO:tensorflow:Assets written to: model1\\assets\n"
     ]
    },
    {
     "name": "stdout",
     "output_type": "stream",
     "text": [
      "6/6 [==============================] - 12s 2s/step - loss: 0.0012 - root_mean_squared_error: 0.0343 - val_loss: 0.0055 - val_root_mean_squared_error: 0.0742\n",
      "Epoch 50/100\n",
      "6/6 [==============================] - ETA: 0s - loss: 0.0011 - root_mean_squared_error: 0.0338INFO:tensorflow:Assets written to: model1\\assets\n"
     ]
    },
    {
     "name": "stderr",
     "output_type": "stream",
     "text": [
      "INFO:tensorflow:Assets written to: model1\\assets\n"
     ]
    },
    {
     "name": "stdout",
     "output_type": "stream",
     "text": [
      "6/6 [==============================] - 14s 3s/step - loss: 0.0011 - root_mean_squared_error: 0.0338 - val_loss: 0.0053 - val_root_mean_squared_error: 0.0730\n",
      "Epoch 51/100\n",
      "6/6 [==============================] - ETA: 0s - loss: 0.0011 - root_mean_squared_error: 0.0333INFO:tensorflow:Assets written to: model1\\assets\n"
     ]
    },
    {
     "name": "stderr",
     "output_type": "stream",
     "text": [
      "INFO:tensorflow:Assets written to: model1\\assets\n"
     ]
    },
    {
     "name": "stdout",
     "output_type": "stream",
     "text": [
      "6/6 [==============================] - 12s 2s/step - loss: 0.0011 - root_mean_squared_error: 0.0333 - val_loss: 0.0052 - val_root_mean_squared_error: 0.0718\n",
      "Epoch 52/100\n",
      "6/6 [==============================] - ETA: 0s - loss: 0.0011 - root_mean_squared_error: 0.0328INFO:tensorflow:Assets written to: model1\\assets\n"
     ]
    },
    {
     "name": "stderr",
     "output_type": "stream",
     "text": [
      "INFO:tensorflow:Assets written to: model1\\assets\n"
     ]
    },
    {
     "name": "stdout",
     "output_type": "stream",
     "text": [
      "6/6 [==============================] - 12s 2s/step - loss: 0.0011 - root_mean_squared_error: 0.0328 - val_loss: 0.0050 - val_root_mean_squared_error: 0.0707\n",
      "Epoch 53/100\n",
      "6/6 [==============================] - ETA: 0s - loss: 0.0010 - root_mean_squared_error: 0.0323INFO:tensorflow:Assets written to: model1\\assets\n"
     ]
    },
    {
     "name": "stderr",
     "output_type": "stream",
     "text": [
      "INFO:tensorflow:Assets written to: model1\\assets\n"
     ]
    },
    {
     "name": "stdout",
     "output_type": "stream",
     "text": [
      "6/6 [==============================] - 11s 2s/step - loss: 0.0010 - root_mean_squared_error: 0.0323 - val_loss: 0.0048 - val_root_mean_squared_error: 0.0693\n",
      "Epoch 54/100\n",
      "6/6 [==============================] - ETA: 0s - loss: 0.0010 - root_mean_squared_error: 0.0317    INFO:tensorflow:Assets written to: model1\\assets\n"
     ]
    },
    {
     "name": "stderr",
     "output_type": "stream",
     "text": [
      "INFO:tensorflow:Assets written to: model1\\assets\n"
     ]
    },
    {
     "name": "stdout",
     "output_type": "stream",
     "text": [
      "6/6 [==============================] - 12s 2s/step - loss: 0.0010 - root_mean_squared_error: 0.0317 - val_loss: 0.0046 - val_root_mean_squared_error: 0.0682\n",
      "Epoch 55/100\n",
      "6/6 [==============================] - ETA: 0s - loss: 9.7151e-04 - root_mean_squared_error: 0.0312INFO:tensorflow:Assets written to: model1\\assets\n"
     ]
    },
    {
     "name": "stderr",
     "output_type": "stream",
     "text": [
      "INFO:tensorflow:Assets written to: model1\\assets\n"
     ]
    },
    {
     "name": "stdout",
     "output_type": "stream",
     "text": [
      "6/6 [==============================] - 11s 2s/step - loss: 9.7151e-04 - root_mean_squared_error: 0.0312 - val_loss: 0.0045 - val_root_mean_squared_error: 0.0668\n",
      "Epoch 56/100\n",
      "6/6 [==============================] - ETA: 0s - loss: 9.3727e-04 - root_mean_squared_error: 0.0306INFO:tensorflow:Assets written to: model1\\assets\n"
     ]
    },
    {
     "name": "stderr",
     "output_type": "stream",
     "text": [
      "INFO:tensorflow:Assets written to: model1\\assets\n"
     ]
    },
    {
     "name": "stdout",
     "output_type": "stream",
     "text": [
      "6/6 [==============================] - 12s 2s/step - loss: 9.3727e-04 - root_mean_squared_error: 0.0306 - val_loss: 0.0043 - val_root_mean_squared_error: 0.0656\n",
      "Epoch 57/100\n",
      "6/6 [==============================] - ETA: 0s - loss: 9.0194e-04 - root_mean_squared_error: 0.0300INFO:tensorflow:Assets written to: model1\\assets\n"
     ]
    },
    {
     "name": "stderr",
     "output_type": "stream",
     "text": [
      "INFO:tensorflow:Assets written to: model1\\assets\n"
     ]
    },
    {
     "name": "stdout",
     "output_type": "stream",
     "text": [
      "6/6 [==============================] - 12s 2s/step - loss: 9.0194e-04 - root_mean_squared_error: 0.0300 - val_loss: 0.0041 - val_root_mean_squared_error: 0.0643\n",
      "Epoch 58/100\n",
      "6/6 [==============================] - ETA: 0s - loss: 8.6980e-04 - root_mean_squared_error: 0.0295INFO:tensorflow:Assets written to: model1\\assets\n"
     ]
    },
    {
     "name": "stderr",
     "output_type": "stream",
     "text": [
      "INFO:tensorflow:Assets written to: model1\\assets\n"
     ]
    },
    {
     "name": "stdout",
     "output_type": "stream",
     "text": [
      "6/6 [==============================] - 12s 2s/step - loss: 8.6980e-04 - root_mean_squared_error: 0.0295 - val_loss: 0.0039 - val_root_mean_squared_error: 0.0627\n",
      "Epoch 59/100\n",
      "6/6 [==============================] - ETA: 0s - loss: 8.3451e-04 - root_mean_squared_error: 0.0289INFO:tensorflow:Assets written to: model1\\assets\n"
     ]
    },
    {
     "name": "stderr",
     "output_type": "stream",
     "text": [
      "INFO:tensorflow:Assets written to: model1\\assets\n"
     ]
    },
    {
     "name": "stdout",
     "output_type": "stream",
     "text": [
      "6/6 [==============================] - 13s 3s/step - loss: 8.3451e-04 - root_mean_squared_error: 0.0289 - val_loss: 0.0038 - val_root_mean_squared_error: 0.0612\n",
      "Epoch 60/100\n",
      "6/6 [==============================] - ETA: 0s - loss: 8.0104e-04 - root_mean_squared_error: 0.0283INFO:tensorflow:Assets written to: model1\\assets\n"
     ]
    },
    {
     "name": "stderr",
     "output_type": "stream",
     "text": [
      "INFO:tensorflow:Assets written to: model1\\assets\n"
     ]
    },
    {
     "name": "stdout",
     "output_type": "stream",
     "text": [
      "6/6 [==============================] - 12s 2s/step - loss: 8.0104e-04 - root_mean_squared_error: 0.0283 - val_loss: 0.0036 - val_root_mean_squared_error: 0.0598\n",
      "Epoch 61/100\n",
      "6/6 [==============================] - ETA: 0s - loss: 7.6651e-04 - root_mean_squared_error: 0.0277INFO:tensorflow:Assets written to: model1\\assets\n"
     ]
    },
    {
     "name": "stderr",
     "output_type": "stream",
     "text": [
      "INFO:tensorflow:Assets written to: model1\\assets\n"
     ]
    },
    {
     "name": "stdout",
     "output_type": "stream",
     "text": [
      "6/6 [==============================] - 11s 2s/step - loss: 7.6651e-04 - root_mean_squared_error: 0.0277 - val_loss: 0.0034 - val_root_mean_squared_error: 0.0584\n",
      "Epoch 62/100\n",
      "6/6 [==============================] - ETA: 0s - loss: 7.3336e-04 - root_mean_squared_error: 0.0271INFO:tensorflow:Assets written to: model1\\assets\n"
     ]
    },
    {
     "name": "stderr",
     "output_type": "stream",
     "text": [
      "INFO:tensorflow:Assets written to: model1\\assets\n"
     ]
    },
    {
     "name": "stdout",
     "output_type": "stream",
     "text": [
      "6/6 [==============================] - 11s 2s/step - loss: 7.3336e-04 - root_mean_squared_error: 0.0271 - val_loss: 0.0033 - val_root_mean_squared_error: 0.0571\n",
      "Epoch 63/100\n",
      "6/6 [==============================] - ETA: 0s - loss: 7.0051e-04 - root_mean_squared_error: 0.0265INFO:tensorflow:Assets written to: model1\\assets\n"
     ]
    },
    {
     "name": "stderr",
     "output_type": "stream",
     "text": [
      "INFO:tensorflow:Assets written to: model1\\assets\n"
     ]
    },
    {
     "name": "stdout",
     "output_type": "stream",
     "text": [
      "6/6 [==============================] - 11s 2s/step - loss: 7.0051e-04 - root_mean_squared_error: 0.0265 - val_loss: 0.0031 - val_root_mean_squared_error: 0.0556\n",
      "Epoch 64/100\n",
      "6/6 [==============================] - ETA: 0s - loss: 6.6734e-04 - root_mean_squared_error: 0.0258INFO:tensorflow:Assets written to: model1\\assets\n"
     ]
    },
    {
     "name": "stderr",
     "output_type": "stream",
     "text": [
      "INFO:tensorflow:Assets written to: model1\\assets\n"
     ]
    },
    {
     "name": "stdout",
     "output_type": "stream",
     "text": [
      "6/6 [==============================] - 11s 2s/step - loss: 6.6734e-04 - root_mean_squared_error: 0.0258 - val_loss: 0.0029 - val_root_mean_squared_error: 0.0542\n",
      "Epoch 65/100\n",
      "6/6 [==============================] - ETA: 0s - loss: 6.3470e-04 - root_mean_squared_error: 0.0252INFO:tensorflow:Assets written to: model1\\assets\n"
     ]
    },
    {
     "name": "stderr",
     "output_type": "stream",
     "text": [
      "INFO:tensorflow:Assets written to: model1\\assets\n"
     ]
    },
    {
     "name": "stdout",
     "output_type": "stream",
     "text": [
      "6/6 [==============================] - 11s 2s/step - loss: 6.3470e-04 - root_mean_squared_error: 0.0252 - val_loss: 0.0028 - val_root_mean_squared_error: 0.0528\n",
      "Epoch 66/100\n",
      "6/6 [==============================] - ETA: 0s - loss: 6.0198e-04 - root_mean_squared_error: 0.0245INFO:tensorflow:Assets written to: model1\\assets\n"
     ]
    },
    {
     "name": "stderr",
     "output_type": "stream",
     "text": [
      "INFO:tensorflow:Assets written to: model1\\assets\n"
     ]
    },
    {
     "name": "stdout",
     "output_type": "stream",
     "text": [
      "6/6 [==============================] - 11s 2s/step - loss: 6.0198e-04 - root_mean_squared_error: 0.0245 - val_loss: 0.0026 - val_root_mean_squared_error: 0.0514\n",
      "Epoch 67/100\n",
      "6/6 [==============================] - ETA: 0s - loss: 5.7061e-04 - root_mean_squared_error: 0.0239INFO:tensorflow:Assets written to: model1\\assets\n"
     ]
    },
    {
     "name": "stderr",
     "output_type": "stream",
     "text": [
      "INFO:tensorflow:Assets written to: model1\\assets\n"
     ]
    },
    {
     "name": "stdout",
     "output_type": "stream",
     "text": [
      "6/6 [==============================] - 11s 2s/step - loss: 5.7061e-04 - root_mean_squared_error: 0.0239 - val_loss: 0.0025 - val_root_mean_squared_error: 0.0499\n",
      "Epoch 68/100\n",
      "6/6 [==============================] - ETA: 0s - loss: 5.3980e-04 - root_mean_squared_error: 0.0232INFO:tensorflow:Assets written to: model1\\assets\n"
     ]
    },
    {
     "name": "stderr",
     "output_type": "stream",
     "text": [
      "INFO:tensorflow:Assets written to: model1\\assets\n"
     ]
    },
    {
     "name": "stdout",
     "output_type": "stream",
     "text": [
      "6/6 [==============================] - 12s 2s/step - loss: 5.3980e-04 - root_mean_squared_error: 0.0232 - val_loss: 0.0023 - val_root_mean_squared_error: 0.0485\n",
      "Epoch 69/100\n",
      "6/6 [==============================] - ETA: 0s - loss: 5.0963e-04 - root_mean_squared_error: 0.0226- ETA: 0s - loss: 5.0716e-04 - root_mean_squared_error: 0.0INFO:tensorflow:Assets written to: model1\\assets\n"
     ]
    },
    {
     "name": "stderr",
     "output_type": "stream",
     "text": [
      "INFO:tensorflow:Assets written to: model1\\assets\n"
     ]
    },
    {
     "name": "stdout",
     "output_type": "stream",
     "text": [
      "6/6 [==============================] - 13s 3s/step - loss: 5.0963e-04 - root_mean_squared_error: 0.0226 - val_loss: 0.0022 - val_root_mean_squared_error: 0.0469\n",
      "Epoch 70/100\n",
      "6/6 [==============================] - ETA: 0s - loss: 4.7929e-04 - root_mean_squared_error: 0.0219INFO:tensorflow:Assets written to: model1\\assets\n"
     ]
    },
    {
     "name": "stderr",
     "output_type": "stream",
     "text": [
      "INFO:tensorflow:Assets written to: model1\\assets\n"
     ]
    },
    {
     "name": "stdout",
     "output_type": "stream",
     "text": [
      "6/6 [==============================] - 11s 2s/step - loss: 4.7929e-04 - root_mean_squared_error: 0.0219 - val_loss: 0.0021 - val_root_mean_squared_error: 0.0455\n",
      "Epoch 71/100\n",
      "6/6 [==============================] - ETA: 0s - loss: 4.5106e-04 - root_mean_squared_error: 0.0212INFO:tensorflow:Assets written to: model1\\assets\n"
     ]
    },
    {
     "name": "stderr",
     "output_type": "stream",
     "text": [
      "INFO:tensorflow:Assets written to: model1\\assets\n"
     ]
    },
    {
     "name": "stdout",
     "output_type": "stream",
     "text": [
      "6/6 [==============================] - 13s 3s/step - loss: 4.5106e-04 - root_mean_squared_error: 0.0212 - val_loss: 0.0019 - val_root_mean_squared_error: 0.0438\n",
      "Epoch 72/100\n",
      "6/6 [==============================] - ETA: 0s - loss: 4.2268e-04 - root_mean_squared_error: 0.0206INFO:tensorflow:Assets written to: model1\\assets\n"
     ]
    },
    {
     "name": "stderr",
     "output_type": "stream",
     "text": [
      "INFO:tensorflow:Assets written to: model1\\assets\n"
     ]
    },
    {
     "name": "stdout",
     "output_type": "stream",
     "text": [
      "6/6 [==============================] - 11s 2s/step - loss: 4.2268e-04 - root_mean_squared_error: 0.0206 - val_loss: 0.0018 - val_root_mean_squared_error: 0.0419\n",
      "Epoch 73/100\n",
      "6/6 [==============================] - ETA: 0s - loss: 3.9423e-04 - root_mean_squared_error: 0.0199INFO:tensorflow:Assets written to: model1\\assets\n"
     ]
    },
    {
     "name": "stderr",
     "output_type": "stream",
     "text": [
      "INFO:tensorflow:Assets written to: model1\\assets\n"
     ]
    },
    {
     "name": "stdout",
     "output_type": "stream",
     "text": [
      "6/6 [==============================] - 12s 2s/step - loss: 3.9423e-04 - root_mean_squared_error: 0.0199 - val_loss: 0.0016 - val_root_mean_squared_error: 0.0404\n",
      "Epoch 74/100\n",
      "6/6 [==============================] - ETA: 0s - loss: 3.6717e-04 - root_mean_squared_error: 0.0192INFO:tensorflow:Assets written to: model1\\assets\n"
     ]
    },
    {
     "name": "stderr",
     "output_type": "stream",
     "text": [
      "INFO:tensorflow:Assets written to: model1\\assets\n"
     ]
    },
    {
     "name": "stdout",
     "output_type": "stream",
     "text": [
      "6/6 [==============================] - 12s 2s/step - loss: 3.6717e-04 - root_mean_squared_error: 0.0192 - val_loss: 0.0015 - val_root_mean_squared_error: 0.0388\n",
      "Epoch 75/100\n",
      "6/6 [==============================] - ETA: 0s - loss: 3.4164e-04 - root_mean_squared_error: 0.0185INFO:tensorflow:Assets written to: model1\\assets\n"
     ]
    },
    {
     "name": "stderr",
     "output_type": "stream",
     "text": [
      "INFO:tensorflow:Assets written to: model1\\assets\n"
     ]
    },
    {
     "name": "stdout",
     "output_type": "stream",
     "text": [
      "6/6 [==============================] - 12s 2s/step - loss: 3.4164e-04 - root_mean_squared_error: 0.0185 - val_loss: 0.0014 - val_root_mean_squared_error: 0.0374\n",
      "Epoch 76/100\n",
      "6/6 [==============================] - ETA: 0s - loss: 3.1722e-04 - root_mean_squared_error: 0.0178INFO:tensorflow:Assets written to: model1\\assets\n"
     ]
    },
    {
     "name": "stderr",
     "output_type": "stream",
     "text": [
      "INFO:tensorflow:Assets written to: model1\\assets\n"
     ]
    },
    {
     "name": "stdout",
     "output_type": "stream",
     "text": [
      "6/6 [==============================] - 12s 2s/step - loss: 3.1722e-04 - root_mean_squared_error: 0.0178 - val_loss: 0.0013 - val_root_mean_squared_error: 0.0358\n",
      "Epoch 77/100\n",
      "6/6 [==============================] - ETA: 0s - loss: 2.9301e-04 - root_mean_squared_error: 0.0171INFO:tensorflow:Assets written to: model1\\assets\n"
     ]
    },
    {
     "name": "stderr",
     "output_type": "stream",
     "text": [
      "INFO:tensorflow:Assets written to: model1\\assets\n"
     ]
    },
    {
     "name": "stdout",
     "output_type": "stream",
     "text": [
      "6/6 [==============================] - 12s 2s/step - loss: 2.9301e-04 - root_mean_squared_error: 0.0171 - val_loss: 0.0012 - val_root_mean_squared_error: 0.0344\n",
      "Epoch 78/100\n",
      "6/6 [==============================] - ETA: 0s - loss: 2.7043e-04 - root_mean_squared_error: 0.0164INFO:tensorflow:Assets written to: model1\\assets\n"
     ]
    },
    {
     "name": "stderr",
     "output_type": "stream",
     "text": [
      "INFO:tensorflow:Assets written to: model1\\assets\n"
     ]
    },
    {
     "name": "stdout",
     "output_type": "stream",
     "text": [
      "6/6 [==============================] - 12s 2s/step - loss: 2.7043e-04 - root_mean_squared_error: 0.0164 - val_loss: 0.0011 - val_root_mean_squared_error: 0.0328\n",
      "Epoch 79/100\n",
      "6/6 [==============================] - ETA: 0s - loss: 2.4809e-04 - root_mean_squared_error: 0.0158INFO:tensorflow:Assets written to: model1\\assets\n"
     ]
    },
    {
     "name": "stderr",
     "output_type": "stream",
     "text": [
      "INFO:tensorflow:Assets written to: model1\\assets\n"
     ]
    },
    {
     "name": "stdout",
     "output_type": "stream",
     "text": [
      "6/6 [==============================] - 12s 2s/step - loss: 2.4809e-04 - root_mean_squared_error: 0.0158 - val_loss: 9.7132e-04 - val_root_mean_squared_error: 0.0312\n",
      "Epoch 80/100\n",
      "6/6 [==============================] - ETA: 0s - loss: 2.2783e-04 - root_mean_squared_error: 0.0151INFO:tensorflow:Assets written to: model1\\assets\n"
     ]
    },
    {
     "name": "stderr",
     "output_type": "stream",
     "text": [
      "INFO:tensorflow:Assets written to: model1\\assets\n"
     ]
    },
    {
     "name": "stdout",
     "output_type": "stream",
     "text": [
      "6/6 [==============================] - 11s 2s/step - loss: 2.2783e-04 - root_mean_squared_error: 0.0151 - val_loss: 8.7528e-04 - val_root_mean_squared_error: 0.0296\n",
      "Epoch 81/100\n",
      "6/6 [==============================] - ETA: 0s - loss: 2.0868e-04 - root_mean_squared_error: 0.0144INFO:tensorflow:Assets written to: model1\\assets\n"
     ]
    },
    {
     "name": "stderr",
     "output_type": "stream",
     "text": [
      "INFO:tensorflow:Assets written to: model1\\assets\n"
     ]
    },
    {
     "name": "stdout",
     "output_type": "stream",
     "text": [
      "6/6 [==============================] - 12s 2s/step - loss: 2.0868e-04 - root_mean_squared_error: 0.0144 - val_loss: 7.7717e-04 - val_root_mean_squared_error: 0.0279\n",
      "Epoch 82/100\n",
      "6/6 [==============================] - ETA: 0s - loss: 1.8992e-04 - root_mean_squared_error: 0.0138INFO:tensorflow:Assets written to: model1\\assets\n"
     ]
    },
    {
     "name": "stderr",
     "output_type": "stream",
     "text": [
      "INFO:tensorflow:Assets written to: model1\\assets\n"
     ]
    },
    {
     "name": "stdout",
     "output_type": "stream",
     "text": [
      "6/6 [==============================] - 12s 2s/step - loss: 1.8992e-04 - root_mean_squared_error: 0.0138 - val_loss: 6.9402e-04 - val_root_mean_squared_error: 0.0263\n",
      "Epoch 83/100\n",
      "6/6 [==============================] - ETA: 0s - loss: 1.7207e-04 - root_mean_squared_error: 0.0131INFO:tensorflow:Assets written to: model1\\assets\n"
     ]
    },
    {
     "name": "stderr",
     "output_type": "stream",
     "text": [
      "INFO:tensorflow:Assets written to: model1\\assets\n"
     ]
    },
    {
     "name": "stdout",
     "output_type": "stream",
     "text": [
      "6/6 [==============================] - 12s 2s/step - loss: 1.7207e-04 - root_mean_squared_error: 0.0131 - val_loss: 6.2120e-04 - val_root_mean_squared_error: 0.0249\n",
      "Epoch 84/100\n",
      "6/6 [==============================] - ETA: 0s - loss: 1.5598e-04 - root_mean_squared_error: 0.0125INFO:tensorflow:Assets written to: model1\\assets\n"
     ]
    },
    {
     "name": "stderr",
     "output_type": "stream",
     "text": [
      "INFO:tensorflow:Assets written to: model1\\assets\n"
     ]
    },
    {
     "name": "stdout",
     "output_type": "stream",
     "text": [
      "6/6 [==============================] - 12s 2s/step - loss: 1.5598e-04 - root_mean_squared_error: 0.0125 - val_loss: 5.4918e-04 - val_root_mean_squared_error: 0.0234\n",
      "Epoch 85/100\n",
      "6/6 [==============================] - ETA: 0s - loss: 1.4008e-04 - root_mean_squared_error: 0.0118INFO:tensorflow:Assets written to: model1\\assets\n"
     ]
    },
    {
     "name": "stderr",
     "output_type": "stream",
     "text": [
      "INFO:tensorflow:Assets written to: model1\\assets\n"
     ]
    },
    {
     "name": "stdout",
     "output_type": "stream",
     "text": [
      "6/6 [==============================] - 12s 2s/step - loss: 1.4008e-04 - root_mean_squared_error: 0.0118 - val_loss: 4.8625e-04 - val_root_mean_squared_error: 0.0221\n",
      "Epoch 86/100\n",
      "6/6 [==============================] - ETA: 0s - loss: 1.2655e-04 - root_mean_squared_error: 0.0112INFO:tensorflow:Assets written to: model1\\assets\n"
     ]
    },
    {
     "name": "stderr",
     "output_type": "stream",
     "text": [
      "INFO:tensorflow:Assets written to: model1\\assets\n"
     ]
    },
    {
     "name": "stdout",
     "output_type": "stream",
     "text": [
      "6/6 [==============================] - 12s 2s/step - loss: 1.2655e-04 - root_mean_squared_error: 0.0112 - val_loss: 4.2702e-04 - val_root_mean_squared_error: 0.0207\n",
      "Epoch 87/100\n",
      "6/6 [==============================] - ETA: 0s - loss: 1.1370e-04 - root_mean_squared_error: 0.0107INFO:tensorflow:Assets written to: model1\\assets\n"
     ]
    },
    {
     "name": "stderr",
     "output_type": "stream",
     "text": [
      "INFO:tensorflow:Assets written to: model1\\assets\n"
     ]
    },
    {
     "name": "stdout",
     "output_type": "stream",
     "text": [
      "6/6 [==============================] - 11s 2s/step - loss: 1.1370e-04 - root_mean_squared_error: 0.0107 - val_loss: 3.6943e-04 - val_root_mean_squared_error: 0.0192\n",
      "Epoch 88/100\n",
      "6/6 [==============================] - ETA: 0s - loss: 1.0128e-04 - root_mean_squared_error: 0.0101INFO:tensorflow:Assets written to: model1\\assets\n"
     ]
    },
    {
     "name": "stderr",
     "output_type": "stream",
     "text": [
      "INFO:tensorflow:Assets written to: model1\\assets\n"
     ]
    },
    {
     "name": "stdout",
     "output_type": "stream",
     "text": [
      "6/6 [==============================] - 12s 2s/step - loss: 1.0128e-04 - root_mean_squared_error: 0.0101 - val_loss: 3.2069e-04 - val_root_mean_squared_error: 0.0179\n",
      "Epoch 89/100\n",
      "6/6 [==============================] - ETA: 0s - loss: 9.0128e-05 - root_mean_squared_error: 0.0095INFO:tensorflow:Assets written to: model1\\assets\n"
     ]
    },
    {
     "name": "stderr",
     "output_type": "stream",
     "text": [
      "INFO:tensorflow:Assets written to: model1\\assets\n"
     ]
    },
    {
     "name": "stdout",
     "output_type": "stream",
     "text": [
      "6/6 [==============================] - 12s 2s/step - loss: 9.0128e-05 - root_mean_squared_error: 0.0095 - val_loss: 2.7443e-04 - val_root_mean_squared_error: 0.0166\n",
      "Epoch 90/100\n",
      "6/6 [==============================] - ETA: 0s - loss: 8.0153e-05 - root_mean_squared_error: 0.0090INFO:tensorflow:Assets written to: model1\\assets\n"
     ]
    },
    {
     "name": "stderr",
     "output_type": "stream",
     "text": [
      "INFO:tensorflow:Assets written to: model1\\assets\n"
     ]
    },
    {
     "name": "stdout",
     "output_type": "stream",
     "text": [
      "6/6 [==============================] - 12s 2s/step - loss: 8.0153e-05 - root_mean_squared_error: 0.0090 - val_loss: 2.3147e-04 - val_root_mean_squared_error: 0.0152\n",
      "Epoch 91/100\n",
      "6/6 [==============================] - ETA: 0s - loss: 7.0699e-05 - root_mean_squared_error: 0.0084INFO:tensorflow:Assets written to: model1\\assets\n"
     ]
    },
    {
     "name": "stderr",
     "output_type": "stream",
     "text": [
      "INFO:tensorflow:Assets written to: model1\\assets\n"
     ]
    },
    {
     "name": "stdout",
     "output_type": "stream",
     "text": [
      "6/6 [==============================] - 12s 2s/step - loss: 7.0699e-05 - root_mean_squared_error: 0.0084 - val_loss: 1.9532e-04 - val_root_mean_squared_error: 0.0140\n",
      "Epoch 92/100\n",
      "6/6 [==============================] - ETA: 0s - loss: 6.2453e-05 - root_mean_squared_error: 0.0079INFO:tensorflow:Assets written to: model1\\assets\n"
     ]
    },
    {
     "name": "stderr",
     "output_type": "stream",
     "text": [
      "INFO:tensorflow:Assets written to: model1\\assets\n"
     ]
    },
    {
     "name": "stdout",
     "output_type": "stream",
     "text": [
      "6/6 [==============================] - 12s 2s/step - loss: 6.2453e-05 - root_mean_squared_error: 0.0079 - val_loss: 1.6332e-04 - val_root_mean_squared_error: 0.0128\n",
      "Epoch 93/100\n",
      "6/6 [==============================] - ETA: 0s - loss: 5.4805e-05 - root_mean_squared_error: 0.0074INFO:tensorflow:Assets written to: model1\\assets\n"
     ]
    },
    {
     "name": "stderr",
     "output_type": "stream",
     "text": [
      "INFO:tensorflow:Assets written to: model1\\assets\n"
     ]
    },
    {
     "name": "stdout",
     "output_type": "stream",
     "text": [
      "6/6 [==============================] - 12s 2s/step - loss: 5.4805e-05 - root_mean_squared_error: 0.0074 - val_loss: 1.3598e-04 - val_root_mean_squared_error: 0.0117\n",
      "Epoch 94/100\n",
      "6/6 [==============================] - ETA: 0s - loss: 4.8121e-05 - root_mean_squared_error: 0.0069INFO:tensorflow:Assets written to: model1\\assets\n"
     ]
    },
    {
     "name": "stderr",
     "output_type": "stream",
     "text": [
      "INFO:tensorflow:Assets written to: model1\\assets\n"
     ]
    },
    {
     "name": "stdout",
     "output_type": "stream",
     "text": [
      "6/6 [==============================] - 12s 2s/step - loss: 4.8121e-05 - root_mean_squared_error: 0.0069 - val_loss: 1.1214e-04 - val_root_mean_squared_error: 0.0106\n",
      "Epoch 95/100\n",
      "6/6 [==============================] - ETA: 0s - loss: 4.2224e-05 - root_mean_squared_error: 0.0065INFO:tensorflow:Assets written to: model1\\assets\n"
     ]
    },
    {
     "name": "stderr",
     "output_type": "stream",
     "text": [
      "INFO:tensorflow:Assets written to: model1\\assets\n"
     ]
    },
    {
     "name": "stdout",
     "output_type": "stream",
     "text": [
      "6/6 [==============================] - 11s 2s/step - loss: 4.2224e-05 - root_mean_squared_error: 0.0065 - val_loss: 9.0135e-05 - val_root_mean_squared_error: 0.0095\n",
      "Epoch 96/100\n",
      "6/6 [==============================] - ETA: 0s - loss: 3.6842e-05 - root_mean_squared_error: 0.0061INFO:tensorflow:Assets written to: model1\\assets\n"
     ]
    },
    {
     "name": "stderr",
     "output_type": "stream",
     "text": [
      "INFO:tensorflow:Assets written to: model1\\assets\n"
     ]
    },
    {
     "name": "stdout",
     "output_type": "stream",
     "text": [
      "6/6 [==============================] - 11s 2s/step - loss: 3.6842e-05 - root_mean_squared_error: 0.0061 - val_loss: 7.1141e-05 - val_root_mean_squared_error: 0.0084\n",
      "Epoch 97/100\n",
      "6/6 [==============================] - ETA: 0s - loss: 3.1936e-05 - root_mean_squared_error: 0.0057INFO:tensorflow:Assets written to: model1\\assets\n"
     ]
    },
    {
     "name": "stderr",
     "output_type": "stream",
     "text": [
      "INFO:tensorflow:Assets written to: model1\\assets\n"
     ]
    },
    {
     "name": "stdout",
     "output_type": "stream",
     "text": [
      "6/6 [==============================] - 12s 2s/step - loss: 3.1936e-05 - root_mean_squared_error: 0.0057 - val_loss: 5.7206e-05 - val_root_mean_squared_error: 0.0076\n",
      "Epoch 98/100\n",
      "6/6 [==============================] - ETA: 0s - loss: 2.7878e-05 - root_mean_squared_error: 0.0053INFO:tensorflow:Assets written to: model1\\assets\n"
     ]
    },
    {
     "name": "stderr",
     "output_type": "stream",
     "text": [
      "INFO:tensorflow:Assets written to: model1\\assets\n"
     ]
    },
    {
     "name": "stdout",
     "output_type": "stream",
     "text": [
      "6/6 [==============================] - 12s 2s/step - loss: 2.7878e-05 - root_mean_squared_error: 0.0053 - val_loss: 4.3884e-05 - val_root_mean_squared_error: 0.0066\n",
      "Epoch 99/100\n",
      "6/6 [==============================] - ETA: 0s - loss: 2.4029e-05 - root_mean_squared_error: 0.0049INFO:tensorflow:Assets written to: model1\\assets\n"
     ]
    },
    {
     "name": "stderr",
     "output_type": "stream",
     "text": [
      "INFO:tensorflow:Assets written to: model1\\assets\n"
     ]
    },
    {
     "name": "stdout",
     "output_type": "stream",
     "text": [
      "6/6 [==============================] - 13s 3s/step - loss: 2.4029e-05 - root_mean_squared_error: 0.0049 - val_loss: 3.3787e-05 - val_root_mean_squared_error: 0.0058\n",
      "Epoch 100/100\n",
      "6/6 [==============================] - ETA: 0s - loss: 2.0978e-05 - root_mean_squared_error: 0.0046INFO:tensorflow:Assets written to: model1\\assets\n"
     ]
    },
    {
     "name": "stderr",
     "output_type": "stream",
     "text": [
      "INFO:tensorflow:Assets written to: model1\\assets\n"
     ]
    },
    {
     "name": "stdout",
     "output_type": "stream",
     "text": [
      "6/6 [==============================] - 11s 2s/step - loss: 2.0978e-05 - root_mean_squared_error: 0.0046 - val_loss: 2.4456e-05 - val_root_mean_squared_error: 0.0049\n"
     ]
    },
    {
     "data": {
      "text/plain": [
       "<keras.callbacks.History at 0x201a394abb0>"
      ]
     },
     "execution_count": 21,
     "metadata": {},
     "output_type": "execute_result"
    }
   ],
   "source": [
    "model1.fit(X_train, y_train, validation_data=(X_val, y_val), epochs= 100, callbacks=[cp])"
   ]
  },
  {
   "cell_type": "code",
   "execution_count": 22,
   "metadata": {},
   "outputs": [],
   "source": [
    "from tensorflow.keras.models import load_model\n",
    "model1 = load_model('model1/')"
   ]
  },
  {
   "cell_type": "code",
   "execution_count": 35,
   "metadata": {},
   "outputs": [
    {
     "data": {
      "text/html": [
       "<div>\n",
       "<style scoped>\n",
       "    .dataframe tbody tr th:only-of-type {\n",
       "        vertical-align: middle;\n",
       "    }\n",
       "\n",
       "    .dataframe tbody tr th {\n",
       "        vertical-align: top;\n",
       "    }\n",
       "\n",
       "    .dataframe thead th {\n",
       "        text-align: right;\n",
       "    }\n",
       "</style>\n",
       "<table border=\"1\" class=\"dataframe\">\n",
       "  <thead>\n",
       "    <tr style=\"text-align: right;\">\n",
       "      <th></th>\n",
       "      <th>Train Predictions</th>\n",
       "      <th>Actuals</th>\n",
       "    </tr>\n",
       "  </thead>\n",
       "  <tbody>\n",
       "    <tr>\n",
       "      <th>0</th>\n",
       "      <td>0.005383</td>\n",
       "      <td>8.616272e-08</td>\n",
       "    </tr>\n",
       "    <tr>\n",
       "      <th>1</th>\n",
       "      <td>0.005383</td>\n",
       "      <td>8.616272e-08</td>\n",
       "    </tr>\n",
       "    <tr>\n",
       "      <th>2</th>\n",
       "      <td>0.005383</td>\n",
       "      <td>8.616272e-08</td>\n",
       "    </tr>\n",
       "    <tr>\n",
       "      <th>3</th>\n",
       "      <td>0.005383</td>\n",
       "      <td>1.292441e-07</td>\n",
       "    </tr>\n",
       "    <tr>\n",
       "      <th>4</th>\n",
       "      <td>0.005383</td>\n",
       "      <td>3.015695e-07</td>\n",
       "    </tr>\n",
       "    <tr>\n",
       "      <th>...</th>\n",
       "      <td>...</td>\n",
       "      <td>...</td>\n",
       "    </tr>\n",
       "    <tr>\n",
       "      <th>184</th>\n",
       "      <td>0.164515</td>\n",
       "      <td>1.702115e-01</td>\n",
       "    </tr>\n",
       "    <tr>\n",
       "      <th>185</th>\n",
       "      <td>0.166094</td>\n",
       "      <td>1.722335e-01</td>\n",
       "    </tr>\n",
       "    <tr>\n",
       "      <th>186</th>\n",
       "      <td>0.167597</td>\n",
       "      <td>1.741193e-01</td>\n",
       "    </tr>\n",
       "    <tr>\n",
       "      <th>187</th>\n",
       "      <td>0.169064</td>\n",
       "      <td>1.763248e-01</td>\n",
       "    </tr>\n",
       "    <tr>\n",
       "      <th>188</th>\n",
       "      <td>0.170961</td>\n",
       "      <td>1.776245e-01</td>\n",
       "    </tr>\n",
       "  </tbody>\n",
       "</table>\n",
       "<p>189 rows × 2 columns</p>\n",
       "</div>"
      ],
      "text/plain": [
       "     Train Predictions       Actuals\n",
       "0             0.005383  8.616272e-08\n",
       "1             0.005383  8.616272e-08\n",
       "2             0.005383  8.616272e-08\n",
       "3             0.005383  1.292441e-07\n",
       "4             0.005383  3.015695e-07\n",
       "..                 ...           ...\n",
       "184           0.164515  1.702115e-01\n",
       "185           0.166094  1.722335e-01\n",
       "186           0.167597  1.741193e-01\n",
       "187           0.169064  1.763248e-01\n",
       "188           0.170961  1.776245e-01\n",
       "\n",
       "[189 rows x 2 columns]"
      ]
     },
     "execution_count": 35,
     "metadata": {},
     "output_type": "execute_result"
    }
   ],
   "source": [
    "train_predictions = model1.predict(X_train).flatten()\n",
    "train_results = pd.DataFrame(data={'Train Predictions':train_predictions, 'Actuals':y_train})\n",
    "train_results"
   ]
  },
  {
   "cell_type": "code",
   "execution_count": 24,
   "metadata": {},
   "outputs": [
    {
     "data": {
      "text/plain": [
       "[<matplotlib.lines.Line2D at 0x201b54eeca0>]"
      ]
     },
     "execution_count": 24,
     "metadata": {},
     "output_type": "execute_result"
    },
    {
     "data": {
      "image/png": "[encoded data removed]",
      "text/plain": [
       "<Figure size 792x288 with 1 Axes>"
      ]
     },
     "metadata": {},
     "output_type": "display_data"
    }
   ],
   "source": [
    "import matplotlib.pyplot as plt\n",
    "plt.plot(train_results['Train Predictions'])\n",
    "plt.plot(train_results['Actuals'])"
   ]
  },
  {
   "cell_type": "code",
   "execution_count": 25,
   "metadata": {},
   "outputs": [
    {
     "data": {
      "text/html": [
       "<div>\n",
       "<style scoped>\n",
       "    .dataframe tbody tr th:only-of-type {\n",
       "        vertical-align: middle;\n",
       "    }\n",
       "\n",
       "    .dataframe tbody tr th {\n",
       "        vertical-align: top;\n",
       "    }\n",
       "\n",
       "    .dataframe thead th {\n",
       "        text-align: right;\n",
       "    }\n",
       "</style>\n",
       "<table border=\"1\" class=\"dataframe\">\n",
       "  <thead>\n",
       "    <tr style=\"text-align: right;\">\n",
       "      <th></th>\n",
       "      <th>Val Predictions</th>\n",
       "      <th>Actuals</th>\n",
       "    </tr>\n",
       "  </thead>\n",
       "  <tbody>\n",
       "    <tr>\n",
       "      <th>0</th>\n",
       "      <td>0.172821</td>\n",
       "      <td>0.178250</td>\n",
       "    </tr>\n",
       "    <tr>\n",
       "      <th>1</th>\n",
       "      <td>0.174621</td>\n",
       "      <td>0.178693</td>\n",
       "    </tr>\n",
       "    <tr>\n",
       "      <th>2</th>\n",
       "      <td>0.176192</td>\n",
       "      <td>0.179308</td>\n",
       "    </tr>\n",
       "    <tr>\n",
       "      <th>3</th>\n",
       "      <td>0.177487</td>\n",
       "      <td>0.180851</td>\n",
       "    </tr>\n",
       "    <tr>\n",
       "      <th>4</th>\n",
       "      <td>0.178337</td>\n",
       "      <td>0.182598</td>\n",
       "    </tr>\n",
       "    <tr>\n",
       "      <th>5</th>\n",
       "      <td>0.179070</td>\n",
       "      <td>0.184481</td>\n",
       "    </tr>\n",
       "    <tr>\n",
       "      <th>6</th>\n",
       "      <td>0.179999</td>\n",
       "      <td>0.185926</td>\n",
       "    </tr>\n",
       "    <tr>\n",
       "      <th>7</th>\n",
       "      <td>0.181263</td>\n",
       "      <td>0.186562</td>\n",
       "    </tr>\n",
       "    <tr>\n",
       "      <th>8</th>\n",
       "      <td>0.182822</td>\n",
       "      <td>0.187215</td>\n",
       "    </tr>\n",
       "    <tr>\n",
       "      <th>9</th>\n",
       "      <td>0.184302</td>\n",
       "      <td>0.188794</td>\n",
       "    </tr>\n",
       "    <tr>\n",
       "      <th>10</th>\n",
       "      <td>0.185610</td>\n",
       "      <td>0.190380</td>\n",
       "    </tr>\n",
       "    <tr>\n",
       "      <th>11</th>\n",
       "      <td>0.186672</td>\n",
       "      <td>0.191944</td>\n",
       "    </tr>\n",
       "    <tr>\n",
       "      <th>12</th>\n",
       "      <td>0.187646</td>\n",
       "      <td>0.193659</td>\n",
       "    </tr>\n",
       "    <tr>\n",
       "      <th>13</th>\n",
       "      <td>0.188878</td>\n",
       "      <td>0.195083</td>\n",
       "    </tr>\n",
       "  </tbody>\n",
       "</table>\n",
       "</div>"
      ],
      "text/plain": [
       "    Val Predictions   Actuals\n",
       "0          0.172821  0.178250\n",
       "1          0.174621  0.178693\n",
       "2          0.176192  0.179308\n",
       "3          0.177487  0.180851\n",
       "4          0.178337  0.182598\n",
       "5          0.179070  0.184481\n",
       "6          0.179999  0.185926\n",
       "7          0.181263  0.186562\n",
       "8          0.182822  0.187215\n",
       "9          0.184302  0.188794\n",
       "10         0.185610  0.190380\n",
       "11         0.186672  0.191944\n",
       "12         0.187646  0.193659\n",
       "13         0.188878  0.195083"
      ]
     },
     "execution_count": 25,
     "metadata": {},
     "output_type": "execute_result"
    }
   ],
   "source": [
    "val_predictions = model1.predict(X_val).flatten()\n",
    "val_results = pd.DataFrame(data={'Val Predictions':val_predictions, 'Actuals':y_val})\n",
    "val_results"
   ]
  },
  {
   "cell_type": "code",
   "execution_count": 26,
   "metadata": {},
   "outputs": [
    {
     "data": {
      "text/plain": [
       "[<matplotlib.lines.Line2D at 0x201a39007c0>]"
      ]
     },
     "execution_count": 26,
     "metadata": {},
     "output_type": "execute_result"
    },
    {
     "data": {
      "image/png": "[encoded data removed]",
      "text/plain": [
       "<Figure size 792x288 with 1 Axes>"
      ]
     },
     "metadata": {},
     "output_type": "display_data"
    }
   ],
   "source": [
    "plt.plot(val_results['Val Predictions'])\n",
    "plt.plot(val_results['Actuals'])"
   ]
  },
  {
   "cell_type": "code",
   "execution_count": 50,
   "metadata": {},
   "outputs": [],
   "source": [
    "test_predictions = model1.predict(X_test).flatten()\n",
    "test_results = pd.DataFrame(data={'Test Predictions':test_predictions, 'Actuals':y_test})\n"
   ]
  },
  {
   "cell_type": "code",
   "execution_count": 31,
   "metadata": {},
   "outputs": [
    {
     "data": {
      "text/plain": [
       "[<matplotlib.lines.Line2D at 0x201b1de4d60>]"
      ]
     },
     "execution_count": 31,
     "metadata": {},
     "output_type": "execute_result"
    },
    {
     "data": {
      "image/png": "[encoded data removed]",
      "text/plain": [
       "<Figure size 792x288 with 1 Axes>"
      ]
     },
     "metadata": {},
     "output_type": "display_data"
    }
   ],
   "source": [
    "plt.plot(test_results['Test Predictions'])\n",
    "plt.plot(test_results['Actuals'])"
   ]
  },
  {
   "cell_type": "code",
   "execution_count": null,
   "metadata": {},
   "outputs": [],
   "source": []
  }
 ],
 "metadata": {
  "interpreter": {
   "hash": "b3ba2566441a7c06988d0923437866b63cedc61552a5af99d1f4fb67d367b25f"
  },
  "kernelspec": {
   "display_name": "Python 3.9.7 64-bit ('base': conda)",
   "language": "python",
   "name": "python3"
  },
  "language_info": {
   "codemirror_mode": {
    "name": "ipython",
    "version": 3
   },
   "file_extension": ".py",
   "mimetype": "text/x-python",
   "name": "python",
   "nbconvert_exporter": "python",
   "pygments_lexer": "ipython3",
   "version": "3.9.7"
  },
  "orig_nbformat": 4
 },
 "nbformat": 4,
 "nbformat_minor": 2
}
