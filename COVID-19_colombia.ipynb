{
 "cells": [
  {
   "cell_type": "code",
   "execution_count": 1,
   "metadata": {},
   "outputs": [],
   "source": [
    "import pandas as pd\n",
    "import matplotlib.pyplot as plt"
   ]
  },
  {
   "cell_type": "code",
   "execution_count": 2,
   "metadata": {},
   "outputs": [],
   "source": [
    "import absl.logging\n",
    "absl.logging.set_verbosity(absl.logging.ERROR)"
   ]
  },
  {
   "cell_type": "code",
   "execution_count": 3,
   "metadata": {},
   "outputs": [],
   "source": [
    "import seaborn as sns\n",
    "sns.set(rc={'figure.figsize':(11,4)})"
   ]
  },
  {
   "cell_type": "code",
   "execution_count": 4,
   "metadata": {},
   "outputs": [
    {
     "name": "stderr",
     "output_type": "stream",
     "text": [
      "C:\\ProgramData\\Anaconda3\\lib\\site-packages\\IPython\\core\\interactiveshell.py:3444: DtypeWarning: Columns (14,17,19,20,22) have mixed types.Specify dtype option on import or set low_memory=False.\n",
      "  exec(code_obj, self.user_global_ns, self.user_ns)\n"
     ]
    },
    {
     "data": {
      "text/html": [
       "<div>\n",
       "<style scoped>\n",
       "    .dataframe tbody tr th:only-of-type {\n",
       "        vertical-align: middle;\n",
       "    }\n",
       "\n",
       "    .dataframe tbody tr th {\n",
       "        vertical-align: top;\n",
       "    }\n",
       "\n",
       "    .dataframe thead th {\n",
       "        text-align: right;\n",
       "    }\n",
       "</style>\n",
       "<table border=\"1\" class=\"dataframe\">\n",
       "  <thead>\n",
       "    <tr style=\"text-align: right;\">\n",
       "      <th></th>\n",
       "      <th>fecha reporte web</th>\n",
       "      <th>ID de caso</th>\n",
       "      <th>Fecha de notificación</th>\n",
       "      <th>Código DIVIPOLA departamento</th>\n",
       "      <th>Nombre departamento</th>\n",
       "      <th>Código DIVIPOLA municipio</th>\n",
       "      <th>Nombre municipio</th>\n",
       "      <th>Edad</th>\n",
       "      <th>Unidad de medida de edad</th>\n",
       "      <th>Sexo</th>\n",
       "      <th>...</th>\n",
       "      <th>Código ISO del país</th>\n",
       "      <th>Nombre del país</th>\n",
       "      <th>Recuperado</th>\n",
       "      <th>Fecha de inicio de síntomas</th>\n",
       "      <th>Fecha de muerte</th>\n",
       "      <th>Fecha de diagnóstico</th>\n",
       "      <th>Fecha de recuperación</th>\n",
       "      <th>Tipo de recuperación</th>\n",
       "      <th>Pertenencia étnica</th>\n",
       "      <th>Nombre del grupo étnico</th>\n",
       "    </tr>\n",
       "  </thead>\n",
       "  <tbody>\n",
       "    <tr>\n",
       "      <th>0</th>\n",
       "      <td>6/3/2020 0:00:00</td>\n",
       "      <td>1</td>\n",
       "      <td>2/3/2020 0:00:00</td>\n",
       "      <td>11</td>\n",
       "      <td>BOGOTA</td>\n",
       "      <td>11001</td>\n",
       "      <td>BOGOTA</td>\n",
       "      <td>19</td>\n",
       "      <td>1</td>\n",
       "      <td>F</td>\n",
       "      <td>...</td>\n",
       "      <td>380.0</td>\n",
       "      <td>ITALIA</td>\n",
       "      <td>Recuperado</td>\n",
       "      <td>27/2/2020 0:00:00</td>\n",
       "      <td>NaN</td>\n",
       "      <td>6/3/2020 0:00:00</td>\n",
       "      <td>13/3/2020 0:00:00</td>\n",
       "      <td>PCR</td>\n",
       "      <td>6.0</td>\n",
       "      <td>NaN</td>\n",
       "    </tr>\n",
       "    <tr>\n",
       "      <th>1</th>\n",
       "      <td>9/3/2020 0:00:00</td>\n",
       "      <td>2</td>\n",
       "      <td>6/3/2020 0:00:00</td>\n",
       "      <td>76</td>\n",
       "      <td>VALLE</td>\n",
       "      <td>76111</td>\n",
       "      <td>BUGA</td>\n",
       "      <td>34</td>\n",
       "      <td>1</td>\n",
       "      <td>M</td>\n",
       "      <td>...</td>\n",
       "      <td>724.0</td>\n",
       "      <td>ESPAÑA</td>\n",
       "      <td>Recuperado</td>\n",
       "      <td>4/3/2020 0:00:00</td>\n",
       "      <td>NaN</td>\n",
       "      <td>9/3/2020 0:00:00</td>\n",
       "      <td>19/3/2020 0:00:00</td>\n",
       "      <td>PCR</td>\n",
       "      <td>5.0</td>\n",
       "      <td>NaN</td>\n",
       "    </tr>\n",
       "    <tr>\n",
       "      <th>2</th>\n",
       "      <td>9/3/2020 0:00:00</td>\n",
       "      <td>3</td>\n",
       "      <td>7/3/2020 0:00:00</td>\n",
       "      <td>5</td>\n",
       "      <td>ANTIOQUIA</td>\n",
       "      <td>5001</td>\n",
       "      <td>MEDELLIN</td>\n",
       "      <td>50</td>\n",
       "      <td>1</td>\n",
       "      <td>F</td>\n",
       "      <td>...</td>\n",
       "      <td>724.0</td>\n",
       "      <td>ESPAÑA</td>\n",
       "      <td>Recuperado</td>\n",
       "      <td>29/2/2020 0:00:00</td>\n",
       "      <td>NaN</td>\n",
       "      <td>9/3/2020 0:00:00</td>\n",
       "      <td>15/3/2020 0:00:00</td>\n",
       "      <td>PCR</td>\n",
       "      <td>6.0</td>\n",
       "      <td>NaN</td>\n",
       "    </tr>\n",
       "    <tr>\n",
       "      <th>3</th>\n",
       "      <td>11/3/2020 0:00:00</td>\n",
       "      <td>4</td>\n",
       "      <td>9/3/2020 0:00:00</td>\n",
       "      <td>5</td>\n",
       "      <td>ANTIOQUIA</td>\n",
       "      <td>5001</td>\n",
       "      <td>MEDELLIN</td>\n",
       "      <td>55</td>\n",
       "      <td>1</td>\n",
       "      <td>M</td>\n",
       "      <td>...</td>\n",
       "      <td>NaN</td>\n",
       "      <td>NaN</td>\n",
       "      <td>Recuperado</td>\n",
       "      <td>6/3/2020 0:00:00</td>\n",
       "      <td>NaN</td>\n",
       "      <td>11/3/2020 0:00:00</td>\n",
       "      <td>26/3/2020 0:00:00</td>\n",
       "      <td>PCR</td>\n",
       "      <td>6.0</td>\n",
       "      <td>NaN</td>\n",
       "    </tr>\n",
       "    <tr>\n",
       "      <th>4</th>\n",
       "      <td>11/3/2020 0:00:00</td>\n",
       "      <td>5</td>\n",
       "      <td>9/3/2020 0:00:00</td>\n",
       "      <td>5</td>\n",
       "      <td>ANTIOQUIA</td>\n",
       "      <td>5001</td>\n",
       "      <td>MEDELLIN</td>\n",
       "      <td>25</td>\n",
       "      <td>1</td>\n",
       "      <td>M</td>\n",
       "      <td>...</td>\n",
       "      <td>NaN</td>\n",
       "      <td>NaN</td>\n",
       "      <td>Recuperado</td>\n",
       "      <td>8/3/2020 0:00:00</td>\n",
       "      <td>NaN</td>\n",
       "      <td>11/3/2020 0:00:00</td>\n",
       "      <td>23/3/2020 0:00:00</td>\n",
       "      <td>PCR</td>\n",
       "      <td>6.0</td>\n",
       "      <td>NaN</td>\n",
       "    </tr>\n",
       "    <tr>\n",
       "      <th>...</th>\n",
       "      <td>...</td>\n",
       "      <td>...</td>\n",
       "      <td>...</td>\n",
       "      <td>...</td>\n",
       "      <td>...</td>\n",
       "      <td>...</td>\n",
       "      <td>...</td>\n",
       "      <td>...</td>\n",
       "      <td>...</td>\n",
       "      <td>...</td>\n",
       "      <td>...</td>\n",
       "      <td>...</td>\n",
       "      <td>...</td>\n",
       "      <td>...</td>\n",
       "      <td>...</td>\n",
       "      <td>...</td>\n",
       "      <td>...</td>\n",
       "      <td>...</td>\n",
       "      <td>...</td>\n",
       "      <td>...</td>\n",
       "      <td>...</td>\n",
       "    </tr>\n",
       "    <tr>\n",
       "      <th>5596912</th>\n",
       "      <td>18/1/2022 0:00:00</td>\n",
       "      <td>5596953</td>\n",
       "      <td>26/12/2021 0:00:00</td>\n",
       "      <td>13001</td>\n",
       "      <td>CARTAGENA</td>\n",
       "      <td>13001</td>\n",
       "      <td>CARTAGENA</td>\n",
       "      <td>42</td>\n",
       "      <td>1</td>\n",
       "      <td>F</td>\n",
       "      <td>...</td>\n",
       "      <td>NaN</td>\n",
       "      <td>NaN</td>\n",
       "      <td>Activo</td>\n",
       "      <td>23/12/2021 0:00:00</td>\n",
       "      <td>NaN</td>\n",
       "      <td>6/1/2022 0:00:00</td>\n",
       "      <td>NaN</td>\n",
       "      <td>NaN</td>\n",
       "      <td>NaN</td>\n",
       "      <td>NaN</td>\n",
       "    </tr>\n",
       "    <tr>\n",
       "      <th>5596913</th>\n",
       "      <td>18/1/2022 0:00:00</td>\n",
       "      <td>5596954</td>\n",
       "      <td>25/12/2021 0:00:00</td>\n",
       "      <td>13001</td>\n",
       "      <td>CARTAGENA</td>\n",
       "      <td>13001</td>\n",
       "      <td>CARTAGENA</td>\n",
       "      <td>24</td>\n",
       "      <td>1</td>\n",
       "      <td>F</td>\n",
       "      <td>...</td>\n",
       "      <td>NaN</td>\n",
       "      <td>NaN</td>\n",
       "      <td>Activo</td>\n",
       "      <td>22/12/2021 0:00:00</td>\n",
       "      <td>NaN</td>\n",
       "      <td>5/1/2022 0:00:00</td>\n",
       "      <td>NaN</td>\n",
       "      <td>NaN</td>\n",
       "      <td>NaN</td>\n",
       "      <td>NaN</td>\n",
       "    </tr>\n",
       "    <tr>\n",
       "      <th>5596914</th>\n",
       "      <td>18/1/2022 0:00:00</td>\n",
       "      <td>5596955</td>\n",
       "      <td>25/12/2021 0:00:00</td>\n",
       "      <td>13001</td>\n",
       "      <td>CARTAGENA</td>\n",
       "      <td>13001</td>\n",
       "      <td>CARTAGENA</td>\n",
       "      <td>21</td>\n",
       "      <td>1</td>\n",
       "      <td>F</td>\n",
       "      <td>...</td>\n",
       "      <td>NaN</td>\n",
       "      <td>NaN</td>\n",
       "      <td>Activo</td>\n",
       "      <td>22/12/2021 0:00:00</td>\n",
       "      <td>NaN</td>\n",
       "      <td>5/1/2022 0:00:00</td>\n",
       "      <td>NaN</td>\n",
       "      <td>NaN</td>\n",
       "      <td>NaN</td>\n",
       "      <td>NaN</td>\n",
       "    </tr>\n",
       "    <tr>\n",
       "      <th>5596915</th>\n",
       "      <td>18/1/2022 0:00:00</td>\n",
       "      <td>5596956</td>\n",
       "      <td>25/12/2021 0:00:00</td>\n",
       "      <td>13001</td>\n",
       "      <td>CARTAGENA</td>\n",
       "      <td>13001</td>\n",
       "      <td>CARTAGENA</td>\n",
       "      <td>28</td>\n",
       "      <td>1</td>\n",
       "      <td>M</td>\n",
       "      <td>...</td>\n",
       "      <td>NaN</td>\n",
       "      <td>NaN</td>\n",
       "      <td>Activo</td>\n",
       "      <td>22/12/2021 0:00:00</td>\n",
       "      <td>NaN</td>\n",
       "      <td>5/1/2022 0:00:00</td>\n",
       "      <td>NaN</td>\n",
       "      <td>NaN</td>\n",
       "      <td>NaN</td>\n",
       "      <td>NaN</td>\n",
       "    </tr>\n",
       "    <tr>\n",
       "      <th>5596916</th>\n",
       "      <td>18/1/2022 0:00:00</td>\n",
       "      <td>5596957</td>\n",
       "      <td>25/12/2021 0:00:00</td>\n",
       "      <td>13001</td>\n",
       "      <td>CARTAGENA</td>\n",
       "      <td>13001</td>\n",
       "      <td>CARTAGENA</td>\n",
       "      <td>37</td>\n",
       "      <td>1</td>\n",
       "      <td>M</td>\n",
       "      <td>...</td>\n",
       "      <td>NaN</td>\n",
       "      <td>NaN</td>\n",
       "      <td>Activo</td>\n",
       "      <td>22/12/2021 0:00:00</td>\n",
       "      <td>NaN</td>\n",
       "      <td>5/1/2022 0:00:00</td>\n",
       "      <td>NaN</td>\n",
       "      <td>NaN</td>\n",
       "      <td>NaN</td>\n",
       "      <td>NaN</td>\n",
       "    </tr>\n",
       "  </tbody>\n",
       "</table>\n",
       "<p>5596917 rows × 23 columns</p>\n",
       "</div>"
      ],
      "text/plain": [
       "         fecha reporte web  ID de caso Fecha de notificación  \\\n",
       "0         6/3/2020 0:00:00           1      2/3/2020 0:00:00   \n",
       "1         9/3/2020 0:00:00           2      6/3/2020 0:00:00   \n",
       "2         9/3/2020 0:00:00           3      7/3/2020 0:00:00   \n",
       "3        11/3/2020 0:00:00           4      9/3/2020 0:00:00   \n",
       "4        11/3/2020 0:00:00           5      9/3/2020 0:00:00   \n",
       "...                    ...         ...                   ...   \n",
       "5596912  18/1/2022 0:00:00     5596953    26/12/2021 0:00:00   \n",
       "5596913  18/1/2022 0:00:00     5596954    25/12/2021 0:00:00   \n",
       "5596914  18/1/2022 0:00:00     5596955    25/12/2021 0:00:00   \n",
       "5596915  18/1/2022 0:00:00     5596956    25/12/2021 0:00:00   \n",
       "5596916  18/1/2022 0:00:00     5596957    25/12/2021 0:00:00   \n",
       "\n",
       "         Código DIVIPOLA departamento Nombre departamento  \\\n",
       "0                                  11              BOGOTA   \n",
       "1                                  76               VALLE   \n",
       "2                                   5           ANTIOQUIA   \n",
       "3                                   5           ANTIOQUIA   \n",
       "4                                   5           ANTIOQUIA   \n",
       "...                               ...                 ...   \n",
       "5596912                         13001           CARTAGENA   \n",
       "5596913                         13001           CARTAGENA   \n",
       "5596914                         13001           CARTAGENA   \n",
       "5596915                         13001           CARTAGENA   \n",
       "5596916                         13001           CARTAGENA   \n",
       "\n",
       "         Código DIVIPOLA municipio Nombre municipio  Edad  \\\n",
       "0                            11001           BOGOTA    19   \n",
       "1                            76111             BUGA    34   \n",
       "2                             5001         MEDELLIN    50   \n",
       "3                             5001         MEDELLIN    55   \n",
       "4                             5001         MEDELLIN    25   \n",
       "...                            ...              ...   ...   \n",
       "5596912                      13001        CARTAGENA    42   \n",
       "5596913                      13001        CARTAGENA    24   \n",
       "5596914                      13001        CARTAGENA    21   \n",
       "5596915                      13001        CARTAGENA    28   \n",
       "5596916                      13001        CARTAGENA    37   \n",
       "\n",
       "         Unidad de medida de edad Sexo  ... Código ISO del país  \\\n",
       "0                               1    F  ...               380.0   \n",
       "1                               1    M  ...               724.0   \n",
       "2                               1    F  ...               724.0   \n",
       "3                               1    M  ...                 NaN   \n",
       "4                               1    M  ...                 NaN   \n",
       "...                           ...  ...  ...                 ...   \n",
       "5596912                         1    F  ...                 NaN   \n",
       "5596913                         1    F  ...                 NaN   \n",
       "5596914                         1    F  ...                 NaN   \n",
       "5596915                         1    M  ...                 NaN   \n",
       "5596916                         1    M  ...                 NaN   \n",
       "\n",
       "        Nombre del país  Recuperado  Fecha de inicio de síntomas  \\\n",
       "0                ITALIA  Recuperado            27/2/2020 0:00:00   \n",
       "1                ESPAÑA  Recuperado             4/3/2020 0:00:00   \n",
       "2                ESPAÑA  Recuperado            29/2/2020 0:00:00   \n",
       "3                   NaN  Recuperado             6/3/2020 0:00:00   \n",
       "4                   NaN  Recuperado             8/3/2020 0:00:00   \n",
       "...                 ...         ...                          ...   \n",
       "5596912             NaN      Activo           23/12/2021 0:00:00   \n",
       "5596913             NaN      Activo           22/12/2021 0:00:00   \n",
       "5596914             NaN      Activo           22/12/2021 0:00:00   \n",
       "5596915             NaN      Activo           22/12/2021 0:00:00   \n",
       "5596916             NaN      Activo           22/12/2021 0:00:00   \n",
       "\n",
       "        Fecha de muerte Fecha de diagnóstico Fecha de recuperación  \\\n",
       "0                   NaN     6/3/2020 0:00:00     13/3/2020 0:00:00   \n",
       "1                   NaN     9/3/2020 0:00:00     19/3/2020 0:00:00   \n",
       "2                   NaN     9/3/2020 0:00:00     15/3/2020 0:00:00   \n",
       "3                   NaN    11/3/2020 0:00:00     26/3/2020 0:00:00   \n",
       "4                   NaN    11/3/2020 0:00:00     23/3/2020 0:00:00   \n",
       "...                 ...                  ...                   ...   \n",
       "5596912             NaN     6/1/2022 0:00:00                   NaN   \n",
       "5596913             NaN     5/1/2022 0:00:00                   NaN   \n",
       "5596914             NaN     5/1/2022 0:00:00                   NaN   \n",
       "5596915             NaN     5/1/2022 0:00:00                   NaN   \n",
       "5596916             NaN     5/1/2022 0:00:00                   NaN   \n",
       "\n",
       "        Tipo de recuperación Pertenencia étnica Nombre del grupo étnico  \n",
       "0                        PCR                6.0                     NaN  \n",
       "1                        PCR                5.0                     NaN  \n",
       "2                        PCR                6.0                     NaN  \n",
       "3                        PCR                6.0                     NaN  \n",
       "4                        PCR                6.0                     NaN  \n",
       "...                      ...                ...                     ...  \n",
       "5596912                  NaN                NaN                     NaN  \n",
       "5596913                  NaN                NaN                     NaN  \n",
       "5596914                  NaN                NaN                     NaN  \n",
       "5596915                  NaN                NaN                     NaN  \n",
       "5596916                  NaN                NaN                     NaN  \n",
       "\n",
       "[5596917 rows x 23 columns]"
      ]
     },
     "execution_count": 4,
     "metadata": {},
     "output_type": "execute_result"
    }
   ],
   "source": [
    "\n",
    "colombia = pd.read_csv('Casos_positivos_de_COVID-19_en_Colombia.csv')\n",
    "colombia"
   ]
  },
  {
   "cell_type": "code",
   "execution_count": 5,
   "metadata": {},
   "outputs": [
    {
     "data": {
      "text/html": [
       "<div>\n",
       "<style scoped>\n",
       "    .dataframe tbody tr th:only-of-type {\n",
       "        vertical-align: middle;\n",
       "    }\n",
       "\n",
       "    .dataframe tbody tr th {\n",
       "        vertical-align: top;\n",
       "    }\n",
       "\n",
       "    .dataframe thead th {\n",
       "        text-align: right;\n",
       "    }\n",
       "</style>\n",
       "<table border=\"1\" class=\"dataframe\">\n",
       "  <thead>\n",
       "    <tr style=\"text-align: right;\">\n",
       "      <th></th>\n",
       "      <th>fecha reporte web</th>\n",
       "      <th>ID de caso</th>\n",
       "      <th>Fecha de notificación</th>\n",
       "      <th>Código DIVIPOLA departamento</th>\n",
       "      <th>Nombre departamento</th>\n",
       "      <th>Código DIVIPOLA municipio</th>\n",
       "      <th>Nombre municipio</th>\n",
       "      <th>Edad</th>\n",
       "      <th>Unidad de medida de edad</th>\n",
       "      <th>Sexo</th>\n",
       "      <th>...</th>\n",
       "      <th>Código ISO del país</th>\n",
       "      <th>Nombre del país</th>\n",
       "      <th>Recuperado</th>\n",
       "      <th>Fecha de inicio de síntomas</th>\n",
       "      <th>Fecha de muerte</th>\n",
       "      <th>Fecha de diagnóstico</th>\n",
       "      <th>Fecha de recuperación</th>\n",
       "      <th>Tipo de recuperación</th>\n",
       "      <th>Pertenencia étnica</th>\n",
       "      <th>Nombre del grupo étnico</th>\n",
       "    </tr>\n",
       "  </thead>\n",
       "  <tbody>\n",
       "    <tr>\n",
       "      <th>0</th>\n",
       "      <td>2020-03-06</td>\n",
       "      <td>1</td>\n",
       "      <td>2/3/2020 0:00:00</td>\n",
       "      <td>11</td>\n",
       "      <td>BOGOTA</td>\n",
       "      <td>11001</td>\n",
       "      <td>BOGOTA</td>\n",
       "      <td>19</td>\n",
       "      <td>1</td>\n",
       "      <td>F</td>\n",
       "      <td>...</td>\n",
       "      <td>380.0</td>\n",
       "      <td>ITALIA</td>\n",
       "      <td>Recuperado</td>\n",
       "      <td>27/2/2020 0:00:00</td>\n",
       "      <td>NaN</td>\n",
       "      <td>6/3/2020 0:00:00</td>\n",
       "      <td>13/3/2020 0:00:00</td>\n",
       "      <td>PCR</td>\n",
       "      <td>6.0</td>\n",
       "      <td>NaN</td>\n",
       "    </tr>\n",
       "    <tr>\n",
       "      <th>1</th>\n",
       "      <td>2020-03-09</td>\n",
       "      <td>2</td>\n",
       "      <td>6/3/2020 0:00:00</td>\n",
       "      <td>76</td>\n",
       "      <td>VALLE</td>\n",
       "      <td>76111</td>\n",
       "      <td>BUGA</td>\n",
       "      <td>34</td>\n",
       "      <td>1</td>\n",
       "      <td>M</td>\n",
       "      <td>...</td>\n",
       "      <td>724.0</td>\n",
       "      <td>ESPAÑA</td>\n",
       "      <td>Recuperado</td>\n",
       "      <td>4/3/2020 0:00:00</td>\n",
       "      <td>NaN</td>\n",
       "      <td>9/3/2020 0:00:00</td>\n",
       "      <td>19/3/2020 0:00:00</td>\n",
       "      <td>PCR</td>\n",
       "      <td>5.0</td>\n",
       "      <td>NaN</td>\n",
       "    </tr>\n",
       "    <tr>\n",
       "      <th>2</th>\n",
       "      <td>2020-03-09</td>\n",
       "      <td>3</td>\n",
       "      <td>7/3/2020 0:00:00</td>\n",
       "      <td>5</td>\n",
       "      <td>ANTIOQUIA</td>\n",
       "      <td>5001</td>\n",
       "      <td>MEDELLIN</td>\n",
       "      <td>50</td>\n",
       "      <td>1</td>\n",
       "      <td>F</td>\n",
       "      <td>...</td>\n",
       "      <td>724.0</td>\n",
       "      <td>ESPAÑA</td>\n",
       "      <td>Recuperado</td>\n",
       "      <td>29/2/2020 0:00:00</td>\n",
       "      <td>NaN</td>\n",
       "      <td>9/3/2020 0:00:00</td>\n",
       "      <td>15/3/2020 0:00:00</td>\n",
       "      <td>PCR</td>\n",
       "      <td>6.0</td>\n",
       "      <td>NaN</td>\n",
       "    </tr>\n",
       "    <tr>\n",
       "      <th>3</th>\n",
       "      <td>2020-03-11</td>\n",
       "      <td>4</td>\n",
       "      <td>9/3/2020 0:00:00</td>\n",
       "      <td>5</td>\n",
       "      <td>ANTIOQUIA</td>\n",
       "      <td>5001</td>\n",
       "      <td>MEDELLIN</td>\n",
       "      <td>55</td>\n",
       "      <td>1</td>\n",
       "      <td>M</td>\n",
       "      <td>...</td>\n",
       "      <td>NaN</td>\n",
       "      <td>NaN</td>\n",
       "      <td>Recuperado</td>\n",
       "      <td>6/3/2020 0:00:00</td>\n",
       "      <td>NaN</td>\n",
       "      <td>11/3/2020 0:00:00</td>\n",
       "      <td>26/3/2020 0:00:00</td>\n",
       "      <td>PCR</td>\n",
       "      <td>6.0</td>\n",
       "      <td>NaN</td>\n",
       "    </tr>\n",
       "    <tr>\n",
       "      <th>4</th>\n",
       "      <td>2020-03-11</td>\n",
       "      <td>5</td>\n",
       "      <td>9/3/2020 0:00:00</td>\n",
       "      <td>5</td>\n",
       "      <td>ANTIOQUIA</td>\n",
       "      <td>5001</td>\n",
       "      <td>MEDELLIN</td>\n",
       "      <td>25</td>\n",
       "      <td>1</td>\n",
       "      <td>M</td>\n",
       "      <td>...</td>\n",
       "      <td>NaN</td>\n",
       "      <td>NaN</td>\n",
       "      <td>Recuperado</td>\n",
       "      <td>8/3/2020 0:00:00</td>\n",
       "      <td>NaN</td>\n",
       "      <td>11/3/2020 0:00:00</td>\n",
       "      <td>23/3/2020 0:00:00</td>\n",
       "      <td>PCR</td>\n",
       "      <td>6.0</td>\n",
       "      <td>NaN</td>\n",
       "    </tr>\n",
       "    <tr>\n",
       "      <th>...</th>\n",
       "      <td>...</td>\n",
       "      <td>...</td>\n",
       "      <td>...</td>\n",
       "      <td>...</td>\n",
       "      <td>...</td>\n",
       "      <td>...</td>\n",
       "      <td>...</td>\n",
       "      <td>...</td>\n",
       "      <td>...</td>\n",
       "      <td>...</td>\n",
       "      <td>...</td>\n",
       "      <td>...</td>\n",
       "      <td>...</td>\n",
       "      <td>...</td>\n",
       "      <td>...</td>\n",
       "      <td>...</td>\n",
       "      <td>...</td>\n",
       "      <td>...</td>\n",
       "      <td>...</td>\n",
       "      <td>...</td>\n",
       "      <td>...</td>\n",
       "    </tr>\n",
       "    <tr>\n",
       "      <th>5596912</th>\n",
       "      <td>2022-01-18</td>\n",
       "      <td>5596953</td>\n",
       "      <td>26/12/2021 0:00:00</td>\n",
       "      <td>13001</td>\n",
       "      <td>CARTAGENA</td>\n",
       "      <td>13001</td>\n",
       "      <td>CARTAGENA</td>\n",
       "      <td>42</td>\n",
       "      <td>1</td>\n",
       "      <td>F</td>\n",
       "      <td>...</td>\n",
       "      <td>NaN</td>\n",
       "      <td>NaN</td>\n",
       "      <td>Activo</td>\n",
       "      <td>23/12/2021 0:00:00</td>\n",
       "      <td>NaN</td>\n",
       "      <td>6/1/2022 0:00:00</td>\n",
       "      <td>NaN</td>\n",
       "      <td>NaN</td>\n",
       "      <td>NaN</td>\n",
       "      <td>NaN</td>\n",
       "    </tr>\n",
       "    <tr>\n",
       "      <th>5596913</th>\n",
       "      <td>2022-01-18</td>\n",
       "      <td>5596954</td>\n",
       "      <td>25/12/2021 0:00:00</td>\n",
       "      <td>13001</td>\n",
       "      <td>CARTAGENA</td>\n",
       "      <td>13001</td>\n",
       "      <td>CARTAGENA</td>\n",
       "      <td>24</td>\n",
       "      <td>1</td>\n",
       "      <td>F</td>\n",
       "      <td>...</td>\n",
       "      <td>NaN</td>\n",
       "      <td>NaN</td>\n",
       "      <td>Activo</td>\n",
       "      <td>22/12/2021 0:00:00</td>\n",
       "      <td>NaN</td>\n",
       "      <td>5/1/2022 0:00:00</td>\n",
       "      <td>NaN</td>\n",
       "      <td>NaN</td>\n",
       "      <td>NaN</td>\n",
       "      <td>NaN</td>\n",
       "    </tr>\n",
       "    <tr>\n",
       "      <th>5596914</th>\n",
       "      <td>2022-01-18</td>\n",
       "      <td>5596955</td>\n",
       "      <td>25/12/2021 0:00:00</td>\n",
       "      <td>13001</td>\n",
       "      <td>CARTAGENA</td>\n",
       "      <td>13001</td>\n",
       "      <td>CARTAGENA</td>\n",
       "      <td>21</td>\n",
       "      <td>1</td>\n",
       "      <td>F</td>\n",
       "      <td>...</td>\n",
       "      <td>NaN</td>\n",
       "      <td>NaN</td>\n",
       "      <td>Activo</td>\n",
       "      <td>22/12/2021 0:00:00</td>\n",
       "      <td>NaN</td>\n",
       "      <td>5/1/2022 0:00:00</td>\n",
       "      <td>NaN</td>\n",
       "      <td>NaN</td>\n",
       "      <td>NaN</td>\n",
       "      <td>NaN</td>\n",
       "    </tr>\n",
       "    <tr>\n",
       "      <th>5596915</th>\n",
       "      <td>2022-01-18</td>\n",
       "      <td>5596956</td>\n",
       "      <td>25/12/2021 0:00:00</td>\n",
       "      <td>13001</td>\n",
       "      <td>CARTAGENA</td>\n",
       "      <td>13001</td>\n",
       "      <td>CARTAGENA</td>\n",
       "      <td>28</td>\n",
       "      <td>1</td>\n",
       "      <td>M</td>\n",
       "      <td>...</td>\n",
       "      <td>NaN</td>\n",
       "      <td>NaN</td>\n",
       "      <td>Activo</td>\n",
       "      <td>22/12/2021 0:00:00</td>\n",
       "      <td>NaN</td>\n",
       "      <td>5/1/2022 0:00:00</td>\n",
       "      <td>NaN</td>\n",
       "      <td>NaN</td>\n",
       "      <td>NaN</td>\n",
       "      <td>NaN</td>\n",
       "    </tr>\n",
       "    <tr>\n",
       "      <th>5596916</th>\n",
       "      <td>2022-01-18</td>\n",
       "      <td>5596957</td>\n",
       "      <td>25/12/2021 0:00:00</td>\n",
       "      <td>13001</td>\n",
       "      <td>CARTAGENA</td>\n",
       "      <td>13001</td>\n",
       "      <td>CARTAGENA</td>\n",
       "      <td>37</td>\n",
       "      <td>1</td>\n",
       "      <td>M</td>\n",
       "      <td>...</td>\n",
       "      <td>NaN</td>\n",
       "      <td>NaN</td>\n",
       "      <td>Activo</td>\n",
       "      <td>22/12/2021 0:00:00</td>\n",
       "      <td>NaN</td>\n",
       "      <td>5/1/2022 0:00:00</td>\n",
       "      <td>NaN</td>\n",
       "      <td>NaN</td>\n",
       "      <td>NaN</td>\n",
       "      <td>NaN</td>\n",
       "    </tr>\n",
       "  </tbody>\n",
       "</table>\n",
       "<p>5596917 rows × 23 columns</p>\n",
       "</div>"
      ],
      "text/plain": [
       "        fecha reporte web  ID de caso Fecha de notificación  \\\n",
       "0              2020-03-06           1      2/3/2020 0:00:00   \n",
       "1              2020-03-09           2      6/3/2020 0:00:00   \n",
       "2              2020-03-09           3      7/3/2020 0:00:00   \n",
       "3              2020-03-11           4      9/3/2020 0:00:00   \n",
       "4              2020-03-11           5      9/3/2020 0:00:00   \n",
       "...                   ...         ...                   ...   \n",
       "5596912        2022-01-18     5596953    26/12/2021 0:00:00   \n",
       "5596913        2022-01-18     5596954    25/12/2021 0:00:00   \n",
       "5596914        2022-01-18     5596955    25/12/2021 0:00:00   \n",
       "5596915        2022-01-18     5596956    25/12/2021 0:00:00   \n",
       "5596916        2022-01-18     5596957    25/12/2021 0:00:00   \n",
       "\n",
       "         Código DIVIPOLA departamento Nombre departamento  \\\n",
       "0                                  11              BOGOTA   \n",
       "1                                  76               VALLE   \n",
       "2                                   5           ANTIOQUIA   \n",
       "3                                   5           ANTIOQUIA   \n",
       "4                                   5           ANTIOQUIA   \n",
       "...                               ...                 ...   \n",
       "5596912                         13001           CARTAGENA   \n",
       "5596913                         13001           CARTAGENA   \n",
       "5596914                         13001           CARTAGENA   \n",
       "5596915                         13001           CARTAGENA   \n",
       "5596916                         13001           CARTAGENA   \n",
       "\n",
       "         Código DIVIPOLA municipio Nombre municipio  Edad  \\\n",
       "0                            11001           BOGOTA    19   \n",
       "1                            76111             BUGA    34   \n",
       "2                             5001         MEDELLIN    50   \n",
       "3                             5001         MEDELLIN    55   \n",
       "4                             5001         MEDELLIN    25   \n",
       "...                            ...              ...   ...   \n",
       "5596912                      13001        CARTAGENA    42   \n",
       "5596913                      13001        CARTAGENA    24   \n",
       "5596914                      13001        CARTAGENA    21   \n",
       "5596915                      13001        CARTAGENA    28   \n",
       "5596916                      13001        CARTAGENA    37   \n",
       "\n",
       "         Unidad de medida de edad Sexo  ... Código ISO del país  \\\n",
       "0                               1    F  ...               380.0   \n",
       "1                               1    M  ...               724.0   \n",
       "2                               1    F  ...               724.0   \n",
       "3                               1    M  ...                 NaN   \n",
       "4                               1    M  ...                 NaN   \n",
       "...                           ...  ...  ...                 ...   \n",
       "5596912                         1    F  ...                 NaN   \n",
       "5596913                         1    F  ...                 NaN   \n",
       "5596914                         1    F  ...                 NaN   \n",
       "5596915                         1    M  ...                 NaN   \n",
       "5596916                         1    M  ...                 NaN   \n",
       "\n",
       "        Nombre del país  Recuperado  Fecha de inicio de síntomas  \\\n",
       "0                ITALIA  Recuperado            27/2/2020 0:00:00   \n",
       "1                ESPAÑA  Recuperado             4/3/2020 0:00:00   \n",
       "2                ESPAÑA  Recuperado            29/2/2020 0:00:00   \n",
       "3                   NaN  Recuperado             6/3/2020 0:00:00   \n",
       "4                   NaN  Recuperado             8/3/2020 0:00:00   \n",
       "...                 ...         ...                          ...   \n",
       "5596912             NaN      Activo           23/12/2021 0:00:00   \n",
       "5596913             NaN      Activo           22/12/2021 0:00:00   \n",
       "5596914             NaN      Activo           22/12/2021 0:00:00   \n",
       "5596915             NaN      Activo           22/12/2021 0:00:00   \n",
       "5596916             NaN      Activo           22/12/2021 0:00:00   \n",
       "\n",
       "        Fecha de muerte Fecha de diagnóstico Fecha de recuperación  \\\n",
       "0                   NaN     6/3/2020 0:00:00     13/3/2020 0:00:00   \n",
       "1                   NaN     9/3/2020 0:00:00     19/3/2020 0:00:00   \n",
       "2                   NaN     9/3/2020 0:00:00     15/3/2020 0:00:00   \n",
       "3                   NaN    11/3/2020 0:00:00     26/3/2020 0:00:00   \n",
       "4                   NaN    11/3/2020 0:00:00     23/3/2020 0:00:00   \n",
       "...                 ...                  ...                   ...   \n",
       "5596912             NaN     6/1/2022 0:00:00                   NaN   \n",
       "5596913             NaN     5/1/2022 0:00:00                   NaN   \n",
       "5596914             NaN     5/1/2022 0:00:00                   NaN   \n",
       "5596915             NaN     5/1/2022 0:00:00                   NaN   \n",
       "5596916             NaN     5/1/2022 0:00:00                   NaN   \n",
       "\n",
       "        Tipo de recuperación Pertenencia étnica Nombre del grupo étnico  \n",
       "0                        PCR                6.0                     NaN  \n",
       "1                        PCR                5.0                     NaN  \n",
       "2                        PCR                6.0                     NaN  \n",
       "3                        PCR                6.0                     NaN  \n",
       "4                        PCR                6.0                     NaN  \n",
       "...                      ...                ...                     ...  \n",
       "5596912                  NaN                NaN                     NaN  \n",
       "5596913                  NaN                NaN                     NaN  \n",
       "5596914                  NaN                NaN                     NaN  \n",
       "5596915                  NaN                NaN                     NaN  \n",
       "5596916                  NaN                NaN                     NaN  \n",
       "\n",
       "[5596917 rows x 23 columns]"
      ]
     },
     "execution_count": 5,
     "metadata": {},
     "output_type": "execute_result"
    }
   ],
   "source": [
    "colombia['fecha reporte web'] =pd.to_datetime(colombia['fecha reporte web'],format = '%d/%m/%Y %H:%M:%S')\n",
    "colombia"
   ]
  },
  {
   "cell_type": "code",
   "execution_count": 6,
   "metadata": {},
   "outputs": [
    {
     "data": {
      "text/html": [
       "<div>\n",
       "<style scoped>\n",
       "    .dataframe tbody tr th:only-of-type {\n",
       "        vertical-align: middle;\n",
       "    }\n",
       "\n",
       "    .dataframe tbody tr th {\n",
       "        vertical-align: top;\n",
       "    }\n",
       "\n",
       "    .dataframe thead th {\n",
       "        text-align: right;\n",
       "    }\n",
       "</style>\n",
       "<table border=\"1\" class=\"dataframe\">\n",
       "  <thead>\n",
       "    <tr style=\"text-align: right;\">\n",
       "      <th></th>\n",
       "      <th>fecha reporte web</th>\n",
       "      <th>ID de caso</th>\n",
       "      <th>Recuperado</th>\n",
       "    </tr>\n",
       "  </thead>\n",
       "  <tbody>\n",
       "    <tr>\n",
       "      <th>0</th>\n",
       "      <td>2020-03-06</td>\n",
       "      <td>1</td>\n",
       "      <td>Recuperado</td>\n",
       "    </tr>\n",
       "    <tr>\n",
       "      <th>1</th>\n",
       "      <td>2020-03-09</td>\n",
       "      <td>2</td>\n",
       "      <td>Recuperado</td>\n",
       "    </tr>\n",
       "    <tr>\n",
       "      <th>2</th>\n",
       "      <td>2020-03-09</td>\n",
       "      <td>3</td>\n",
       "      <td>Recuperado</td>\n",
       "    </tr>\n",
       "    <tr>\n",
       "      <th>3</th>\n",
       "      <td>2020-03-11</td>\n",
       "      <td>4</td>\n",
       "      <td>Recuperado</td>\n",
       "    </tr>\n",
       "    <tr>\n",
       "      <th>4</th>\n",
       "      <td>2020-03-11</td>\n",
       "      <td>5</td>\n",
       "      <td>Recuperado</td>\n",
       "    </tr>\n",
       "    <tr>\n",
       "      <th>...</th>\n",
       "      <td>...</td>\n",
       "      <td>...</td>\n",
       "      <td>...</td>\n",
       "    </tr>\n",
       "    <tr>\n",
       "      <th>5596912</th>\n",
       "      <td>2022-01-18</td>\n",
       "      <td>5596953</td>\n",
       "      <td>Activo</td>\n",
       "    </tr>\n",
       "    <tr>\n",
       "      <th>5596913</th>\n",
       "      <td>2022-01-18</td>\n",
       "      <td>5596954</td>\n",
       "      <td>Activo</td>\n",
       "    </tr>\n",
       "    <tr>\n",
       "      <th>5596914</th>\n",
       "      <td>2022-01-18</td>\n",
       "      <td>5596955</td>\n",
       "      <td>Activo</td>\n",
       "    </tr>\n",
       "    <tr>\n",
       "      <th>5596915</th>\n",
       "      <td>2022-01-18</td>\n",
       "      <td>5596956</td>\n",
       "      <td>Activo</td>\n",
       "    </tr>\n",
       "    <tr>\n",
       "      <th>5596916</th>\n",
       "      <td>2022-01-18</td>\n",
       "      <td>5596957</td>\n",
       "      <td>Activo</td>\n",
       "    </tr>\n",
       "  </tbody>\n",
       "</table>\n",
       "<p>5596917 rows × 3 columns</p>\n",
       "</div>"
      ],
      "text/plain": [
       "        fecha reporte web  ID de caso  Recuperado\n",
       "0              2020-03-06           1  Recuperado\n",
       "1              2020-03-09           2  Recuperado\n",
       "2              2020-03-09           3  Recuperado\n",
       "3              2020-03-11           4  Recuperado\n",
       "4              2020-03-11           5  Recuperado\n",
       "...                   ...         ...         ...\n",
       "5596912        2022-01-18     5596953      Activo\n",
       "5596913        2022-01-18     5596954      Activo\n",
       "5596914        2022-01-18     5596955      Activo\n",
       "5596915        2022-01-18     5596956      Activo\n",
       "5596916        2022-01-18     5596957      Activo\n",
       "\n",
       "[5596917 rows x 3 columns]"
      ]
     },
     "execution_count": 6,
     "metadata": {},
     "output_type": "execute_result"
    }
   ],
   "source": [
    "colombia=colombia.drop(['Fecha de notificación', 'Tipo de contagio','Ubicación del caso','Código DIVIPOLA departamento', 'Nombre departamento', 'Código DIVIPOLA municipio','Nombre municipio','Edad', 'Unidad de medida de edad', 'Sexo', 'Código ISO del país', 'Nombre del país', 'Fecha de inicio de síntomas', 'Fecha de muerte', 'Fecha de diagnóstico', 'Fecha de recuperación','Tipo de recuperación', 'Pertenencia étnica', 'Nombre del grupo étnico','Estado'], axis=1)\n",
    "colombia"
   ]
  },
  {
   "cell_type": "code",
   "execution_count": 7,
   "metadata": {},
   "outputs": [
    {
     "data": {
      "text/html": [
       "<div>\n",
       "<style scoped>\n",
       "    .dataframe tbody tr th:only-of-type {\n",
       "        vertical-align: middle;\n",
       "    }\n",
       "\n",
       "    .dataframe tbody tr th {\n",
       "        vertical-align: top;\n",
       "    }\n",
       "\n",
       "    .dataframe thead th {\n",
       "        text-align: right;\n",
       "    }\n",
       "</style>\n",
       "<table border=\"1\" class=\"dataframe\">\n",
       "  <thead>\n",
       "    <tr style=\"text-align: right;\">\n",
       "      <th></th>\n",
       "      <th>ID de caso</th>\n",
       "      <th>Recuperado</th>\n",
       "    </tr>\n",
       "    <tr>\n",
       "      <th>fecha reporte web</th>\n",
       "      <th></th>\n",
       "      <th></th>\n",
       "    </tr>\n",
       "  </thead>\n",
       "  <tbody>\n",
       "    <tr>\n",
       "      <th>2020-03-06</th>\n",
       "      <td>1</td>\n",
       "      <td>Recuperado</td>\n",
       "    </tr>\n",
       "    <tr>\n",
       "      <th>2020-03-09</th>\n",
       "      <td>2</td>\n",
       "      <td>Recuperado</td>\n",
       "    </tr>\n",
       "    <tr>\n",
       "      <th>2020-03-09</th>\n",
       "      <td>3</td>\n",
       "      <td>Recuperado</td>\n",
       "    </tr>\n",
       "    <tr>\n",
       "      <th>2020-03-11</th>\n",
       "      <td>4</td>\n",
       "      <td>Recuperado</td>\n",
       "    </tr>\n",
       "    <tr>\n",
       "      <th>2020-03-11</th>\n",
       "      <td>5</td>\n",
       "      <td>Recuperado</td>\n",
       "    </tr>\n",
       "    <tr>\n",
       "      <th>2020-03-11</th>\n",
       "      <td>6</td>\n",
       "      <td>Recuperado</td>\n",
       "    </tr>\n",
       "    <tr>\n",
       "      <th>2020-03-11</th>\n",
       "      <td>7</td>\n",
       "      <td>Recuperado</td>\n",
       "    </tr>\n",
       "    <tr>\n",
       "      <th>2020-03-11</th>\n",
       "      <td>8</td>\n",
       "      <td>Recuperado</td>\n",
       "    </tr>\n",
       "    <tr>\n",
       "      <th>2020-03-11</th>\n",
       "      <td>9</td>\n",
       "      <td>Recuperado</td>\n",
       "    </tr>\n",
       "    <tr>\n",
       "      <th>2020-03-12</th>\n",
       "      <td>10</td>\n",
       "      <td>Recuperado</td>\n",
       "    </tr>\n",
       "    <tr>\n",
       "      <th>2020-03-12</th>\n",
       "      <td>11</td>\n",
       "      <td>Recuperado</td>\n",
       "    </tr>\n",
       "    <tr>\n",
       "      <th>2020-03-12</th>\n",
       "      <td>12</td>\n",
       "      <td>Recuperado</td>\n",
       "    </tr>\n",
       "    <tr>\n",
       "      <th>2020-03-12</th>\n",
       "      <td>13</td>\n",
       "      <td>Recuperado</td>\n",
       "    </tr>\n",
       "    <tr>\n",
       "      <th>2020-03-13</th>\n",
       "      <td>14</td>\n",
       "      <td>Recuperado</td>\n",
       "    </tr>\n",
       "    <tr>\n",
       "      <th>2020-03-13</th>\n",
       "      <td>15</td>\n",
       "      <td>Recuperado</td>\n",
       "    </tr>\n",
       "    <tr>\n",
       "      <th>2020-03-13</th>\n",
       "      <td>16</td>\n",
       "      <td>Recuperado</td>\n",
       "    </tr>\n",
       "    <tr>\n",
       "      <th>2020-03-14</th>\n",
       "      <td>17</td>\n",
       "      <td>Recuperado</td>\n",
       "    </tr>\n",
       "    <tr>\n",
       "      <th>2020-03-14</th>\n",
       "      <td>18</td>\n",
       "      <td>Recuperado</td>\n",
       "    </tr>\n",
       "    <tr>\n",
       "      <th>2020-03-14</th>\n",
       "      <td>19</td>\n",
       "      <td>Recuperado</td>\n",
       "    </tr>\n",
       "    <tr>\n",
       "      <th>2020-03-14</th>\n",
       "      <td>20</td>\n",
       "      <td>Recuperado</td>\n",
       "    </tr>\n",
       "    <tr>\n",
       "      <th>2020-03-14</th>\n",
       "      <td>21</td>\n",
       "      <td>Recuperado</td>\n",
       "    </tr>\n",
       "    <tr>\n",
       "      <th>2020-03-14</th>\n",
       "      <td>22</td>\n",
       "      <td>Recuperado</td>\n",
       "    </tr>\n",
       "    <tr>\n",
       "      <th>2020-03-14</th>\n",
       "      <td>23</td>\n",
       "      <td>Recuperado</td>\n",
       "    </tr>\n",
       "    <tr>\n",
       "      <th>2020-03-14</th>\n",
       "      <td>24</td>\n",
       "      <td>Recuperado</td>\n",
       "    </tr>\n",
       "    <tr>\n",
       "      <th>2020-03-13</th>\n",
       "      <td>25</td>\n",
       "      <td>Recuperado</td>\n",
       "    </tr>\n",
       "    <tr>\n",
       "      <th>2020-03-15</th>\n",
       "      <td>26</td>\n",
       "      <td>Recuperado</td>\n",
       "    </tr>\n",
       "    <tr>\n",
       "      <th>2020-03-15</th>\n",
       "      <td>27</td>\n",
       "      <td>Recuperado</td>\n",
       "    </tr>\n",
       "    <tr>\n",
       "      <th>2020-03-14</th>\n",
       "      <td>28</td>\n",
       "      <td>Recuperado</td>\n",
       "    </tr>\n",
       "    <tr>\n",
       "      <th>2020-03-12</th>\n",
       "      <td>29</td>\n",
       "      <td>Recuperado</td>\n",
       "    </tr>\n",
       "    <tr>\n",
       "      <th>2020-03-15</th>\n",
       "      <td>30</td>\n",
       "      <td>Recuperado</td>\n",
       "    </tr>\n",
       "  </tbody>\n",
       "</table>\n",
       "</div>"
      ],
      "text/plain": [
       "                   ID de caso  Recuperado\n",
       "fecha reporte web                        \n",
       "2020-03-06                  1  Recuperado\n",
       "2020-03-09                  2  Recuperado\n",
       "2020-03-09                  3  Recuperado\n",
       "2020-03-11                  4  Recuperado\n",
       "2020-03-11                  5  Recuperado\n",
       "2020-03-11                  6  Recuperado\n",
       "2020-03-11                  7  Recuperado\n",
       "2020-03-11                  8  Recuperado\n",
       "2020-03-11                  9  Recuperado\n",
       "2020-03-12                 10  Recuperado\n",
       "2020-03-12                 11  Recuperado\n",
       "2020-03-12                 12  Recuperado\n",
       "2020-03-12                 13  Recuperado\n",
       "2020-03-13                 14  Recuperado\n",
       "2020-03-13                 15  Recuperado\n",
       "2020-03-13                 16  Recuperado\n",
       "2020-03-14                 17  Recuperado\n",
       "2020-03-14                 18  Recuperado\n",
       "2020-03-14                 19  Recuperado\n",
       "2020-03-14                 20  Recuperado\n",
       "2020-03-14                 21  Recuperado\n",
       "2020-03-14                 22  Recuperado\n",
       "2020-03-14                 23  Recuperado\n",
       "2020-03-14                 24  Recuperado\n",
       "2020-03-13                 25  Recuperado\n",
       "2020-03-15                 26  Recuperado\n",
       "2020-03-15                 27  Recuperado\n",
       "2020-03-14                 28  Recuperado\n",
       "2020-03-12                 29  Recuperado\n",
       "2020-03-15                 30  Recuperado"
      ]
     },
     "execution_count": 7,
     "metadata": {},
     "output_type": "execute_result"
    }
   ],
   "source": [
    "colombia.set_index('fecha reporte web', inplace = True)\n",
    "colombia.head(30)"
   ]
  },
  {
   "cell_type": "code",
   "execution_count": 8,
   "metadata": {},
   "outputs": [
    {
     "data": {
      "text/html": [
       "<div>\n",
       "<style scoped>\n",
       "    .dataframe tbody tr th:only-of-type {\n",
       "        vertical-align: middle;\n",
       "    }\n",
       "\n",
       "    .dataframe tbody tr th {\n",
       "        vertical-align: top;\n",
       "    }\n",
       "\n",
       "    .dataframe thead th {\n",
       "        text-align: right;\n",
       "    }\n",
       "</style>\n",
       "<table border=\"1\" class=\"dataframe\">\n",
       "  <thead>\n",
       "    <tr style=\"text-align: right;\">\n",
       "      <th></th>\n",
       "      <th>ID de caso</th>\n",
       "      <th>Recuperado</th>\n",
       "      <th>Fallecidos</th>\n",
       "      <th>Recuperados</th>\n",
       "    </tr>\n",
       "    <tr>\n",
       "      <th>fecha reporte web</th>\n",
       "      <th></th>\n",
       "      <th></th>\n",
       "      <th></th>\n",
       "      <th></th>\n",
       "    </tr>\n",
       "  </thead>\n",
       "  <tbody>\n",
       "    <tr>\n",
       "      <th>2020-03-06</th>\n",
       "      <td>1</td>\n",
       "      <td>Recuperado</td>\n",
       "      <td>0</td>\n",
       "      <td>1</td>\n",
       "    </tr>\n",
       "    <tr>\n",
       "      <th>2020-03-09</th>\n",
       "      <td>2</td>\n",
       "      <td>Recuperado</td>\n",
       "      <td>0</td>\n",
       "      <td>1</td>\n",
       "    </tr>\n",
       "    <tr>\n",
       "      <th>2020-03-09</th>\n",
       "      <td>3</td>\n",
       "      <td>Recuperado</td>\n",
       "      <td>0</td>\n",
       "      <td>1</td>\n",
       "    </tr>\n",
       "    <tr>\n",
       "      <th>2020-03-11</th>\n",
       "      <td>4</td>\n",
       "      <td>Recuperado</td>\n",
       "      <td>0</td>\n",
       "      <td>1</td>\n",
       "    </tr>\n",
       "    <tr>\n",
       "      <th>2020-03-11</th>\n",
       "      <td>5</td>\n",
       "      <td>Recuperado</td>\n",
       "      <td>0</td>\n",
       "      <td>1</td>\n",
       "    </tr>\n",
       "    <tr>\n",
       "      <th>...</th>\n",
       "      <td>...</td>\n",
       "      <td>...</td>\n",
       "      <td>...</td>\n",
       "      <td>...</td>\n",
       "    </tr>\n",
       "    <tr>\n",
       "      <th>2022-01-18</th>\n",
       "      <td>5596953</td>\n",
       "      <td>Activo</td>\n",
       "      <td>0</td>\n",
       "      <td>0</td>\n",
       "    </tr>\n",
       "    <tr>\n",
       "      <th>2022-01-18</th>\n",
       "      <td>5596954</td>\n",
       "      <td>Activo</td>\n",
       "      <td>0</td>\n",
       "      <td>0</td>\n",
       "    </tr>\n",
       "    <tr>\n",
       "      <th>2022-01-18</th>\n",
       "      <td>5596955</td>\n",
       "      <td>Activo</td>\n",
       "      <td>0</td>\n",
       "      <td>0</td>\n",
       "    </tr>\n",
       "    <tr>\n",
       "      <th>2022-01-18</th>\n",
       "      <td>5596956</td>\n",
       "      <td>Activo</td>\n",
       "      <td>0</td>\n",
       "      <td>0</td>\n",
       "    </tr>\n",
       "    <tr>\n",
       "      <th>2022-01-18</th>\n",
       "      <td>5596957</td>\n",
       "      <td>Activo</td>\n",
       "      <td>0</td>\n",
       "      <td>0</td>\n",
       "    </tr>\n",
       "  </tbody>\n",
       "</table>\n",
       "<p>5596917 rows × 4 columns</p>\n",
       "</div>"
      ],
      "text/plain": [
       "                   ID de caso  Recuperado  Fallecidos  Recuperados\n",
       "fecha reporte web                                                 \n",
       "2020-03-06                  1  Recuperado           0            1\n",
       "2020-03-09                  2  Recuperado           0            1\n",
       "2020-03-09                  3  Recuperado           0            1\n",
       "2020-03-11                  4  Recuperado           0            1\n",
       "2020-03-11                  5  Recuperado           0            1\n",
       "...                       ...         ...         ...          ...\n",
       "2022-01-18            5596953      Activo           0            0\n",
       "2022-01-18            5596954      Activo           0            0\n",
       "2022-01-18            5596955      Activo           0            0\n",
       "2022-01-18            5596956      Activo           0            0\n",
       "2022-01-18            5596957      Activo           0            0\n",
       "\n",
       "[5596917 rows x 4 columns]"
      ]
     },
     "execution_count": 8,
     "metadata": {},
     "output_type": "execute_result"
    }
   ],
   "source": [
    "colombia['Fallecidos'] = [1 if i == 'Fallecido' else 0 for i in colombia.Recuperado]\n",
    "colombia['Recuperados'] = [1 if i == 'Recuperado' else 0 for i in colombia.Recuperado]\n",
    "\n",
    "colombia"
   ]
  },
  {
   "cell_type": "code",
   "execution_count": 9,
   "metadata": {},
   "outputs": [
    {
     "data": {
      "text/html": [
       "<div>\n",
       "<style scoped>\n",
       "    .dataframe tbody tr th:only-of-type {\n",
       "        vertical-align: middle;\n",
       "    }\n",
       "\n",
       "    .dataframe tbody tr th {\n",
       "        vertical-align: top;\n",
       "    }\n",
       "\n",
       "    .dataframe thead th {\n",
       "        text-align: right;\n",
       "    }\n",
       "</style>\n",
       "<table border=\"1\" class=\"dataframe\">\n",
       "  <thead>\n",
       "    <tr style=\"text-align: right;\">\n",
       "      <th></th>\n",
       "      <th>ID de caso</th>\n",
       "      <th>Fallecidos</th>\n",
       "      <th>Recuperados</th>\n",
       "    </tr>\n",
       "    <tr>\n",
       "      <th>fecha reporte web</th>\n",
       "      <th></th>\n",
       "      <th></th>\n",
       "      <th></th>\n",
       "    </tr>\n",
       "  </thead>\n",
       "  <tbody>\n",
       "    <tr>\n",
       "      <th>2020-03-06</th>\n",
       "      <td>1</td>\n",
       "      <td>0</td>\n",
       "      <td>1</td>\n",
       "    </tr>\n",
       "    <tr>\n",
       "      <th>2020-03-09</th>\n",
       "      <td>2</td>\n",
       "      <td>0</td>\n",
       "      <td>1</td>\n",
       "    </tr>\n",
       "    <tr>\n",
       "      <th>2020-03-09</th>\n",
       "      <td>3</td>\n",
       "      <td>0</td>\n",
       "      <td>1</td>\n",
       "    </tr>\n",
       "    <tr>\n",
       "      <th>2020-03-11</th>\n",
       "      <td>4</td>\n",
       "      <td>0</td>\n",
       "      <td>1</td>\n",
       "    </tr>\n",
       "    <tr>\n",
       "      <th>2020-03-11</th>\n",
       "      <td>5</td>\n",
       "      <td>0</td>\n",
       "      <td>1</td>\n",
       "    </tr>\n",
       "    <tr>\n",
       "      <th>...</th>\n",
       "      <td>...</td>\n",
       "      <td>...</td>\n",
       "      <td>...</td>\n",
       "    </tr>\n",
       "    <tr>\n",
       "      <th>2022-01-18</th>\n",
       "      <td>5596953</td>\n",
       "      <td>0</td>\n",
       "      <td>0</td>\n",
       "    </tr>\n",
       "    <tr>\n",
       "      <th>2022-01-18</th>\n",
       "      <td>5596954</td>\n",
       "      <td>0</td>\n",
       "      <td>0</td>\n",
       "    </tr>\n",
       "    <tr>\n",
       "      <th>2022-01-18</th>\n",
       "      <td>5596955</td>\n",
       "      <td>0</td>\n",
       "      <td>0</td>\n",
       "    </tr>\n",
       "    <tr>\n",
       "      <th>2022-01-18</th>\n",
       "      <td>5596956</td>\n",
       "      <td>0</td>\n",
       "      <td>0</td>\n",
       "    </tr>\n",
       "    <tr>\n",
       "      <th>2022-01-18</th>\n",
       "      <td>5596957</td>\n",
       "      <td>0</td>\n",
       "      <td>0</td>\n",
       "    </tr>\n",
       "  </tbody>\n",
       "</table>\n",
       "<p>5596917 rows × 3 columns</p>\n",
       "</div>"
      ],
      "text/plain": [
       "                   ID de caso  Fallecidos  Recuperados\n",
       "fecha reporte web                                     \n",
       "2020-03-06                  1           0            1\n",
       "2020-03-09                  2           0            1\n",
       "2020-03-09                  3           0            1\n",
       "2020-03-11                  4           0            1\n",
       "2020-03-11                  5           0            1\n",
       "...                       ...         ...          ...\n",
       "2022-01-18            5596953           0            0\n",
       "2022-01-18            5596954           0            0\n",
       "2022-01-18            5596955           0            0\n",
       "2022-01-18            5596956           0            0\n",
       "2022-01-18            5596957           0            0\n",
       "\n",
       "[5596917 rows x 3 columns]"
      ]
     },
     "execution_count": 9,
     "metadata": {},
     "output_type": "execute_result"
    }
   ],
   "source": [
    "colombia = colombia.drop(['Recuperado'],axis=1)\n",
    "colombia"
   ]
  },
  {
   "cell_type": "code",
   "execution_count": 10,
   "metadata": {},
   "outputs": [],
   "source": [
    "def one(x):\n",
    "    return 1"
   ]
  },
  {
   "cell_type": "code",
   "execution_count": 11,
   "metadata": {},
   "outputs": [
    {
     "data": {
      "text/html": [
       "<div>\n",
       "<style scoped>\n",
       "    .dataframe tbody tr th:only-of-type {\n",
       "        vertical-align: middle;\n",
       "    }\n",
       "\n",
       "    .dataframe tbody tr th {\n",
       "        vertical-align: top;\n",
       "    }\n",
       "\n",
       "    .dataframe thead th {\n",
       "        text-align: right;\n",
       "    }\n",
       "</style>\n",
       "<table border=\"1\" class=\"dataframe\">\n",
       "  <thead>\n",
       "    <tr style=\"text-align: right;\">\n",
       "      <th></th>\n",
       "      <th>ID de caso</th>\n",
       "      <th>Fallecidos</th>\n",
       "      <th>Recuperados</th>\n",
       "    </tr>\n",
       "    <tr>\n",
       "      <th>fecha reporte web</th>\n",
       "      <th></th>\n",
       "      <th></th>\n",
       "      <th></th>\n",
       "    </tr>\n",
       "  </thead>\n",
       "  <tbody>\n",
       "    <tr>\n",
       "      <th>2020-03-06</th>\n",
       "      <td>1</td>\n",
       "      <td>0</td>\n",
       "      <td>1</td>\n",
       "    </tr>\n",
       "    <tr>\n",
       "      <th>2020-03-09</th>\n",
       "      <td>1</td>\n",
       "      <td>0</td>\n",
       "      <td>1</td>\n",
       "    </tr>\n",
       "    <tr>\n",
       "      <th>2020-03-09</th>\n",
       "      <td>1</td>\n",
       "      <td>0</td>\n",
       "      <td>1</td>\n",
       "    </tr>\n",
       "    <tr>\n",
       "      <th>2020-03-11</th>\n",
       "      <td>1</td>\n",
       "      <td>0</td>\n",
       "      <td>1</td>\n",
       "    </tr>\n",
       "    <tr>\n",
       "      <th>2020-03-11</th>\n",
       "      <td>1</td>\n",
       "      <td>0</td>\n",
       "      <td>1</td>\n",
       "    </tr>\n",
       "    <tr>\n",
       "      <th>...</th>\n",
       "      <td>...</td>\n",
       "      <td>...</td>\n",
       "      <td>...</td>\n",
       "    </tr>\n",
       "    <tr>\n",
       "      <th>2022-01-18</th>\n",
       "      <td>1</td>\n",
       "      <td>0</td>\n",
       "      <td>0</td>\n",
       "    </tr>\n",
       "    <tr>\n",
       "      <th>2022-01-18</th>\n",
       "      <td>1</td>\n",
       "      <td>0</td>\n",
       "      <td>0</td>\n",
       "    </tr>\n",
       "    <tr>\n",
       "      <th>2022-01-18</th>\n",
       "      <td>1</td>\n",
       "      <td>0</td>\n",
       "      <td>0</td>\n",
       "    </tr>\n",
       "    <tr>\n",
       "      <th>2022-01-18</th>\n",
       "      <td>1</td>\n",
       "      <td>0</td>\n",
       "      <td>0</td>\n",
       "    </tr>\n",
       "    <tr>\n",
       "      <th>2022-01-18</th>\n",
       "      <td>1</td>\n",
       "      <td>0</td>\n",
       "      <td>0</td>\n",
       "    </tr>\n",
       "  </tbody>\n",
       "</table>\n",
       "<p>5596917 rows × 3 columns</p>\n",
       "</div>"
      ],
      "text/plain": [
       "                   ID de caso  Fallecidos  Recuperados\n",
       "fecha reporte web                                     \n",
       "2020-03-06                  1           0            1\n",
       "2020-03-09                  1           0            1\n",
       "2020-03-09                  1           0            1\n",
       "2020-03-11                  1           0            1\n",
       "2020-03-11                  1           0            1\n",
       "...                       ...         ...          ...\n",
       "2022-01-18                  1           0            0\n",
       "2022-01-18                  1           0            0\n",
       "2022-01-18                  1           0            0\n",
       "2022-01-18                  1           0            0\n",
       "2022-01-18                  1           0            0\n",
       "\n",
       "[5596917 rows x 3 columns]"
      ]
     },
     "execution_count": 11,
     "metadata": {},
     "output_type": "execute_result"
    }
   ],
   "source": [
    "colombia['ID de caso'] = colombia['ID de caso'].apply(one)\n",
    "colombia"
   ]
  },
  {
   "cell_type": "code",
   "execution_count": 12,
   "metadata": {},
   "outputs": [
    {
     "data": {
      "text/html": [
       "<div>\n",
       "<style scoped>\n",
       "    .dataframe tbody tr th:only-of-type {\n",
       "        vertical-align: middle;\n",
       "    }\n",
       "\n",
       "    .dataframe tbody tr th {\n",
       "        vertical-align: top;\n",
       "    }\n",
       "\n",
       "    .dataframe thead th {\n",
       "        text-align: right;\n",
       "    }\n",
       "</style>\n",
       "<table border=\"1\" class=\"dataframe\">\n",
       "  <thead>\n",
       "    <tr style=\"text-align: right;\">\n",
       "      <th></th>\n",
       "      <th>ID de caso</th>\n",
       "      <th>Fallecidos</th>\n",
       "      <th>Recuperados</th>\n",
       "    </tr>\n",
       "    <tr>\n",
       "      <th>fecha reporte web</th>\n",
       "      <th></th>\n",
       "      <th></th>\n",
       "      <th></th>\n",
       "    </tr>\n",
       "  </thead>\n",
       "  <tbody>\n",
       "    <tr>\n",
       "      <th>2020-03-06</th>\n",
       "      <td>1</td>\n",
       "      <td>0</td>\n",
       "      <td>1</td>\n",
       "    </tr>\n",
       "    <tr>\n",
       "      <th>2020-03-07</th>\n",
       "      <td>0</td>\n",
       "      <td>0</td>\n",
       "      <td>0</td>\n",
       "    </tr>\n",
       "    <tr>\n",
       "      <th>2020-03-08</th>\n",
       "      <td>0</td>\n",
       "      <td>0</td>\n",
       "      <td>0</td>\n",
       "    </tr>\n",
       "    <tr>\n",
       "      <th>2020-03-09</th>\n",
       "      <td>2</td>\n",
       "      <td>0</td>\n",
       "      <td>2</td>\n",
       "    </tr>\n",
       "    <tr>\n",
       "      <th>2020-03-10</th>\n",
       "      <td>0</td>\n",
       "      <td>0</td>\n",
       "      <td>0</td>\n",
       "    </tr>\n",
       "    <tr>\n",
       "      <th>2020-03-11</th>\n",
       "      <td>6</td>\n",
       "      <td>0</td>\n",
       "      <td>6</td>\n",
       "    </tr>\n",
       "    <tr>\n",
       "      <th>2020-03-12</th>\n",
       "      <td>5</td>\n",
       "      <td>0</td>\n",
       "      <td>5</td>\n",
       "    </tr>\n",
       "    <tr>\n",
       "      <th>2020-03-13</th>\n",
       "      <td>5</td>\n",
       "      <td>0</td>\n",
       "      <td>5</td>\n",
       "    </tr>\n",
       "    <tr>\n",
       "      <th>2020-03-14</th>\n",
       "      <td>18</td>\n",
       "      <td>0</td>\n",
       "      <td>18</td>\n",
       "    </tr>\n",
       "    <tr>\n",
       "      <th>2020-03-15</th>\n",
       "      <td>16</td>\n",
       "      <td>0</td>\n",
       "      <td>16</td>\n",
       "    </tr>\n",
       "    <tr>\n",
       "      <th>2020-03-16</th>\n",
       "      <td>14</td>\n",
       "      <td>1</td>\n",
       "      <td>13</td>\n",
       "    </tr>\n",
       "    <tr>\n",
       "      <th>2020-03-17</th>\n",
       "      <td>25</td>\n",
       "      <td>0</td>\n",
       "      <td>25</td>\n",
       "    </tr>\n",
       "    <tr>\n",
       "      <th>2020-03-18</th>\n",
       "      <td>12</td>\n",
       "      <td>0</td>\n",
       "      <td>12</td>\n",
       "    </tr>\n",
       "    <tr>\n",
       "      <th>2020-03-19</th>\n",
       "      <td>26</td>\n",
       "      <td>0</td>\n",
       "      <td>26</td>\n",
       "    </tr>\n",
       "    <tr>\n",
       "      <th>2020-03-20</th>\n",
       "      <td>48</td>\n",
       "      <td>3</td>\n",
       "      <td>45</td>\n",
       "    </tr>\n",
       "    <tr>\n",
       "      <th>2020-03-21</th>\n",
       "      <td>34</td>\n",
       "      <td>1</td>\n",
       "      <td>33</td>\n",
       "    </tr>\n",
       "    <tr>\n",
       "      <th>2020-03-22</th>\n",
       "      <td>29</td>\n",
       "      <td>1</td>\n",
       "      <td>28</td>\n",
       "    </tr>\n",
       "    <tr>\n",
       "      <th>2020-03-23</th>\n",
       "      <td>73</td>\n",
       "      <td>4</td>\n",
       "      <td>69</td>\n",
       "    </tr>\n",
       "    <tr>\n",
       "      <th>2020-03-24</th>\n",
       "      <td>105</td>\n",
       "      <td>4</td>\n",
       "      <td>101</td>\n",
       "    </tr>\n",
       "    <tr>\n",
       "      <th>2020-03-25</th>\n",
       "      <td>61</td>\n",
       "      <td>1</td>\n",
       "      <td>60</td>\n",
       "    </tr>\n",
       "    <tr>\n",
       "      <th>2020-03-26</th>\n",
       "      <td>10</td>\n",
       "      <td>1</td>\n",
       "      <td>9</td>\n",
       "    </tr>\n",
       "    <tr>\n",
       "      <th>2020-03-27</th>\n",
       "      <td>49</td>\n",
       "      <td>4</td>\n",
       "      <td>45</td>\n",
       "    </tr>\n",
       "    <tr>\n",
       "      <th>2020-03-28</th>\n",
       "      <td>69</td>\n",
       "      <td>5</td>\n",
       "      <td>64</td>\n",
       "    </tr>\n",
       "    <tr>\n",
       "      <th>2020-03-29</th>\n",
       "      <td>94</td>\n",
       "      <td>3</td>\n",
       "      <td>91</td>\n",
       "    </tr>\n",
       "    <tr>\n",
       "      <th>2020-03-30</th>\n",
       "      <td>96</td>\n",
       "      <td>9</td>\n",
       "      <td>86</td>\n",
       "    </tr>\n",
       "    <tr>\n",
       "      <th>2020-03-31</th>\n",
       "      <td>107</td>\n",
       "      <td>6</td>\n",
       "      <td>101</td>\n",
       "    </tr>\n",
       "    <tr>\n",
       "      <th>2020-04-01</th>\n",
       "      <td>160</td>\n",
       "      <td>12</td>\n",
       "      <td>147</td>\n",
       "    </tr>\n",
       "    <tr>\n",
       "      <th>2020-04-02</th>\n",
       "      <td>96</td>\n",
       "      <td>4</td>\n",
       "      <td>92</td>\n",
       "    </tr>\n",
       "    <tr>\n",
       "      <th>2020-04-03</th>\n",
       "      <td>105</td>\n",
       "      <td>10</td>\n",
       "      <td>95</td>\n",
       "    </tr>\n",
       "    <tr>\n",
       "      <th>2020-04-04</th>\n",
       "      <td>140</td>\n",
       "      <td>11</td>\n",
       "      <td>129</td>\n",
       "    </tr>\n",
       "  </tbody>\n",
       "</table>\n",
       "</div>"
      ],
      "text/plain": [
       "                   ID de caso  Fallecidos  Recuperados\n",
       "fecha reporte web                                     \n",
       "2020-03-06                  1           0            1\n",
       "2020-03-07                  0           0            0\n",
       "2020-03-08                  0           0            0\n",
       "2020-03-09                  2           0            2\n",
       "2020-03-10                  0           0            0\n",
       "2020-03-11                  6           0            6\n",
       "2020-03-12                  5           0            5\n",
       "2020-03-13                  5           0            5\n",
       "2020-03-14                 18           0           18\n",
       "2020-03-15                 16           0           16\n",
       "2020-03-16                 14           1           13\n",
       "2020-03-17                 25           0           25\n",
       "2020-03-18                 12           0           12\n",
       "2020-03-19                 26           0           26\n",
       "2020-03-20                 48           3           45\n",
       "2020-03-21                 34           1           33\n",
       "2020-03-22                 29           1           28\n",
       "2020-03-23                 73           4           69\n",
       "2020-03-24                105           4          101\n",
       "2020-03-25                 61           1           60\n",
       "2020-03-26                 10           1            9\n",
       "2020-03-27                 49           4           45\n",
       "2020-03-28                 69           5           64\n",
       "2020-03-29                 94           3           91\n",
       "2020-03-30                 96           9           86\n",
       "2020-03-31                107           6          101\n",
       "2020-04-01                160          12          147\n",
       "2020-04-02                 96           4           92\n",
       "2020-04-03                105          10           95\n",
       "2020-04-04                140          11          129"
      ]
     },
     "execution_count": 12,
     "metadata": {},
     "output_type": "execute_result"
    }
   ],
   "source": [
    "colombia = colombia.resample('D').agg({'ID de caso': 'sum','Fallecidos':'sum','Recuperados':'sum'})\n",
    "colombia.head(30)"
   ]
  },
  {
   "cell_type": "code",
   "execution_count": 13,
   "metadata": {},
   "outputs": [
    {
     "data": {
      "text/html": [
       "<div>\n",
       "<style scoped>\n",
       "    .dataframe tbody tr th:only-of-type {\n",
       "        vertical-align: middle;\n",
       "    }\n",
       "\n",
       "    .dataframe tbody tr th {\n",
       "        vertical-align: top;\n",
       "    }\n",
       "\n",
       "    .dataframe thead th {\n",
       "        text-align: right;\n",
       "    }\n",
       "</style>\n",
       "<table border=\"1\" class=\"dataframe\">\n",
       "  <thead>\n",
       "    <tr style=\"text-align: right;\">\n",
       "      <th></th>\n",
       "      <th>ID de caso</th>\n",
       "      <th>Fallecidos</th>\n",
       "      <th>Recuperados</th>\n",
       "      <th>Casos acumulados</th>\n",
       "      <th>Recuperados acumulados</th>\n",
       "      <th>Fallecidos acumulados</th>\n",
       "    </tr>\n",
       "    <tr>\n",
       "      <th>fecha reporte web</th>\n",
       "      <th></th>\n",
       "      <th></th>\n",
       "      <th></th>\n",
       "      <th></th>\n",
       "      <th></th>\n",
       "      <th></th>\n",
       "    </tr>\n",
       "  </thead>\n",
       "  <tbody>\n",
       "    <tr>\n",
       "      <th>2020-03-06</th>\n",
       "      <td>1</td>\n",
       "      <td>0</td>\n",
       "      <td>1</td>\n",
       "      <td>1</td>\n",
       "      <td>1</td>\n",
       "      <td>0</td>\n",
       "    </tr>\n",
       "    <tr>\n",
       "      <th>2020-03-07</th>\n",
       "      <td>0</td>\n",
       "      <td>0</td>\n",
       "      <td>0</td>\n",
       "      <td>1</td>\n",
       "      <td>1</td>\n",
       "      <td>0</td>\n",
       "    </tr>\n",
       "    <tr>\n",
       "      <th>2020-03-08</th>\n",
       "      <td>0</td>\n",
       "      <td>0</td>\n",
       "      <td>0</td>\n",
       "      <td>1</td>\n",
       "      <td>1</td>\n",
       "      <td>0</td>\n",
       "    </tr>\n",
       "    <tr>\n",
       "      <th>2020-03-09</th>\n",
       "      <td>2</td>\n",
       "      <td>0</td>\n",
       "      <td>2</td>\n",
       "      <td>3</td>\n",
       "      <td>3</td>\n",
       "      <td>0</td>\n",
       "    </tr>\n",
       "    <tr>\n",
       "      <th>2020-03-10</th>\n",
       "      <td>0</td>\n",
       "      <td>0</td>\n",
       "      <td>0</td>\n",
       "      <td>3</td>\n",
       "      <td>3</td>\n",
       "      <td>0</td>\n",
       "    </tr>\n",
       "    <tr>\n",
       "      <th>...</th>\n",
       "      <td>...</td>\n",
       "      <td>...</td>\n",
       "      <td>...</td>\n",
       "      <td>...</td>\n",
       "      <td>...</td>\n",
       "      <td>...</td>\n",
       "    </tr>\n",
       "    <tr>\n",
       "      <th>2022-01-14</th>\n",
       "      <td>34923</td>\n",
       "      <td>83</td>\n",
       "      <td>16016</td>\n",
       "      <td>5475904</td>\n",
       "      <td>5249084</td>\n",
       "      <td>130782</td>\n",
       "    </tr>\n",
       "    <tr>\n",
       "      <th>2022-01-15</th>\n",
       "      <td>35575</td>\n",
       "      <td>80</td>\n",
       "      <td>15434</td>\n",
       "      <td>5511479</td>\n",
       "      <td>5264518</td>\n",
       "      <td>130862</td>\n",
       "    </tr>\n",
       "    <tr>\n",
       "      <th>2022-01-16</th>\n",
       "      <td>32317</td>\n",
       "      <td>56</td>\n",
       "      <td>14654</td>\n",
       "      <td>5543796</td>\n",
       "      <td>5279172</td>\n",
       "      <td>130918</td>\n",
       "    </tr>\n",
       "    <tr>\n",
       "      <th>2022-01-17</th>\n",
       "      <td>24272</td>\n",
       "      <td>55</td>\n",
       "      <td>11762</td>\n",
       "      <td>5568068</td>\n",
       "      <td>5290934</td>\n",
       "      <td>130973</td>\n",
       "    </tr>\n",
       "    <tr>\n",
       "      <th>2022-01-18</th>\n",
       "      <td>28849</td>\n",
       "      <td>0</td>\n",
       "      <td>0</td>\n",
       "      <td>5596917</td>\n",
       "      <td>5290934</td>\n",
       "      <td>130973</td>\n",
       "    </tr>\n",
       "  </tbody>\n",
       "</table>\n",
       "<p>684 rows × 6 columns</p>\n",
       "</div>"
      ],
      "text/plain": [
       "                   ID de caso  Fallecidos  Recuperados  Casos acumulados  \\\n",
       "fecha reporte web                                                          \n",
       "2020-03-06                  1           0            1                 1   \n",
       "2020-03-07                  0           0            0                 1   \n",
       "2020-03-08                  0           0            0                 1   \n",
       "2020-03-09                  2           0            2                 3   \n",
       "2020-03-10                  0           0            0                 3   \n",
       "...                       ...         ...          ...               ...   \n",
       "2022-01-14              34923          83        16016           5475904   \n",
       "2022-01-15              35575          80        15434           5511479   \n",
       "2022-01-16              32317          56        14654           5543796   \n",
       "2022-01-17              24272          55        11762           5568068   \n",
       "2022-01-18              28849           0            0           5596917   \n",
       "\n",
       "                   Recuperados acumulados  Fallecidos acumulados  \n",
       "fecha reporte web                                                 \n",
       "2020-03-06                              1                      0  \n",
       "2020-03-07                              1                      0  \n",
       "2020-03-08                              1                      0  \n",
       "2020-03-09                              3                      0  \n",
       "2020-03-10                              3                      0  \n",
       "...                                   ...                    ...  \n",
       "2022-01-14                        5249084                 130782  \n",
       "2022-01-15                        5264518                 130862  \n",
       "2022-01-16                        5279172                 130918  \n",
       "2022-01-17                        5290934                 130973  \n",
       "2022-01-18                        5290934                 130973  \n",
       "\n",
       "[684 rows x 6 columns]"
      ]
     },
     "execution_count": 13,
     "metadata": {},
     "output_type": "execute_result"
    }
   ],
   "source": [
    "colombia['Casos acumulados'] = colombia['ID de caso'].cumsum()\n",
    "colombia['Recuperados acumulados'] = colombia['Recuperados'].cumsum()\n",
    "colombia['Fallecidos acumulados'] = colombia['Fallecidos'].cumsum()\n",
    "colombia\n"
   ]
  },
  {
   "cell_type": "code",
   "execution_count": 14,
   "metadata": {},
   "outputs": [
    {
     "data": {
      "text/html": [
       "<div>\n",
       "<style scoped>\n",
       "    .dataframe tbody tr th:only-of-type {\n",
       "        vertical-align: middle;\n",
       "    }\n",
       "\n",
       "    .dataframe tbody tr th {\n",
       "        vertical-align: top;\n",
       "    }\n",
       "\n",
       "    .dataframe thead th {\n",
       "        text-align: right;\n",
       "    }\n",
       "</style>\n",
       "<table border=\"1\" class=\"dataframe\">\n",
       "  <thead>\n",
       "    <tr style=\"text-align: right;\">\n",
       "      <th></th>\n",
       "      <th>ID de caso</th>\n",
       "      <th>Casos acumulados</th>\n",
       "      <th>Recuperados</th>\n",
       "      <th>Recuperados acumulados</th>\n",
       "      <th>Fallecidos</th>\n",
       "      <th>Fallecidos acumulados</th>\n",
       "    </tr>\n",
       "    <tr>\n",
       "      <th>fecha reporte web</th>\n",
       "      <th></th>\n",
       "      <th></th>\n",
       "      <th></th>\n",
       "      <th></th>\n",
       "      <th></th>\n",
       "      <th></th>\n",
       "    </tr>\n",
       "  </thead>\n",
       "  <tbody>\n",
       "    <tr>\n",
       "      <th>2020-03-06</th>\n",
       "      <td>1</td>\n",
       "      <td>1</td>\n",
       "      <td>1</td>\n",
       "      <td>1</td>\n",
       "      <td>0</td>\n",
       "      <td>0</td>\n",
       "    </tr>\n",
       "    <tr>\n",
       "      <th>2020-03-07</th>\n",
       "      <td>0</td>\n",
       "      <td>1</td>\n",
       "      <td>0</td>\n",
       "      <td>1</td>\n",
       "      <td>0</td>\n",
       "      <td>0</td>\n",
       "    </tr>\n",
       "    <tr>\n",
       "      <th>2020-03-08</th>\n",
       "      <td>0</td>\n",
       "      <td>1</td>\n",
       "      <td>0</td>\n",
       "      <td>1</td>\n",
       "      <td>0</td>\n",
       "      <td>0</td>\n",
       "    </tr>\n",
       "    <tr>\n",
       "      <th>2020-03-09</th>\n",
       "      <td>2</td>\n",
       "      <td>3</td>\n",
       "      <td>2</td>\n",
       "      <td>3</td>\n",
       "      <td>0</td>\n",
       "      <td>0</td>\n",
       "    </tr>\n",
       "    <tr>\n",
       "      <th>2020-03-10</th>\n",
       "      <td>0</td>\n",
       "      <td>3</td>\n",
       "      <td>0</td>\n",
       "      <td>3</td>\n",
       "      <td>0</td>\n",
       "      <td>0</td>\n",
       "    </tr>\n",
       "    <tr>\n",
       "      <th>...</th>\n",
       "      <td>...</td>\n",
       "      <td>...</td>\n",
       "      <td>...</td>\n",
       "      <td>...</td>\n",
       "      <td>...</td>\n",
       "      <td>...</td>\n",
       "    </tr>\n",
       "    <tr>\n",
       "      <th>2022-01-14</th>\n",
       "      <td>34923</td>\n",
       "      <td>5475904</td>\n",
       "      <td>16016</td>\n",
       "      <td>5249084</td>\n",
       "      <td>83</td>\n",
       "      <td>130782</td>\n",
       "    </tr>\n",
       "    <tr>\n",
       "      <th>2022-01-15</th>\n",
       "      <td>35575</td>\n",
       "      <td>5511479</td>\n",
       "      <td>15434</td>\n",
       "      <td>5264518</td>\n",
       "      <td>80</td>\n",
       "      <td>130862</td>\n",
       "    </tr>\n",
       "    <tr>\n",
       "      <th>2022-01-16</th>\n",
       "      <td>32317</td>\n",
       "      <td>5543796</td>\n",
       "      <td>14654</td>\n",
       "      <td>5279172</td>\n",
       "      <td>56</td>\n",
       "      <td>130918</td>\n",
       "    </tr>\n",
       "    <tr>\n",
       "      <th>2022-01-17</th>\n",
       "      <td>24272</td>\n",
       "      <td>5568068</td>\n",
       "      <td>11762</td>\n",
       "      <td>5290934</td>\n",
       "      <td>55</td>\n",
       "      <td>130973</td>\n",
       "    </tr>\n",
       "    <tr>\n",
       "      <th>2022-01-18</th>\n",
       "      <td>28849</td>\n",
       "      <td>5596917</td>\n",
       "      <td>0</td>\n",
       "      <td>5290934</td>\n",
       "      <td>0</td>\n",
       "      <td>130973</td>\n",
       "    </tr>\n",
       "  </tbody>\n",
       "</table>\n",
       "<p>684 rows × 6 columns</p>\n",
       "</div>"
      ],
      "text/plain": [
       "                   ID de caso  Casos acumulados  Recuperados  \\\n",
       "fecha reporte web                                              \n",
       "2020-03-06                  1                 1            1   \n",
       "2020-03-07                  0                 1            0   \n",
       "2020-03-08                  0                 1            0   \n",
       "2020-03-09                  2                 3            2   \n",
       "2020-03-10                  0                 3            0   \n",
       "...                       ...               ...          ...   \n",
       "2022-01-14              34923           5475904        16016   \n",
       "2022-01-15              35575           5511479        15434   \n",
       "2022-01-16              32317           5543796        14654   \n",
       "2022-01-17              24272           5568068        11762   \n",
       "2022-01-18              28849           5596917            0   \n",
       "\n",
       "                   Recuperados acumulados  Fallecidos  Fallecidos acumulados  \n",
       "fecha reporte web                                                             \n",
       "2020-03-06                              1           0                      0  \n",
       "2020-03-07                              1           0                      0  \n",
       "2020-03-08                              1           0                      0  \n",
       "2020-03-09                              3           0                      0  \n",
       "2020-03-10                              3           0                      0  \n",
       "...                                   ...         ...                    ...  \n",
       "2022-01-14                        5249084          83                 130782  \n",
       "2022-01-15                        5264518          80                 130862  \n",
       "2022-01-16                        5279172          56                 130918  \n",
       "2022-01-17                        5290934          55                 130973  \n",
       "2022-01-18                        5290934           0                 130973  \n",
       "\n",
       "[684 rows x 6 columns]"
      ]
     },
     "execution_count": 14,
     "metadata": {},
     "output_type": "execute_result"
    }
   ],
   "source": [
    "colombia = colombia[['ID de caso', 'Casos acumulados', 'Recuperados', 'Recuperados acumulados', 'Fallecidos', 'Fallecidos acumulados']]\n",
    "colombia"
   ]
  },
  {
   "cell_type": "code",
   "execution_count": 15,
   "metadata": {},
   "outputs": [
    {
     "data": {
      "text/plain": [
       "<AxesSubplot:xlabel='fecha reporte web'>"
      ]
     },
     "execution_count": 15,
     "metadata": {},
     "output_type": "execute_result"
    },
    {
     "data": {
      "image/png": "[encoded data removed]",
      "text/plain": [
       "<Figure size 792x288 with 1 Axes>"
      ]
     },
     "metadata": {},
     "output_type": "display_data"
    }
   ],
   "source": [
    "colombia['ID de caso'].plot(linewidth=1.2)"
   ]
  },
  {
   "cell_type": "code",
   "execution_count": 16,
   "metadata": {},
   "outputs": [
    {
     "data": {
      "text/plain": [
       "<AxesSubplot:xlabel='fecha reporte web'>"
      ]
     },
     "execution_count": 16,
     "metadata": {},
     "output_type": "execute_result"
    },
    {
     "data": {
      "image/png": "[encoded data removed]",
      "text/plain": [
       "<Figure size 792x288 with 1 Axes>"
      ]
     },
     "metadata": {},
     "output_type": "display_data"
    }
   ],
   "source": [
    "colombia['Casos acumulados'].plot(linewidth=1.2)"
   ]
  },
  {
   "cell_type": "code",
   "execution_count": 17,
   "metadata": {},
   "outputs": [
    {
     "data": {
      "text/plain": [
       "<AxesSubplot:xlabel='fecha reporte web'>"
      ]
     },
     "execution_count": 17,
     "metadata": {},
     "output_type": "execute_result"
    },
    {
     "data": {
      "image/png": "[encoded data removed]",
      "text/plain": [
       "<Figure size 792x288 with 1 Axes>"
      ]
     },
     "metadata": {},
     "output_type": "display_data"
    }
   ],
   "source": [
    "colombia['Fallecidos'].plot(linewidth=1.2)\n"
   ]
  },
  {
   "cell_type": "code",
   "execution_count": 18,
   "metadata": {},
   "outputs": [
    {
     "data": {
      "text/plain": [
       "<AxesSubplot:xlabel='fecha reporte web'>"
      ]
     },
     "execution_count": 18,
     "metadata": {},
     "output_type": "execute_result"
    },
    {
     "data": {
      "image/png": "[encoded data removed]",
      "text/plain": [
       "<Figure size 792x288 with 1 Axes>"
      ]
     },
     "metadata": {},
     "output_type": "display_data"
    }
   ],
   "source": [
    "colombia['Fallecidos acumulados'].plot(linewidth=1.2)"
   ]
  },
  {
   "cell_type": "code",
   "execution_count": 19,
   "metadata": {},
   "outputs": [
    {
     "data": {
      "text/plain": [
       "<AxesSubplot:xlabel='fecha reporte web'>"
      ]
     },
     "execution_count": 19,
     "metadata": {},
     "output_type": "execute_result"
    },
    {
     "data": {
      "image/png": "[encoded data removed]",
      "text/plain": [
       "<Figure size 792x288 with 1 Axes>"
      ]
     },
     "metadata": {},
     "output_type": "display_data"
    }
   ],
   "source": [
    "colombia['Recuperados'].plot(linewidth=1.2)"
   ]
  },
  {
   "cell_type": "code",
   "execution_count": 20,
   "metadata": {},
   "outputs": [
    {
     "data": {
      "text/plain": [
       "<AxesSubplot:xlabel='fecha reporte web'>"
      ]
     },
     "execution_count": 20,
     "metadata": {},
     "output_type": "execute_result"
    },
    {
     "data": {
      "image/png": "[encoded data removed]",
      "text/plain": [
       "<Figure size 792x288 with 1 Axes>"
      ]
     },
     "metadata": {},
     "output_type": "display_data"
    }
   ],
   "source": [
    "colombia['Recuperados acumulados'].plot(linewidth=1.2)"
   ]
  },
  {
   "cell_type": "code",
   "execution_count": 21,
   "metadata": {},
   "outputs": [
    {
     "data": {
      "text/html": [
       "<div>\n",
       "<style scoped>\n",
       "    .dataframe tbody tr th:only-of-type {\n",
       "        vertical-align: middle;\n",
       "    }\n",
       "\n",
       "    .dataframe tbody tr th {\n",
       "        vertical-align: top;\n",
       "    }\n",
       "\n",
       "    .dataframe thead th {\n",
       "        text-align: right;\n",
       "    }\n",
       "</style>\n",
       "<table border=\"1\" class=\"dataframe\">\n",
       "  <thead>\n",
       "    <tr style=\"text-align: right;\">\n",
       "      <th></th>\n",
       "      <th>ID de caso</th>\n",
       "      <th>Casos acumulados</th>\n",
       "      <th>Recuperados</th>\n",
       "      <th>Recuperados acumulados</th>\n",
       "      <th>Fallecidos</th>\n",
       "      <th>Fallecidos acumulados</th>\n",
       "    </tr>\n",
       "    <tr>\n",
       "      <th>fecha reporte web</th>\n",
       "      <th></th>\n",
       "      <th></th>\n",
       "      <th></th>\n",
       "      <th></th>\n",
       "      <th></th>\n",
       "      <th></th>\n",
       "    </tr>\n",
       "  </thead>\n",
       "  <tbody>\n",
       "    <tr>\n",
       "      <th>2020-03-06</th>\n",
       "      <td>1</td>\n",
       "      <td>0.000000e+00</td>\n",
       "      <td>1</td>\n",
       "      <td>0.000000e+00</td>\n",
       "      <td>0</td>\n",
       "      <td>0.000000</td>\n",
       "    </tr>\n",
       "    <tr>\n",
       "      <th>2020-03-07</th>\n",
       "      <td>0</td>\n",
       "      <td>0.000000e+00</td>\n",
       "      <td>0</td>\n",
       "      <td>0.000000e+00</td>\n",
       "      <td>0</td>\n",
       "      <td>0.000000</td>\n",
       "    </tr>\n",
       "    <tr>\n",
       "      <th>2020-03-08</th>\n",
       "      <td>0</td>\n",
       "      <td>0.000000e+00</td>\n",
       "      <td>0</td>\n",
       "      <td>0.000000e+00</td>\n",
       "      <td>0</td>\n",
       "      <td>0.000000</td>\n",
       "    </tr>\n",
       "    <tr>\n",
       "      <th>2020-03-09</th>\n",
       "      <td>2</td>\n",
       "      <td>3.573396e-07</td>\n",
       "      <td>2</td>\n",
       "      <td>3.780052e-07</td>\n",
       "      <td>0</td>\n",
       "      <td>0.000000</td>\n",
       "    </tr>\n",
       "    <tr>\n",
       "      <th>2020-03-10</th>\n",
       "      <td>0</td>\n",
       "      <td>3.573396e-07</td>\n",
       "      <td>0</td>\n",
       "      <td>3.780052e-07</td>\n",
       "      <td>0</td>\n",
       "      <td>0.000000</td>\n",
       "    </tr>\n",
       "    <tr>\n",
       "      <th>...</th>\n",
       "      <td>...</td>\n",
       "      <td>...</td>\n",
       "      <td>...</td>\n",
       "      <td>...</td>\n",
       "      <td>...</td>\n",
       "      <td>...</td>\n",
       "    </tr>\n",
       "    <tr>\n",
       "      <th>2022-01-14</th>\n",
       "      <td>34923</td>\n",
       "      <td>9.783786e-01</td>\n",
       "      <td>16016</td>\n",
       "      <td>9.920902e-01</td>\n",
       "      <td>83</td>\n",
       "      <td>0.998542</td>\n",
       "    </tr>\n",
       "    <tr>\n",
       "      <th>2022-01-15</th>\n",
       "      <td>35575</td>\n",
       "      <td>9.847348e-01</td>\n",
       "      <td>15434</td>\n",
       "      <td>9.950073e-01</td>\n",
       "      <td>80</td>\n",
       "      <td>0.999152</td>\n",
       "    </tr>\n",
       "    <tr>\n",
       "      <th>2022-01-16</th>\n",
       "      <td>32317</td>\n",
       "      <td>9.905089e-01</td>\n",
       "      <td>14654</td>\n",
       "      <td>9.977770e-01</td>\n",
       "      <td>56</td>\n",
       "      <td>0.999580</td>\n",
       "    </tr>\n",
       "    <tr>\n",
       "      <th>2022-01-17</th>\n",
       "      <td>24272</td>\n",
       "      <td>9.948456e-01</td>\n",
       "      <td>11762</td>\n",
       "      <td>1.000000e+00</td>\n",
       "      <td>55</td>\n",
       "      <td>1.000000</td>\n",
       "    </tr>\n",
       "    <tr>\n",
       "      <th>2022-01-18</th>\n",
       "      <td>28849</td>\n",
       "      <td>1.000000e+00</td>\n",
       "      <td>0</td>\n",
       "      <td>1.000000e+00</td>\n",
       "      <td>0</td>\n",
       "      <td>1.000000</td>\n",
       "    </tr>\n",
       "  </tbody>\n",
       "</table>\n",
       "<p>684 rows × 6 columns</p>\n",
       "</div>"
      ],
      "text/plain": [
       "                   ID de caso  Casos acumulados  Recuperados  \\\n",
       "fecha reporte web                                              \n",
       "2020-03-06                  1      0.000000e+00            1   \n",
       "2020-03-07                  0      0.000000e+00            0   \n",
       "2020-03-08                  0      0.000000e+00            0   \n",
       "2020-03-09                  2      3.573396e-07            2   \n",
       "2020-03-10                  0      3.573396e-07            0   \n",
       "...                       ...               ...          ...   \n",
       "2022-01-14              34923      9.783786e-01        16016   \n",
       "2022-01-15              35575      9.847348e-01        15434   \n",
       "2022-01-16              32317      9.905089e-01        14654   \n",
       "2022-01-17              24272      9.948456e-01        11762   \n",
       "2022-01-18              28849      1.000000e+00            0   \n",
       "\n",
       "                   Recuperados acumulados  Fallecidos  Fallecidos acumulados  \n",
       "fecha reporte web                                                             \n",
       "2020-03-06                   0.000000e+00           0               0.000000  \n",
       "2020-03-07                   0.000000e+00           0               0.000000  \n",
       "2020-03-08                   0.000000e+00           0               0.000000  \n",
       "2020-03-09                   3.780052e-07           0               0.000000  \n",
       "2020-03-10                   3.780052e-07           0               0.000000  \n",
       "...                                   ...         ...                    ...  \n",
       "2022-01-14                   9.920902e-01          83               0.998542  \n",
       "2022-01-15                   9.950073e-01          80               0.999152  \n",
       "2022-01-16                   9.977770e-01          56               0.999580  \n",
       "2022-01-17                   1.000000e+00          55               1.000000  \n",
       "2022-01-18                   1.000000e+00           0               1.000000  \n",
       "\n",
       "[684 rows x 6 columns]"
      ]
     },
     "execution_count": 21,
     "metadata": {},
     "output_type": "execute_result"
    }
   ],
   "source": [
    "colombia['Casos acumulados'] = [(i-colombia['Casos acumulados'] .min())/(colombia['Casos acumulados'] .max()-colombia['Casos acumulados'] .min()) for i in colombia['Casos acumulados']]\n",
    "colombia['Recuperados acumulados'] = [(i-colombia['Recuperados acumulados'] .min())/(colombia['Recuperados acumulados'] .max()-colombia['Recuperados acumulados'] .min()) for i in colombia['Recuperados acumulados']]\n",
    "colombia['Fallecidos acumulados'] = [(i-colombia['Fallecidos acumulados'] .min())/(colombia['Fallecidos acumulados'] .max()-colombia['Fallecidos acumulados'] .min()) for i in colombia['Fallecidos acumulados']]\n",
    "colombia\n",
    "\n",
    "\n",
    "\n"
   ]
  },
  {
   "cell_type": "code",
   "execution_count": 22,
   "metadata": {},
   "outputs": [],
   "source": [
    "import numpy as np"
   ]
  },
  {
   "cell_type": "code",
   "execution_count": 23,
   "metadata": {},
   "outputs": [],
   "source": [
    "def df_to_X_y(df, window_size=5):\n",
    "    df_as_np = df.to_numpy()\n",
    "    X = []\n",
    "    y = []\n",
    "    for i in range(len(df_as_np)-window_size):\n",
    "        row = [[a] for a in df_as_np[i:i+5]]\n",
    "        X.append(row)\n",
    "        label = df_as_np[i+5]\n",
    "        y.append(label)\n",
    "    return np.array(X), np.array(y)    "
   ]
  },
  {
   "cell_type": "code",
   "execution_count": 24,
   "metadata": {},
   "outputs": [
    {
     "data": {
      "text/plain": [
       "((654, 5, 1), (654,))"
      ]
     },
     "execution_count": 24,
     "metadata": {},
     "output_type": "execute_result"
    }
   ],
   "source": [
    "WINDOW_SIZE = 30\n",
    "X, y = df_to_X_y(colombia['Casos acumulados'], WINDOW_SIZE)\n",
    "X.shape, y.shape"
   ]
  },
  {
   "cell_type": "code",
   "execution_count": 25,
   "metadata": {},
   "outputs": [],
   "source": [
    "X_train, y_train = X[:189], y[:189]\n",
    "X_val, y_val = X[189:189+14], y[189:189+14]\n",
    "X_test, y_test = X[189+14:189+14+60], y[189+14:189+14+60]"
   ]
  },
  {
   "cell_type": "code",
   "execution_count": 26,
   "metadata": {},
   "outputs": [],
   "source": [
    "from tensorflow.keras.models import Sequential\n",
    "from tensorflow.keras.layers import *\n",
    "from tensorflow.keras.callbacks import ModelCheckpoint\n",
    "from tensorflow.keras.losses import MeanSquaredError\n",
    "from tensorflow.keras.metrics import RootMeanSquaredError\n",
    "from tensorflow.keras.optimizers import Adam "
   ]
  },
  {
   "cell_type": "code",
   "execution_count": 27,
   "metadata": {},
   "outputs": [
    {
     "name": "stdout",
     "output_type": "stream",
     "text": [
      "Model: \"sequential\"\n",
      "_________________________________________________________________\n",
      " Layer (type)                Output Shape              Param #   \n",
      "=================================================================\n",
      " lstm (LSTM)                 (None, 5, 300)            362400    \n",
      "                                                                 \n",
      " lstm_1 (LSTM)               (None, 300)               721200    \n",
      "                                                                 \n",
      " dense (Dense)               (None, 1)                 301       \n",
      "                                                                 \n",
      "=================================================================\n",
      "Total params: 1,083,901\n",
      "Trainable params: 1,083,901\n",
      "Non-trainable params: 0\n",
      "_________________________________________________________________\n"
     ]
    }
   ],
   "source": [
    "model1 = Sequential()\n",
    "model1.add(InputLayer((5,1)))\n",
    "model1.add(LSTM(300,return_sequences=True))\n",
    "model1.add(LSTM(300))\n",
    "model1.add(Dense(1,'linear'))\n",
    "\n",
    "model1.summary()"
   ]
  },
  {
   "cell_type": "code",
   "execution_count": 28,
   "metadata": {},
   "outputs": [],
   "source": [
    "cp = ModelCheckpoint('model1/', save_best_only=True)\n",
    "model1.compile(loss=MeanSquaredError(), optimizer=Adam(learning_rate=0.00001), metrics=[RootMeanSquaredError()])"
   ]
  },
  {
   "cell_type": "code",
   "execution_count": 29,
   "metadata": {},
   "outputs": [
    {
     "name": "stdout",
     "output_type": "stream",
     "text": [
      "Epoch 1/100\n",
      "6/6 [==============================] - ETA: 0s - loss: 0.0023 - root_mean_squared_error: 0.0484INFO:tensorflow:Assets written to: model1\\assets\n"
     ]
    },
    {
     "name": "stderr",
     "output_type": "stream",
     "text": [
      "INFO:tensorflow:Assets written to: model1\\assets\n"
     ]
    },
    {
     "name": "stdout",
     "output_type": "stream",
     "text": [
      "6/6 [==============================] - 17s 2s/step - loss: 0.0023 - root_mean_squared_error: 0.0484 - val_loss: 0.0175 - val_root_mean_squared_error: 0.1322\n",
      "Epoch 2/100\n",
      "6/6 [==============================] - ETA: 0s - loss: 0.0022 - root_mean_squared_error: 0.0472INFO:tensorflow:Assets written to: model1\\assets\n"
     ]
    },
    {
     "name": "stderr",
     "output_type": "stream",
     "text": [
      "INFO:tensorflow:Assets written to: model1\\assets\n"
     ]
    },
    {
     "name": "stdout",
     "output_type": "stream",
     "text": [
      "6/6 [==============================] - 14s 3s/step - loss: 0.0022 - root_mean_squared_error: 0.0472 - val_loss: 0.0168 - val_root_mean_squared_error: 0.1298\n",
      "Epoch 3/100\n",
      "6/6 [==============================] - ETA: 0s - loss: 0.0021 - root_mean_squared_error: 0.0460INFO:tensorflow:Assets written to: model1\\assets\n"
     ]
    },
    {
     "name": "stderr",
     "output_type": "stream",
     "text": [
      "INFO:tensorflow:Assets written to: model1\\assets\n"
     ]
    },
    {
     "name": "stdout",
     "output_type": "stream",
     "text": [
      "6/6 [==============================] - 13s 3s/step - loss: 0.0021 - root_mean_squared_error: 0.0460 - val_loss: 0.0162 - val_root_mean_squared_error: 0.1273\n",
      "Epoch 4/100\n",
      "6/6 [==============================] - ETA: 0s - loss: 0.0020 - root_mean_squared_error: 0.0449INFO:tensorflow:Assets written to: model1\\assets\n"
     ]
    },
    {
     "name": "stderr",
     "output_type": "stream",
     "text": [
      "INFO:tensorflow:Assets written to: model1\\assets\n"
     ]
    },
    {
     "name": "stdout",
     "output_type": "stream",
     "text": [
      "6/6 [==============================] - 12s 2s/step - loss: 0.0020 - root_mean_squared_error: 0.0449 - val_loss: 0.0156 - val_root_mean_squared_error: 0.1248\n",
      "Epoch 5/100\n",
      "6/6 [==============================] - ETA: 0s - loss: 0.0019 - root_mean_squared_error: 0.0438INFO:tensorflow:Assets written to: model1\\assets\n"
     ]
    },
    {
     "name": "stderr",
     "output_type": "stream",
     "text": [
      "INFO:tensorflow:Assets written to: model1\\assets\n"
     ]
    },
    {
     "name": "stdout",
     "output_type": "stream",
     "text": [
      "6/6 [==============================] - 17s 3s/step - loss: 0.0019 - root_mean_squared_error: 0.0438 - val_loss: 0.0150 - val_root_mean_squared_error: 0.1223\n",
      "Epoch 6/100\n",
      "6/6 [==============================] - ETA: 0s - loss: 0.0018 - root_mean_squared_error: 0.0427INFO:tensorflow:Assets written to: model1\\assets\n"
     ]
    },
    {
     "name": "stderr",
     "output_type": "stream",
     "text": [
      "INFO:tensorflow:Assets written to: model1\\assets\n"
     ]
    },
    {
     "name": "stdout",
     "output_type": "stream",
     "text": [
      "6/6 [==============================] - 14s 3s/step - loss: 0.0018 - root_mean_squared_error: 0.0427 - val_loss: 0.0144 - val_root_mean_squared_error: 0.1198\n",
      "Epoch 7/100\n",
      "6/6 [==============================] - ETA: 0s - loss: 0.0017 - root_mean_squared_error: 0.0416INFO:tensorflow:Assets written to: model1\\assets\n"
     ]
    },
    {
     "name": "stderr",
     "output_type": "stream",
     "text": [
      "INFO:tensorflow:Assets written to: model1\\assets\n"
     ]
    },
    {
     "name": "stdout",
     "output_type": "stream",
     "text": [
      "6/6 [==============================] - 13s 3s/step - loss: 0.0017 - root_mean_squared_error: 0.0416 - val_loss: 0.0138 - val_root_mean_squared_error: 0.1174\n",
      "Epoch 8/100\n",
      "6/6 [==============================] - ETA: 0s - loss: 0.0017 - root_mean_squared_error: 0.0406INFO:tensorflow:Assets written to: model1\\assets\n"
     ]
    },
    {
     "name": "stderr",
     "output_type": "stream",
     "text": [
      "INFO:tensorflow:Assets written to: model1\\assets\n"
     ]
    },
    {
     "name": "stdout",
     "output_type": "stream",
     "text": [
      "6/6 [==============================] - 14s 3s/step - loss: 0.0017 - root_mean_squared_error: 0.0406 - val_loss: 0.0132 - val_root_mean_squared_error: 0.1149\n",
      "Epoch 9/100\n",
      "6/6 [==============================] - ETA: 0s - loss: 0.0016 - root_mean_squared_error: 0.0397INFO:tensorflow:Assets written to: model1\\assets\n"
     ]
    },
    {
     "name": "stderr",
     "output_type": "stream",
     "text": [
      "INFO:tensorflow:Assets written to: model1\\assets\n"
     ]
    },
    {
     "name": "stdout",
     "output_type": "stream",
     "text": [
      "6/6 [==============================] - 14s 3s/step - loss: 0.0016 - root_mean_squared_error: 0.0397 - val_loss: 0.0126 - val_root_mean_squared_error: 0.1125\n",
      "Epoch 10/100\n",
      "6/6 [==============================] - ETA: 0s - loss: 0.0015 - root_mean_squared_error: 0.0388INFO:tensorflow:Assets written to: model1\\assets\n"
     ]
    },
    {
     "name": "stderr",
     "output_type": "stream",
     "text": [
      "INFO:tensorflow:Assets written to: model1\\assets\n"
     ]
    },
    {
     "name": "stdout",
     "output_type": "stream",
     "text": [
      "6/6 [==============================] - 14s 3s/step - loss: 0.0015 - root_mean_squared_error: 0.0388 - val_loss: 0.0121 - val_root_mean_squared_error: 0.1100\n",
      "Epoch 11/100\n",
      "6/6 [==============================] - ETA: 0s - loss: 0.0014 - root_mean_squared_error: 0.0379INFO:tensorflow:Assets written to: model1\\assets\n"
     ]
    },
    {
     "name": "stderr",
     "output_type": "stream",
     "text": [
      "INFO:tensorflow:Assets written to: model1\\assets\n"
     ]
    },
    {
     "name": "stdout",
     "output_type": "stream",
     "text": [
      "6/6 [==============================] - 14s 3s/step - loss: 0.0014 - root_mean_squared_error: 0.0379 - val_loss: 0.0116 - val_root_mean_squared_error: 0.1077\n",
      "Epoch 12/100\n",
      "6/6 [==============================] - ETA: 0s - loss: 0.0014 - root_mean_squared_error: 0.0372INFO:tensorflow:Assets written to: model1\\assets\n"
     ]
    },
    {
     "name": "stderr",
     "output_type": "stream",
     "text": [
      "INFO:tensorflow:Assets written to: model1\\assets\n"
     ]
    },
    {
     "name": "stdout",
     "output_type": "stream",
     "text": [
      "6/6 [==============================] - 14s 3s/step - loss: 0.0014 - root_mean_squared_error: 0.0372 - val_loss: 0.0111 - val_root_mean_squared_error: 0.1054\n",
      "Epoch 13/100\n",
      "6/6 [==============================] - ETA: 0s - loss: 0.0013 - root_mean_squared_error: 0.0364INFO:tensorflow:Assets written to: model1\\assets\n"
     ]
    },
    {
     "name": "stderr",
     "output_type": "stream",
     "text": [
      "INFO:tensorflow:Assets written to: model1\\assets\n"
     ]
    },
    {
     "name": "stdout",
     "output_type": "stream",
     "text": [
      "6/6 [==============================] - 14s 3s/step - loss: 0.0013 - root_mean_squared_error: 0.0364 - val_loss: 0.0106 - val_root_mean_squared_error: 0.1032\n",
      "Epoch 14/100\n",
      "6/6 [==============================] - ETA: 0s - loss: 0.0013 - root_mean_squared_error: 0.0358INFO:tensorflow:Assets written to: model1\\assets\n"
     ]
    },
    {
     "name": "stderr",
     "output_type": "stream",
     "text": [
      "INFO:tensorflow:Assets written to: model1\\assets\n"
     ]
    },
    {
     "name": "stdout",
     "output_type": "stream",
     "text": [
      "6/6 [==============================] - 12s 2s/step - loss: 0.0013 - root_mean_squared_error: 0.0358 - val_loss: 0.0102 - val_root_mean_squared_error: 0.1009\n",
      "Epoch 15/100\n",
      "6/6 [==============================] - ETA: 0s - loss: 0.0012 - root_mean_squared_error: 0.0351INFO:tensorflow:Assets written to: model1\\assets\n"
     ]
    },
    {
     "name": "stderr",
     "output_type": "stream",
     "text": [
      "INFO:tensorflow:Assets written to: model1\\assets\n"
     ]
    },
    {
     "name": "stdout",
     "output_type": "stream",
     "text": [
      "6/6 [==============================] - 13s 3s/step - loss: 0.0012 - root_mean_squared_error: 0.0351 - val_loss: 0.0098 - val_root_mean_squared_error: 0.0988\n",
      "Epoch 16/100\n",
      "6/6 [==============================] - ETA: 0s - loss: 0.0012 - root_mean_squared_error: 0.0345  INFO:tensorflow:Assets written to: model1\\assets\n"
     ]
    },
    {
     "name": "stderr",
     "output_type": "stream",
     "text": [
      "INFO:tensorflow:Assets written to: model1\\assets\n"
     ]
    },
    {
     "name": "stdout",
     "output_type": "stream",
     "text": [
      "6/6 [==============================] - 14s 3s/step - loss: 0.0012 - root_mean_squared_error: 0.0345 - val_loss: 0.0094 - val_root_mean_squared_error: 0.0968\n",
      "Epoch 17/100\n",
      "6/6 [==============================] - ETA: 0s - loss: 0.0012 - root_mean_squared_error: 0.0340INFO:tensorflow:Assets written to: model1\\assets\n"
     ]
    },
    {
     "name": "stderr",
     "output_type": "stream",
     "text": [
      "INFO:tensorflow:Assets written to: model1\\assets\n"
     ]
    },
    {
     "name": "stdout",
     "output_type": "stream",
     "text": [
      "6/6 [==============================] - 13s 3s/step - loss: 0.0012 - root_mean_squared_error: 0.0340 - val_loss: 0.0090 - val_root_mean_squared_error: 0.0947\n",
      "Epoch 18/100\n",
      "6/6 [==============================] - ETA: 0s - loss: 0.0011 - root_mean_squared_error: 0.0335 INFO:tensorflow:Assets written to: model1\\assets\n"
     ]
    },
    {
     "name": "stderr",
     "output_type": "stream",
     "text": [
      "INFO:tensorflow:Assets written to: model1\\assets\n"
     ]
    },
    {
     "name": "stdout",
     "output_type": "stream",
     "text": [
      "6/6 [==============================] - 13s 3s/step - loss: 0.0011 - root_mean_squared_error: 0.0335 - val_loss: 0.0086 - val_root_mean_squared_error: 0.0928\n",
      "Epoch 19/100\n",
      "6/6 [==============================] - ETA: 0s - loss: 0.0011 - root_mean_squared_error: 0.0331INFO:tensorflow:Assets written to: model1\\assets\n"
     ]
    },
    {
     "name": "stderr",
     "output_type": "stream",
     "text": [
      "INFO:tensorflow:Assets written to: model1\\assets\n"
     ]
    },
    {
     "name": "stdout",
     "output_type": "stream",
     "text": [
      "6/6 [==============================] - 15s 3s/step - loss: 0.0011 - root_mean_squared_error: 0.0331 - val_loss: 0.0083 - val_root_mean_squared_error: 0.0909\n",
      "Epoch 20/100\n",
      "6/6 [==============================] - ETA: 0s - loss: 0.0011 - root_mean_squared_error: 0.0326   INFO:tensorflow:Assets written to: model1\\assets\n"
     ]
    },
    {
     "name": "stderr",
     "output_type": "stream",
     "text": [
      "INFO:tensorflow:Assets written to: model1\\assets\n"
     ]
    },
    {
     "name": "stdout",
     "output_type": "stream",
     "text": [
      "6/6 [==============================] - 16s 3s/step - loss: 0.0011 - root_mean_squared_error: 0.0326 - val_loss: 0.0080 - val_root_mean_squared_error: 0.0892\n",
      "Epoch 21/100\n",
      "6/6 [==============================] - ETA: 0s - loss: 0.0010 - root_mean_squared_error: 0.0323INFO:tensorflow:Assets written to: model1\\assets\n"
     ]
    },
    {
     "name": "stderr",
     "output_type": "stream",
     "text": [
      "INFO:tensorflow:Assets written to: model1\\assets\n"
     ]
    },
    {
     "name": "stdout",
     "output_type": "stream",
     "text": [
      "6/6 [==============================] - 14s 3s/step - loss: 0.0010 - root_mean_squared_error: 0.0323 - val_loss: 0.0076 - val_root_mean_squared_error: 0.0875\n",
      "Epoch 22/100\n",
      "6/6 [==============================] - ETA: 0s - loss: 0.0010 - root_mean_squared_error: 0.0319    INFO:tensorflow:Assets written to: model1\\assets\n"
     ]
    },
    {
     "name": "stderr",
     "output_type": "stream",
     "text": [
      "INFO:tensorflow:Assets written to: model1\\assets\n"
     ]
    },
    {
     "name": "stdout",
     "output_type": "stream",
     "text": [
      "6/6 [==============================] - 13s 3s/step - loss: 0.0010 - root_mean_squared_error: 0.0319 - val_loss: 0.0074 - val_root_mean_squared_error: 0.0858\n",
      "Epoch 23/100\n",
      "6/6 [==============================] - ETA: 0s - loss: 9.9491e-04 - root_mean_squared_error: 0.0315INFO:tensorflow:Assets written to: model1\\assets\n"
     ]
    },
    {
     "name": "stderr",
     "output_type": "stream",
     "text": [
      "INFO:tensorflow:Assets written to: model1\\assets\n"
     ]
    },
    {
     "name": "stdout",
     "output_type": "stream",
     "text": [
      "6/6 [==============================] - 14s 3s/step - loss: 9.9491e-04 - root_mean_squared_error: 0.0315 - val_loss: 0.0071 - val_root_mean_squared_error: 0.0844\n",
      "Epoch 24/100\n",
      "6/6 [==============================] - ETA: 0s - loss: 9.7592e-04 - root_mean_squared_error: 0.0312INFO:tensorflow:Assets written to: model1\\assets\n"
     ]
    },
    {
     "name": "stderr",
     "output_type": "stream",
     "text": [
      "INFO:tensorflow:Assets written to: model1\\assets\n"
     ]
    },
    {
     "name": "stdout",
     "output_type": "stream",
     "text": [
      "6/6 [==============================] - 11s 2s/step - loss: 9.7592e-04 - root_mean_squared_error: 0.0312 - val_loss: 0.0069 - val_root_mean_squared_error: 0.0829\n",
      "Epoch 25/100\n",
      "6/6 [==============================] - ETA: 0s - loss: 9.5392e-04 - root_mean_squared_error: 0.0309INFO:tensorflow:Assets written to: model1\\assets\n"
     ]
    },
    {
     "name": "stderr",
     "output_type": "stream",
     "text": [
      "INFO:tensorflow:Assets written to: model1\\assets\n"
     ]
    },
    {
     "name": "stdout",
     "output_type": "stream",
     "text": [
      "6/6 [==============================] - 10s 2s/step - loss: 9.5392e-04 - root_mean_squared_error: 0.0309 - val_loss: 0.0067 - val_root_mean_squared_error: 0.0816\n",
      "Epoch 26/100\n",
      "6/6 [==============================] - ETA: 0s - loss: 9.3537e-04 - root_mean_squared_error: 0.0306INFO:tensorflow:Assets written to: model1\\assets\n"
     ]
    },
    {
     "name": "stderr",
     "output_type": "stream",
     "text": [
      "INFO:tensorflow:Assets written to: model1\\assets\n"
     ]
    },
    {
     "name": "stdout",
     "output_type": "stream",
     "text": [
      "6/6 [==============================] - 12s 2s/step - loss: 9.3537e-04 - root_mean_squared_error: 0.0306 - val_loss: 0.0065 - val_root_mean_squared_error: 0.0804\n",
      "Epoch 27/100\n",
      "6/6 [==============================] - ETA: 0s - loss: 9.1725e-04 - root_mean_squared_error: 0.0303INFO:tensorflow:Assets written to: model1\\assets\n"
     ]
    },
    {
     "name": "stderr",
     "output_type": "stream",
     "text": [
      "INFO:tensorflow:Assets written to: model1\\assets\n"
     ]
    },
    {
     "name": "stdout",
     "output_type": "stream",
     "text": [
      "6/6 [==============================] - 11s 2s/step - loss: 9.1725e-04 - root_mean_squared_error: 0.0303 - val_loss: 0.0063 - val_root_mean_squared_error: 0.0791\n",
      "Epoch 28/100\n",
      "6/6 [==============================] - ETA: 0s - loss: 8.9836e-04 - root_mean_squared_error: 0.0300INFO:tensorflow:Assets written to: model1\\assets\n"
     ]
    },
    {
     "name": "stderr",
     "output_type": "stream",
     "text": [
      "INFO:tensorflow:Assets written to: model1\\assets\n"
     ]
    },
    {
     "name": "stdout",
     "output_type": "stream",
     "text": [
      "6/6 [==============================] - 11s 2s/step - loss: 8.9836e-04 - root_mean_squared_error: 0.0300 - val_loss: 0.0061 - val_root_mean_squared_error: 0.0779\n",
      "Epoch 29/100\n",
      "6/6 [==============================] - ETA: 0s - loss: 8.8087e-04 - root_mean_squared_error: 0.0297INFO:tensorflow:Assets written to: model1\\assets\n"
     ]
    },
    {
     "name": "stderr",
     "output_type": "stream",
     "text": [
      "INFO:tensorflow:Assets written to: model1\\assets\n"
     ]
    },
    {
     "name": "stdout",
     "output_type": "stream",
     "text": [
      "6/6 [==============================] - 11s 2s/step - loss: 8.8087e-04 - root_mean_squared_error: 0.0297 - val_loss: 0.0059 - val_root_mean_squared_error: 0.0767\n",
      "Epoch 30/100\n",
      "6/6 [==============================] - ETA: 0s - loss: 8.6120e-04 - root_mean_squared_error: 0.0293INFO:tensorflow:Assets written to: model1\\assets\n"
     ]
    },
    {
     "name": "stderr",
     "output_type": "stream",
     "text": [
      "INFO:tensorflow:Assets written to: model1\\assets\n"
     ]
    },
    {
     "name": "stdout",
     "output_type": "stream",
     "text": [
      "6/6 [==============================] - 12s 2s/step - loss: 8.6120e-04 - root_mean_squared_error: 0.0293 - val_loss: 0.0057 - val_root_mean_squared_error: 0.0757\n",
      "Epoch 31/100\n",
      "6/6 [==============================] - ETA: 0s - loss: 8.4319e-04 - root_mean_squared_error: 0.0290INFO:tensorflow:Assets written to: model1\\assets\n"
     ]
    },
    {
     "name": "stderr",
     "output_type": "stream",
     "text": [
      "INFO:tensorflow:Assets written to: model1\\assets\n"
     ]
    },
    {
     "name": "stdout",
     "output_type": "stream",
     "text": [
      "6/6 [==============================] - 12s 2s/step - loss: 8.4319e-04 - root_mean_squared_error: 0.0290 - val_loss: 0.0056 - val_root_mean_squared_error: 0.0746\n",
      "Epoch 32/100\n",
      "6/6 [==============================] - ETA: 0s - loss: 8.2460e-04 - root_mean_squared_error: 0.0287INFO:tensorflow:Assets written to: model1\\assets\n"
     ]
    },
    {
     "name": "stderr",
     "output_type": "stream",
     "text": [
      "INFO:tensorflow:Assets written to: model1\\assets\n"
     ]
    },
    {
     "name": "stdout",
     "output_type": "stream",
     "text": [
      "6/6 [==============================] - 11s 2s/step - loss: 8.2460e-04 - root_mean_squared_error: 0.0287 - val_loss: 0.0054 - val_root_mean_squared_error: 0.0737\n",
      "Epoch 33/100\n",
      "6/6 [==============================] - ETA: 0s - loss: 8.0571e-04 - root_mean_squared_error: 0.0284INFO:tensorflow:Assets written to: model1\\assets\n"
     ]
    },
    {
     "name": "stderr",
     "output_type": "stream",
     "text": [
      "INFO:tensorflow:Assets written to: model1\\assets\n"
     ]
    },
    {
     "name": "stdout",
     "output_type": "stream",
     "text": [
      "6/6 [==============================] - 12s 2s/step - loss: 8.0571e-04 - root_mean_squared_error: 0.0284 - val_loss: 0.0053 - val_root_mean_squared_error: 0.0727\n",
      "Epoch 34/100\n",
      "6/6 [==============================] - ETA: 0s - loss: 7.8595e-04 - root_mean_squared_error: 0.0280INFO:tensorflow:Assets written to: model1\\assets\n"
     ]
    },
    {
     "name": "stderr",
     "output_type": "stream",
     "text": [
      "INFO:tensorflow:Assets written to: model1\\assets\n"
     ]
    },
    {
     "name": "stdout",
     "output_type": "stream",
     "text": [
      "6/6 [==============================] - 11s 2s/step - loss: 7.8595e-04 - root_mean_squared_error: 0.0280 - val_loss: 0.0052 - val_root_mean_squared_error: 0.0719\n",
      "Epoch 35/100\n",
      "6/6 [==============================] - ETA: 0s - loss: 7.6833e-04 - root_mean_squared_error: 0.0277INFO:tensorflow:Assets written to: model1\\assets\n"
     ]
    },
    {
     "name": "stderr",
     "output_type": "stream",
     "text": [
      "INFO:tensorflow:Assets written to: model1\\assets\n"
     ]
    },
    {
     "name": "stdout",
     "output_type": "stream",
     "text": [
      "6/6 [==============================] - 11s 2s/step - loss: 7.6833e-04 - root_mean_squared_error: 0.0277 - val_loss: 0.0050 - val_root_mean_squared_error: 0.0709\n",
      "Epoch 36/100\n",
      "6/6 [==============================] - ETA: 0s - loss: 7.4906e-04 - root_mean_squared_error: 0.0274INFO:tensorflow:Assets written to: model1\\assets\n"
     ]
    },
    {
     "name": "stderr",
     "output_type": "stream",
     "text": [
      "INFO:tensorflow:Assets written to: model1\\assets\n"
     ]
    },
    {
     "name": "stdout",
     "output_type": "stream",
     "text": [
      "6/6 [==============================] - 11s 2s/step - loss: 7.4906e-04 - root_mean_squared_error: 0.0274 - val_loss: 0.0049 - val_root_mean_squared_error: 0.0699\n",
      "Epoch 37/100\n",
      "6/6 [==============================] - ETA: 0s - loss: 7.2934e-04 - root_mean_squared_error: 0.0270INFO:tensorflow:Assets written to: model1\\assets\n"
     ]
    },
    {
     "name": "stderr",
     "output_type": "stream",
     "text": [
      "INFO:tensorflow:Assets written to: model1\\assets\n"
     ]
    },
    {
     "name": "stdout",
     "output_type": "stream",
     "text": [
      "6/6 [==============================] - 11s 2s/step - loss: 7.2934e-04 - root_mean_squared_error: 0.0270 - val_loss: 0.0048 - val_root_mean_squared_error: 0.0690\n",
      "Epoch 38/100\n",
      "6/6 [==============================] - ETA: 0s - loss: 7.1093e-04 - root_mean_squared_error: 0.0267INFO:tensorflow:Assets written to: model1\\assets\n"
     ]
    },
    {
     "name": "stderr",
     "output_type": "stream",
     "text": [
      "INFO:tensorflow:Assets written to: model1\\assets\n"
     ]
    },
    {
     "name": "stdout",
     "output_type": "stream",
     "text": [
      "6/6 [==============================] - 11s 2s/step - loss: 7.1093e-04 - root_mean_squared_error: 0.0267 - val_loss: 0.0046 - val_root_mean_squared_error: 0.0680\n",
      "Epoch 39/100\n",
      "6/6 [==============================] - ETA: 0s - loss: 6.9085e-04 - root_mean_squared_error: 0.0263INFO:tensorflow:Assets written to: model1\\assets\n"
     ]
    },
    {
     "name": "stderr",
     "output_type": "stream",
     "text": [
      "INFO:tensorflow:Assets written to: model1\\assets\n"
     ]
    },
    {
     "name": "stdout",
     "output_type": "stream",
     "text": [
      "6/6 [==============================] - 11s 2s/step - loss: 6.9085e-04 - root_mean_squared_error: 0.0263 - val_loss: 0.0045 - val_root_mean_squared_error: 0.0670\n",
      "Epoch 40/100\n",
      "6/6 [==============================] - ETA: 0s - loss: 6.7190e-04 - root_mean_squared_error: 0.0259INFO:tensorflow:Assets written to: model1\\assets\n"
     ]
    },
    {
     "name": "stderr",
     "output_type": "stream",
     "text": [
      "INFO:tensorflow:Assets written to: model1\\assets\n"
     ]
    },
    {
     "name": "stdout",
     "output_type": "stream",
     "text": [
      "6/6 [==============================] - 11s 2s/step - loss: 6.7190e-04 - root_mean_squared_error: 0.0259 - val_loss: 0.0043 - val_root_mean_squared_error: 0.0659\n",
      "Epoch 41/100\n",
      "6/6 [==============================] - ETA: 0s - loss: 6.5273e-04 - root_mean_squared_error: 0.0255INFO:tensorflow:Assets written to: model1\\assets\n"
     ]
    },
    {
     "name": "stderr",
     "output_type": "stream",
     "text": [
      "INFO:tensorflow:Assets written to: model1\\assets\n"
     ]
    },
    {
     "name": "stdout",
     "output_type": "stream",
     "text": [
      "6/6 [==============================] - 13s 3s/step - loss: 6.5273e-04 - root_mean_squared_error: 0.0255 - val_loss: 0.0042 - val_root_mean_squared_error: 0.0648\n",
      "Epoch 42/100\n",
      "6/6 [==============================] - ETA: 0s - loss: 6.3257e-04 - root_mean_squared_error: 0.0252INFO:tensorflow:Assets written to: model1\\assets\n"
     ]
    },
    {
     "name": "stderr",
     "output_type": "stream",
     "text": [
      "INFO:tensorflow:Assets written to: model1\\assets\n"
     ]
    },
    {
     "name": "stdout",
     "output_type": "stream",
     "text": [
      "6/6 [==============================] - 11s 2s/step - loss: 6.3257e-04 - root_mean_squared_error: 0.0252 - val_loss: 0.0041 - val_root_mean_squared_error: 0.0638\n",
      "Epoch 43/100\n",
      "6/6 [==============================] - ETA: 0s - loss: 6.1289e-04 - root_mean_squared_error: 0.0248INFO:tensorflow:Assets written to: model1\\assets\n"
     ]
    },
    {
     "name": "stderr",
     "output_type": "stream",
     "text": [
      "INFO:tensorflow:Assets written to: model1\\assets\n"
     ]
    },
    {
     "name": "stdout",
     "output_type": "stream",
     "text": [
      "6/6 [==============================] - 11s 2s/step - loss: 6.1289e-04 - root_mean_squared_error: 0.0248 - val_loss: 0.0039 - val_root_mean_squared_error: 0.0627\n",
      "Epoch 44/100\n",
      "6/6 [==============================] - ETA: 0s - loss: 5.9393e-04 - root_mean_squared_error: 0.0244INFO:tensorflow:Assets written to: model1\\assets\n"
     ]
    },
    {
     "name": "stderr",
     "output_type": "stream",
     "text": [
      "INFO:tensorflow:Assets written to: model1\\assets\n"
     ]
    },
    {
     "name": "stdout",
     "output_type": "stream",
     "text": [
      "6/6 [==============================] - 12s 2s/step - loss: 5.9393e-04 - root_mean_squared_error: 0.0244 - val_loss: 0.0038 - val_root_mean_squared_error: 0.0615\n",
      "Epoch 45/100\n",
      "6/6 [==============================] - ETA: 0s - loss: 5.7386e-04 - root_mean_squared_error: 0.0240INFO:tensorflow:Assets written to: model1\\assets\n"
     ]
    },
    {
     "name": "stderr",
     "output_type": "stream",
     "text": [
      "INFO:tensorflow:Assets written to: model1\\assets\n"
     ]
    },
    {
     "name": "stdout",
     "output_type": "stream",
     "text": [
      "6/6 [==============================] - 12s 2s/step - loss: 5.7386e-04 - root_mean_squared_error: 0.0240 - val_loss: 0.0036 - val_root_mean_squared_error: 0.0604\n",
      "Epoch 46/100\n",
      "6/6 [==============================] - ETA: 0s - loss: 5.5451e-04 - root_mean_squared_error: 0.0235INFO:tensorflow:Assets written to: model1\\assets\n"
     ]
    },
    {
     "name": "stderr",
     "output_type": "stream",
     "text": [
      "INFO:tensorflow:Assets written to: model1\\assets\n"
     ]
    },
    {
     "name": "stdout",
     "output_type": "stream",
     "text": [
      "6/6 [==============================] - 12s 2s/step - loss: 5.5451e-04 - root_mean_squared_error: 0.0235 - val_loss: 0.0035 - val_root_mean_squared_error: 0.0593\n",
      "Epoch 47/100\n",
      "6/6 [==============================] - ETA: 0s - loss: 5.3417e-04 - root_mean_squared_error: 0.0231INFO:tensorflow:Assets written to: model1\\assets\n"
     ]
    },
    {
     "name": "stderr",
     "output_type": "stream",
     "text": [
      "INFO:tensorflow:Assets written to: model1\\assets\n"
     ]
    },
    {
     "name": "stdout",
     "output_type": "stream",
     "text": [
      "6/6 [==============================] - 12s 2s/step - loss: 5.3417e-04 - root_mean_squared_error: 0.0231 - val_loss: 0.0034 - val_root_mean_squared_error: 0.0584\n",
      "Epoch 48/100\n",
      "6/6 [==============================] - ETA: 0s - loss: 5.1562e-04 - root_mean_squared_error: 0.0227INFO:tensorflow:Assets written to: model1\\assets\n"
     ]
    },
    {
     "name": "stderr",
     "output_type": "stream",
     "text": [
      "INFO:tensorflow:Assets written to: model1\\assets\n"
     ]
    },
    {
     "name": "stdout",
     "output_type": "stream",
     "text": [
      "6/6 [==============================] - 12s 2s/step - loss: 5.1562e-04 - root_mean_squared_error: 0.0227 - val_loss: 0.0033 - val_root_mean_squared_error: 0.0571\n",
      "Epoch 49/100\n",
      "6/6 [==============================] - ETA: 0s - loss: 4.9544e-04 - root_mean_squared_error: 0.0223INFO:tensorflow:Assets written to: model1\\assets\n"
     ]
    },
    {
     "name": "stderr",
     "output_type": "stream",
     "text": [
      "INFO:tensorflow:Assets written to: model1\\assets\n"
     ]
    },
    {
     "name": "stdout",
     "output_type": "stream",
     "text": [
      "6/6 [==============================] - 11s 2s/step - loss: 4.9544e-04 - root_mean_squared_error: 0.0223 - val_loss: 0.0031 - val_root_mean_squared_error: 0.0560\n",
      "Epoch 50/100\n",
      "6/6 [==============================] - ETA: 0s - loss: 4.7650e-04 - root_mean_squared_error: 0.0218INFO:tensorflow:Assets written to: model1\\assets\n"
     ]
    },
    {
     "name": "stderr",
     "output_type": "stream",
     "text": [
      "INFO:tensorflow:Assets written to: model1\\assets\n"
     ]
    },
    {
     "name": "stdout",
     "output_type": "stream",
     "text": [
      "6/6 [==============================] - 12s 2s/step - loss: 4.7650e-04 - root_mean_squared_error: 0.0218 - val_loss: 0.0030 - val_root_mean_squared_error: 0.0547\n",
      "Epoch 51/100\n",
      "6/6 [==============================] - ETA: 0s - loss: 4.5598e-04 - root_mean_squared_error: 0.0214INFO:tensorflow:Assets written to: model1\\assets\n"
     ]
    },
    {
     "name": "stderr",
     "output_type": "stream",
     "text": [
      "INFO:tensorflow:Assets written to: model1\\assets\n"
     ]
    },
    {
     "name": "stdout",
     "output_type": "stream",
     "text": [
      "6/6 [==============================] - 14s 3s/step - loss: 4.5598e-04 - root_mean_squared_error: 0.0214 - val_loss: 0.0029 - val_root_mean_squared_error: 0.0537\n",
      "Epoch 52/100\n",
      "6/6 [==============================] - ETA: 0s - loss: 4.3766e-04 - root_mean_squared_error: 0.0209INFO:tensorflow:Assets written to: model1\\assets\n"
     ]
    },
    {
     "name": "stderr",
     "output_type": "stream",
     "text": [
      "INFO:tensorflow:Assets written to: model1\\assets\n"
     ]
    },
    {
     "name": "stdout",
     "output_type": "stream",
     "text": [
      "6/6 [==============================] - 12s 2s/step - loss: 4.3766e-04 - root_mean_squared_error: 0.0209 - val_loss: 0.0027 - val_root_mean_squared_error: 0.0524\n",
      "Epoch 53/100\n",
      "6/6 [==============================] - ETA: 0s - loss: 4.1844e-04 - root_mean_squared_error: 0.0205INFO:tensorflow:Assets written to: model1\\assets\n"
     ]
    },
    {
     "name": "stderr",
     "output_type": "stream",
     "text": [
      "INFO:tensorflow:Assets written to: model1\\assets\n"
     ]
    },
    {
     "name": "stdout",
     "output_type": "stream",
     "text": [
      "6/6 [==============================] - 11s 2s/step - loss: 4.1844e-04 - root_mean_squared_error: 0.0205 - val_loss: 0.0026 - val_root_mean_squared_error: 0.0510\n",
      "Epoch 54/100\n",
      "6/6 [==============================] - ETA: 0s - loss: 4.0044e-04 - root_mean_squared_error: 0.0200INFO:tensorflow:Assets written to: model1\\assets\n"
     ]
    },
    {
     "name": "stderr",
     "output_type": "stream",
     "text": [
      "INFO:tensorflow:Assets written to: model1\\assets\n"
     ]
    },
    {
     "name": "stdout",
     "output_type": "stream",
     "text": [
      "6/6 [==============================] - 12s 2s/step - loss: 4.0044e-04 - root_mean_squared_error: 0.0200 - val_loss: 0.0025 - val_root_mean_squared_error: 0.0496\n",
      "Epoch 55/100\n",
      "6/6 [==============================] - ETA: 0s - loss: 3.8050e-04 - root_mean_squared_error: 0.0195INFO:tensorflow:Assets written to: model1\\assets\n"
     ]
    },
    {
     "name": "stderr",
     "output_type": "stream",
     "text": [
      "INFO:tensorflow:Assets written to: model1\\assets\n"
     ]
    },
    {
     "name": "stdout",
     "output_type": "stream",
     "text": [
      "6/6 [==============================] - 12s 2s/step - loss: 3.8050e-04 - root_mean_squared_error: 0.0195 - val_loss: 0.0024 - val_root_mean_squared_error: 0.0485\n",
      "Epoch 56/100\n",
      "6/6 [==============================] - ETA: 0s - loss: 3.6238e-04 - root_mean_squared_error: 0.0190INFO:tensorflow:Assets written to: model1\\assets\n"
     ]
    },
    {
     "name": "stderr",
     "output_type": "stream",
     "text": [
      "INFO:tensorflow:Assets written to: model1\\assets\n"
     ]
    },
    {
     "name": "stdout",
     "output_type": "stream",
     "text": [
      "6/6 [==============================] - 11s 2s/step - loss: 3.6238e-04 - root_mean_squared_error: 0.0190 - val_loss: 0.0022 - val_root_mean_squared_error: 0.0472\n",
      "Epoch 57/100\n",
      "6/6 [==============================] - ETA: 0s - loss: 3.4477e-04 - root_mean_squared_error: 0.0186INFO:tensorflow:Assets written to: model1\\assets\n"
     ]
    },
    {
     "name": "stderr",
     "output_type": "stream",
     "text": [
      "INFO:tensorflow:Assets written to: model1\\assets\n"
     ]
    },
    {
     "name": "stdout",
     "output_type": "stream",
     "text": [
      "6/6 [==============================] - 12s 2s/step - loss: 3.4477e-04 - root_mean_squared_error: 0.0186 - val_loss: 0.0021 - val_root_mean_squared_error: 0.0459\n",
      "Epoch 58/100\n",
      "6/6 [==============================] - ETA: 0s - loss: 3.2652e-04 - root_mean_squared_error: 0.0181INFO:tensorflow:Assets written to: model1\\assets\n"
     ]
    },
    {
     "name": "stderr",
     "output_type": "stream",
     "text": [
      "INFO:tensorflow:Assets written to: model1\\assets\n"
     ]
    },
    {
     "name": "stdout",
     "output_type": "stream",
     "text": [
      "6/6 [==============================] - 12s 2s/step - loss: 3.2652e-04 - root_mean_squared_error: 0.0181 - val_loss: 0.0020 - val_root_mean_squared_error: 0.0446\n",
      "Epoch 59/100\n",
      "6/6 [==============================] - ETA: 0s - loss: 3.0885e-04 - root_mean_squared_error: 0.0176INFO:tensorflow:Assets written to: model1\\assets\n"
     ]
    },
    {
     "name": "stderr",
     "output_type": "stream",
     "text": [
      "INFO:tensorflow:Assets written to: model1\\assets\n"
     ]
    },
    {
     "name": "stdout",
     "output_type": "stream",
     "text": [
      "6/6 [==============================] - 12s 2s/step - loss: 3.0885e-04 - root_mean_squared_error: 0.0176 - val_loss: 0.0019 - val_root_mean_squared_error: 0.0433\n",
      "Epoch 60/100\n",
      "6/6 [==============================] - ETA: 0s - loss: 2.9270e-04 - root_mean_squared_error: 0.0171INFO:tensorflow:Assets written to: model1\\assets\n"
     ]
    },
    {
     "name": "stderr",
     "output_type": "stream",
     "text": [
      "INFO:tensorflow:Assets written to: model1\\assets\n"
     ]
    },
    {
     "name": "stdout",
     "output_type": "stream",
     "text": [
      "6/6 [==============================] - 11s 2s/step - loss: 2.9270e-04 - root_mean_squared_error: 0.0171 - val_loss: 0.0017 - val_root_mean_squared_error: 0.0418\n",
      "Epoch 61/100\n",
      "6/6 [==============================] - ETA: 0s - loss: 2.7477e-04 - root_mean_squared_error: 0.0166INFO:tensorflow:Assets written to: model1\\assets\n"
     ]
    },
    {
     "name": "stderr",
     "output_type": "stream",
     "text": [
      "INFO:tensorflow:Assets written to: model1\\assets\n"
     ]
    },
    {
     "name": "stdout",
     "output_type": "stream",
     "text": [
      "6/6 [==============================] - 13s 3s/step - loss: 2.7477e-04 - root_mean_squared_error: 0.0166 - val_loss: 0.0016 - val_root_mean_squared_error: 0.0405\n",
      "Epoch 62/100\n",
      "6/6 [==============================] - ETA: 0s - loss: 2.5878e-04 - root_mean_squared_error: 0.0161INFO:tensorflow:Assets written to: model1\\assets\n"
     ]
    },
    {
     "name": "stderr",
     "output_type": "stream",
     "text": [
      "INFO:tensorflow:Assets written to: model1\\assets\n"
     ]
    },
    {
     "name": "stdout",
     "output_type": "stream",
     "text": [
      "6/6 [==============================] - 12s 2s/step - loss: 2.5878e-04 - root_mean_squared_error: 0.0161 - val_loss: 0.0015 - val_root_mean_squared_error: 0.0390\n",
      "Epoch 63/100\n",
      "6/6 [==============================] - ETA: 0s - loss: 2.4317e-04 - root_mean_squared_error: 0.0156INFO:tensorflow:Assets written to: model1\\assets\n"
     ]
    },
    {
     "name": "stderr",
     "output_type": "stream",
     "text": [
      "INFO:tensorflow:Assets written to: model1\\assets\n"
     ]
    },
    {
     "name": "stdout",
     "output_type": "stream",
     "text": [
      "6/6 [==============================] - 12s 2s/step - loss: 2.4317e-04 - root_mean_squared_error: 0.0156 - val_loss: 0.0014 - val_root_mean_squared_error: 0.0375\n",
      "Epoch 64/100\n",
      "6/6 [==============================] - ETA: 0s - loss: 2.2676e-04 - root_mean_squared_error: 0.0151INFO:tensorflow:Assets written to: model1\\assets\n"
     ]
    },
    {
     "name": "stderr",
     "output_type": "stream",
     "text": [
      "INFO:tensorflow:Assets written to: model1\\assets\n"
     ]
    },
    {
     "name": "stdout",
     "output_type": "stream",
     "text": [
      "6/6 [==============================] - 12s 2s/step - loss: 2.2676e-04 - root_mean_squared_error: 0.0151 - val_loss: 0.0013 - val_root_mean_squared_error: 0.0363\n",
      "Epoch 65/100\n",
      "6/6 [==============================] - ETA: 0s - loss: 2.1153e-04 - root_mean_squared_error: 0.0145INFO:tensorflow:Assets written to: model1\\assets\n"
     ]
    },
    {
     "name": "stderr",
     "output_type": "stream",
     "text": [
      "INFO:tensorflow:Assets written to: model1\\assets\n"
     ]
    },
    {
     "name": "stdout",
     "output_type": "stream",
     "text": [
      "6/6 [==============================] - 12s 2s/step - loss: 2.1153e-04 - root_mean_squared_error: 0.0145 - val_loss: 0.0012 - val_root_mean_squared_error: 0.0351\n",
      "Epoch 66/100\n",
      "6/6 [==============================] - ETA: 0s - loss: 1.9740e-04 - root_mean_squared_error: 0.0140INFO:tensorflow:Assets written to: model1\\assets\n"
     ]
    },
    {
     "name": "stderr",
     "output_type": "stream",
     "text": [
      "INFO:tensorflow:Assets written to: model1\\assets\n"
     ]
    },
    {
     "name": "stdout",
     "output_type": "stream",
     "text": [
      "6/6 [==============================] - 11s 2s/step - loss: 1.9740e-04 - root_mean_squared_error: 0.0140 - val_loss: 0.0011 - val_root_mean_squared_error: 0.0337\n",
      "Epoch 67/100\n",
      "6/6 [==============================] - ETA: 0s - loss: 1.8339e-04 - root_mean_squared_error: 0.0135INFO:tensorflow:Assets written to: model1\\assets\n"
     ]
    },
    {
     "name": "stderr",
     "output_type": "stream",
     "text": [
      "INFO:tensorflow:Assets written to: model1\\assets\n"
     ]
    },
    {
     "name": "stdout",
     "output_type": "stream",
     "text": [
      "6/6 [==============================] - 12s 2s/step - loss: 1.8339e-04 - root_mean_squared_error: 0.0135 - val_loss: 0.0010 - val_root_mean_squared_error: 0.0323\n",
      "Epoch 68/100\n",
      "6/6 [==============================] - ETA: 0s - loss: 1.7037e-04 - root_mean_squared_error: 0.0131INFO:tensorflow:Assets written to: model1\\assets\n"
     ]
    },
    {
     "name": "stderr",
     "output_type": "stream",
     "text": [
      "INFO:tensorflow:Assets written to: model1\\assets\n"
     ]
    },
    {
     "name": "stdout",
     "output_type": "stream",
     "text": [
      "6/6 [==============================] - 12s 2s/step - loss: 1.7037e-04 - root_mean_squared_error: 0.0131 - val_loss: 9.4379e-04 - val_root_mean_squared_error: 0.0307\n",
      "Epoch 69/100\n",
      "6/6 [==============================] - ETA: 0s - loss: 1.5759e-04 - root_mean_squared_error: 0.0126INFO:tensorflow:Assets written to: model1\\assets\n"
     ]
    },
    {
     "name": "stderr",
     "output_type": "stream",
     "text": [
      "INFO:tensorflow:Assets written to: model1\\assets\n"
     ]
    },
    {
     "name": "stdout",
     "output_type": "stream",
     "text": [
      "6/6 [==============================] - 13s 3s/step - loss: 1.5759e-04 - root_mean_squared_error: 0.0126 - val_loss: 8.5416e-04 - val_root_mean_squared_error: 0.0292\n",
      "Epoch 70/100\n",
      "6/6 [==============================] - ETA: 0s - loss: 1.4489e-04 - root_mean_squared_error: 0.0120INFO:tensorflow:Assets written to: model1\\assets\n"
     ]
    },
    {
     "name": "stderr",
     "output_type": "stream",
     "text": [
      "INFO:tensorflow:Assets written to: model1\\assets\n"
     ]
    },
    {
     "name": "stdout",
     "output_type": "stream",
     "text": [
      "6/6 [==============================] - 12s 2s/step - loss: 1.4489e-04 - root_mean_squared_error: 0.0120 - val_loss: 7.7488e-04 - val_root_mean_squared_error: 0.0278\n",
      "Epoch 71/100\n",
      "6/6 [==============================] - ETA: 0s - loss: 1.3321e-04 - root_mean_squared_error: 0.0115INFO:tensorflow:Assets written to: model1\\assets\n"
     ]
    },
    {
     "name": "stderr",
     "output_type": "stream",
     "text": [
      "INFO:tensorflow:Assets written to: model1\\assets\n"
     ]
    },
    {
     "name": "stdout",
     "output_type": "stream",
     "text": [
      "6/6 [==============================] - 13s 3s/step - loss: 1.3321e-04 - root_mean_squared_error: 0.0115 - val_loss: 7.0263e-04 - val_root_mean_squared_error: 0.0265\n",
      "Epoch 72/100\n",
      "6/6 [==============================] - ETA: 0s - loss: 1.2195e-04 - root_mean_squared_error: 0.0110INFO:tensorflow:Assets written to: model1\\assets\n"
     ]
    },
    {
     "name": "stderr",
     "output_type": "stream",
     "text": [
      "INFO:tensorflow:Assets written to: model1\\assets\n"
     ]
    },
    {
     "name": "stdout",
     "output_type": "stream",
     "text": [
      "6/6 [==============================] - 11s 2s/step - loss: 1.2195e-04 - root_mean_squared_error: 0.0110 - val_loss: 6.2893e-04 - val_root_mean_squared_error: 0.0251\n",
      "Epoch 73/100\n",
      "6/6 [==============================] - ETA: 0s - loss: 1.1106e-04 - root_mean_squared_error: 0.0105INFO:tensorflow:Assets written to: model1\\assets\n"
     ]
    },
    {
     "name": "stderr",
     "output_type": "stream",
     "text": [
      "INFO:tensorflow:Assets written to: model1\\assets\n"
     ]
    },
    {
     "name": "stdout",
     "output_type": "stream",
     "text": [
      "6/6 [==============================] - 12s 2s/step - loss: 1.1106e-04 - root_mean_squared_error: 0.0105 - val_loss: 5.6908e-04 - val_root_mean_squared_error: 0.0239\n",
      "Epoch 74/100\n",
      "6/6 [==============================] - ETA: 0s - loss: 1.0157e-04 - root_mean_squared_error: 0.0101INFO:tensorflow:Assets written to: model1\\assets\n"
     ]
    },
    {
     "name": "stderr",
     "output_type": "stream",
     "text": [
      "INFO:tensorflow:Assets written to: model1\\assets\n"
     ]
    },
    {
     "name": "stdout",
     "output_type": "stream",
     "text": [
      "6/6 [==============================] - 13s 3s/step - loss: 1.0157e-04 - root_mean_squared_error: 0.0101 - val_loss: 5.1089e-04 - val_root_mean_squared_error: 0.0226\n",
      "Epoch 75/100\n",
      "6/6 [==============================] - ETA: 0s - loss: 9.1842e-05 - root_mean_squared_error: 0.0096INFO:tensorflow:Assets written to: model1\\assets\n"
     ]
    },
    {
     "name": "stderr",
     "output_type": "stream",
     "text": [
      "INFO:tensorflow:Assets written to: model1\\assets\n"
     ]
    },
    {
     "name": "stdout",
     "output_type": "stream",
     "text": [
      "6/6 [==============================] - 11s 2s/step - loss: 9.1842e-05 - root_mean_squared_error: 0.0096 - val_loss: 4.5792e-04 - val_root_mean_squared_error: 0.0214\n",
      "Epoch 76/100\n",
      "6/6 [==============================] - ETA: 0s - loss: 8.3372e-05 - root_mean_squared_error: 0.0091INFO:tensorflow:Assets written to: model1\\assets\n"
     ]
    },
    {
     "name": "stderr",
     "output_type": "stream",
     "text": [
      "INFO:tensorflow:Assets written to: model1\\assets\n"
     ]
    },
    {
     "name": "stdout",
     "output_type": "stream",
     "text": [
      "6/6 [==============================] - 11s 2s/step - loss: 8.3372e-05 - root_mean_squared_error: 0.0091 - val_loss: 4.0304e-04 - val_root_mean_squared_error: 0.0201\n",
      "Epoch 77/100\n",
      "6/6 [==============================] - ETA: 0s - loss: 7.5435e-05 - root_mean_squared_error: 0.0087INFO:tensorflow:Assets written to: model1\\assets\n"
     ]
    },
    {
     "name": "stderr",
     "output_type": "stream",
     "text": [
      "INFO:tensorflow:Assets written to: model1\\assets\n"
     ]
    },
    {
     "name": "stdout",
     "output_type": "stream",
     "text": [
      "6/6 [==============================] - 12s 2s/step - loss: 7.5435e-05 - root_mean_squared_error: 0.0087 - val_loss: 3.5631e-04 - val_root_mean_squared_error: 0.0189\n",
      "Epoch 78/100\n",
      "6/6 [==============================] - ETA: 0s - loss: 6.7658e-05 - root_mean_squared_error: 0.0082INFO:tensorflow:Assets written to: model1\\assets\n"
     ]
    },
    {
     "name": "stderr",
     "output_type": "stream",
     "text": [
      "INFO:tensorflow:Assets written to: model1\\assets\n"
     ]
    },
    {
     "name": "stdout",
     "output_type": "stream",
     "text": [
      "6/6 [==============================] - 12s 2s/step - loss: 6.7658e-05 - root_mean_squared_error: 0.0082 - val_loss: 3.0677e-04 - val_root_mean_squared_error: 0.0175\n",
      "Epoch 79/100\n",
      "6/6 [==============================] - ETA: 0s - loss: 6.1060e-05 - root_mean_squared_error: 0.0078INFO:tensorflow:Assets written to: model1\\assets\n"
     ]
    },
    {
     "name": "stderr",
     "output_type": "stream",
     "text": [
      "INFO:tensorflow:Assets written to: model1\\assets\n"
     ]
    },
    {
     "name": "stdout",
     "output_type": "stream",
     "text": [
      "6/6 [==============================] - 11s 2s/step - loss: 6.1060e-05 - root_mean_squared_error: 0.0078 - val_loss: 2.6138e-04 - val_root_mean_squared_error: 0.0162\n",
      "Epoch 80/100\n",
      "6/6 [==============================] - ETA: 0s - loss: 5.4161e-05 - root_mean_squared_error: 0.0074INFO:tensorflow:Assets written to: model1\\assets\n"
     ]
    },
    {
     "name": "stderr",
     "output_type": "stream",
     "text": [
      "INFO:tensorflow:Assets written to: model1\\assets\n"
     ]
    },
    {
     "name": "stdout",
     "output_type": "stream",
     "text": [
      "6/6 [==============================] - 12s 2s/step - loss: 5.4161e-05 - root_mean_squared_error: 0.0074 - val_loss: 2.3003e-04 - val_root_mean_squared_error: 0.0152\n",
      "Epoch 81/100\n",
      "6/6 [==============================] - ETA: 0s - loss: 4.8723e-05 - root_mean_squared_error: 0.0070INFO:tensorflow:Assets written to: model1\\assets\n"
     ]
    },
    {
     "name": "stderr",
     "output_type": "stream",
     "text": [
      "INFO:tensorflow:Assets written to: model1\\assets\n"
     ]
    },
    {
     "name": "stdout",
     "output_type": "stream",
     "text": [
      "6/6 [==============================] - 13s 3s/step - loss: 4.8723e-05 - root_mean_squared_error: 0.0070 - val_loss: 1.9476e-04 - val_root_mean_squared_error: 0.0140\n",
      "Epoch 82/100\n",
      "6/6 [==============================] - ETA: 0s - loss: 4.3134e-05 - root_mean_squared_error: 0.0066INFO:tensorflow:Assets written to: model1\\assets\n"
     ]
    },
    {
     "name": "stderr",
     "output_type": "stream",
     "text": [
      "INFO:tensorflow:Assets written to: model1\\assets\n"
     ]
    },
    {
     "name": "stdout",
     "output_type": "stream",
     "text": [
      "6/6 [==============================] - 12s 2s/step - loss: 4.3134e-05 - root_mean_squared_error: 0.0066 - val_loss: 1.6698e-04 - val_root_mean_squared_error: 0.0129\n",
      "Epoch 83/100\n",
      "6/6 [==============================] - ETA: 0s - loss: 3.8056e-05 - root_mean_squared_error: 0.0062INFO:tensorflow:Assets written to: model1\\assets\n"
     ]
    },
    {
     "name": "stderr",
     "output_type": "stream",
     "text": [
      "INFO:tensorflow:Assets written to: model1\\assets\n"
     ]
    },
    {
     "name": "stdout",
     "output_type": "stream",
     "text": [
      "6/6 [==============================] - 11s 2s/step - loss: 3.8056e-05 - root_mean_squared_error: 0.0062 - val_loss: 1.4230e-04 - val_root_mean_squared_error: 0.0119\n",
      "Epoch 84/100\n",
      "6/6 [==============================] - ETA: 0s - loss: 3.3805e-05 - root_mean_squared_error: 0.0058INFO:tensorflow:Assets written to: model1\\assets\n"
     ]
    },
    {
     "name": "stderr",
     "output_type": "stream",
     "text": [
      "INFO:tensorflow:Assets written to: model1\\assets\n"
     ]
    },
    {
     "name": "stdout",
     "output_type": "stream",
     "text": [
      "6/6 [==============================] - 12s 2s/step - loss: 3.3805e-05 - root_mean_squared_error: 0.0058 - val_loss: 1.1681e-04 - val_root_mean_squared_error: 0.0108\n",
      "Epoch 85/100\n",
      "6/6 [==============================] - ETA: 0s - loss: 2.9954e-05 - root_mean_squared_error: 0.0055INFO:tensorflow:Assets written to: model1\\assets\n"
     ]
    },
    {
     "name": "stderr",
     "output_type": "stream",
     "text": [
      "INFO:tensorflow:Assets written to: model1\\assets\n"
     ]
    },
    {
     "name": "stdout",
     "output_type": "stream",
     "text": [
      "6/6 [==============================] - 12s 2s/step - loss: 2.9954e-05 - root_mean_squared_error: 0.0055 - val_loss: 9.4587e-05 - val_root_mean_squared_error: 0.0097\n",
      "Epoch 86/100\n",
      "6/6 [==============================] - ETA: 0s - loss: 2.6168e-05 - root_mean_squared_error: 0.0051INFO:tensorflow:Assets written to: model1\\assets\n"
     ]
    },
    {
     "name": "stderr",
     "output_type": "stream",
     "text": [
      "INFO:tensorflow:Assets written to: model1\\assets\n"
     ]
    },
    {
     "name": "stdout",
     "output_type": "stream",
     "text": [
      "6/6 [==============================] - 11s 2s/step - loss: 2.6168e-05 - root_mean_squared_error: 0.0051 - val_loss: 7.9076e-05 - val_root_mean_squared_error: 0.0089\n",
      "Epoch 87/100\n",
      "6/6 [==============================] - ETA: 0s - loss: 2.3035e-05 - root_mean_squared_error: 0.0048INFO:tensorflow:Assets written to: model1\\assets\n"
     ]
    },
    {
     "name": "stderr",
     "output_type": "stream",
     "text": [
      "INFO:tensorflow:Assets written to: model1\\assets\n"
     ]
    },
    {
     "name": "stdout",
     "output_type": "stream",
     "text": [
      "6/6 [==============================] - 11s 2s/step - loss: 2.3035e-05 - root_mean_squared_error: 0.0048 - val_loss: 6.4285e-05 - val_root_mean_squared_error: 0.0080\n",
      "Epoch 88/100\n",
      "6/6 [==============================] - ETA: 0s - loss: 2.0237e-05 - root_mean_squared_error: 0.0045INFO:tensorflow:Assets written to: model1\\assets\n"
     ]
    },
    {
     "name": "stderr",
     "output_type": "stream",
     "text": [
      "INFO:tensorflow:Assets written to: model1\\assets\n"
     ]
    },
    {
     "name": "stdout",
     "output_type": "stream",
     "text": [
      "6/6 [==============================] - 13s 3s/step - loss: 2.0237e-05 - root_mean_squared_error: 0.0045 - val_loss: 5.1147e-05 - val_root_mean_squared_error: 0.0072\n",
      "Epoch 89/100\n",
      "6/6 [==============================] - ETA: 0s - loss: 1.7654e-05 - root_mean_squared_error: 0.0042INFO:tensorflow:Assets written to: model1\\assets\n"
     ]
    },
    {
     "name": "stderr",
     "output_type": "stream",
     "text": [
      "INFO:tensorflow:Assets written to: model1\\assets\n"
     ]
    },
    {
     "name": "stdout",
     "output_type": "stream",
     "text": [
      "6/6 [==============================] - 12s 2s/step - loss: 1.7654e-05 - root_mean_squared_error: 0.0042 - val_loss: 4.0572e-05 - val_root_mean_squared_error: 0.0064\n",
      "Epoch 90/100\n",
      "6/6 [==============================] - ETA: 0s - loss: 1.5492e-05 - root_mean_squared_error: 0.0039INFO:tensorflow:Assets written to: model1\\assets\n"
     ]
    },
    {
     "name": "stderr",
     "output_type": "stream",
     "text": [
      "INFO:tensorflow:Assets written to: model1\\assets\n"
     ]
    },
    {
     "name": "stdout",
     "output_type": "stream",
     "text": [
      "6/6 [==============================] - 13s 3s/step - loss: 1.5492e-05 - root_mean_squared_error: 0.0039 - val_loss: 3.1089e-05 - val_root_mean_squared_error: 0.0056\n",
      "Epoch 91/100\n",
      "6/6 [==============================] - ETA: 0s - loss: 1.3512e-05 - root_mean_squared_error: 0.0037INFO:tensorflow:Assets written to: model1\\assets\n"
     ]
    },
    {
     "name": "stderr",
     "output_type": "stream",
     "text": [
      "INFO:tensorflow:Assets written to: model1\\assets\n"
     ]
    },
    {
     "name": "stdout",
     "output_type": "stream",
     "text": [
      "6/6 [==============================] - 11s 2s/step - loss: 1.3512e-05 - root_mean_squared_error: 0.0037 - val_loss: 2.3996e-05 - val_root_mean_squared_error: 0.0049\n",
      "Epoch 92/100\n",
      "6/6 [==============================] - ETA: 0s - loss: 1.1782e-05 - root_mean_squared_error: 0.0034INFO:tensorflow:Assets written to: model1\\assets\n"
     ]
    },
    {
     "name": "stderr",
     "output_type": "stream",
     "text": [
      "INFO:tensorflow:Assets written to: model1\\assets\n"
     ]
    },
    {
     "name": "stdout",
     "output_type": "stream",
     "text": [
      "6/6 [==============================] - 12s 2s/step - loss: 1.1782e-05 - root_mean_squared_error: 0.0034 - val_loss: 1.7436e-05 - val_root_mean_squared_error: 0.0042\n",
      "Epoch 93/100\n",
      "6/6 [==============================] - ETA: 0s - loss: 1.0379e-05 - root_mean_squared_error: 0.0032INFO:tensorflow:Assets written to: model1\\assets\n"
     ]
    },
    {
     "name": "stderr",
     "output_type": "stream",
     "text": [
      "INFO:tensorflow:Assets written to: model1\\assets\n"
     ]
    },
    {
     "name": "stdout",
     "output_type": "stream",
     "text": [
      "6/6 [==============================] - 12s 2s/step - loss: 1.0379e-05 - root_mean_squared_error: 0.0032 - val_loss: 1.2176e-05 - val_root_mean_squared_error: 0.0035\n",
      "Epoch 94/100\n",
      "6/6 [==============================] - ETA: 0s - loss: 9.0470e-06 - root_mean_squared_error: 0.0030INFO:tensorflow:Assets written to: model1\\assets\n"
     ]
    },
    {
     "name": "stderr",
     "output_type": "stream",
     "text": [
      "INFO:tensorflow:Assets written to: model1\\assets\n"
     ]
    },
    {
     "name": "stdout",
     "output_type": "stream",
     "text": [
      "6/6 [==============================] - 11s 2s/step - loss: 9.0470e-06 - root_mean_squared_error: 0.0030 - val_loss: 8.2230e-06 - val_root_mean_squared_error: 0.0029\n",
      "Epoch 95/100\n",
      "6/6 [==============================] - ETA: 0s - loss: 7.9855e-06 - root_mean_squared_error: 0.0028INFO:tensorflow:Assets written to: model1\\assets\n"
     ]
    },
    {
     "name": "stderr",
     "output_type": "stream",
     "text": [
      "INFO:tensorflow:Assets written to: model1\\assets\n"
     ]
    },
    {
     "name": "stdout",
     "output_type": "stream",
     "text": [
      "6/6 [==============================] - 12s 2s/step - loss: 7.9855e-06 - root_mean_squared_error: 0.0028 - val_loss: 5.1754e-06 - val_root_mean_squared_error: 0.0023\n",
      "Epoch 96/100\n",
      "6/6 [==============================] - ETA: 0s - loss: 6.9814e-06 - root_mean_squared_error: 0.0026INFO:tensorflow:Assets written to: model1\\assets\n"
     ]
    },
    {
     "name": "stderr",
     "output_type": "stream",
     "text": [
      "INFO:tensorflow:Assets written to: model1\\assets\n"
     ]
    },
    {
     "name": "stdout",
     "output_type": "stream",
     "text": [
      "6/6 [==============================] - 12s 2s/step - loss: 6.9814e-06 - root_mean_squared_error: 0.0026 - val_loss: 3.0197e-06 - val_root_mean_squared_error: 0.0017\n",
      "Epoch 97/100\n",
      "6/6 [==============================] - ETA: 0s - loss: 6.1783e-06 - root_mean_squared_error: 0.0025INFO:tensorflow:Assets written to: model1\\assets\n"
     ]
    },
    {
     "name": "stderr",
     "output_type": "stream",
     "text": [
      "INFO:tensorflow:Assets written to: model1\\assets\n"
     ]
    },
    {
     "name": "stdout",
     "output_type": "stream",
     "text": [
      "6/6 [==============================] - 11s 2s/step - loss: 6.1783e-06 - root_mean_squared_error: 0.0025 - val_loss: 1.7093e-06 - val_root_mean_squared_error: 0.0013\n",
      "Epoch 98/100\n",
      "6/6 [==============================] - ETA: 0s - loss: 5.4861e-06 - root_mean_squared_error: 0.0023INFO:tensorflow:Assets written to: model1\\assets\n"
     ]
    },
    {
     "name": "stderr",
     "output_type": "stream",
     "text": [
      "INFO:tensorflow:Assets written to: model1\\assets\n"
     ]
    },
    {
     "name": "stdout",
     "output_type": "stream",
     "text": [
      "6/6 [==============================] - 12s 2s/step - loss: 5.4861e-06 - root_mean_squared_error: 0.0023 - val_loss: 6.5080e-07 - val_root_mean_squared_error: 8.0672e-04\n",
      "Epoch 99/100\n",
      "6/6 [==============================] - ETA: 0s - loss: 4.8837e-06 - root_mean_squared_error: 0.0022INFO:tensorflow:Assets written to: model1\\assets\n"
     ]
    },
    {
     "name": "stderr",
     "output_type": "stream",
     "text": [
      "INFO:tensorflow:Assets written to: model1\\assets\n"
     ]
    },
    {
     "name": "stdout",
     "output_type": "stream",
     "text": [
      "6/6 [==============================] - 12s 2s/step - loss: 4.8837e-06 - root_mean_squared_error: 0.0022 - val_loss: 1.4967e-07 - val_root_mean_squared_error: 3.8687e-04\n",
      "Epoch 100/100\n",
      "6/6 [==============================] - ETA: 0s - loss: 4.3805e-06 - root_mean_squared_error: 0.0021INFO:tensorflow:Assets written to: model1\\assets\n"
     ]
    },
    {
     "name": "stderr",
     "output_type": "stream",
     "text": [
      "INFO:tensorflow:Assets written to: model1\\assets\n"
     ]
    },
    {
     "name": "stdout",
     "output_type": "stream",
     "text": [
      "6/6 [==============================] - 12s 2s/step - loss: 4.3805e-06 - root_mean_squared_error: 0.0021 - val_loss: 6.2534e-08 - val_root_mean_squared_error: 2.5007e-04\n"
     ]
    },
    {
     "data": {
      "text/plain": [
       "<keras.callbacks.History at 0x218254db1f0>"
      ]
     },
     "execution_count": 29,
     "metadata": {},
     "output_type": "execute_result"
    }
   ],
   "source": [
    "model1.fit(X_train, y_train, validation_data=(X_val, y_val), epochs= 100, callbacks=[cp])"
   ]
  },
  {
   "cell_type": "code",
   "execution_count": 30,
   "metadata": {},
   "outputs": [],
   "source": [
    "from tensorflow.keras.models import load_model\n",
    "model1 = load_model('model1/')"
   ]
  },
  {
   "cell_type": "code",
   "execution_count": 31,
   "metadata": {},
   "outputs": [
    {
     "data": {
      "text/html": [
       "<div>\n",
       "<style scoped>\n",
       "    .dataframe tbody tr th:only-of-type {\n",
       "        vertical-align: middle;\n",
       "    }\n",
       "\n",
       "    .dataframe tbody tr th {\n",
       "        vertical-align: top;\n",
       "    }\n",
       "\n",
       "    .dataframe thead th {\n",
       "        text-align: right;\n",
       "    }\n",
       "</style>\n",
       "<table border=\"1\" class=\"dataframe\">\n",
       "  <thead>\n",
       "    <tr style=\"text-align: right;\">\n",
       "      <th></th>\n",
       "      <th>Train Predictions</th>\n",
       "      <th>Actuals</th>\n",
       "    </tr>\n",
       "  </thead>\n",
       "  <tbody>\n",
       "    <tr>\n",
       "      <th>0</th>\n",
       "      <td>0.002029</td>\n",
       "      <td>0.000001</td>\n",
       "    </tr>\n",
       "    <tr>\n",
       "      <th>1</th>\n",
       "      <td>0.002029</td>\n",
       "      <td>0.000002</td>\n",
       "    </tr>\n",
       "    <tr>\n",
       "      <th>2</th>\n",
       "      <td>0.002030</td>\n",
       "      <td>0.000003</td>\n",
       "    </tr>\n",
       "    <tr>\n",
       "      <th>3</th>\n",
       "      <td>0.002030</td>\n",
       "      <td>0.000006</td>\n",
       "    </tr>\n",
       "    <tr>\n",
       "      <th>4</th>\n",
       "      <td>0.002031</td>\n",
       "      <td>0.000009</td>\n",
       "    </tr>\n",
       "    <tr>\n",
       "      <th>...</th>\n",
       "      <td>...</td>\n",
       "      <td>...</td>\n",
       "    </tr>\n",
       "    <tr>\n",
       "      <th>184</th>\n",
       "      <td>0.124913</td>\n",
       "      <td>0.125443</td>\n",
       "    </tr>\n",
       "    <tr>\n",
       "      <th>185</th>\n",
       "      <td>0.126158</td>\n",
       "      <td>0.126672</td>\n",
       "    </tr>\n",
       "    <tr>\n",
       "      <th>186</th>\n",
       "      <td>0.127527</td>\n",
       "      <td>0.127986</td>\n",
       "    </tr>\n",
       "    <tr>\n",
       "      <th>187</th>\n",
       "      <td>0.128878</td>\n",
       "      <td>0.128982</td>\n",
       "    </tr>\n",
       "    <tr>\n",
       "      <th>188</th>\n",
       "      <td>0.130209</td>\n",
       "      <td>0.130179</td>\n",
       "    </tr>\n",
       "  </tbody>\n",
       "</table>\n",
       "<p>189 rows × 2 columns</p>\n",
       "</div>"
      ],
      "text/plain": [
       "     Train Predictions   Actuals\n",
       "0             0.002029  0.000001\n",
       "1             0.002029  0.000002\n",
       "2             0.002030  0.000003\n",
       "3             0.002030  0.000006\n",
       "4             0.002031  0.000009\n",
       "..                 ...       ...\n",
       "184           0.124913  0.125443\n",
       "185           0.126158  0.126672\n",
       "186           0.127527  0.127986\n",
       "187           0.128878  0.128982\n",
       "188           0.130209  0.130179\n",
       "\n",
       "[189 rows x 2 columns]"
      ]
     },
     "execution_count": 31,
     "metadata": {},
     "output_type": "execute_result"
    }
   ],
   "source": [
    "train_predictions = model1.predict(X_train).flatten()\n",
    "train_results = pd.DataFrame(data={'Train Predictions':train_predictions, 'Actuals':y_train})\n",
    "train_results"
   ]
  },
  {
   "cell_type": "code",
   "execution_count": 32,
   "metadata": {},
   "outputs": [
    {
     "data": {
      "text/plain": [
       "[<matplotlib.lines.Line2D at 0x21829b61400>]"
      ]
     },
     "execution_count": 32,
     "metadata": {},
     "output_type": "execute_result"
    },
    {
     "data": {
      "image/png": "[encoded data removed]",
      "text/plain": [
       "<Figure size 792x288 with 1 Axes>"
      ]
     },
     "metadata": {},
     "output_type": "display_data"
    }
   ],
   "source": [
    "import matplotlib.pyplot as plt\n",
    "plt.plot(train_results['Train Predictions'])\n",
    "plt.plot(train_results['Actuals'])"
   ]
  },
  {
   "cell_type": "code",
   "execution_count": 33,
   "metadata": {},
   "outputs": [
    {
     "data": {
      "text/html": [
       "<div>\n",
       "<style scoped>\n",
       "    .dataframe tbody tr th:only-of-type {\n",
       "        vertical-align: middle;\n",
       "    }\n",
       "\n",
       "    .dataframe tbody tr th {\n",
       "        vertical-align: top;\n",
       "    }\n",
       "\n",
       "    .dataframe thead th {\n",
       "        text-align: right;\n",
       "    }\n",
       "</style>\n",
       "<table border=\"1\" class=\"dataframe\">\n",
       "  <thead>\n",
       "    <tr style=\"text-align: right;\">\n",
       "      <th></th>\n",
       "      <th>Val Predictions</th>\n",
       "      <th>Actuals</th>\n",
       "    </tr>\n",
       "  </thead>\n",
       "  <tbody>\n",
       "    <tr>\n",
       "      <th>0</th>\n",
       "      <td>0.131478</td>\n",
       "      <td>0.131570</td>\n",
       "    </tr>\n",
       "    <tr>\n",
       "      <th>1</th>\n",
       "      <td>0.132712</td>\n",
       "      <td>0.132922</td>\n",
       "    </tr>\n",
       "    <tr>\n",
       "      <th>2</th>\n",
       "      <td>0.133953</td>\n",
       "      <td>0.134088</td>\n",
       "    </tr>\n",
       "    <tr>\n",
       "      <th>3</th>\n",
       "      <td>0.135165</td>\n",
       "      <td>0.135505</td>\n",
       "    </tr>\n",
       "    <tr>\n",
       "      <th>4</th>\n",
       "      <td>0.136480</td>\n",
       "      <td>0.136698</td>\n",
       "    </tr>\n",
       "    <tr>\n",
       "      <th>5</th>\n",
       "      <td>0.137831</td>\n",
       "      <td>0.137655</td>\n",
       "    </tr>\n",
       "    <tr>\n",
       "      <th>6</th>\n",
       "      <td>0.139123</td>\n",
       "      <td>0.138924</td>\n",
       "    </tr>\n",
       "    <tr>\n",
       "      <th>7</th>\n",
       "      <td>0.140364</td>\n",
       "      <td>0.140127</td>\n",
       "    </tr>\n",
       "    <tr>\n",
       "      <th>8</th>\n",
       "      <td>0.141617</td>\n",
       "      <td>0.141298</td>\n",
       "    </tr>\n",
       "    <tr>\n",
       "      <th>9</th>\n",
       "      <td>0.142784</td>\n",
       "      <td>0.142637</td>\n",
       "    </tr>\n",
       "    <tr>\n",
       "      <th>10</th>\n",
       "      <td>0.143951</td>\n",
       "      <td>0.144017</td>\n",
       "    </tr>\n",
       "    <tr>\n",
       "      <th>11</th>\n",
       "      <td>0.145222</td>\n",
       "      <td>0.145271</td>\n",
       "    </tr>\n",
       "    <tr>\n",
       "      <th>12</th>\n",
       "      <td>0.146496</td>\n",
       "      <td>0.146190</td>\n",
       "    </tr>\n",
       "    <tr>\n",
       "      <th>13</th>\n",
       "      <td>0.147773</td>\n",
       "      <td>0.147233</td>\n",
       "    </tr>\n",
       "  </tbody>\n",
       "</table>\n",
       "</div>"
      ],
      "text/plain": [
       "    Val Predictions   Actuals\n",
       "0          0.131478  0.131570\n",
       "1          0.132712  0.132922\n",
       "2          0.133953  0.134088\n",
       "3          0.135165  0.135505\n",
       "4          0.136480  0.136698\n",
       "5          0.137831  0.137655\n",
       "6          0.139123  0.138924\n",
       "7          0.140364  0.140127\n",
       "8          0.141617  0.141298\n",
       "9          0.142784  0.142637\n",
       "10         0.143951  0.144017\n",
       "11         0.145222  0.145271\n",
       "12         0.146496  0.146190\n",
       "13         0.147773  0.147233"
      ]
     },
     "execution_count": 33,
     "metadata": {},
     "output_type": "execute_result"
    }
   ],
   "source": [
    "val_predictions = model1.predict(X_val).flatten()\n",
    "val_results = pd.DataFrame(data={'Val Predictions':val_predictions, 'Actuals':y_val})\n",
    "val_results"
   ]
  },
  {
   "cell_type": "code",
   "execution_count": 34,
   "metadata": {},
   "outputs": [
    {
     "data": {
      "text/plain": [
       "[<matplotlib.lines.Line2D at 0x21829bed910>]"
      ]
     },
     "execution_count": 34,
     "metadata": {},
     "output_type": "execute_result"
    },
    {
     "data": {
      "image/png": "[encoded data removed]",
      "text/plain": [
       "<Figure size 792x288 with 1 Axes>"
      ]
     },
     "metadata": {},
     "output_type": "display_data"
    }
   ],
   "source": [
    "plt.plot(val_results['Val Predictions'])\n",
    "plt.plot(val_results['Actuals'])"
   ]
  },
  {
   "cell_type": "code",
   "execution_count": 35,
   "metadata": {},
   "outputs": [],
   "source": [
    "test_predictions = model1.predict(X_test).flatten()\n",
    "test_results = pd.DataFrame(data={'Test Predictions':test_predictions, 'Actuals':y_test})"
   ]
  },
  {
   "cell_type": "code",
   "execution_count": 36,
   "metadata": {},
   "outputs": [
    {
     "data": {
      "text/plain": [
       "[<matplotlib.lines.Line2D at 0x21829ad57f0>]"
      ]
     },
     "execution_count": 36,
     "metadata": {},
     "output_type": "execute_result"
    },
    {
     "data": {
      "image/png": "[encoded data removed]",
      "text/plain": [
       "<Figure size 792x288 with 1 Axes>"
      ]
     },
     "metadata": {},
     "output_type": "display_data"
    }
   ],
   "source": [
    "plt.plot(test_results['Test Predictions'])\n",
    "plt.plot(test_results['Actuals'])"
   ]
  },
  {
   "cell_type": "code",
   "execution_count": null,
   "metadata": {},
   "outputs": [],
   "source": []
  }
 ],
 "metadata": {
  "interpreter": {
   "hash": "b3ba2566441a7c06988d0923437866b63cedc61552a5af99d1f4fb67d367b25f"
  },
  "kernelspec": {
   "display_name": "Python 3.9.7 64-bit ('base': conda)",
   "language": "python",
   "name": "python3"
  },
  "language_info": {
   "codemirror_mode": {
    "name": "ipython",
    "version": 3
   },
   "file_extension": ".py",
   "mimetype": "text/x-python",
   "name": "python",
   "nbconvert_exporter": "python",
   "pygments_lexer": "ipython3",
   "version": "3.9.7"
  },
  "orig_nbformat": 4
 },
 "nbformat": 4,
 "nbformat_minor": 2
}
